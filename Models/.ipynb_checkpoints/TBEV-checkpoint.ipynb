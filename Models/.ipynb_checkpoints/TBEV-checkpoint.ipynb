{
 "cells": [
  {
   "cell_type": "code",
   "execution_count": 10,
   "metadata": {},
   "outputs": [
    {
     "name": "stderr",
     "output_type": "stream",
     "text": [
      "Your code contains a unicode char which cannot be displayed in your\n",
      "current locale and R will silently convert it to an escaped form when the\n",
      "R kernel executes this code. This can lead to subtle errors if you use\n",
      "such chars to do comparisons. For more information, please see\n",
      "https://github.com/IRkernel/repr/wiki/Problems-with-unicode-on-windows"
     ]
    }
   ],
   "source": [
    "setwd('C:/Users/Falco/Desktop/directory/Predicting-wildlife-reservoirs-of-Flaviviruses')"
   ]
  },
  {
   "cell_type": "code",
   "execution_count": 11,
   "metadata": {},
   "outputs": [],
   "source": [
    "options(warn=-1)\n",
    "#install.packages(c('gbm', 'dplyr','dismo', 'caret',\n",
    "#                  'sjplot', 'skmisc','ggplot2'), repos='http://cran.us.r-project.org')\n",
    "library(gbm)\n",
    "library(dplyr)\n",
    "library(dismo)\n",
    "library(caret)\n",
    "library(sjPlot)\n",
    "library(sjmisc)\n",
    "library(ggplot2)\n",
    "library(raster)\n",
    "library(plyr)\n",
    "library(data.table)"
   ]
  },
  {
   "cell_type": "code",
   "execution_count": 12,
   "metadata": {},
   "outputs": [],
   "source": [
    "#model.data = read.csv(\"Outputs/model_data.csv\")\n",
    "model.data = read.csv('Outputs/dataGroup3.csv')"
   ]
  },
  {
   "cell_type": "code",
   "execution_count": 13,
   "metadata": {},
   "outputs": [],
   "source": [
    "#names(model.data)"
   ]
  },
  {
   "cell_type": "code",
   "execution_count": 14,
   "metadata": {},
   "outputs": [],
   "source": [
    "model.data$Class = factor(model.data$Class, levels = levels(model.data$Class))\n",
    "model.data$Order_y = factor(model.data$Order, levels = levels(model.data$Order))\n",
    "model.data$Family_y = factor(model.data$Family, levels = levels(model.data$Family))\n",
    "model.data$MatchHost = factor(model.data$MatchHost, levels = levels(model.data$MatchHost))\n",
    "model.data$IUCN.Status = factor(model.data$IUCN.Status, levels = levels(model.data$IUCN.Status))\n",
    "model.data$Diet_Certainty = factor(model.data$Diet_Certainty, levels = levels(model.data$Diet_Certainty))\n",
    "model.data$Group3Binary2 <- ifelse(model.data$Group3Binary==1,'host','nonhost')\n",
    "model.data$Group3Binary2 <- as.factor(model.data$Group3Binary2)\n",
    "outcomeName <- 'Group3Binary2'"
   ]
  },
  {
   "cell_type": "code",
   "execution_count": 15,
   "metadata": {},
   "outputs": [],
   "source": [
    "## Read in the raster data\n",
    "landuse <- raster(\"D:/lust/lus.tif\",package=\"raster\")\n",
    "## Extract attribute information for the categories from the raster layer, and convert into dataframe\n",
    "LanduseAttributeTable <- ldply(landuse@data@attributes, data.frame)\n",
    "#head(LanduseAttributeTable)"
   ]
  },
  {
   "cell_type": "code",
   "execution_count": 16,
   "metadata": {},
   "outputs": [],
   "source": [
    "## Read in the raster data\n",
    "Livestock <- raster(\"D:/lvstdt/lvstd.tif\",package=\"raster\")\n",
    "## Extract attribute information for the categories from the raster layer, and convert into dataframe\n",
    "LivestockAttributeTable <- ldply(Livestock@data@attributes, data.frame)\n",
    "#LivestockAttributeTable"
   ]
  },
  {
   "cell_type": "code",
   "execution_count": 17,
   "metadata": {},
   "outputs": [],
   "source": [
    "## Read in the raster data\n",
    "Slope <- raster(\"D:/slpt/slp.tif\",package=\"raster\")\n",
    "## Extract attribute information for the categories from the raster layer, and convert into dataframe\n",
    "SlopeAttributeTable <- ldply(Slope@data@attributes, data.frame)\n",
    "#SlopeAttributeTable"
   ]
  },
  {
   "cell_type": "code",
   "execution_count": 18,
   "metadata": {},
   "outputs": [],
   "source": [
    "model.data = merge(model.data, LanduseAttributeTable, by.x = 'LandUse_majority', by.y = 'Value', all.x = TRUE)   \n",
    "model.data = merge(model.data, LivestockAttributeTable, by.x = 'Livestock_majority', by.y = 'Value', all.x = TRUE)  \n",
    "model.data = merge(model.data, SlopeAttributeTable, by.x = 'Slope_majority', by.y = 'Value', all.x = TRUE)"
   ]
  },
  {
   "cell_type": "code",
   "execution_count": 19,
   "metadata": {},
   "outputs": [
    {
     "data": {
      "text/html": [
       "<ol class=list-inline>\n",
       "\t<li>Undefined</li>\n",
       "\t<li>Grassland</li>\n",
       "\t<li>Forest</li>\n",
       "\t<li>Urban</li>\n",
       "\t<li>Agriculture</li>\n",
       "\t<li>Sparsely vegetated areas</li>\n",
       "\t<li>Bare areas</li>\n",
       "\t<li>Shurbs</li>\n",
       "\t<li>Wetlands</li>\n",
       "\t<li>Open water</li>\n",
       "</ol>\n"
      ],
      "text/latex": [
       "\\begin{enumerate*}\n",
       "\\item Undefined\n",
       "\\item Grassland\n",
       "\\item Forest\n",
       "\\item Urban\n",
       "\\item Agriculture\n",
       "\\item Sparsely vegetated areas\n",
       "\\item Bare areas\n",
       "\\item Shurbs\n",
       "\\item Wetlands\n",
       "\\item Open water\n",
       "\\end{enumerate*}\n"
      ],
      "text/markdown": [
       "1. Undefined\n",
       "2. Grassland\n",
       "3. Forest\n",
       "4. Urban\n",
       "5. Agriculture\n",
       "6. Sparsely vegetated areas\n",
       "7. Bare areas\n",
       "8. Shurbs\n",
       "9. Wetlands\n",
       "10. Open water\n",
       "\n",
       "\n"
      ],
      "text/plain": [
       " [1] Undefined                Grassland                Forest                  \n",
       " [4] Urban                    Agriculture              Sparsely vegetated areas\n",
       " [7] Bare areas               Shurbs                   Wetlands                \n",
       "[10] Open water              \n",
       "10 Levels: Agriculture Bare areas Forest Grassland Open water ... Wetlands"
      ]
     },
     "metadata": {},
     "output_type": "display_data"
    }
   ],
   "source": [
    "unique(model.data$LandUse_collapsed)"
   ]
  },
  {
   "cell_type": "code",
   "execution_count": 20,
   "metadata": {},
   "outputs": [
    {
     "data": {
      "text/plain": [
       "\n",
       "    > 45 0 to 0.5 0.5 to 2 16 to 30   2 to 5 30 to 45   5 to 8  8 to 16 \n",
       "     809        0     3268     3210     2491      670      491       90 \n",
       " no data    Water \n",
       "     332       14 "
      ]
     },
     "metadata": {},
     "output_type": "display_data"
    }
   ],
   "source": [
    "table(model.data$SLP_DS)"
   ]
  },
  {
   "cell_type": "code",
   "execution_count": 21,
   "metadata": {},
   "outputs": [],
   "source": [
    "write.csv(model.data, 'Outputs/PartialDependence2/Group3Data_forPartial.csv')"
   ]
  },
  {
   "cell_type": "code",
   "execution_count": 22,
   "metadata": {},
   "outputs": [],
   "source": [
    "habitats = c(\"Forest\",\"Savanna\",\"Shrubland\",\"Grassland\",\"Wetlands\",\"Rocky.areas\",\"Caves.and.Subterranean.Habitats\",\"Desert\",\n",
    "            \"Marine.Neritic\",\"Marine.Oceanic\",\"Marine.Deep.Ocean.Floor\",\"Marine.Intertidal\",\"Marine.Coastal.Supratidal\", \n",
    "            \"Artificial.Terrestrial\",\"Artificial.Aquatic\",\"Introduced.Vegetation\",\"Other\",\"Unknown\")\n",
    "\n",
    "predictorsNames = c(\"Bio12_majority\", \"Bio12_max\", \"Bio12_mean\", \"Bio12_min\", \"Bio12_range\",\n",
    "                    \"Bio12_std\", \"Bio1_majority\", \"Bio1_max\", \"Bio1_mean\", \"Bio1_min\", \"Bio1_range\", \"Bio1_std\", \"Bio3_majority\",\n",
    "                    \"Bio3_max\", \"Bio3_mean\", \"Bio3_min\", \"Bio3_range\", \"Bio3_std\", \"Crops_majority\",\n",
    "                    \"HuPop_majority\", \"HuPop_max\", \"HuPop_mean\", \"HuPop_min\", \"HuPop_range\",\n",
    "                    \"HuPop_std\", \"LandUse_majority\", \"Livestock_majority\", \"Mosquitoes_majority\", \"Mosquitoes_max\",\n",
    "                    \"Mosquitoes_mean\", \"Slope_mean\", \"Slope_min\", \"Slope_range\", \"Slope_std\",\n",
    "                    \"Ticks_majority\", \"Ticks_mean\", \"Ticks_min\", \"bdiversity_majority\", \"bdiversity_max\",\n",
    "                    \"bdiversity_mean\", \"bdiversity_min\", \"bdiversity_range\", \"bdiversity_std\",\n",
    "                    \"centroidY\", \"maxlat\", \"mdiversity_majority\", \"mdiversity_max\", \"mdiversity_mean\",\n",
    "                    \"mdiversity_min\", \"mdiversity_range\", \"mdiversity_std\", \"minlat\",\n",
    "                    \"minlong\", \"Mosquitoes_min_log\", \"Mosquitoes_range_log\", \"Mosquitoes_std_log\",\n",
    "                    \"Shape_Area_log\", \"Shape_Length_log\", \"Slope_majority_log\", \"Slope_max_log\",\n",
    "                    \"Ticks_max_log\", \"Ticks_range_log\", \"Ticks_std_log\", \"centroidX_log\", \"maxlong_log\",\n",
    "                    \"MaxDiet\", \"ForStrategy\", \"ActivityTime\",\"Body_Temperature\", \"IUCN.Status\",\n",
    "                    \"Population.trend\", \"Data.Richness\", \"BodyMass_ln\", \"Metabolic_Rate_ln\", \"Habitat_Breadth_sqrt\",\n",
    "                    \"PubmedHits_ln\",'HuPop_mean_log',\n",
    "                    'Class','Family','Order','SLP_DS',\n",
    "                    'MURIDAE', 'CRICETIDAE', 'ABROCOMIDAE', 'FELIDAE', 'OCTODONTIDAE',\n",
    "       'BOVIDAE', 'SCIURIDAE', 'URSIDAE', 'AILURIDAE', 'CERVIDAE',\n",
    "       'DIPODIDAE', 'ATELIDAE', 'ANOMALURIDAE', 'SORICIDAE',\n",
    "       'ANTILOCAPRIDAE', 'MUSTELIDAE', 'APLODONTIIDAE', 'VIVERRIDAE',\n",
    "       'ERINACEIDAE', 'CANIDAE', 'HYSTRICIDAE', 'HERPESTIDAE', 'SUIDAE',\n",
    "       'PROCYONIDAE', 'BATHYERGIDAE', 'NESOMYIDAE', 'LEPORIDAE',\n",
    "       'ECHIMYIDAE', 'CALLITRICHIDAE', 'CALOMYSCIDAE', 'CAMELIDAE',\n",
    "       'SPALACIDAE', 'CAPROMYIDAE', 'CASTORIDAE', 'TAYASSUIDAE',\n",
    "       'CAVIIDAE', 'RHINOCEROTIDAE', 'GLIRIDAE', 'HETEROMYIDAE',\n",
    "       'ERETHIZONTIDAE', 'CHINCHILLIDAE', 'CERCOPITHECIDAE',\n",
    "       'HIPPOPOTAMIDAE', 'TALPIDAE', 'MEPHITIDAE', 'GEOMYIDAE',\n",
    "       'HYAENIDAE', 'EUPLERIDAE', 'CTENODACTYLIDAE', 'CTENOMYIDAE',\n",
    "       'CUNICULIDAE', 'DASYPROCTIDAE', 'DINOMYIDAE', 'EQUIDAE',\n",
    "       'GIRAFFIDAE', 'TRAGULIDAE', 'DIATOMYIDAE', 'MOSCHIDAE',\n",
    "       'MYOCASTORIDAE', 'NANDINIIDAE', 'OCHOTONIDAE', 'PEDETIDAE',\n",
    "       'PETROMURIDAE', 'PLATACANTHOMYIDAE', 'HOMINIDAE', 'PRIONODONTIDAE',\n",
    "       'CEBIDAE', 'SOLENODONTIDAE', 'TAPIRIDAE', 'THRYONOMYIDAE', 'PubmedHits')\n",
    "\n",
    "\n",
    "predictorsNames = predictorsNames[!predictorsNames %in% c('Activity_Diurnal', 'Activity_Nocturnal', 'BodyMass_SpecLevel',\n",
    "                                                          'Diet_Fruit', \"Diet_Inv\",\"Diet_Nect\",\"Diet_PlantO\", \"Diet_Scav\",\n",
    "                                                          \"Diet_Seed\", \"Diet_Vect\",\"Diet_Vend\", \"Diet_Vfish\", \"Diet_Vunk\",\n",
    "                                                          \"ForStrat_aerial\", \"ForStrat_aquatic\",\"ForStrat_arboreal\", \"ForStrat_ground\", \n",
    "                                                          'Crops_count', \"Crops_max\",\"Crops_mean\", \"Crops_median\", \"Crops_min\",\"Crops_range\",\n",
    "                                                          \"Crops_std\",\"LandUse_count\",'LandUse_majority', \"LandUse_max\",\"LandUse_mean\",\n",
    "                                                          \"LandUse_median\",\"LandUse_min\",\"LandUse_range\",\"LandUse_std\",\"Livestock_count\",\n",
    "                                                          \"Livestock_majority\",\"Livestock_max\",\"Livestock_mean\",\"Livestock_median\",\"Livestock_min\",\n",
    "                                                          \"Livestock_range\",\"Livestock_std\",\"MetRate_W_log\",\"BodyMass_log\",\n",
    "                                                          'TotalBinary', 'Test', 'Class','Family', 'Order','Data.Richness', \n",
    "                                                          'PubmedHits', \"BodyMass\", \"Metabolic.Rate\",\n",
    "                                                          \"Distribution.Area\", \"Mean.Temperature\", \"Mean.Human.population\",\n",
    "                                                          \"HabitatBreadth\", \"bdiversity_min\", \"bdiversity_std\", \"mdiversity_min\",\"mdiversity_std\", \n",
    "                                                          \"DELPHINIDAE\", \"sp\", \"BALAENIDAE\", \"BALAENOPTERIDAE\", \"ZIPHIIDAE\",\n",
    "                                                          \"NEOBALAENIDAE\", \"CISTUGIDAE\", \"MONODONTIDAE\", \"ESCHRICHTIIDAE\",\n",
    "                                                          \"INIIDAE\", \"PHYSETERIDAE\", \"PHOCOENIDAE\", \n",
    "                                                          \"PLATANISTIDAE\",\"MINIOPTERIDAE\", \n",
    "                                                          \n",
    "                                                          \"Bio12_range\",\"Bio1_range\",\"Bio3_range\", 'HuPop_range',\n",
    "                                                          \"Slope_range\", \"bdiversity_range\", \"mdiversity_range\",\n",
    "                                                          \"Mosquitoes_range_log\",\"Ticks_range_log\",\"Bio12_majority\",\n",
    "                                                          \n",
    "                                                          \"Bio1_majority\",\"Bio3_majority\", 'HuPop_majority',\n",
    "                                                         \"Slope_majority_log\", \"bdiversity_majority\", \"mdiversity_majority\",\n",
    "                                                         \"Mosquitoes_majority\",\"Ticks_majority\",\n",
    "                                                         \n",
    "                                                          \"Bio1_max\",\"Bio3_max\", 'HuPop_max',\n",
    "                                                         \"Slope_max_log\", \"bdiversity_max\", \"mdiversity_max\",\n",
    "                                                         \"Mosquitoes_max\",\"Ticks_max\",\n",
    "                                                         \n",
    "                                                          \"Bio1_min\",\"Bio3_min\", 'HuPop_min',\n",
    "                                                         \"Slope_min_log\", \"bdiversity_min\", \"mdiversity_min\",\n",
    "                                                         \"Mosquitoes_min\",\"Ticks_min\",\n",
    "                                                         \n",
    "                                                          \"Bio1_std\",\"Bio3_std\", 'HuPop_std',\n",
    "                                                         \"Slope_std_log\", \"bdiversity_std\", \"mdiversity_std\",\n",
    "                                                         \"Mosquitoes_std\",\"Ticks_std\",\n",
    "                                                         \n",
    "                                                          'Shape_Length_log', \"Slope_mean\",\n",
    "                                                         \n",
    "                                                          \"Bio12_max\",\"Bio12_min\",\"Bio12_std\",\n",
    "                                                         \"Slope_min\",\"Slope_std\", \n",
    "                                                         \"Mosquitoes_min_log\", \"Mosquitoes_std_log\",\n",
    "                                                          \"Ticks_max_log\", \"Ticks_std_log\", \n",
    "                                                         'HuPop_mean')]\n",
    "\n",
    "predictorsNames = predictorsNames[!predictorsNames %in% habitats]\n",
    "\n",
    "#predictorsNames = c(predictorsNames, 'LVSTD_DS', 'LUS_DS')\n",
    "predictorsNames = c(predictorsNames, 'LVSTD_DS', 'LandUse_collapsed')"
   ]
  },
  {
   "cell_type": "code",
   "execution_count": 23,
   "metadata": {},
   "outputs": [],
   "source": [
    "outcomeName <- 'Group3Binary'"
   ]
  },
  {
   "cell_type": "code",
   "execution_count": 24,
   "metadata": {},
   "outputs": [
    {
     "data": {
      "text/html": [
       "<ol class=list-inline>\n",
       "\t<li>'Bio12_mean'</li>\n",
       "\t<li>'Bio1_mean'</li>\n",
       "\t<li>'Bio3_mean'</li>\n",
       "\t<li>'Crops_majority'</li>\n",
       "\t<li>'Mosquitoes_mean'</li>\n",
       "\t<li>'Ticks_mean'</li>\n",
       "\t<li>'bdiversity_mean'</li>\n",
       "\t<li>'centroidY'</li>\n",
       "\t<li>'maxlat'</li>\n",
       "\t<li>'mdiversity_mean'</li>\n",
       "\t<li>'minlat'</li>\n",
       "\t<li>'minlong'</li>\n",
       "\t<li>'Shape_Area_log'</li>\n",
       "\t<li>'centroidX_log'</li>\n",
       "\t<li>'maxlong_log'</li>\n",
       "\t<li>'MaxDiet'</li>\n",
       "\t<li>'ForStrategy'</li>\n",
       "\t<li>'ActivityTime'</li>\n",
       "\t<li>'Body_Temperature'</li>\n",
       "\t<li>'IUCN.Status'</li>\n",
       "\t<li>'Population.trend'</li>\n",
       "\t<li>'BodyMass_ln'</li>\n",
       "\t<li>'Metabolic_Rate_ln'</li>\n",
       "\t<li>'Habitat_Breadth_sqrt'</li>\n",
       "\t<li>'PubmedHits_ln'</li>\n",
       "\t<li>'HuPop_mean_log'</li>\n",
       "\t<li>'SLP_DS'</li>\n",
       "\t<li>'MURIDAE'</li>\n",
       "\t<li>'CRICETIDAE'</li>\n",
       "\t<li>'ABROCOMIDAE'</li>\n",
       "\t<li>'FELIDAE'</li>\n",
       "\t<li>'OCTODONTIDAE'</li>\n",
       "\t<li>'BOVIDAE'</li>\n",
       "\t<li>'SCIURIDAE'</li>\n",
       "\t<li>'URSIDAE'</li>\n",
       "\t<li>'AILURIDAE'</li>\n",
       "\t<li>'CERVIDAE'</li>\n",
       "\t<li>'DIPODIDAE'</li>\n",
       "\t<li>'ATELIDAE'</li>\n",
       "\t<li>'ANOMALURIDAE'</li>\n",
       "\t<li>'SORICIDAE'</li>\n",
       "\t<li>'ANTILOCAPRIDAE'</li>\n",
       "\t<li>'MUSTELIDAE'</li>\n",
       "\t<li>'APLODONTIIDAE'</li>\n",
       "\t<li>'VIVERRIDAE'</li>\n",
       "\t<li>'ERINACEIDAE'</li>\n",
       "\t<li>'CANIDAE'</li>\n",
       "\t<li>'HYSTRICIDAE'</li>\n",
       "\t<li>'HERPESTIDAE'</li>\n",
       "\t<li>'SUIDAE'</li>\n",
       "\t<li>'PROCYONIDAE'</li>\n",
       "\t<li>'BATHYERGIDAE'</li>\n",
       "\t<li>'NESOMYIDAE'</li>\n",
       "\t<li>'LEPORIDAE'</li>\n",
       "\t<li>'ECHIMYIDAE'</li>\n",
       "\t<li>'CALLITRICHIDAE'</li>\n",
       "\t<li>'CALOMYSCIDAE'</li>\n",
       "\t<li>'CAMELIDAE'</li>\n",
       "\t<li>'SPALACIDAE'</li>\n",
       "\t<li>'CAPROMYIDAE'</li>\n",
       "\t<li>'CASTORIDAE'</li>\n",
       "\t<li>'TAYASSUIDAE'</li>\n",
       "\t<li>'CAVIIDAE'</li>\n",
       "\t<li>'RHINOCEROTIDAE'</li>\n",
       "\t<li>'GLIRIDAE'</li>\n",
       "\t<li>'HETEROMYIDAE'</li>\n",
       "\t<li>'ERETHIZONTIDAE'</li>\n",
       "\t<li>'CHINCHILLIDAE'</li>\n",
       "\t<li>'CERCOPITHECIDAE'</li>\n",
       "\t<li>'HIPPOPOTAMIDAE'</li>\n",
       "\t<li>'TALPIDAE'</li>\n",
       "\t<li>'MEPHITIDAE'</li>\n",
       "\t<li>'GEOMYIDAE'</li>\n",
       "\t<li>'HYAENIDAE'</li>\n",
       "\t<li>'EUPLERIDAE'</li>\n",
       "\t<li>'CTENODACTYLIDAE'</li>\n",
       "\t<li>'CTENOMYIDAE'</li>\n",
       "\t<li>'CUNICULIDAE'</li>\n",
       "\t<li>'DASYPROCTIDAE'</li>\n",
       "\t<li>'DINOMYIDAE'</li>\n",
       "\t<li>'EQUIDAE'</li>\n",
       "\t<li>'GIRAFFIDAE'</li>\n",
       "\t<li>'TRAGULIDAE'</li>\n",
       "\t<li>'DIATOMYIDAE'</li>\n",
       "\t<li>'MOSCHIDAE'</li>\n",
       "\t<li>'MYOCASTORIDAE'</li>\n",
       "\t<li>'NANDINIIDAE'</li>\n",
       "\t<li>'OCHOTONIDAE'</li>\n",
       "\t<li>'PEDETIDAE'</li>\n",
       "\t<li>'PETROMURIDAE'</li>\n",
       "\t<li>'PLATACANTHOMYIDAE'</li>\n",
       "\t<li>'HOMINIDAE'</li>\n",
       "\t<li>'PRIONODONTIDAE'</li>\n",
       "\t<li>'CEBIDAE'</li>\n",
       "\t<li>'SOLENODONTIDAE'</li>\n",
       "\t<li>'TAPIRIDAE'</li>\n",
       "\t<li>'THRYONOMYIDAE'</li>\n",
       "\t<li>'LVSTD_DS'</li>\n",
       "\t<li>'LandUse_collapsed'</li>\n",
       "</ol>\n"
      ],
      "text/latex": [
       "\\begin{enumerate*}\n",
       "\\item 'Bio12\\_mean'\n",
       "\\item 'Bio1\\_mean'\n",
       "\\item 'Bio3\\_mean'\n",
       "\\item 'Crops\\_majority'\n",
       "\\item 'Mosquitoes\\_mean'\n",
       "\\item 'Ticks\\_mean'\n",
       "\\item 'bdiversity\\_mean'\n",
       "\\item 'centroidY'\n",
       "\\item 'maxlat'\n",
       "\\item 'mdiversity\\_mean'\n",
       "\\item 'minlat'\n",
       "\\item 'minlong'\n",
       "\\item 'Shape\\_Area\\_log'\n",
       "\\item 'centroidX\\_log'\n",
       "\\item 'maxlong\\_log'\n",
       "\\item 'MaxDiet'\n",
       "\\item 'ForStrategy'\n",
       "\\item 'ActivityTime'\n",
       "\\item 'Body\\_Temperature'\n",
       "\\item 'IUCN.Status'\n",
       "\\item 'Population.trend'\n",
       "\\item 'BodyMass\\_ln'\n",
       "\\item 'Metabolic\\_Rate\\_ln'\n",
       "\\item 'Habitat\\_Breadth\\_sqrt'\n",
       "\\item 'PubmedHits\\_ln'\n",
       "\\item 'HuPop\\_mean\\_log'\n",
       "\\item 'SLP\\_DS'\n",
       "\\item 'MURIDAE'\n",
       "\\item 'CRICETIDAE'\n",
       "\\item 'ABROCOMIDAE'\n",
       "\\item 'FELIDAE'\n",
       "\\item 'OCTODONTIDAE'\n",
       "\\item 'BOVIDAE'\n",
       "\\item 'SCIURIDAE'\n",
       "\\item 'URSIDAE'\n",
       "\\item 'AILURIDAE'\n",
       "\\item 'CERVIDAE'\n",
       "\\item 'DIPODIDAE'\n",
       "\\item 'ATELIDAE'\n",
       "\\item 'ANOMALURIDAE'\n",
       "\\item 'SORICIDAE'\n",
       "\\item 'ANTILOCAPRIDAE'\n",
       "\\item 'MUSTELIDAE'\n",
       "\\item 'APLODONTIIDAE'\n",
       "\\item 'VIVERRIDAE'\n",
       "\\item 'ERINACEIDAE'\n",
       "\\item 'CANIDAE'\n",
       "\\item 'HYSTRICIDAE'\n",
       "\\item 'HERPESTIDAE'\n",
       "\\item 'SUIDAE'\n",
       "\\item 'PROCYONIDAE'\n",
       "\\item 'BATHYERGIDAE'\n",
       "\\item 'NESOMYIDAE'\n",
       "\\item 'LEPORIDAE'\n",
       "\\item 'ECHIMYIDAE'\n",
       "\\item 'CALLITRICHIDAE'\n",
       "\\item 'CALOMYSCIDAE'\n",
       "\\item 'CAMELIDAE'\n",
       "\\item 'SPALACIDAE'\n",
       "\\item 'CAPROMYIDAE'\n",
       "\\item 'CASTORIDAE'\n",
       "\\item 'TAYASSUIDAE'\n",
       "\\item 'CAVIIDAE'\n",
       "\\item 'RHINOCEROTIDAE'\n",
       "\\item 'GLIRIDAE'\n",
       "\\item 'HETEROMYIDAE'\n",
       "\\item 'ERETHIZONTIDAE'\n",
       "\\item 'CHINCHILLIDAE'\n",
       "\\item 'CERCOPITHECIDAE'\n",
       "\\item 'HIPPOPOTAMIDAE'\n",
       "\\item 'TALPIDAE'\n",
       "\\item 'MEPHITIDAE'\n",
       "\\item 'GEOMYIDAE'\n",
       "\\item 'HYAENIDAE'\n",
       "\\item 'EUPLERIDAE'\n",
       "\\item 'CTENODACTYLIDAE'\n",
       "\\item 'CTENOMYIDAE'\n",
       "\\item 'CUNICULIDAE'\n",
       "\\item 'DASYPROCTIDAE'\n",
       "\\item 'DINOMYIDAE'\n",
       "\\item 'EQUIDAE'\n",
       "\\item 'GIRAFFIDAE'\n",
       "\\item 'TRAGULIDAE'\n",
       "\\item 'DIATOMYIDAE'\n",
       "\\item 'MOSCHIDAE'\n",
       "\\item 'MYOCASTORIDAE'\n",
       "\\item 'NANDINIIDAE'\n",
       "\\item 'OCHOTONIDAE'\n",
       "\\item 'PEDETIDAE'\n",
       "\\item 'PETROMURIDAE'\n",
       "\\item 'PLATACANTHOMYIDAE'\n",
       "\\item 'HOMINIDAE'\n",
       "\\item 'PRIONODONTIDAE'\n",
       "\\item 'CEBIDAE'\n",
       "\\item 'SOLENODONTIDAE'\n",
       "\\item 'TAPIRIDAE'\n",
       "\\item 'THRYONOMYIDAE'\n",
       "\\item 'LVSTD\\_DS'\n",
       "\\item 'LandUse\\_collapsed'\n",
       "\\end{enumerate*}\n"
      ],
      "text/markdown": [
       "1. 'Bio12_mean'\n",
       "2. 'Bio1_mean'\n",
       "3. 'Bio3_mean'\n",
       "4. 'Crops_majority'\n",
       "5. 'Mosquitoes_mean'\n",
       "6. 'Ticks_mean'\n",
       "7. 'bdiversity_mean'\n",
       "8. 'centroidY'\n",
       "9. 'maxlat'\n",
       "10. 'mdiversity_mean'\n",
       "11. 'minlat'\n",
       "12. 'minlong'\n",
       "13. 'Shape_Area_log'\n",
       "14. 'centroidX_log'\n",
       "15. 'maxlong_log'\n",
       "16. 'MaxDiet'\n",
       "17. 'ForStrategy'\n",
       "18. 'ActivityTime'\n",
       "19. 'Body_Temperature'\n",
       "20. 'IUCN.Status'\n",
       "21. 'Population.trend'\n",
       "22. 'BodyMass_ln'\n",
       "23. 'Metabolic_Rate_ln'\n",
       "24. 'Habitat_Breadth_sqrt'\n",
       "25. 'PubmedHits_ln'\n",
       "26. 'HuPop_mean_log'\n",
       "27. 'SLP_DS'\n",
       "28. 'MURIDAE'\n",
       "29. 'CRICETIDAE'\n",
       "30. 'ABROCOMIDAE'\n",
       "31. 'FELIDAE'\n",
       "32. 'OCTODONTIDAE'\n",
       "33. 'BOVIDAE'\n",
       "34. 'SCIURIDAE'\n",
       "35. 'URSIDAE'\n",
       "36. 'AILURIDAE'\n",
       "37. 'CERVIDAE'\n",
       "38. 'DIPODIDAE'\n",
       "39. 'ATELIDAE'\n",
       "40. 'ANOMALURIDAE'\n",
       "41. 'SORICIDAE'\n",
       "42. 'ANTILOCAPRIDAE'\n",
       "43. 'MUSTELIDAE'\n",
       "44. 'APLODONTIIDAE'\n",
       "45. 'VIVERRIDAE'\n",
       "46. 'ERINACEIDAE'\n",
       "47. 'CANIDAE'\n",
       "48. 'HYSTRICIDAE'\n",
       "49. 'HERPESTIDAE'\n",
       "50. 'SUIDAE'\n",
       "51. 'PROCYONIDAE'\n",
       "52. 'BATHYERGIDAE'\n",
       "53. 'NESOMYIDAE'\n",
       "54. 'LEPORIDAE'\n",
       "55. 'ECHIMYIDAE'\n",
       "56. 'CALLITRICHIDAE'\n",
       "57. 'CALOMYSCIDAE'\n",
       "58. 'CAMELIDAE'\n",
       "59. 'SPALACIDAE'\n",
       "60. 'CAPROMYIDAE'\n",
       "61. 'CASTORIDAE'\n",
       "62. 'TAYASSUIDAE'\n",
       "63. 'CAVIIDAE'\n",
       "64. 'RHINOCEROTIDAE'\n",
       "65. 'GLIRIDAE'\n",
       "66. 'HETEROMYIDAE'\n",
       "67. 'ERETHIZONTIDAE'\n",
       "68. 'CHINCHILLIDAE'\n",
       "69. 'CERCOPITHECIDAE'\n",
       "70. 'HIPPOPOTAMIDAE'\n",
       "71. 'TALPIDAE'\n",
       "72. 'MEPHITIDAE'\n",
       "73. 'GEOMYIDAE'\n",
       "74. 'HYAENIDAE'\n",
       "75. 'EUPLERIDAE'\n",
       "76. 'CTENODACTYLIDAE'\n",
       "77. 'CTENOMYIDAE'\n",
       "78. 'CUNICULIDAE'\n",
       "79. 'DASYPROCTIDAE'\n",
       "80. 'DINOMYIDAE'\n",
       "81. 'EQUIDAE'\n",
       "82. 'GIRAFFIDAE'\n",
       "83. 'TRAGULIDAE'\n",
       "84. 'DIATOMYIDAE'\n",
       "85. 'MOSCHIDAE'\n",
       "86. 'MYOCASTORIDAE'\n",
       "87. 'NANDINIIDAE'\n",
       "88. 'OCHOTONIDAE'\n",
       "89. 'PEDETIDAE'\n",
       "90. 'PETROMURIDAE'\n",
       "91. 'PLATACANTHOMYIDAE'\n",
       "92. 'HOMINIDAE'\n",
       "93. 'PRIONODONTIDAE'\n",
       "94. 'CEBIDAE'\n",
       "95. 'SOLENODONTIDAE'\n",
       "96. 'TAPIRIDAE'\n",
       "97. 'THRYONOMYIDAE'\n",
       "98. 'LVSTD_DS'\n",
       "99. 'LandUse_collapsed'\n",
       "\n",
       "\n"
      ],
      "text/plain": [
       " [1] \"Bio12_mean\"           \"Bio1_mean\"            \"Bio3_mean\"           \n",
       " [4] \"Crops_majority\"       \"Mosquitoes_mean\"      \"Ticks_mean\"          \n",
       " [7] \"bdiversity_mean\"      \"centroidY\"            \"maxlat\"              \n",
       "[10] \"mdiversity_mean\"      \"minlat\"               \"minlong\"             \n",
       "[13] \"Shape_Area_log\"       \"centroidX_log\"        \"maxlong_log\"         \n",
       "[16] \"MaxDiet\"              \"ForStrategy\"          \"ActivityTime\"        \n",
       "[19] \"Body_Temperature\"     \"IUCN.Status\"          \"Population.trend\"    \n",
       "[22] \"BodyMass_ln\"          \"Metabolic_Rate_ln\"    \"Habitat_Breadth_sqrt\"\n",
       "[25] \"PubmedHits_ln\"        \"HuPop_mean_log\"       \"SLP_DS\"              \n",
       "[28] \"MURIDAE\"              \"CRICETIDAE\"           \"ABROCOMIDAE\"         \n",
       "[31] \"FELIDAE\"              \"OCTODONTIDAE\"         \"BOVIDAE\"             \n",
       "[34] \"SCIURIDAE\"            \"URSIDAE\"              \"AILURIDAE\"           \n",
       "[37] \"CERVIDAE\"             \"DIPODIDAE\"            \"ATELIDAE\"            \n",
       "[40] \"ANOMALURIDAE\"         \"SORICIDAE\"            \"ANTILOCAPRIDAE\"      \n",
       "[43] \"MUSTELIDAE\"           \"APLODONTIIDAE\"        \"VIVERRIDAE\"          \n",
       "[46] \"ERINACEIDAE\"          \"CANIDAE\"              \"HYSTRICIDAE\"         \n",
       "[49] \"HERPESTIDAE\"          \"SUIDAE\"               \"PROCYONIDAE\"         \n",
       "[52] \"BATHYERGIDAE\"         \"NESOMYIDAE\"           \"LEPORIDAE\"           \n",
       "[55] \"ECHIMYIDAE\"           \"CALLITRICHIDAE\"       \"CALOMYSCIDAE\"        \n",
       "[58] \"CAMELIDAE\"            \"SPALACIDAE\"           \"CAPROMYIDAE\"         \n",
       "[61] \"CASTORIDAE\"           \"TAYASSUIDAE\"          \"CAVIIDAE\"            \n",
       "[64] \"RHINOCEROTIDAE\"       \"GLIRIDAE\"             \"HETEROMYIDAE\"        \n",
       "[67] \"ERETHIZONTIDAE\"       \"CHINCHILLIDAE\"        \"CERCOPITHECIDAE\"     \n",
       "[70] \"HIPPOPOTAMIDAE\"       \"TALPIDAE\"             \"MEPHITIDAE\"          \n",
       "[73] \"GEOMYIDAE\"            \"HYAENIDAE\"            \"EUPLERIDAE\"          \n",
       "[76] \"CTENODACTYLIDAE\"      \"CTENOMYIDAE\"          \"CUNICULIDAE\"         \n",
       "[79] \"DASYPROCTIDAE\"        \"DINOMYIDAE\"           \"EQUIDAE\"             \n",
       "[82] \"GIRAFFIDAE\"           \"TRAGULIDAE\"           \"DIATOMYIDAE\"         \n",
       "[85] \"MOSCHIDAE\"            \"MYOCASTORIDAE\"        \"NANDINIIDAE\"         \n",
       "[88] \"OCHOTONIDAE\"          \"PEDETIDAE\"            \"PETROMURIDAE\"        \n",
       "[91] \"PLATACANTHOMYIDAE\"    \"HOMINIDAE\"            \"PRIONODONTIDAE\"      \n",
       "[94] \"CEBIDAE\"              \"SOLENODONTIDAE\"       \"TAPIRIDAE\"           \n",
       "[97] \"THRYONOMYIDAE\"        \"LVSTD_DS\"             \"LandUse_collapsed\"   "
      ]
     },
     "metadata": {},
     "output_type": "display_data"
    }
   ],
   "source": [
    "predictorsNames"
   ]
  },
  {
   "cell_type": "code",
   "execution_count": 25,
   "metadata": {},
   "outputs": [
    {
     "data": {
      "text/html": [
       "99"
      ],
      "text/latex": [
       "99"
      ],
      "text/markdown": [
       "99"
      ],
      "text/plain": [
       "[1] 99"
      ]
     },
     "metadata": {},
     "output_type": "display_data"
    }
   ],
   "source": [
    "length(predictorsNames)"
   ]
  },
  {
   "cell_type": "code",
   "execution_count": 17,
   "metadata": {
    "scrolled": false
   },
   "outputs": [
    {
     "name": "stdout",
     "output_type": "stream",
     "text": [
      "\n",
      " \n",
      " GBM STEP - version 2.9 \n",
      " \n",
      "Performing cross-validation optimisation of a boosted regression tree model \n",
      "for NA and using a family of bernoulli \n",
      "Using 11375 observations and 99 predictors \n",
      "creating 10 initial models of 50 trees \n",
      "\n",
      " folds are stratified by prevalence \n",
      "total mean deviance =  0.0811 \n",
      "tolerance is fixed at  1e-04 \n",
      "ntrees resid. dev. \n",
      "50    0.0714 \n",
      "now adding trees... \n",
      "100   0.0672 \n",
      "150   0.0645 \n",
      "200   0.0626 \n",
      "250   0.061 \n",
      "300   0.0598 \n",
      "350   0.0586 \n",
      "400   0.0577 \n",
      "450   0.0568 \n",
      "500   0.056 \n",
      "550   0.0553 \n",
      "600   0.0547 \n",
      "650   0.0541 \n",
      "700   0.0536 \n",
      "750   0.0531 \n",
      "800   0.0526 \n",
      "850   0.0522 \n",
      "900   0.0517 \n",
      "950   0.0514 \n",
      "1000   0.051 \n",
      "1050   0.0507 \n",
      "1100   0.0503 \n",
      "1150   0.05 \n",
      "1200   0.0496 \n",
      "1250   0.0493 \n",
      "1300   0.049 \n",
      "1350   0.0487 \n",
      "1400   0.0484 \n",
      "1450   0.0482 \n",
      "1500   0.0479 \n",
      "1550   0.0477 \n",
      "1600   0.0475 \n",
      "1650   0.0473 \n",
      "1700   0.0471 \n",
      "1750   0.0469 \n",
      "1800   0.0467 \n",
      "1850   0.0466 \n",
      "1900   0.0464 \n",
      "1950   0.0463 \n",
      "2000   0.0462 \n",
      "2050   0.0461 \n",
      "2100   0.0459 \n",
      "2150   0.0458 \n",
      "2200   0.0457 \n",
      "2250   0.0456 \n",
      "2300   0.0455 \n",
      "2350   0.0454 \n",
      "2400   0.0454 \n",
      "2450   0.0453 \n",
      "2500   0.0452 \n",
      "2550   0.0451 \n",
      "2600   0.0451 \n",
      "2650   0.045 \n",
      "2700   0.0449 \n",
      "2750   0.0448 \n",
      "2800   0.0448 \n",
      "2850   0.0447 \n",
      "2900   0.0447 \n",
      "2950   0.0447 \n",
      "3000   0.0446 \n",
      "3050   0.0445 \n",
      "3100   0.0445 \n",
      "3150   0.0444 \n",
      "3200   0.0444 \n",
      "3250   0.0444 \n",
      "3300   0.0443 \n",
      "3350   0.0443 \n",
      "3400   0.0443 \n",
      "3450   0.0443 \n",
      "3500   0.0442 \n",
      "3550   0.0442 \n",
      "3600   0.0442 \n",
      "3650   0.0442 \n",
      "3700   0.0441 \n",
      "3750   0.0441 \n",
      "3800   0.0441 \n",
      "3850   0.0441 \n",
      "3900   0.0441 \n",
      "3950   0.0441 \n",
      "4000   0.044 \n",
      "4050   0.044 \n",
      "4100   0.044 \n",
      "4150   0.044 \n",
      "4200   0.044 \n",
      "4250   0.044 \n",
      "4300   0.044 \n",
      "4350   0.044 \n",
      "4400   0.044 \n",
      "4450   0.044 \n",
      "4500   0.0439 \n",
      "4550   0.0439 \n",
      "4600   0.0439 \n",
      "4650   0.0439 \n",
      "4700   0.0439 \n",
      "4750   0.0439 \n",
      "4800   0.0439 \n",
      "4850   0.0439 \n",
      "4900   0.0439 \n",
      "4950   0.0439 \n",
      "5000   0.0439 \n",
      "5050   0.0438 \n",
      "5100   0.0438 \n",
      "5150   0.0438 \n",
      "5200   0.0438 \n",
      "5250   0.0438 \n",
      "5300   0.0438 \n",
      "5350   0.0438 \n"
     ]
    },
    {
     "name": "stderr",
     "output_type": "stream",
     "text": [
      "fitting final gbm model with a fixed number of 5300 trees for NA\n"
     ]
    },
    {
     "name": "stdout",
     "output_type": "stream",
     "text": [
      "\n",
      "mean total deviance = 0.081 \n",
      "mean residual deviance = 0.018 \n",
      " \n",
      "estimated cv deviance = 0.044 ; se = 0.004 \n",
      " \n",
      "training data correlation = 0.857 \n",
      "cv correlation =  0.443 ; se = 0.035 \n",
      " \n",
      "training data AUC score = 0.998 \n",
      "cv AUC score = 0.97 ; se = 0.013 \n",
      " \n",
      "elapsed time -  0.92 minutes \n"
     ]
    },
    {
     "data": {
      "image/png": "[encoded data removed]",
      "text/plain": [
       "Plot with title \"NA, d - 5, lr - 0.001\""
      ]
     },
     "metadata": {},
     "output_type": "display_data"
    }
   ],
   "source": [
    "set.seed(100)\n",
    "Group1.total.tc5.lr0005 <- gbm.step(data = model.data,\n",
    "                                   gbm.x = predictorsNames,\n",
    "                                   gbm.y = outcomeName,\n",
    "                                   family = \"bernoulli\",\n",
    "                                   tree.complexity = 5,\n",
    "                                   learning.rate = 0.001,\n",
    "                                   bag.fraction = 0.5, \n",
    "                                   cv = 10)"
   ]
  },
  {
   "cell_type": "code",
   "execution_count": 18,
   "metadata": {
    "collapsed": true
   },
   "outputs": [],
   "source": [
    "#for (i in predictorsNames){\n",
    "#    print (i)\n",
    "#    a = which( colnames(model.data)== i )\n",
    "#    print (a)\n",
    "#}"
   ]
  },
  {
   "cell_type": "code",
   "execution_count": 19,
   "metadata": {
    "scrolled": false
   },
   "outputs": [
    {
     "data": {
      "text/html": [
       "<table>\n",
       "<thead><tr><th></th><th scope=col>var</th><th scope=col>rel.inf</th></tr></thead>\n",
       "<tbody>\n",
       "\t<tr><th scope=row>Shape_Area_log</th><td>Shape_Area_log  </td><td>24.5018975130794</td></tr>\n",
       "\t<tr><th scope=row>centroidY</th><td>centroidY       </td><td>10.2019135867328</td></tr>\n",
       "\t<tr><th scope=row>maxlat</th><td>maxlat         </td><td>7.2250715645747</td></tr>\n",
       "\t<tr><th scope=row>BodyMass_ln</th><td>BodyMass_ln     </td><td>6.15985946528984</td></tr>\n",
       "\t<tr><th scope=row>PubmedHits_ln</th><td>PubmedHits_ln   </td><td>5.66334886468387</td></tr>\n",
       "\t<tr><th scope=row>minlong</th><td>minlong         </td><td>4.22537404865471</td></tr>\n",
       "\t<tr><th scope=row>centroidX_log</th><td>centroidX_log   </td><td>4.15041107368546</td></tr>\n",
       "\t<tr><th scope=row>minlat</th><td>minlat          </td><td>4.06352230110208</td></tr>\n",
       "\t<tr><th scope=row>MaxDiet</th><td>MaxDiet         </td><td>4.00058360944552</td></tr>\n",
       "\t<tr><th scope=row>Metabolic_Rate_ln</th><td>Metabolic_Rate_ln</td><td>3.10595853711614 </td></tr>\n",
       "\t<tr><th scope=row>LandUse_collapsed</th><td>LandUse_collapsed</td><td>2.86426654938552 </td></tr>\n",
       "\t<tr><th scope=row>LVSTD_DS</th><td>LVSTD_DS        </td><td>2.75989493468223</td></tr>\n",
       "\t<tr><th scope=row>bdiversity_mean</th><td>bdiversity_mean </td><td>2.52307620047658</td></tr>\n",
       "\t<tr><th scope=row>HuPop_mean_log</th><td>HuPop_mean_log  </td><td>1.96251473978929</td></tr>\n",
       "\t<tr><th scope=row>Ticks_mean</th><td>Ticks_mean      </td><td>1.89385329689048</td></tr>\n",
       "\t<tr><th scope=row>Bio3_mean</th><td>Bio3_mean       </td><td>1.62874928763264</td></tr>\n",
       "\t<tr><th scope=row>mdiversity_mean</th><td>mdiversity_mean </td><td>1.60614969489633</td></tr>\n",
       "\t<tr><th scope=row>Mosquitoes_mean</th><td>Mosquitoes_mean</td><td>1.5965775169407</td></tr>\n",
       "\t<tr><th scope=row>Bio12_mean</th><td>Bio12_mean      </td><td>1.59023456390339</td></tr>\n",
       "\t<tr><th scope=row>SLP_DS</th><td>SLP_DS          </td><td>1.52482347656014</td></tr>\n",
       "\t<tr><th scope=row>maxlong_log</th><td>maxlong_log     </td><td>1.45264078013786</td></tr>\n",
       "\t<tr><th scope=row>Population.trend</th><td>Population.trend</td><td>1.38733152214362</td></tr>\n",
       "\t<tr><th scope=row>Bio1_mean</th><td>Bio1_mean       </td><td>1.38062622809821</td></tr>\n",
       "\t<tr><th scope=row>Habitat_Breadth_sqrt</th><td>Habitat_Breadth_sqrt</td><td>0.906970583550636   </td></tr>\n",
       "\t<tr><th scope=row>MURIDAE</th><td>MURIDAE          </td><td>0.654406578548567</td></tr>\n",
       "\t<tr><th scope=row>ForStrategy</th><td>ForStrategy      </td><td>0.409343386179577</td></tr>\n",
       "\t<tr><th scope=row>Body_Temperature</th><td>Body_Temperature </td><td>0.207372100095846</td></tr>\n",
       "\t<tr><th scope=row>IUCN.Status</th><td>IUCN.Status      </td><td>0.185007424337275</td></tr>\n",
       "\t<tr><th scope=row>CRICETIDAE</th><td>CRICETIDAE        </td><td>0.0861417184250969</td></tr>\n",
       "\t<tr><th scope=row>BOVIDAE</th><td>BOVIDAE           </td><td>0.0675123056803509</td></tr>\n",
       "\t<tr><th scope=row>...</th><td>...</td><td>...</td></tr>\n",
       "\t<tr><th scope=row>ERETHIZONTIDAE</th><td>ERETHIZONTIDAE</td><td>0             </td></tr>\n",
       "\t<tr><th scope=row>CHINCHILLIDAE</th><td>CHINCHILLIDAE</td><td>0            </td></tr>\n",
       "\t<tr><th scope=row>HIPPOPOTAMIDAE</th><td>HIPPOPOTAMIDAE</td><td>0             </td></tr>\n",
       "\t<tr><th scope=row>TALPIDAE</th><td>TALPIDAE</td><td>0       </td></tr>\n",
       "\t<tr><th scope=row>MEPHITIDAE</th><td>MEPHITIDAE</td><td>0         </td></tr>\n",
       "\t<tr><th scope=row>GEOMYIDAE</th><td>GEOMYIDAE</td><td>0        </td></tr>\n",
       "\t<tr><th scope=row>HYAENIDAE</th><td>HYAENIDAE</td><td>0        </td></tr>\n",
       "\t<tr><th scope=row>EUPLERIDAE</th><td>EUPLERIDAE</td><td>0         </td></tr>\n",
       "\t<tr><th scope=row>CTENODACTYLIDAE</th><td>CTENODACTYLIDAE</td><td>0              </td></tr>\n",
       "\t<tr><th scope=row>CTENOMYIDAE</th><td>CTENOMYIDAE</td><td>0          </td></tr>\n",
       "\t<tr><th scope=row>CUNICULIDAE</th><td>CUNICULIDAE</td><td>0          </td></tr>\n",
       "\t<tr><th scope=row>DASYPROCTIDAE</th><td>DASYPROCTIDAE</td><td>0            </td></tr>\n",
       "\t<tr><th scope=row>DINOMYIDAE</th><td>DINOMYIDAE</td><td>0         </td></tr>\n",
       "\t<tr><th scope=row>EQUIDAE</th><td>EQUIDAE</td><td>0      </td></tr>\n",
       "\t<tr><th scope=row>GIRAFFIDAE</th><td>GIRAFFIDAE</td><td>0         </td></tr>\n",
       "\t<tr><th scope=row>TRAGULIDAE</th><td>TRAGULIDAE</td><td>0         </td></tr>\n",
       "\t<tr><th scope=row>DIATOMYIDAE</th><td>DIATOMYIDAE</td><td>0          </td></tr>\n",
       "\t<tr><th scope=row>MOSCHIDAE</th><td>MOSCHIDAE</td><td>0        </td></tr>\n",
       "\t<tr><th scope=row>MYOCASTORIDAE</th><td>MYOCASTORIDAE</td><td>0            </td></tr>\n",
       "\t<tr><th scope=row>NANDINIIDAE</th><td>NANDINIIDAE</td><td>0          </td></tr>\n",
       "\t<tr><th scope=row>OCHOTONIDAE</th><td>OCHOTONIDAE</td><td>0          </td></tr>\n",
       "\t<tr><th scope=row>PEDETIDAE</th><td>PEDETIDAE</td><td>0        </td></tr>\n",
       "\t<tr><th scope=row>PETROMURIDAE</th><td>PETROMURIDAE</td><td>0           </td></tr>\n",
       "\t<tr><th scope=row>PLATACANTHOMYIDAE</th><td>PLATACANTHOMYIDAE</td><td>0                </td></tr>\n",
       "\t<tr><th scope=row>HOMINIDAE</th><td>HOMINIDAE</td><td>0        </td></tr>\n",
       "\t<tr><th scope=row>PRIONODONTIDAE</th><td>PRIONODONTIDAE</td><td>0             </td></tr>\n",
       "\t<tr><th scope=row>CEBIDAE</th><td>CEBIDAE</td><td>0      </td></tr>\n",
       "\t<tr><th scope=row>SOLENODONTIDAE</th><td>SOLENODONTIDAE</td><td>0             </td></tr>\n",
       "\t<tr><th scope=row>TAPIRIDAE</th><td>TAPIRIDAE</td><td>0        </td></tr>\n",
       "\t<tr><th scope=row>THRYONOMYIDAE</th><td>THRYONOMYIDAE</td><td>0            </td></tr>\n",
       "</tbody>\n",
       "</table>\n"
      ],
      "text/latex": [
       "\\begin{tabular}{r|ll}\n",
       "  & var & rel.inf\\\\\n",
       "\\hline\n",
       "\tShape\\_Area\\_log & Shape\\_Area\\_log & 24.5018975130794  \\\\\n",
       "\tcentroidY & centroidY        & 10.2019135867328\\\\\n",
       "\tmaxlat & maxlat          & 7.2250715645747\\\\\n",
       "\tBodyMass\\_ln & BodyMass\\_ln    & 6.15985946528984\\\\\n",
       "\tPubmedHits\\_ln & PubmedHits\\_ln  & 5.66334886468387\\\\\n",
       "\tminlong & minlong          & 4.22537404865471\\\\\n",
       "\tcentroidX\\_log & centroidX\\_log  & 4.15041107368546\\\\\n",
       "\tminlat & minlat           & 4.06352230110208\\\\\n",
       "\tMaxDiet & MaxDiet          & 4.00058360944552\\\\\n",
       "\tMetabolic\\_Rate\\_ln & Metabolic\\_Rate\\_ln & 3.10595853711614     \\\\\n",
       "\tLandUse\\_collapsed & LandUse\\_collapsed & 2.86426654938552   \\\\\n",
       "\tLVSTD\\_DS & LVSTD\\_DS       & 2.75989493468223\\\\\n",
       "\tbdiversity\\_mean & bdiversity\\_mean & 2.52307620047658 \\\\\n",
       "\tHuPop\\_mean\\_log & HuPop\\_mean\\_log & 1.96251473978929  \\\\\n",
       "\tTicks\\_mean & Ticks\\_mean     & 1.89385329689048\\\\\n",
       "\tBio3\\_mean & Bio3\\_mean      & 1.62874928763264\\\\\n",
       "\tmdiversity\\_mean & mdiversity\\_mean & 1.60614969489633 \\\\\n",
       "\tMosquitoes\\_mean & Mosquitoes\\_mean & 1.5965775169407  \\\\\n",
       "\tBio12\\_mean & Bio12\\_mean     & 1.59023456390339\\\\\n",
       "\tSLP\\_DS & SLP\\_DS         & 1.52482347656014\\\\\n",
       "\tmaxlong\\_log & maxlong\\_log    & 1.45264078013786\\\\\n",
       "\tPopulation.trend & Population.trend & 1.38733152214362\\\\\n",
       "\tBio1\\_mean & Bio1\\_mean      & 1.38062622809821\\\\\n",
       "\tHabitat\\_Breadth\\_sqrt & Habitat\\_Breadth\\_sqrt & 0.906970583550636       \\\\\n",
       "\tMURIDAE & MURIDAE           & 0.654406578548567\\\\\n",
       "\tForStrategy & ForStrategy       & 0.409343386179577\\\\\n",
       "\tBody\\_Temperature & Body\\_Temperature & 0.207372100095846 \\\\\n",
       "\tIUCN.Status & IUCN.Status       & 0.185007424337275\\\\\n",
       "\tCRICETIDAE & CRICETIDAE         & 0.0861417184250969\\\\\n",
       "\tBOVIDAE & BOVIDAE            & 0.0675123056803509\\\\\n",
       "\t... & ... & ...\\\\\n",
       "\tERETHIZONTIDAE & ERETHIZONTIDAE & 0             \\\\\n",
       "\tCHINCHILLIDAE & CHINCHILLIDAE & 0            \\\\\n",
       "\tHIPPOPOTAMIDAE & HIPPOPOTAMIDAE & 0             \\\\\n",
       "\tTALPIDAE & TALPIDAE & 0       \\\\\n",
       "\tMEPHITIDAE & MEPHITIDAE & 0         \\\\\n",
       "\tGEOMYIDAE & GEOMYIDAE & 0        \\\\\n",
       "\tHYAENIDAE & HYAENIDAE & 0        \\\\\n",
       "\tEUPLERIDAE & EUPLERIDAE & 0         \\\\\n",
       "\tCTENODACTYLIDAE & CTENODACTYLIDAE & 0              \\\\\n",
       "\tCTENOMYIDAE & CTENOMYIDAE & 0          \\\\\n",
       "\tCUNICULIDAE & CUNICULIDAE & 0          \\\\\n",
       "\tDASYPROCTIDAE & DASYPROCTIDAE & 0            \\\\\n",
       "\tDINOMYIDAE & DINOMYIDAE & 0         \\\\\n",
       "\tEQUIDAE & EQUIDAE & 0      \\\\\n",
       "\tGIRAFFIDAE & GIRAFFIDAE & 0         \\\\\n",
       "\tTRAGULIDAE & TRAGULIDAE & 0         \\\\\n",
       "\tDIATOMYIDAE & DIATOMYIDAE & 0          \\\\\n",
       "\tMOSCHIDAE & MOSCHIDAE & 0        \\\\\n",
       "\tMYOCASTORIDAE & MYOCASTORIDAE & 0            \\\\\n",
       "\tNANDINIIDAE & NANDINIIDAE & 0          \\\\\n",
       "\tOCHOTONIDAE & OCHOTONIDAE & 0          \\\\\n",
       "\tPEDETIDAE & PEDETIDAE & 0        \\\\\n",
       "\tPETROMURIDAE & PETROMURIDAE & 0           \\\\\n",
       "\tPLATACANTHOMYIDAE & PLATACANTHOMYIDAE & 0                \\\\\n",
       "\tHOMINIDAE & HOMINIDAE & 0        \\\\\n",
       "\tPRIONODONTIDAE & PRIONODONTIDAE & 0             \\\\\n",
       "\tCEBIDAE & CEBIDAE & 0      \\\\\n",
       "\tSOLENODONTIDAE & SOLENODONTIDAE & 0             \\\\\n",
       "\tTAPIRIDAE & TAPIRIDAE & 0        \\\\\n",
       "\tTHRYONOMYIDAE & THRYONOMYIDAE & 0            \\\\\n",
       "\\end{tabular}\n"
      ],
      "text/plain": [
       "                                      var            rel.inf\n",
       "Shape_Area_log             Shape_Area_log   24.5018975130794\n",
       "centroidY                       centroidY   10.2019135867328\n",
       "maxlat                             maxlat    7.2250715645747\n",
       "BodyMass_ln                   BodyMass_ln   6.15985946528984\n",
       "PubmedHits_ln               PubmedHits_ln   5.66334886468387\n",
       "minlong                           minlong   4.22537404865471\n",
       "centroidX_log               centroidX_log   4.15041107368546\n",
       "minlat                             minlat   4.06352230110208\n",
       "MaxDiet                           MaxDiet   4.00058360944552\n",
       "Metabolic_Rate_ln       Metabolic_Rate_ln   3.10595853711614\n",
       "LandUse_collapsed       LandUse_collapsed   2.86426654938552\n",
       "LVSTD_DS                         LVSTD_DS   2.75989493468223\n",
       "bdiversity_mean           bdiversity_mean   2.52307620047658\n",
       "HuPop_mean_log             HuPop_mean_log   1.96251473978929\n",
       "Ticks_mean                     Ticks_mean   1.89385329689048\n",
       "Bio3_mean                       Bio3_mean   1.62874928763264\n",
       "mdiversity_mean           mdiversity_mean   1.60614969489633\n",
       "Mosquitoes_mean           Mosquitoes_mean    1.5965775169407\n",
       "Bio12_mean                     Bio12_mean   1.59023456390339\n",
       "SLP_DS                             SLP_DS   1.52482347656014\n",
       "maxlong_log                   maxlong_log   1.45264078013786\n",
       "Population.trend         Population.trend   1.38733152214362\n",
       "Bio1_mean                       Bio1_mean   1.38062622809821\n",
       "Habitat_Breadth_sqrt Habitat_Breadth_sqrt  0.906970583550636\n",
       "MURIDAE                           MURIDAE  0.654406578548567\n",
       "ForStrategy                   ForStrategy  0.409343386179577\n",
       "Body_Temperature         Body_Temperature  0.207372100095846\n",
       "IUCN.Status                   IUCN.Status  0.185007424337275\n",
       "CRICETIDAE                     CRICETIDAE 0.0861417184250969\n",
       "BOVIDAE                           BOVIDAE 0.0675123056803509\n",
       "...                                   ...                ...\n",
       "ERETHIZONTIDAE             ERETHIZONTIDAE                  0\n",
       "CHINCHILLIDAE               CHINCHILLIDAE                  0\n",
       "HIPPOPOTAMIDAE             HIPPOPOTAMIDAE                  0\n",
       "TALPIDAE                         TALPIDAE                  0\n",
       "MEPHITIDAE                     MEPHITIDAE                  0\n",
       "GEOMYIDAE                       GEOMYIDAE                  0\n",
       "HYAENIDAE                       HYAENIDAE                  0\n",
       "EUPLERIDAE                     EUPLERIDAE                  0\n",
       "CTENODACTYLIDAE           CTENODACTYLIDAE                  0\n",
       "CTENOMYIDAE                   CTENOMYIDAE                  0\n",
       "CUNICULIDAE                   CUNICULIDAE                  0\n",
       "DASYPROCTIDAE               DASYPROCTIDAE                  0\n",
       "DINOMYIDAE                     DINOMYIDAE                  0\n",
       "EQUIDAE                           EQUIDAE                  0\n",
       "GIRAFFIDAE                     GIRAFFIDAE                  0\n",
       "TRAGULIDAE                     TRAGULIDAE                  0\n",
       "DIATOMYIDAE                   DIATOMYIDAE                  0\n",
       "MOSCHIDAE                       MOSCHIDAE                  0\n",
       "MYOCASTORIDAE               MYOCASTORIDAE                  0\n",
       "NANDINIIDAE                   NANDINIIDAE                  0\n",
       "OCHOTONIDAE                   OCHOTONIDAE                  0\n",
       "PEDETIDAE                       PEDETIDAE                  0\n",
       "PETROMURIDAE                 PETROMURIDAE                  0\n",
       "PLATACANTHOMYIDAE       PLATACANTHOMYIDAE                  0\n",
       "HOMINIDAE                       HOMINIDAE                  0\n",
       "PRIONODONTIDAE             PRIONODONTIDAE                  0\n",
       "CEBIDAE                           CEBIDAE                  0\n",
       "SOLENODONTIDAE             SOLENODONTIDAE                  0\n",
       "TAPIRIDAE                       TAPIRIDAE                  0\n",
       "THRYONOMYIDAE               THRYONOMYIDAE                  0"
      ]
     },
     "metadata": {},
     "output_type": "display_data"
    },
    {
     "data": {
      "image/png": "[encoded data removed]",
      "text/plain": [
       "plot without title"
      ]
     },
     "metadata": {},
     "output_type": "display_data"
    }
   ],
   "source": [
    "summary(Group1.total.tc5.lr0005)"
   ]
  },
  {
   "cell_type": "code",
   "execution_count": 20,
   "metadata": {},
   "outputs": [
    {
     "name": "stdout",
     "output_type": "stream",
     "text": [
      "gbm::gbm(formula = y.data ~ ., distribution = as.character(family), \n",
      "    data = x.data, weights = site.weights, var.monotone = var.monotone, \n",
      "    n.trees = target.trees, interaction.depth = tree.complexity, \n",
      "    shrinkage = learning.rate, bag.fraction = bag.fraction, verbose = FALSE)\n",
      "A gradient boosted model with bernoulli loss function.\n",
      "5300 iterations were performed.\n",
      "There were 99 predictors of which 34 had non-zero influence.\n"
     ]
    }
   ],
   "source": [
    "print(Group1.total.tc5.lr0005)"
   ]
  },
  {
   "cell_type": "code",
   "execution_count": 21,
   "metadata": {},
   "outputs": [
    {
     "data": {
      "image/png": "[encoded data removed]",
      "text/plain": [
       "plot without title"
      ]
     },
     "metadata": {},
     "output_type": "display_data"
    }
   ],
   "source": [
    "plot.gbm(Group1.total.tc5.lr0005, 'Bio1_mean')"
   ]
  },
  {
   "cell_type": "code",
   "execution_count": 22,
   "metadata": {},
   "outputs": [
    {
     "name": "stdout",
     "output_type": "stream",
     "text": [
      "n.trees not given. Using 5300 trees.\n"
     ]
    }
   ],
   "source": [
    "ranks = relative.influence(Group1.total.tc5.lr0005, scale. = 'TRUE', sort. = 'TRUE')\n",
    "a = as.data.frame(ranks, col.names = , optional = FALSE)\n",
    "a = setDT(a, keep.rownames = TRUE)[]\n",
    "colnames(a) = c('Variable','influence')\n",
    "b = a\n",
    "for (i in b$Variable){\n",
    "    margianleffects = plot.gbm(Group1.total.tc5.lr0005, i.var = i,n.plots=3, \n",
    "                           write.title = T, return.grid  = T,\n",
    "                           show.contrib = T,y.label=\"Marginal effect on Host\")\n",
    "    filename = paste(\"Outputs/PartialDependence2/\", i,'Group3','.csv', sep=\"\")\n",
    "    write.csv(margianleffects, file = filename)    \n",
    "}"
   ]
  },
  {
   "cell_type": "code",
   "execution_count": 23,
   "metadata": {
    "collapsed": true
   },
   "outputs": [],
   "source": [
    "write.csv(a, 'Outputs/PartialDependence2/Ranks_group3.csv')"
   ]
  },
  {
   "cell_type": "code",
   "execution_count": 24,
   "metadata": {},
   "outputs": [
    {
     "data": {
      "text/html": [
       "<table>\n",
       "<thead><tr><th></th><th scope=col>Variable</th><th scope=col>influence</th></tr></thead>\n",
       "<tbody>\n",
       "\t<tr><th scope=row>1</th><td>Shape_Area_log</td><td>1             </td></tr>\n",
       "\t<tr><th scope=row>2</th><td>centroidY        </td><td>0.416372388354286</td></tr>\n",
       "\t<tr><th scope=row>3</th><td>maxlat           </td><td>0.294878042025841</td></tr>\n",
       "\t<tr><th scope=row>4</th><td>BodyMass_ln      </td><td>0.251403364249713</td></tr>\n",
       "\t<tr><th scope=row>5</th><td>PubmedHits_ln    </td><td>0.231139194899526</td></tr>\n",
       "\t<tr><th scope=row>6</th><td>minlong          </td><td>0.172450890646292</td></tr>\n",
       "\t<tr><th scope=row>7</th><td>centroidX_log    </td><td>0.169391414337192</td></tr>\n",
       "\t<tr><th scope=row>8</th><td>minlat           </td><td>0.165845208475503</td></tr>\n",
       "\t<tr><th scope=row>9</th><td>MaxDiet          </td><td>0.163276481232115</td></tr>\n",
       "\t<tr><th scope=row>10</th><td>Metabolic_Rate_ln</td><td>0.12676400003135 </td></tr>\n",
       "\t<tr><th scope=row>11</th><td>LandUse_collapsed</td><td>0.116899784918965</td></tr>\n",
       "\t<tr><th scope=row>12</th><td>LVSTD_DS         </td><td>0.112640048927188</td></tr>\n",
       "\t<tr><th scope=row>13</th><td>bdiversity_mean  </td><td>0.102974726717787</td></tr>\n",
       "\t<tr><th scope=row>14</th><td>HuPop_mean_log    </td><td>0.0800964390101492</td></tr>\n",
       "\t<tr><th scope=row>15</th><td>Ticks_mean        </td><td>0.0772941481727902</td></tr>\n",
       "\t<tr><th scope=row>16</th><td>Bio3_mean        </td><td>0.066474414349468</td></tr>\n",
       "\t<tr><th scope=row>17</th><td>mdiversity_mean   </td><td>0.0655520534292884</td></tr>\n",
       "\t<tr><th scope=row>18</th><td>Mosquitoes_mean   </td><td>0.0651613825455122</td></tr>\n",
       "\t<tr><th scope=row>19</th><td>Bio12_mean        </td><td>0.0649025065529927</td></tr>\n",
       "\t<tr><th scope=row>20</th><td>SLP_DS            </td><td>0.0622328730150865</td></tr>\n",
       "\t<tr><th scope=row>21</th><td>maxlong_log       </td><td>0.0592868686746576</td></tr>\n",
       "\t<tr><th scope=row>22</th><td>Population.trend  </td><td>0.0566213911148329</td></tr>\n",
       "\t<tr><th scope=row>23</th><td>Bio1_mean         </td><td>0.0563477268387566</td></tr>\n",
       "\t<tr><th scope=row>24</th><td>Habitat_Breadth_sqrt</td><td>0.0370163405942941  </td></tr>\n",
       "\t<tr><th scope=row>25</th><td>MURIDAE           </td><td>0.0267084040409211</td></tr>\n",
       "\t<tr><th scope=row>26</th><td>ForStrategy       </td><td>0.0167065993954576</td></tr>\n",
       "\t<tr><th scope=row>27</th><td>Body_Temperature   </td><td>0.00846351185597556</td></tr>\n",
       "\t<tr><th scope=row>28</th><td>IUCN.Status        </td><td>0.00755073864130382</td></tr>\n",
       "\t<tr><th scope=row>29</th><td>CRICETIDAE         </td><td>0.00351571621663642</td></tr>\n",
       "\t<tr><th scope=row>30</th><td>BOVIDAE            </td><td>0.00275539090979839</td></tr>\n",
       "\t<tr><th scope=row>31</th><td>Crops_majority      </td><td>0.000283584332438212</td></tr>\n",
       "\t<tr><th scope=row>32</th><td>ActivityTime        </td><td>0.000216644660679422</td></tr>\n",
       "\t<tr><th scope=row>33</th><td>CERCOPITHECIDAE     </td><td>7.25327768107156e-05</td></tr>\n",
       "\t<tr><th scope=row>34</th><td>CANIDAE             </td><td>2.17451360490699e-05</td></tr>\n",
       "\t<tr><th scope=row>35</th><td>THRYONOMYIDAE</td><td>0            </td></tr>\n",
       "\t<tr><th scope=row>36</th><td>TAPIRIDAE</td><td>0        </td></tr>\n",
       "\t<tr><th scope=row>37</th><td>SOLENODONTIDAE</td><td>0             </td></tr>\n",
       "\t<tr><th scope=row>38</th><td>CEBIDAE</td><td>0      </td></tr>\n",
       "\t<tr><th scope=row>39</th><td>PRIONODONTIDAE</td><td>0             </td></tr>\n",
       "\t<tr><th scope=row>40</th><td>HOMINIDAE</td><td>0        </td></tr>\n",
       "\t<tr><th scope=row>41</th><td>PLATACANTHOMYIDAE</td><td>0                </td></tr>\n",
       "\t<tr><th scope=row>42</th><td>PETROMURIDAE</td><td>0           </td></tr>\n",
       "\t<tr><th scope=row>43</th><td>PEDETIDAE</td><td>0        </td></tr>\n",
       "\t<tr><th scope=row>44</th><td>OCHOTONIDAE</td><td>0          </td></tr>\n",
       "\t<tr><th scope=row>45</th><td>NANDINIIDAE</td><td>0          </td></tr>\n",
       "\t<tr><th scope=row>46</th><td>MYOCASTORIDAE</td><td>0            </td></tr>\n",
       "\t<tr><th scope=row>47</th><td>MOSCHIDAE</td><td>0        </td></tr>\n",
       "\t<tr><th scope=row>48</th><td>DIATOMYIDAE</td><td>0          </td></tr>\n",
       "\t<tr><th scope=row>49</th><td>TRAGULIDAE</td><td>0         </td></tr>\n",
       "\t<tr><th scope=row>50</th><td>GIRAFFIDAE</td><td>0         </td></tr>\n",
       "</tbody>\n",
       "</table>\n"
      ],
      "text/latex": [
       "\\begin{tabular}{r|ll}\n",
       "  & Variable & influence\\\\\n",
       "\\hline\n",
       "\t1 & Shape\\_Area\\_log & 1                 \\\\\n",
       "\t2 & centroidY         & 0.416372388354286\\\\\n",
       "\t3 & maxlat            & 0.294878042025841\\\\\n",
       "\t4 & BodyMass\\_ln     & 0.251403364249713\\\\\n",
       "\t5 & PubmedHits\\_ln   & 0.231139194899526\\\\\n",
       "\t6 & minlong           & 0.172450890646292\\\\\n",
       "\t7 & centroidX\\_log   & 0.169391414337192\\\\\n",
       "\t8 & minlat            & 0.165845208475503\\\\\n",
       "\t9 & MaxDiet           & 0.163276481232115\\\\\n",
       "\t10 & Metabolic\\_Rate\\_ln & 0.12676400003135     \\\\\n",
       "\t11 & LandUse\\_collapsed & 0.116899784918965  \\\\\n",
       "\t12 & LVSTD\\_DS        & 0.112640048927188\\\\\n",
       "\t13 & bdiversity\\_mean & 0.102974726717787\\\\\n",
       "\t14 & HuPop\\_mean\\_log & 0.0800964390101492\\\\\n",
       "\t15 & Ticks\\_mean       & 0.0772941481727902\\\\\n",
       "\t16 & Bio3\\_mean       & 0.066474414349468\\\\\n",
       "\t17 & mdiversity\\_mean  & 0.0655520534292884\\\\\n",
       "\t18 & Mosquitoes\\_mean  & 0.0651613825455122\\\\\n",
       "\t19 & Bio12\\_mean       & 0.0649025065529927\\\\\n",
       "\t20 & SLP\\_DS           & 0.0622328730150865\\\\\n",
       "\t21 & maxlong\\_log      & 0.0592868686746576\\\\\n",
       "\t22 & Population.trend   & 0.0566213911148329\\\\\n",
       "\t23 & Bio1\\_mean        & 0.0563477268387566\\\\\n",
       "\t24 & Habitat\\_Breadth\\_sqrt & 0.0370163405942941      \\\\\n",
       "\t25 & MURIDAE            & 0.0267084040409211\\\\\n",
       "\t26 & ForStrategy        & 0.0167065993954576\\\\\n",
       "\t27 & Body\\_Temperature  & 0.00846351185597556\\\\\n",
       "\t28 & IUCN.Status         & 0.00755073864130382\\\\\n",
       "\t29 & CRICETIDAE          & 0.00351571621663642\\\\\n",
       "\t30 & BOVIDAE             & 0.00275539090979839\\\\\n",
       "\t31 & Crops\\_majority     & 0.000283584332438212\\\\\n",
       "\t32 & ActivityTime         & 0.000216644660679422\\\\\n",
       "\t33 & CERCOPITHECIDAE      & 7.25327768107156e-05\\\\\n",
       "\t34 & CANIDAE              & 2.17451360490699e-05\\\\\n",
       "\t35 & THRYONOMYIDAE & 0            \\\\\n",
       "\t36 & TAPIRIDAE & 0        \\\\\n",
       "\t37 & SOLENODONTIDAE & 0             \\\\\n",
       "\t38 & CEBIDAE & 0      \\\\\n",
       "\t39 & PRIONODONTIDAE & 0             \\\\\n",
       "\t40 & HOMINIDAE & 0        \\\\\n",
       "\t41 & PLATACANTHOMYIDAE & 0                \\\\\n",
       "\t42 & PETROMURIDAE & 0           \\\\\n",
       "\t43 & PEDETIDAE & 0        \\\\\n",
       "\t44 & OCHOTONIDAE & 0          \\\\\n",
       "\t45 & NANDINIIDAE & 0          \\\\\n",
       "\t46 & MYOCASTORIDAE & 0            \\\\\n",
       "\t47 & MOSCHIDAE & 0        \\\\\n",
       "\t48 & DIATOMYIDAE & 0          \\\\\n",
       "\t49 & TRAGULIDAE & 0         \\\\\n",
       "\t50 & GIRAFFIDAE & 0         \\\\\n",
       "\\end{tabular}\n"
      ],
      "text/plain": [
       "               Variable    influence\n",
       "1        Shape_Area_log 1.000000e+00\n",
       "2             centroidY 4.163724e-01\n",
       "3                maxlat 2.948780e-01\n",
       "4           BodyMass_ln 2.514034e-01\n",
       "5         PubmedHits_ln 2.311392e-01\n",
       "6               minlong 1.724509e-01\n",
       "7         centroidX_log 1.693914e-01\n",
       "8                minlat 1.658452e-01\n",
       "9               MaxDiet 1.632765e-01\n",
       "10    Metabolic_Rate_ln 1.267640e-01\n",
       "11    LandUse_collapsed 1.168998e-01\n",
       "12             LVSTD_DS 1.126400e-01\n",
       "13      bdiversity_mean 1.029747e-01\n",
       "14       HuPop_mean_log 8.009644e-02\n",
       "15           Ticks_mean 7.729415e-02\n",
       "16            Bio3_mean 6.647441e-02\n",
       "17      mdiversity_mean 6.555205e-02\n",
       "18      Mosquitoes_mean 6.516138e-02\n",
       "19           Bio12_mean 6.490251e-02\n",
       "20               SLP_DS 6.223287e-02\n",
       "21          maxlong_log 5.928687e-02\n",
       "22     Population.trend 5.662139e-02\n",
       "23            Bio1_mean 5.634773e-02\n",
       "24 Habitat_Breadth_sqrt 3.701634e-02\n",
       "25              MURIDAE 2.670840e-02\n",
       "26          ForStrategy 1.670660e-02\n",
       "27     Body_Temperature 8.463512e-03\n",
       "28          IUCN.Status 7.550739e-03\n",
       "29           CRICETIDAE 3.515716e-03\n",
       "30              BOVIDAE 2.755391e-03\n",
       "31       Crops_majority 2.835843e-04\n",
       "32         ActivityTime 2.166447e-04\n",
       "33      CERCOPITHECIDAE 7.253278e-05\n",
       "34              CANIDAE 2.174514e-05\n",
       "35        THRYONOMYIDAE 0.000000e+00\n",
       "36            TAPIRIDAE 0.000000e+00\n",
       "37       SOLENODONTIDAE 0.000000e+00\n",
       "38              CEBIDAE 0.000000e+00\n",
       "39       PRIONODONTIDAE 0.000000e+00\n",
       "40            HOMINIDAE 0.000000e+00\n",
       "41    PLATACANTHOMYIDAE 0.000000e+00\n",
       "42         PETROMURIDAE 0.000000e+00\n",
       "43            PEDETIDAE 0.000000e+00\n",
       "44          OCHOTONIDAE 0.000000e+00\n",
       "45          NANDINIIDAE 0.000000e+00\n",
       "46        MYOCASTORIDAE 0.000000e+00\n",
       "47            MOSCHIDAE 0.000000e+00\n",
       "48          DIATOMYIDAE 0.000000e+00\n",
       "49           TRAGULIDAE 0.000000e+00\n",
       "50           GIRAFFIDAE 0.000000e+00"
      ]
     },
     "metadata": {},
     "output_type": "display_data"
    }
   ],
   "source": [
    "head(a, 50)"
   ]
  },
  {
   "cell_type": "code",
   "execution_count": 25,
   "metadata": {
    "collapsed": true,
    "scrolled": false
   },
   "outputs": [],
   "source": [
    "#Group1.simp = gbm.simplify(Group1.total.tc5.lr0005,)# n.drops = 5)"
   ]
  },
  {
   "cell_type": "code",
   "execution_count": 26,
   "metadata": {
    "collapsed": true,
    "scrolled": false
   },
   "outputs": [],
   "source": [
    "#find.int <- gbm.interactions(Group1.total.tc5.lr0005)\n",
    "#find.int$interactions"
   ]
  },
  {
   "cell_type": "code",
   "execution_count": 27,
   "metadata": {
    "collapsed": true
   },
   "outputs": [],
   "source": [
    "#gbm.perspec(Group1.total.tc5.lr0005, 29, 28, y.range=c(15,20), z.range=c(0,0.6))"
   ]
  },
  {
   "cell_type": "code",
   "execution_count": 28,
   "metadata": {},
   "outputs": [
    {
     "data": {
      "text/html": [
       "0.0177187888911519"
      ],
      "text/latex": [
       "0.0177187888911519"
      ],
      "text/markdown": [
       "0.0177187888911519"
      ],
      "text/plain": [
       "[1] 0.01771879"
      ]
     },
     "metadata": {},
     "output_type": "display_data"
    }
   ],
   "source": [
    "preds <- predict.gbm(Group1.total.tc5.lr0005, model.data,n.trees=Group1.total.tc5.lr0005$gbm.call$best.trees, type=\"response\")\n",
    "calc.deviance(obs=model.data$Group3Binary, pred=preds, calc.mean=TRUE)"
   ]
  },
  {
   "cell_type": "code",
   "execution_count": 29,
   "metadata": {
    "scrolled": false
   },
   "outputs": [
    {
     "data": {
      "text/plain": [
       "class          : ModelEvaluation \n",
       "n presences    : 77 \n",
       "n absences     : 11298 \n",
       "AUC            : 0.9980539 \n",
       "cor            : 0.8566252 \n",
       "max TPR+TNR at : 0.00932902 "
      ]
     },
     "metadata": {},
     "output_type": "display_data"
    }
   ],
   "source": [
    "d <- cbind(model.data$Group3Binary, preds)\n",
    "pres <- d[d[,1]==1, 2]\n",
    "abs <- d[d[,1]==0, 2]\n",
    "e <- evaluate(p=pres, a=abs)\n",
    "e"
   ]
  },
  {
   "cell_type": "code",
   "execution_count": 30,
   "metadata": {
    "collapsed": true
   },
   "outputs": [],
   "source": [
    "model.data$PredictionProbability  = preds\n",
    "write.csv(model.data, file = \"Outputs/Predictions_R_Group3.csv\")"
   ]
  },
  {
   "cell_type": "code",
   "execution_count": 31,
   "metadata": {
    "scrolled": true
   },
   "outputs": [
    {
     "data": {
      "image/png": "[encoded data removed]",
      "text/plain": [
       "plot without title"
      ]
     },
     "metadata": {},
     "output_type": "display_data"
    }
   ],
   "source": [
    "plot(Group1.total.tc5.lr0005)"
   ]
  },
  {
   "cell_type": "markdown",
   "metadata": {},
   "source": [
    "### Holdout dataset and Cross validation"
   ]
  },
  {
   "cell_type": "code",
   "execution_count": 26,
   "metadata": {},
   "outputs": [],
   "source": [
    "library(caTools)"
   ]
  },
  {
   "cell_type": "code",
   "execution_count": 27,
   "metadata": {},
   "outputs": [],
   "source": [
    "model.data$spl=sample.split(model.data$Group3Binary,SplitRatio=0.8)"
   ]
  },
  {
   "cell_type": "code",
   "execution_count": 28,
   "metadata": {},
   "outputs": [
    {
     "data": {
      "text/html": [
       "<ol class=list-inline>\n",
       "\t<li>11375</li>\n",
       "\t<li>520</li>\n",
       "</ol>\n"
      ],
      "text/latex": [
       "\\begin{enumerate*}\n",
       "\\item 11375\n",
       "\\item 520\n",
       "\\end{enumerate*}\n"
      ],
      "text/markdown": [
       "1. 11375\n",
       "2. 520\n",
       "\n",
       "\n"
      ],
      "text/plain": [
       "[1] 11375   520"
      ]
     },
     "metadata": {},
     "output_type": "display_data"
    }
   ],
   "source": [
    "dim(model.data)"
   ]
  },
  {
   "cell_type": "code",
   "execution_count": 29,
   "metadata": {},
   "outputs": [],
   "source": [
    "train=subset(model.data, model.data$spl==TRUE)\n",
    "test=subset(model.data, model.data$spl==FALSE)"
   ]
  },
  {
   "cell_type": "code",
   "execution_count": 30,
   "metadata": {},
   "outputs": [
    {
     "data": {
      "text/html": [
       "9100"
      ],
      "text/latex": [
       "9100"
      ],
      "text/markdown": [
       "9100"
      ],
      "text/plain": [
       "[1] 9100"
      ]
     },
     "metadata": {},
     "output_type": "display_data"
    }
   ],
   "source": [
    "nrow(train)"
   ]
  },
  {
   "cell_type": "code",
   "execution_count": 31,
   "metadata": {},
   "outputs": [
    {
     "data": {
      "text/html": [
       "2275"
      ],
      "text/latex": [
       "2275"
      ],
      "text/markdown": [
       "2275"
      ],
      "text/plain": [
       "[1] 2275"
      ]
     },
     "metadata": {},
     "output_type": "display_data"
    }
   ],
   "source": [
    "nrow(test)"
   ]
  },
  {
   "cell_type": "code",
   "execution_count": 32,
   "metadata": {},
   "outputs": [
    {
     "data": {
      "text/plain": [
       "\n",
       "    0     1 \n",
       "11298    77 "
      ]
     },
     "metadata": {},
     "output_type": "display_data"
    }
   ],
   "source": [
    "table(model.data$Group3Binary)"
   ]
  },
  {
   "cell_type": "code",
   "execution_count": 33,
   "metadata": {},
   "outputs": [
    {
     "data": {
      "text/plain": [
       "\n",
       "   0    1 \n",
       "9038   62 "
      ]
     },
     "metadata": {},
     "output_type": "display_data"
    }
   ],
   "source": [
    "table(train$Group3Binary)"
   ]
  },
  {
   "cell_type": "code",
   "execution_count": 34,
   "metadata": {},
   "outputs": [
    {
     "data": {
      "text/plain": [
       "\n",
       "   0    1 \n",
       "2260   15 "
      ]
     },
     "metadata": {},
     "output_type": "display_data"
    }
   ],
   "source": [
    "table(test$Group3Binary)"
   ]
  },
  {
   "cell_type": "code",
   "execution_count": 35,
   "metadata": {
    "scrolled": false
   },
   "outputs": [
    {
     "name": "stdout",
     "output_type": "stream",
     "text": [
      "\n",
      " \n",
      " GBM STEP - version 2.9 \n",
      " \n",
      "Performing cross-validation optimisation of a boosted regression tree model \n",
      "for NA and using a family of bernoulli \n",
      "Using 9100 observations and 99 predictors \n",
      "creating 10 initial models of 50 trees \n",
      "\n",
      " folds are stratified by prevalence \n",
      "total mean deviance =  0.0816 \n",
      "tolerance is fixed at  1e-04 \n",
      "ntrees resid. dev. \n",
      "50    0.0718 \n",
      "now adding trees... \n",
      "100   0.0676 \n",
      "150   0.0649 \n",
      "200   0.0629 \n",
      "250   0.0613 \n",
      "300   0.0599 \n",
      "350   0.0588 \n",
      "400   0.0579 \n",
      "450   0.057 \n",
      "500   0.0563 \n",
      "550   0.0556 \n",
      "600   0.055 \n",
      "650   0.0544 \n",
      "700   0.0539 \n",
      "750   0.0535 \n",
      "800   0.0531 \n",
      "850   0.0527 \n",
      "900   0.0523 \n",
      "950   0.052 \n",
      "1000   0.0517 \n",
      "1050   0.0514 \n",
      "1100   0.0512 \n",
      "1150   0.0509 \n",
      "1200   0.0507 \n",
      "1250   0.0505 \n",
      "1300   0.0503 \n",
      "1350   0.0501 \n",
      "1400   0.0499 \n",
      "1450   0.0498 \n",
      "1500   0.0496 \n",
      "1550   0.0494 \n",
      "1600   0.0492 \n",
      "1650   0.0491 \n",
      "1700   0.049 \n",
      "1750   0.0488 \n",
      "1800   0.0487 \n",
      "1850   0.0486 \n",
      "1900   0.0485 \n",
      "1950   0.0484 \n",
      "2000   0.0483 \n",
      "2050   0.0481 \n",
      "2100   0.048 \n",
      "2150   0.0479 \n",
      "2200   0.0478 \n",
      "2250   0.0477 \n",
      "2300   0.0476 \n",
      "2350   0.0476 \n",
      "2400   0.0475 \n",
      "2450   0.0474 \n",
      "2500   0.0473 \n",
      "2550   0.0473 \n",
      "2600   0.0472 \n",
      "2650   0.0471 \n",
      "2700   0.0471 \n",
      "2750   0.047 \n",
      "2800   0.047 \n",
      "2850   0.0469 \n",
      "2900   0.0469 \n",
      "2950   0.0469 \n",
      "3000   0.0468 \n",
      "3050   0.0468 \n",
      "3100   0.0467 \n",
      "3150   0.0467 \n",
      "3200   0.0466 \n",
      "3250   0.0466 \n",
      "3300   0.0466 \n",
      "3350   0.0466 \n",
      "3400   0.0466 \n",
      "3450   0.0466 \n",
      "3500   0.0465 \n",
      "3550   0.0465 \n",
      "3600   0.0465 \n",
      "3650   0.0465 \n",
      "3700   0.0465 \n",
      "3750   0.0464 \n",
      "3800   0.0464 \n",
      "3850   0.0464 \n",
      "3900   0.0464 \n",
      "3950   0.0464 \n",
      "4000   0.0464 \n",
      "4050   0.0464 \n",
      "4100   0.0464 \n",
      "4150   0.0464 \n",
      "4200   0.0464 \n",
      "4250   0.0464 \n",
      "4300   0.0464 \n",
      "4350   0.0464 \n",
      "4400   0.0464 \n"
     ]
    },
    {
     "name": "stderr",
     "output_type": "stream",
     "text": [
      "fitting final gbm model with a fixed number of 4400 trees for NA\n"
     ]
    },
    {
     "name": "stdout",
     "output_type": "stream",
     "text": [
      "\n",
      "mean total deviance = 0.082 \n",
      "mean residual deviance = 0.017 \n",
      " \n",
      "estimated cv deviance = 0.046 ; se = 0.003 \n",
      " \n",
      "training data correlation = 0.87 \n",
      "cv correlation =  0.428 ; se = 0.052 \n",
      " \n",
      "training data AUC score = 0.998 \n",
      "cv AUC score = 0.978 ; se = 0.004 \n",
      " \n",
      "elapsed time -  0.69 minutes \n"
     ]
    },
    {
     "data": {
      "image/png": "[encoded data removed]",
      "text/plain": [
       "Plot with title \"NA, d - 5, lr - 0.001\""
      ]
     },
     "metadata": {},
     "output_type": "display_data"
    }
   ],
   "source": [
    "set.seed(100)\n",
    "Group1.total.tc5.lr0005 <- gbm.step(data = train,\n",
    "                                   gbm.x = predictorsNames,\n",
    "                                   gbm.y = outcomeName,\n",
    "                                   family = \"bernoulli\",\n",
    "                                   tree.complexity = 5,\n",
    "                                   learning.rate = 0.001,\n",
    "                                   bag.fraction = 0.5, \n",
    "                                   cv = 10, \n",
    "                                   max.trees = 20000)"
   ]
  },
  {
   "cell_type": "code",
   "execution_count": 36,
   "metadata": {},
   "outputs": [
    {
     "name": "stdout",
     "output_type": "stream",
     "text": [
      "gbm::gbm(formula = y.data ~ ., distribution = as.character(family), \n",
      "    data = x.data, weights = site.weights, var.monotone = var.monotone, \n",
      "    n.trees = target.trees, interaction.depth = tree.complexity, \n",
      "    shrinkage = learning.rate, bag.fraction = bag.fraction, verbose = FALSE)\n",
      "A gradient boosted model with bernoulli loss function.\n",
      "4400 iterations were performed.\n",
      "There were 99 predictors of which 33 had non-zero influence.\n"
     ]
    }
   ],
   "source": [
    "print(Group1.total.tc5.lr0005)"
   ]
  },
  {
   "cell_type": "code",
   "execution_count": 37,
   "metadata": {},
   "outputs": [
    {
     "data": {
      "text/html": [
       "0.0543290890466443"
      ],
      "text/latex": [
       "0.0543290890466443"
      ],
      "text/markdown": [
       "0.0543290890466443"
      ],
      "text/plain": [
       "[1] 0.05432909"
      ]
     },
     "metadata": {},
     "output_type": "display_data"
    }
   ],
   "source": [
    "preds2 <- predict.gbm(Group1.total.tc5.lr0005, \n",
    "                     test[,predictorsNames],\n",
    "                     n.trees=Group1.total.tc5.lr0005$gbm.call$best.trees,\n",
    "                     type=\"response\")\n",
    "\n",
    "calc.deviance(obs=test$Group3Binary, pred=preds2, calc.mean=TRUE)"
   ]
  },
  {
   "cell_type": "code",
   "execution_count": 38,
   "metadata": {},
   "outputs": [
    {
     "data": {
      "text/plain": [
       "class          : ModelEvaluation \n",
       "n presences    : 15 \n",
       "n absences     : 2260 \n",
       "AUC            : 0.9720059 \n",
       "cor            : 0.2637584 \n",
       "max TPR+TNR at : 0.00166771 "
      ]
     },
     "metadata": {},
     "output_type": "display_data"
    }
   ],
   "source": [
    "d <- cbind(test$Group3Binary, preds2)\n",
    "pres <- d[d[,1]==1, 2]\n",
    "abs <- d[d[,1]==0, 2]\n",
    "e <- evaluate(p=pres, a=abs)\n",
    "e"
   ]
  },
  {
   "cell_type": "code",
   "execution_count": 39,
   "metadata": {},
   "outputs": [],
   "source": [
    "preds2 <- predict.gbm(Group1.total.tc5.lr0005, \n",
    "                     model.data[,predictorsNames],\n",
    "                     n.trees=Group1.total.tc5.lr0005$gbm.call$best.trees,\n",
    "                     type=\"response\")"
   ]
  },
  {
   "cell_type": "code",
   "execution_count": 43,
   "metadata": {},
   "outputs": [],
   "source": [
    "model.data$PredictionProbability  = preds2\n",
    "write.csv(model.data, file = \"Outputs2/Predictions_R_Group3.csv\")"
   ]
  },
  {
   "cell_type": "code",
   "execution_count": 40,
   "metadata": {
    "scrolled": false
   },
   "outputs": [
    {
     "data": {
      "text/html": [
       "<table>\n",
       "<thead><tr><th></th><th scope=col>var</th><th scope=col>rel.inf</th></tr></thead>\n",
       "<tbody>\n",
       "\t<tr><th scope=row>Shape_Area_log</th><td>Shape_Area_log      </td><td>26.86989245         </td></tr>\n",
       "\t<tr><th scope=row>centroidY</th><td>centroidY           </td><td> 8.87989166         </td></tr>\n",
       "\t<tr><th scope=row>maxlat</th><td>maxlat              </td><td> 7.24903252         </td></tr>\n",
       "\t<tr><th scope=row>PubmedHits_ln</th><td>PubmedHits_ln       </td><td> 5.80528490         </td></tr>\n",
       "\t<tr><th scope=row>MaxDiet</th><td>MaxDiet             </td><td> 4.60858760         </td></tr>\n",
       "\t<tr><th scope=row>BodyMass_ln</th><td>BodyMass_ln         </td><td> 4.34076643         </td></tr>\n",
       "\t<tr><th scope=row>LandUse_collapsed</th><td>LandUse_collapsed   </td><td> 4.09256917         </td></tr>\n",
       "\t<tr><th scope=row>LVSTD_DS</th><td>LVSTD_DS            </td><td> 4.01416266         </td></tr>\n",
       "\t<tr><th scope=row>minlat</th><td>minlat              </td><td> 3.68365760         </td></tr>\n",
       "\t<tr><th scope=row>centroidX_log</th><td>centroidX_log       </td><td> 3.58974737         </td></tr>\n",
       "\t<tr><th scope=row>Metabolic_Rate_ln</th><td>Metabolic_Rate_ln   </td><td> 3.19329688         </td></tr>\n",
       "\t<tr><th scope=row>minlong</th><td>minlong             </td><td> 2.76198292         </td></tr>\n",
       "\t<tr><th scope=row>Ticks_mean</th><td>Ticks_mean          </td><td> 2.54204681         </td></tr>\n",
       "\t<tr><th scope=row>Bio3_mean</th><td>Bio3_mean           </td><td> 2.21734949         </td></tr>\n",
       "\t<tr><th scope=row>bdiversity_mean</th><td>bdiversity_mean     </td><td> 2.17509805         </td></tr>\n",
       "\t<tr><th scope=row>HuPop_mean_log</th><td>HuPop_mean_log      </td><td> 1.83329256         </td></tr>\n",
       "\t<tr><th scope=row>Mosquitoes_mean</th><td>Mosquitoes_mean     </td><td> 1.67156270         </td></tr>\n",
       "\t<tr><th scope=row>maxlong_log</th><td>maxlong_log         </td><td> 1.47748017         </td></tr>\n",
       "\t<tr><th scope=row>Population.trend</th><td>Population.trend    </td><td> 1.35158457         </td></tr>\n",
       "\t<tr><th scope=row>Bio12_mean</th><td>Bio12_mean          </td><td> 1.31285517         </td></tr>\n",
       "\t<tr><th scope=row>SLP_DS</th><td>SLP_DS              </td><td> 1.16352647         </td></tr>\n",
       "\t<tr><th scope=row>mdiversity_mean</th><td>mdiversity_mean     </td><td> 1.11942840         </td></tr>\n",
       "\t<tr><th scope=row>Bio1_mean</th><td>Bio1_mean           </td><td> 1.01815991         </td></tr>\n",
       "\t<tr><th scope=row>Habitat_Breadth_sqrt</th><td>Habitat_Breadth_sqrt</td><td> 1.01381331         </td></tr>\n",
       "\t<tr><th scope=row>MURIDAE</th><td>MURIDAE             </td><td> 0.76781755         </td></tr>\n",
       "\t<tr><th scope=row>ForStrategy</th><td>ForStrategy         </td><td> 0.67993149         </td></tr>\n",
       "\t<tr><th scope=row>Body_Temperature</th><td>Body_Temperature    </td><td> 0.24469135         </td></tr>\n",
       "\t<tr><th scope=row>CRICETIDAE</th><td>CRICETIDAE          </td><td> 0.12945787         </td></tr>\n",
       "\t<tr><th scope=row>IUCN.Status</th><td>IUCN.Status         </td><td> 0.08150227         </td></tr>\n",
       "\t<tr><th scope=row>BOVIDAE</th><td>BOVIDAE             </td><td> 0.06743048         </td></tr>\n",
       "\t<tr><th scope=row>...</th><td>...</td><td>...</td></tr>\n",
       "\t<tr><th scope=row>CHINCHILLIDAE</th><td>CHINCHILLIDAE    </td><td>0                </td></tr>\n",
       "\t<tr><th scope=row>CERCOPITHECIDAE</th><td>CERCOPITHECIDAE  </td><td>0                </td></tr>\n",
       "\t<tr><th scope=row>HIPPOPOTAMIDAE</th><td>HIPPOPOTAMIDAE   </td><td>0                </td></tr>\n",
       "\t<tr><th scope=row>TALPIDAE</th><td>TALPIDAE         </td><td>0                </td></tr>\n",
       "\t<tr><th scope=row>MEPHITIDAE</th><td>MEPHITIDAE       </td><td>0                </td></tr>\n",
       "\t<tr><th scope=row>GEOMYIDAE</th><td>GEOMYIDAE        </td><td>0                </td></tr>\n",
       "\t<tr><th scope=row>HYAENIDAE</th><td>HYAENIDAE        </td><td>0                </td></tr>\n",
       "\t<tr><th scope=row>EUPLERIDAE</th><td>EUPLERIDAE       </td><td>0                </td></tr>\n",
       "\t<tr><th scope=row>CTENODACTYLIDAE</th><td>CTENODACTYLIDAE  </td><td>0                </td></tr>\n",
       "\t<tr><th scope=row>CTENOMYIDAE</th><td>CTENOMYIDAE      </td><td>0                </td></tr>\n",
       "\t<tr><th scope=row>CUNICULIDAE</th><td>CUNICULIDAE      </td><td>0                </td></tr>\n",
       "\t<tr><th scope=row>DASYPROCTIDAE</th><td>DASYPROCTIDAE    </td><td>0                </td></tr>\n",
       "\t<tr><th scope=row>DINOMYIDAE</th><td>DINOMYIDAE       </td><td>0                </td></tr>\n",
       "\t<tr><th scope=row>EQUIDAE</th><td>EQUIDAE          </td><td>0                </td></tr>\n",
       "\t<tr><th scope=row>GIRAFFIDAE</th><td>GIRAFFIDAE       </td><td>0                </td></tr>\n",
       "\t<tr><th scope=row>TRAGULIDAE</th><td>TRAGULIDAE       </td><td>0                </td></tr>\n",
       "\t<tr><th scope=row>DIATOMYIDAE</th><td>DIATOMYIDAE      </td><td>0                </td></tr>\n",
       "\t<tr><th scope=row>MOSCHIDAE</th><td>MOSCHIDAE        </td><td>0                </td></tr>\n",
       "\t<tr><th scope=row>MYOCASTORIDAE</th><td>MYOCASTORIDAE    </td><td>0                </td></tr>\n",
       "\t<tr><th scope=row>NANDINIIDAE</th><td>NANDINIIDAE      </td><td>0                </td></tr>\n",
       "\t<tr><th scope=row>OCHOTONIDAE</th><td>OCHOTONIDAE      </td><td>0                </td></tr>\n",
       "\t<tr><th scope=row>PEDETIDAE</th><td>PEDETIDAE        </td><td>0                </td></tr>\n",
       "\t<tr><th scope=row>PETROMURIDAE</th><td>PETROMURIDAE     </td><td>0                </td></tr>\n",
       "\t<tr><th scope=row>PLATACANTHOMYIDAE</th><td>PLATACANTHOMYIDAE</td><td>0                </td></tr>\n",
       "\t<tr><th scope=row>HOMINIDAE</th><td>HOMINIDAE        </td><td>0                </td></tr>\n",
       "\t<tr><th scope=row>PRIONODONTIDAE</th><td>PRIONODONTIDAE   </td><td>0                </td></tr>\n",
       "\t<tr><th scope=row>CEBIDAE</th><td>CEBIDAE          </td><td>0                </td></tr>\n",
       "\t<tr><th scope=row>SOLENODONTIDAE</th><td>SOLENODONTIDAE   </td><td>0                </td></tr>\n",
       "\t<tr><th scope=row>TAPIRIDAE</th><td>TAPIRIDAE        </td><td>0                </td></tr>\n",
       "\t<tr><th scope=row>THRYONOMYIDAE</th><td>THRYONOMYIDAE    </td><td>0                </td></tr>\n",
       "</tbody>\n",
       "</table>\n"
      ],
      "text/latex": [
       "\\begin{tabular}{r|ll}\n",
       "  & var & rel.inf\\\\\n",
       "\\hline\n",
       "\tShape\\_Area\\_log & Shape\\_Area\\_log       & 26.86989245             \\\\\n",
       "\tcentroidY & centroidY            &  8.87989166         \\\\\n",
       "\tmaxlat & maxlat               &  7.24903252         \\\\\n",
       "\tPubmedHits\\_ln & PubmedHits\\_ln        &  5.80528490           \\\\\n",
       "\tMaxDiet & MaxDiet              &  4.60858760         \\\\\n",
       "\tBodyMass\\_ln & BodyMass\\_ln          &  4.34076643           \\\\\n",
       "\tLandUse\\_collapsed & LandUse\\_collapsed    &  4.09256917           \\\\\n",
       "\tLVSTD\\_DS & LVSTD\\_DS             &  4.01416266           \\\\\n",
       "\tminlat & minlat               &  3.68365760         \\\\\n",
       "\tcentroidX\\_log & centroidX\\_log        &  3.58974737           \\\\\n",
       "\tMetabolic\\_Rate\\_ln & Metabolic\\_Rate\\_ln    &  3.19329688             \\\\\n",
       "\tminlong & minlong              &  2.76198292         \\\\\n",
       "\tTicks\\_mean & Ticks\\_mean           &  2.54204681           \\\\\n",
       "\tBio3\\_mean & Bio3\\_mean            &  2.21734949           \\\\\n",
       "\tbdiversity\\_mean & bdiversity\\_mean      &  2.17509805           \\\\\n",
       "\tHuPop\\_mean\\_log & HuPop\\_mean\\_log       &  1.83329256             \\\\\n",
       "\tMosquitoes\\_mean & Mosquitoes\\_mean      &  1.67156270           \\\\\n",
       "\tmaxlong\\_log & maxlong\\_log          &  1.47748017           \\\\\n",
       "\tPopulation.trend & Population.trend     &  1.35158457         \\\\\n",
       "\tBio12\\_mean & Bio12\\_mean           &  1.31285517           \\\\\n",
       "\tSLP\\_DS & SLP\\_DS               &  1.16352647           \\\\\n",
       "\tmdiversity\\_mean & mdiversity\\_mean      &  1.11942840           \\\\\n",
       "\tBio1\\_mean & Bio1\\_mean            &  1.01815991           \\\\\n",
       "\tHabitat\\_Breadth\\_sqrt & Habitat\\_Breadth\\_sqrt &  1.01381331             \\\\\n",
       "\tMURIDAE & MURIDAE              &  0.76781755         \\\\\n",
       "\tForStrategy & ForStrategy          &  0.67993149         \\\\\n",
       "\tBody\\_Temperature & Body\\_Temperature     &  0.24469135           \\\\\n",
       "\tCRICETIDAE & CRICETIDAE           &  0.12945787         \\\\\n",
       "\tIUCN.Status & IUCN.Status          &  0.08150227         \\\\\n",
       "\tBOVIDAE & BOVIDAE              &  0.06743048         \\\\\n",
       "\t... & ... & ...\\\\\n",
       "\tCHINCHILLIDAE & CHINCHILLIDAE     & 0                \\\\\n",
       "\tCERCOPITHECIDAE & CERCOPITHECIDAE   & 0                \\\\\n",
       "\tHIPPOPOTAMIDAE & HIPPOPOTAMIDAE    & 0                \\\\\n",
       "\tTALPIDAE & TALPIDAE          & 0                \\\\\n",
       "\tMEPHITIDAE & MEPHITIDAE        & 0                \\\\\n",
       "\tGEOMYIDAE & GEOMYIDAE         & 0                \\\\\n",
       "\tHYAENIDAE & HYAENIDAE         & 0                \\\\\n",
       "\tEUPLERIDAE & EUPLERIDAE        & 0                \\\\\n",
       "\tCTENODACTYLIDAE & CTENODACTYLIDAE   & 0                \\\\\n",
       "\tCTENOMYIDAE & CTENOMYIDAE       & 0                \\\\\n",
       "\tCUNICULIDAE & CUNICULIDAE       & 0                \\\\\n",
       "\tDASYPROCTIDAE & DASYPROCTIDAE     & 0                \\\\\n",
       "\tDINOMYIDAE & DINOMYIDAE        & 0                \\\\\n",
       "\tEQUIDAE & EQUIDAE           & 0                \\\\\n",
       "\tGIRAFFIDAE & GIRAFFIDAE        & 0                \\\\\n",
       "\tTRAGULIDAE & TRAGULIDAE        & 0                \\\\\n",
       "\tDIATOMYIDAE & DIATOMYIDAE       & 0                \\\\\n",
       "\tMOSCHIDAE & MOSCHIDAE         & 0                \\\\\n",
       "\tMYOCASTORIDAE & MYOCASTORIDAE     & 0                \\\\\n",
       "\tNANDINIIDAE & NANDINIIDAE       & 0                \\\\\n",
       "\tOCHOTONIDAE & OCHOTONIDAE       & 0                \\\\\n",
       "\tPEDETIDAE & PEDETIDAE         & 0                \\\\\n",
       "\tPETROMURIDAE & PETROMURIDAE      & 0                \\\\\n",
       "\tPLATACANTHOMYIDAE & PLATACANTHOMYIDAE & 0                \\\\\n",
       "\tHOMINIDAE & HOMINIDAE         & 0                \\\\\n",
       "\tPRIONODONTIDAE & PRIONODONTIDAE    & 0                \\\\\n",
       "\tCEBIDAE & CEBIDAE           & 0                \\\\\n",
       "\tSOLENODONTIDAE & SOLENODONTIDAE    & 0                \\\\\n",
       "\tTAPIRIDAE & TAPIRIDAE         & 0                \\\\\n",
       "\tTHRYONOMYIDAE & THRYONOMYIDAE     & 0                \\\\\n",
       "\\end{tabular}\n"
      ],
      "text/markdown": [
       "\n",
       "| <!--/--> | var | rel.inf | \n",
       "|---|---|---|---|---|---|---|---|---|---|---|---|---|---|---|---|---|---|---|---|---|---|---|---|---|---|---|---|---|---|---|---|---|---|---|---|---|---|---|---|---|---|---|---|---|---|---|---|---|---|---|---|---|---|---|---|---|---|---|---|---|\n",
       "| Shape_Area_log | Shape_Area_log       | 26.86989245          | \n",
       "| centroidY | centroidY            |  8.87989166          | \n",
       "| maxlat | maxlat               |  7.24903252          | \n",
       "| PubmedHits_ln | PubmedHits_ln        |  5.80528490          | \n",
       "| MaxDiet | MaxDiet              |  4.60858760          | \n",
       "| BodyMass_ln | BodyMass_ln          |  4.34076643          | \n",
       "| LandUse_collapsed | LandUse_collapsed    |  4.09256917          | \n",
       "| LVSTD_DS | LVSTD_DS             |  4.01416266          | \n",
       "| minlat | minlat               |  3.68365760          | \n",
       "| centroidX_log | centroidX_log        |  3.58974737          | \n",
       "| Metabolic_Rate_ln | Metabolic_Rate_ln    |  3.19329688          | \n",
       "| minlong | minlong              |  2.76198292          | \n",
       "| Ticks_mean | Ticks_mean           |  2.54204681          | \n",
       "| Bio3_mean | Bio3_mean            |  2.21734949          | \n",
       "| bdiversity_mean | bdiversity_mean      |  2.17509805          | \n",
       "| HuPop_mean_log | HuPop_mean_log       |  1.83329256          | \n",
       "| Mosquitoes_mean | Mosquitoes_mean      |  1.67156270          | \n",
       "| maxlong_log | maxlong_log          |  1.47748017          | \n",
       "| Population.trend | Population.trend     |  1.35158457          | \n",
       "| Bio12_mean | Bio12_mean           |  1.31285517          | \n",
       "| SLP_DS | SLP_DS               |  1.16352647          | \n",
       "| mdiversity_mean | mdiversity_mean      |  1.11942840          | \n",
       "| Bio1_mean | Bio1_mean            |  1.01815991          | \n",
       "| Habitat_Breadth_sqrt | Habitat_Breadth_sqrt |  1.01381331          | \n",
       "| MURIDAE | MURIDAE              |  0.76781755          | \n",
       "| ForStrategy | ForStrategy          |  0.67993149          | \n",
       "| Body_Temperature | Body_Temperature     |  0.24469135          | \n",
       "| CRICETIDAE | CRICETIDAE           |  0.12945787          | \n",
       "| IUCN.Status | IUCN.Status          |  0.08150227          | \n",
       "| BOVIDAE | BOVIDAE              |  0.06743048          | \n",
       "| ... | ... | ... | \n",
       "| CHINCHILLIDAE | CHINCHILLIDAE     | 0                 | \n",
       "| CERCOPITHECIDAE | CERCOPITHECIDAE   | 0                 | \n",
       "| HIPPOPOTAMIDAE | HIPPOPOTAMIDAE    | 0                 | \n",
       "| TALPIDAE | TALPIDAE          | 0                 | \n",
       "| MEPHITIDAE | MEPHITIDAE        | 0                 | \n",
       "| GEOMYIDAE | GEOMYIDAE         | 0                 | \n",
       "| HYAENIDAE | HYAENIDAE         | 0                 | \n",
       "| EUPLERIDAE | EUPLERIDAE        | 0                 | \n",
       "| CTENODACTYLIDAE | CTENODACTYLIDAE   | 0                 | \n",
       "| CTENOMYIDAE | CTENOMYIDAE       | 0                 | \n",
       "| CUNICULIDAE | CUNICULIDAE       | 0                 | \n",
       "| DASYPROCTIDAE | DASYPROCTIDAE     | 0                 | \n",
       "| DINOMYIDAE | DINOMYIDAE        | 0                 | \n",
       "| EQUIDAE | EQUIDAE           | 0                 | \n",
       "| GIRAFFIDAE | GIRAFFIDAE        | 0                 | \n",
       "| TRAGULIDAE | TRAGULIDAE        | 0                 | \n",
       "| DIATOMYIDAE | DIATOMYIDAE       | 0                 | \n",
       "| MOSCHIDAE | MOSCHIDAE         | 0                 | \n",
       "| MYOCASTORIDAE | MYOCASTORIDAE     | 0                 | \n",
       "| NANDINIIDAE | NANDINIIDAE       | 0                 | \n",
       "| OCHOTONIDAE | OCHOTONIDAE       | 0                 | \n",
       "| PEDETIDAE | PEDETIDAE         | 0                 | \n",
       "| PETROMURIDAE | PETROMURIDAE      | 0                 | \n",
       "| PLATACANTHOMYIDAE | PLATACANTHOMYIDAE | 0                 | \n",
       "| HOMINIDAE | HOMINIDAE         | 0                 | \n",
       "| PRIONODONTIDAE | PRIONODONTIDAE    | 0                 | \n",
       "| CEBIDAE | CEBIDAE           | 0                 | \n",
       "| SOLENODONTIDAE | SOLENODONTIDAE    | 0                 | \n",
       "| TAPIRIDAE | TAPIRIDAE         | 0                 | \n",
       "| THRYONOMYIDAE | THRYONOMYIDAE     | 0                 | \n",
       "\n",
       "\n"
      ],
      "text/plain": [
       "                     var                  rel.inf    \n",
       "Shape_Area_log       Shape_Area_log       26.86989245\n",
       "centroidY            centroidY             8.87989166\n",
       "maxlat               maxlat                7.24903252\n",
       "PubmedHits_ln        PubmedHits_ln         5.80528490\n",
       "MaxDiet              MaxDiet               4.60858760\n",
       "BodyMass_ln          BodyMass_ln           4.34076643\n",
       "LandUse_collapsed    LandUse_collapsed     4.09256917\n",
       "LVSTD_DS             LVSTD_DS              4.01416266\n",
       "minlat               minlat                3.68365760\n",
       "centroidX_log        centroidX_log         3.58974737\n",
       "Metabolic_Rate_ln    Metabolic_Rate_ln     3.19329688\n",
       "minlong              minlong               2.76198292\n",
       "Ticks_mean           Ticks_mean            2.54204681\n",
       "Bio3_mean            Bio3_mean             2.21734949\n",
       "bdiversity_mean      bdiversity_mean       2.17509805\n",
       "HuPop_mean_log       HuPop_mean_log        1.83329256\n",
       "Mosquitoes_mean      Mosquitoes_mean       1.67156270\n",
       "maxlong_log          maxlong_log           1.47748017\n",
       "Population.trend     Population.trend      1.35158457\n",
       "Bio12_mean           Bio12_mean            1.31285517\n",
       "SLP_DS               SLP_DS                1.16352647\n",
       "mdiversity_mean      mdiversity_mean       1.11942840\n",
       "Bio1_mean            Bio1_mean             1.01815991\n",
       "Habitat_Breadth_sqrt Habitat_Breadth_sqrt  1.01381331\n",
       "MURIDAE              MURIDAE               0.76781755\n",
       "ForStrategy          ForStrategy           0.67993149\n",
       "Body_Temperature     Body_Temperature      0.24469135\n",
       "CRICETIDAE           CRICETIDAE            0.12945787\n",
       "IUCN.Status          IUCN.Status           0.08150227\n",
       "BOVIDAE              BOVIDAE               0.06743048\n",
       "...                  ...                  ...        \n",
       "CHINCHILLIDAE        CHINCHILLIDAE        0          \n",
       "CERCOPITHECIDAE      CERCOPITHECIDAE      0          \n",
       "HIPPOPOTAMIDAE       HIPPOPOTAMIDAE       0          \n",
       "TALPIDAE             TALPIDAE             0          \n",
       "MEPHITIDAE           MEPHITIDAE           0          \n",
       "GEOMYIDAE            GEOMYIDAE            0          \n",
       "HYAENIDAE            HYAENIDAE            0          \n",
       "EUPLERIDAE           EUPLERIDAE           0          \n",
       "CTENODACTYLIDAE      CTENODACTYLIDAE      0          \n",
       "CTENOMYIDAE          CTENOMYIDAE          0          \n",
       "CUNICULIDAE          CUNICULIDAE          0          \n",
       "DASYPROCTIDAE        DASYPROCTIDAE        0          \n",
       "DINOMYIDAE           DINOMYIDAE           0          \n",
       "EQUIDAE              EQUIDAE              0          \n",
       "GIRAFFIDAE           GIRAFFIDAE           0          \n",
       "TRAGULIDAE           TRAGULIDAE           0          \n",
       "DIATOMYIDAE          DIATOMYIDAE          0          \n",
       "MOSCHIDAE            MOSCHIDAE            0          \n",
       "MYOCASTORIDAE        MYOCASTORIDAE        0          \n",
       "NANDINIIDAE          NANDINIIDAE          0          \n",
       "OCHOTONIDAE          OCHOTONIDAE          0          \n",
       "PEDETIDAE            PEDETIDAE            0          \n",
       "PETROMURIDAE         PETROMURIDAE         0          \n",
       "PLATACANTHOMYIDAE    PLATACANTHOMYIDAE    0          \n",
       "HOMINIDAE            HOMINIDAE            0          \n",
       "PRIONODONTIDAE       PRIONODONTIDAE       0          \n",
       "CEBIDAE              CEBIDAE              0          \n",
       "SOLENODONTIDAE       SOLENODONTIDAE       0          \n",
       "TAPIRIDAE            TAPIRIDAE            0          \n",
       "THRYONOMYIDAE        THRYONOMYIDAE        0          "
      ]
     },
     "metadata": {},
     "output_type": "display_data"
    },
    {
     "data": {
      "image/png": "[encoded data removed]",
      "text/plain": [
       "plot without title"
      ]
     },
     "metadata": {},
     "output_type": "display_data"
    }
   ],
   "source": [
    "summary(Group1.total.tc5.lr0005)"
   ]
  },
  {
   "cell_type": "code",
   "execution_count": 41,
   "metadata": {},
   "outputs": [
    {
     "name": "stdout",
     "output_type": "stream",
     "text": [
      "n.trees not given. Using 4400 trees.\n"
     ]
    }
   ],
   "source": [
    "ranks = relative.influence(Group1.total.tc5.lr0005, scale. = 'TRUE', sort. = 'TRUE')\n",
    "a = as.data.frame(ranks, col.names = , optional = FALSE)\n",
    "a = setDT(a, keep.rownames = TRUE)[]\n",
    "colnames(a) = c('Variable','influence')\n",
    "b = a\n",
    "for (i in b$Variable){\n",
    "    margianleffects = plot.gbm(Group1.total.tc5.lr0005, i.var = i,n.plots=3, \n",
    "                           write.title = T, return.grid  = T,\n",
    "                           show.contrib = T,y.label=\"Marginal effect on Host\")\n",
    "    filename = paste(\"Outputs2/PartialDependence2/\", i,'Group3','.csv', sep=\"\")\n",
    "    write.csv(margianleffects, file = filename)    \n",
    "}"
   ]
  },
  {
   "cell_type": "code",
   "execution_count": 42,
   "metadata": {},
   "outputs": [],
   "source": [
    "write.csv(a, 'Outputs2/PartialDependence2/Ranks_group3.csv')"
   ]
  },
  {
   "cell_type": "code",
   "execution_count": null,
   "metadata": {},
   "outputs": [],
   "source": []
  }
 ],
 "metadata": {
  "kernelspec": {
   "display_name": "R",
   "language": "R",
   "name": "ir"
  },
  "language_info": {
   "codemirror_mode": "r",
   "file_extension": ".r",
   "mimetype": "text/x-r-source",
   "name": "R",
   "pygments_lexer": "r",
   "version": "3.4.3"
  },
  "varInspector": {
   "cols": {
    "lenName": 16,
    "lenType": 16,
    "lenVar": 40
   },
   "kernels_config": {
    "python": {
     "delete_cmd_postfix": "",
     "delete_cmd_prefix": "del ",
     "library": "var_list.py",
     "varRefreshCmd": "print(var_dic_list())"
    },
    "r": {
     "delete_cmd_postfix": ") ",
     "delete_cmd_prefix": "rm(",
     "library": "var_list.r",
     "varRefreshCmd": "cat(var_dic_list()) "
    }
   },
   "types_to_exclude": [
    "module",
    "function",
    "builtin_function_or_method",
    "instance",
    "_Feature"
   ],
   "window_display": false
  }
 },
 "nbformat": 4,
 "nbformat_minor": 2
}
