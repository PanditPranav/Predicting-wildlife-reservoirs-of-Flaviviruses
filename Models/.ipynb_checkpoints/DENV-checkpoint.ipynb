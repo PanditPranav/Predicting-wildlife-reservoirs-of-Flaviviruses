{
 "cells": [
  {
   "cell_type": "code",
   "execution_count": 1,
   "metadata": {},
   "outputs": [],
   "source": [
    "setwd('C:/Users/Falco/Desktop/directory/Predicting-wildlife-reservoirs-of-Flaviviruses')"
   ]
  },
  {
   "cell_type": "code",
   "execution_count": 2,
   "metadata": {},
   "outputs": [
    {
     "name": "stderr",
     "output_type": "stream",
     "text": [
      "Loading required package: survival\n",
      "Loading required package: lattice\n",
      "Loading required package: splines\n",
      "Loading required package: parallel\n",
      "Loaded gbm 2.1.3\n",
      "\n",
      "Attaching package: 'dplyr'\n",
      "\n",
      "The following objects are masked from 'package:stats':\n",
      "\n",
      "    filter, lag\n",
      "\n",
      "The following objects are masked from 'package:base':\n",
      "\n",
      "    intersect, setdiff, setequal, union\n",
      "\n",
      "Loading required package: raster\n",
      "Loading required package: sp\n",
      "\n",
      "Attaching package: 'raster'\n",
      "\n",
      "The following object is masked from 'package:dplyr':\n",
      "\n",
      "    select\n",
      "\n",
      "Loading required package: ggplot2\n",
      "\n",
      "Attaching package: 'caret'\n",
      "\n",
      "The following object is masked from 'package:survival':\n",
      "\n",
      "    cluster\n",
      "\n",
      "Learn more about sjPlot with 'browseVignettes(\"sjPlot\")'.\n",
      "\n",
      "Attaching package: 'sjmisc'\n",
      "\n",
      "The following object is masked from 'package:raster':\n",
      "\n",
      "    trim\n",
      "\n",
      "------------------------------------------------------------------------------\n",
      "You have loaded plyr after dplyr - this is likely to cause problems.\n",
      "If you need functions from both plyr and dplyr, please load plyr first, then dplyr:\n",
      "library(plyr); library(dplyr)\n",
      "------------------------------------------------------------------------------\n",
      "\n",
      "Attaching package: 'plyr'\n",
      "\n",
      "The following objects are masked from 'package:dplyr':\n",
      "\n",
      "    arrange, count, desc, failwith, id, mutate, rename, summarise,\n",
      "    summarize\n",
      "\n",
      "\n",
      "Attaching package: 'data.table'\n",
      "\n",
      "The following object is masked from 'package:raster':\n",
      "\n",
      "    shift\n",
      "\n",
      "The following objects are masked from 'package:dplyr':\n",
      "\n",
      "    between, first, last\n",
      "\n"
     ]
    }
   ],
   "source": [
    "options(warn=-1)\n",
    "#install.packages(c('gbm', 'dplyr','dismo', 'caret',\n",
    "#                  'sjplot', 'skmisc','ggplot2'), repos='http://cran.us.r-project.org')\n",
    "library(gbm)\n",
    "library(dplyr)\n",
    "library(dismo)\n",
    "library(caret)\n",
    "library(sjPlot)\n",
    "library(sjmisc)\n",
    "library(ggplot2)\n",
    "library(raster)\n",
    "library(plyr)\n",
    "library(data.table)"
   ]
  },
  {
   "cell_type": "code",
   "execution_count": 3,
   "metadata": {},
   "outputs": [],
   "source": [
    "#model.data = read.csv(\"Outputs/model_data.csv\")\n",
    "model.data = read.csv('Outputs/dataGroup5.csv')"
   ]
  },
  {
   "cell_type": "code",
   "execution_count": 4,
   "metadata": {},
   "outputs": [],
   "source": [
    "#names(model.data)"
   ]
  },
  {
   "cell_type": "code",
   "execution_count": 5,
   "metadata": {},
   "outputs": [],
   "source": [
    "model.data$Class = factor(model.data$Class, levels = levels(model.data$Class))\n",
    "model.data$Order_y = factor(model.data$Order, levels = levels(model.data$Order))\n",
    "model.data$Family_y = factor(model.data$Family, levels = levels(model.data$Family))\n",
    "model.data$MatchHost = factor(model.data$MatchHost, levels = levels(model.data$MatchHost))\n",
    "model.data$IUCN.Status = factor(model.data$IUCN.Status, levels = levels(model.data$IUCN.Status))\n",
    "model.data$Diet_Certainty = factor(model.data$Diet_Certainty, levels = levels(model.data$Diet_Certainty))\n",
    "model.data$Group5Binary2 <- ifelse(model.data$Group5Binary==1,'host','nonhost')\n",
    "model.data$Group5Binary2 <- as.factor(model.data$Group5Binary2)\n",
    "outcomeName <- 'Group5Binary2'"
   ]
  },
  {
   "cell_type": "code",
   "execution_count": 6,
   "metadata": {},
   "outputs": [],
   "source": [
    "## Read in the raster data\n",
    "landuse <- raster(\"D:/lust/lus.tif\",package=\"raster\")\n",
    "## Extract attribute information for the categories from the raster layer, and convert into dataframe\n",
    "LanduseAttributeTable <- ldply(landuse@data@attributes, data.frame)\n",
    "#head(LanduseAttributeTable)"
   ]
  },
  {
   "cell_type": "code",
   "execution_count": 7,
   "metadata": {},
   "outputs": [],
   "source": [
    "## Read in the raster data\n",
    "Livestock <- raster(\"D:/lvstdt/lvstd.tif\",package=\"raster\")\n",
    "## Extract attribute information for the categories from the raster layer, and convert into dataframe\n",
    "LivestockAttributeTable <- ldply(Livestock@data@attributes, data.frame)\n",
    "#LivestockAttributeTable"
   ]
  },
  {
   "cell_type": "code",
   "execution_count": 8,
   "metadata": {},
   "outputs": [],
   "source": [
    "## Read in the raster data\n",
    "Slope <- raster(\"D:/slpt/slp.tif\",package=\"raster\")\n",
    "## Extract attribute information for the categories from the raster layer, and convert into dataframe\n",
    "SlopeAttributeTable <- ldply(Slope@data@attributes, data.frame)\n",
    "#SlopeAttributeTable"
   ]
  },
  {
   "cell_type": "code",
   "execution_count": 9,
   "metadata": {},
   "outputs": [],
   "source": [
    "model.data = merge(model.data, LanduseAttributeTable, by.x = 'LandUse_majority', by.y = 'Value', all.x = TRUE)   \n",
    "model.data = merge(model.data, LivestockAttributeTable, by.x = 'Livestock_majority', by.y = 'Value', all.x = TRUE)  \n",
    "model.data = merge(model.data, SlopeAttributeTable, by.x = 'Slope_majority', by.y = 'Value', all.x = TRUE)"
   ]
  },
  {
   "cell_type": "code",
   "execution_count": 10,
   "metadata": {},
   "outputs": [
    {
     "data": {
      "text/html": [
       "<ol class=list-inline>\n",
       "\t<li>Undefined</li>\n",
       "\t<li>Forest</li>\n",
       "\t<li>Urban</li>\n",
       "\t<li>Grassland</li>\n",
       "\t<li>Shurbs</li>\n",
       "\t<li>Agriculture</li>\n",
       "\t<li>Bare areas</li>\n",
       "\t<li>Sparsely vegetated areas</li>\n",
       "\t<li>Wetlands</li>\n",
       "\t<li>Open water</li>\n",
       "</ol>\n"
      ],
      "text/latex": [
       "\\begin{enumerate*}\n",
       "\\item Undefined\n",
       "\\item Forest\n",
       "\\item Urban\n",
       "\\item Grassland\n",
       "\\item Shurbs\n",
       "\\item Agriculture\n",
       "\\item Bare areas\n",
       "\\item Sparsely vegetated areas\n",
       "\\item Wetlands\n",
       "\\item Open water\n",
       "\\end{enumerate*}\n"
      ],
      "text/markdown": [
       "1. Undefined\n",
       "2. Forest\n",
       "3. Urban\n",
       "4. Grassland\n",
       "5. Shurbs\n",
       "6. Agriculture\n",
       "7. Bare areas\n",
       "8. Sparsely vegetated areas\n",
       "9. Wetlands\n",
       "10. Open water\n",
       "\n",
       "\n"
      ],
      "text/plain": [
       " [1] Undefined                Forest                   Urban                   \n",
       " [4] Grassland                Shurbs                   Agriculture             \n",
       " [7] Bare areas               Sparsely vegetated areas Wetlands                \n",
       "[10] Open water              \n",
       "10 Levels: Agriculture Bare areas Forest Grassland Open water ... Wetlands"
      ]
     },
     "metadata": {},
     "output_type": "display_data"
    }
   ],
   "source": [
    "unique(model.data$LandUse_collapsed)"
   ]
  },
  {
   "cell_type": "code",
   "execution_count": 11,
   "metadata": {},
   "outputs": [
    {
     "data": {
      "text/plain": [
       "\n",
       "    > 45 0 to 0.5 0.5 to 2 16 to 30   2 to 5 30 to 45   5 to 8  8 to 16 \n",
       "     199        0      948     1076      838      171      152       35 \n",
       " no data    Water \n",
       "      25        4 "
      ]
     },
     "metadata": {},
     "output_type": "display_data"
    }
   ],
   "source": [
    "table(model.data$SLP_DS)"
   ]
  },
  {
   "cell_type": "code",
   "execution_count": 12,
   "metadata": {},
   "outputs": [],
   "source": [
    "write.csv(model.data, 'Outputs/PartialDependence2/Group5Data_forPartial.csv')"
   ]
  },
  {
   "cell_type": "code",
   "execution_count": 13,
   "metadata": {},
   "outputs": [],
   "source": [
    "habitats = c(\"Forest\",\"Savanna\",\"Shrubland\",\"Grassland\",\"Wetlands\",\"Rocky.areas\",\"Caves.and.Subterranean.Habitats\",\"Desert\",\n",
    "            \"Marine.Neritic\",\"Marine.Oceanic\",\"Marine.Deep.Ocean.Floor\",\"Marine.Intertidal\",\"Marine.Coastal.Supratidal\", \n",
    "            \"Artificial.Terrestrial\",\"Artificial.Aquatic\",\"Introduced.Vegetation\",\"Other\",\"Unknown\")\n",
    "\n",
    "predictorsNames = c(\"Bio12_majority\", \"Bio12_max\", \"Bio12_mean\", \"Bio12_min\", \"Bio12_range\",\n",
    "                    \"Bio12_std\", \"Bio1_majority\", \"Bio1_max\", \"Bio1_mean\", \"Bio1_min\", \"Bio1_range\", \"Bio1_std\", \"Bio3_majority\",\n",
    "                    \"Bio3_max\", \"Bio3_mean\", \"Bio3_min\", \"Bio3_range\", \"Bio3_std\", \"Crops_majority\",\n",
    "                    \"HuPop_majority\", \"HuPop_max\", \"HuPop_mean\", \"HuPop_min\", \"HuPop_range\",\n",
    "                    \"HuPop_std\", \"LandUse_majority\", \"Livestock_majority\", \"Mosquitoes_majority\", \"Mosquitoes_max\",\n",
    "                    \"Mosquitoes_mean\", \"Slope_mean\", \"Slope_min\", \"Slope_range\", \"Slope_std\",\n",
    "                    \"Ticks_majority\", \"Ticks_mean\", \"Ticks_min\", \"bdiversity_majority\", \"bdiversity_max\",\n",
    "                    \"bdiversity_mean\", \"bdiversity_min\", \"bdiversity_range\", \"bdiversity_std\",\n",
    "                    \"centroidY\", \"maxlat\", \"mdiversity_majority\", \"mdiversity_max\", \"mdiversity_mean\",\n",
    "                    \"mdiversity_min\", \"mdiversity_range\", \"mdiversity_std\", \"minlat\",\n",
    "                    \"minlong\", \"Mosquitoes_min_log\", \"Mosquitoes_range_log\", \"Mosquitoes_std_log\",\n",
    "                    \"Shape_Area_log\", \"Shape_Length_log\", \"Slope_majority_log\", \"Slope_max_log\",\n",
    "                    \"Ticks_max_log\", \"Ticks_range_log\", \"Ticks_std_log\", \"centroidX_log\", \"maxlong_log\",\n",
    "                    \"MaxDiet\", \"ForStrategy\", \"ActivityTime\",\"Body_Temperature\", \"IUCN.Status\",\n",
    "                    \"Population.trend\", \"Data.Richness\", \"BodyMass_ln\", \"Metabolic_Rate_ln\", \"Habitat_Breadth_sqrt\",\n",
    "                    \"PubmedHits_ln\",'HuPop_mean_log',\n",
    "                    'Class','Family','Order','SLP_DS',\n",
    "                    'MURIDAE', 'CRICETIDAE', 'ABROCOMIDAE', 'PTEROPODIDAE',\n",
    "       'OCTODONTIDAE', 'SCIURIDAE', 'DIPODIDAE', 'ATELIDAE',\n",
    "       'PHYLLOSTOMIDAE', 'FURIPTERIDAE', 'ANOMALURIDAE', 'HIPPOSIDERIDAE',\n",
    "       'VESPERTILIONIDAE', 'APLODONTIIDAE', 'HYSTRICIDAE', 'MOLOSSIDAE',\n",
    "       'EMBALLONURIDAE', 'BATHYERGIDAE', 'NESOMYIDAE', 'ECHIMYIDAE',\n",
    "       'CALLITRICHIDAE', 'CALOMYSCIDAE', 'DIDELPHIDAE', 'SPALACIDAE',\n",
    "       'CAPROMYIDAE', 'MEGADERMATIDAE', 'CASTORIDAE', 'CAVIIDAE',\n",
    "       'RHINOCEROTIDAE', 'GLIRIDAE', 'HETEROMYIDAE', 'ERETHIZONTIDAE',\n",
    "       'NATALIDAE', 'CHINCHILLIDAE', 'CERCOPITHECIDAE', 'CRASEONYCTERIDAE',\n",
    "       'GEOMYIDAE', 'CTENODACTYLIDAE', 'CTENOMYIDAE', 'CUNICULIDAE',\n",
    "       'DASYPROCTIDAE', 'DINOMYIDAE', 'EQUIDAE', 'DIATOMYIDAE',\n",
    "       'MORMOOPIDAE', 'MYOCASTORIDAE', 'MYSTACINIDAE', 'MYZOPODIDAE',\n",
    "       'NOCTILIONIDAE', 'NYCTERIDAE', 'PEDETIDAE', 'PETROMURIDAE',\n",
    "       'PLATACANTHOMYIDAE', 'HOMINIDAE', 'RHINOLOPHIDAE', 'RHINOPOMATIDAE',\n",
    "       'CEBIDAE', 'TAPIRIDAE', 'THRYONOMYIDAE', 'THYROPTERIDAE', 'PubmedHits')\n",
    "\n",
    "\n",
    "predictorsNames = predictorsNames[!predictorsNames %in% c('Activity_Diurnal', 'Activity_Nocturnal', 'BodyMass_SpecLevel',\n",
    "                                                          'Diet_Fruit', \"Diet_Inv\",\"Diet_Nect\",\"Diet_PlantO\", \"Diet_Scav\",\n",
    "                                                          \"Diet_Seed\", \"Diet_Vect\",\"Diet_Vend\", \"Diet_Vfish\", \"Diet_Vunk\",\n",
    "                                                          \"ForStrat_aerial\", \"ForStrat_aquatic\",\"ForStrat_arboreal\", \"ForStrat_ground\", \n",
    "                                                          'Crops_count', \"Crops_max\",\"Crops_mean\", \"Crops_median\", \"Crops_min\",\"Crops_range\",\n",
    "                                                          \"Crops_std\",\"LandUse_count\",'LandUse_majority', \"LandUse_max\",\"LandUse_mean\",\n",
    "                                                          \"LandUse_median\",\"LandUse_min\",\"LandUse_range\",\"LandUse_std\",\"Livestock_count\",\n",
    "                                                          \"Livestock_majority\",\"Livestock_max\",\"Livestock_mean\",\"Livestock_median\",\"Livestock_min\",\n",
    "                                                          \"Livestock_range\",\"Livestock_std\",\"MetRate_W_log\",\"BodyMass_log\",\n",
    "                                                          'TotalBinary', 'Test', 'Class','Family', 'Order','Data.Richness', \n",
    "                                                          'PubmedHits', \"BodyMass\", \"Metabolic.Rate\",\n",
    "                                                          \"Distribution.Area\", \"Mean.Temperature\", \"Mean.Human.population\",\n",
    "                                                          \"HabitatBreadth\", \"bdiversity_min\", \"bdiversity_std\", \"mdiversity_min\",\"mdiversity_std\", \n",
    "                                                          \"DELPHINIDAE\", \"sp\", \"BALAENIDAE\", \"BALAENOPTERIDAE\", \"ZIPHIIDAE\",\n",
    "                                                          \"NEOBALAENIDAE\", \"CISTUGIDAE\", \"MONODONTIDAE\", \"ESCHRICHTIIDAE\",\n",
    "                                                          \"INIIDAE\", \"PHYSETERIDAE\", \"PHOCOENIDAE\", \n",
    "                                                          \"PLATANISTIDAE\",\"MINIOPTERIDAE\", \n",
    "                                                          \n",
    "                                                          \"Bio12_range\",\"Bio1_range\",\"Bio3_range\", 'HuPop_range',\n",
    "                                                          \"Slope_range\", \"bdiversity_range\", \"mdiversity_range\",\n",
    "                                                          \"Mosquitoes_range_log\",\"Ticks_range_log\",\"Bio12_majority\",\n",
    "                                                          \n",
    "                                                          \"Bio1_majority\",\"Bio3_majority\", 'HuPop_majority',\n",
    "                                                         \"Slope_majority_log\", \"bdiversity_majority\", \"mdiversity_majority\",\n",
    "                                                         \"Mosquitoes_majority\",\"Ticks_majority\",\n",
    "                                                         \n",
    "                                                          \"Bio1_max\",\"Bio3_max\", 'HuPop_max',\n",
    "                                                         \"Slope_max_log\", \"bdiversity_max\", \"mdiversity_max\",\n",
    "                                                         \"Mosquitoes_max\",\"Ticks_max\",\n",
    "                                                         \n",
    "                                                          \"Bio1_min\",\"Bio3_min\", 'HuPop_min',\n",
    "                                                         \"Slope_min_log\", \"bdiversity_min\", \"mdiversity_min\",\n",
    "                                                         \"Mosquitoes_min\",\"Ticks_min\",\n",
    "                                                         \n",
    "                                                          \"Bio1_std\",\"Bio3_std\", 'HuPop_std',\n",
    "                                                         \"Slope_std_log\", \"bdiversity_std\", \"mdiversity_std\",\n",
    "                                                         \"Mosquitoes_std\",\"Ticks_std\",\n",
    "                                                         \n",
    "                                                          'Shape_Length_log', \"Slope_mean\",\n",
    "                                                         \n",
    "                                                          \"Bio12_max\",\"Bio12_min\",\"Bio12_std\",\n",
    "                                                         \"Slope_min\",\"Slope_std\", \n",
    "                                                         \"Mosquitoes_min_log\", \"Mosquitoes_std_log\",\n",
    "                                                          \"Ticks_max_log\", \"Ticks_std_log\", \n",
    "                                                         'HuPop_mean')]\n",
    "\n",
    "predictorsNames = predictorsNames[!predictorsNames %in% habitats]\n",
    "\n",
    "#predictorsNames = c(predictorsNames, 'LVSTD_DS', 'LUS_DS')\n",
    "predictorsNames = c(predictorsNames, 'LVSTD_DS', 'LandUse_collapsed')"
   ]
  },
  {
   "cell_type": "code",
   "execution_count": 14,
   "metadata": {},
   "outputs": [],
   "source": [
    "outcomeName <- 'Group5Binary'"
   ]
  },
  {
   "cell_type": "code",
   "execution_count": 15,
   "metadata": {},
   "outputs": [
    {
     "data": {
      "text/html": [
       "<ol class=list-inline>\n",
       "\t<li>'Bio12_mean'</li>\n",
       "\t<li>'Bio1_mean'</li>\n",
       "\t<li>'Bio3_mean'</li>\n",
       "\t<li>'Crops_majority'</li>\n",
       "\t<li>'Mosquitoes_mean'</li>\n",
       "\t<li>'Ticks_mean'</li>\n",
       "\t<li>'bdiversity_mean'</li>\n",
       "\t<li>'centroidY'</li>\n",
       "\t<li>'maxlat'</li>\n",
       "\t<li>'mdiversity_mean'</li>\n",
       "\t<li>'minlat'</li>\n",
       "\t<li>'minlong'</li>\n",
       "\t<li>'Shape_Area_log'</li>\n",
       "\t<li>'centroidX_log'</li>\n",
       "\t<li>'maxlong_log'</li>\n",
       "\t<li>'MaxDiet'</li>\n",
       "\t<li>'ForStrategy'</li>\n",
       "\t<li>'ActivityTime'</li>\n",
       "\t<li>'Body_Temperature'</li>\n",
       "\t<li>'IUCN.Status'</li>\n",
       "\t<li>'Population.trend'</li>\n",
       "\t<li>'BodyMass_ln'</li>\n",
       "\t<li>'Metabolic_Rate_ln'</li>\n",
       "\t<li>'Habitat_Breadth_sqrt'</li>\n",
       "\t<li>'PubmedHits_ln'</li>\n",
       "\t<li>'HuPop_mean_log'</li>\n",
       "\t<li>'SLP_DS'</li>\n",
       "\t<li>'MURIDAE'</li>\n",
       "\t<li>'CRICETIDAE'</li>\n",
       "\t<li>'ABROCOMIDAE'</li>\n",
       "\t<li>'PTEROPODIDAE'</li>\n",
       "\t<li>'OCTODONTIDAE'</li>\n",
       "\t<li>'SCIURIDAE'</li>\n",
       "\t<li>'DIPODIDAE'</li>\n",
       "\t<li>'ATELIDAE'</li>\n",
       "\t<li>'PHYLLOSTOMIDAE'</li>\n",
       "\t<li>'FURIPTERIDAE'</li>\n",
       "\t<li>'ANOMALURIDAE'</li>\n",
       "\t<li>'HIPPOSIDERIDAE'</li>\n",
       "\t<li>'VESPERTILIONIDAE'</li>\n",
       "\t<li>'APLODONTIIDAE'</li>\n",
       "\t<li>'HYSTRICIDAE'</li>\n",
       "\t<li>'MOLOSSIDAE'</li>\n",
       "\t<li>'EMBALLONURIDAE'</li>\n",
       "\t<li>'BATHYERGIDAE'</li>\n",
       "\t<li>'NESOMYIDAE'</li>\n",
       "\t<li>'ECHIMYIDAE'</li>\n",
       "\t<li>'CALLITRICHIDAE'</li>\n",
       "\t<li>'CALOMYSCIDAE'</li>\n",
       "\t<li>'DIDELPHIDAE'</li>\n",
       "\t<li>'SPALACIDAE'</li>\n",
       "\t<li>'CAPROMYIDAE'</li>\n",
       "\t<li>'MEGADERMATIDAE'</li>\n",
       "\t<li>'CASTORIDAE'</li>\n",
       "\t<li>'CAVIIDAE'</li>\n",
       "\t<li>'RHINOCEROTIDAE'</li>\n",
       "\t<li>'GLIRIDAE'</li>\n",
       "\t<li>'HETEROMYIDAE'</li>\n",
       "\t<li>'ERETHIZONTIDAE'</li>\n",
       "\t<li>'NATALIDAE'</li>\n",
       "\t<li>'CHINCHILLIDAE'</li>\n",
       "\t<li>'CERCOPITHECIDAE'</li>\n",
       "\t<li>'CRASEONYCTERIDAE'</li>\n",
       "\t<li>'GEOMYIDAE'</li>\n",
       "\t<li>'CTENODACTYLIDAE'</li>\n",
       "\t<li>'CTENOMYIDAE'</li>\n",
       "\t<li>'CUNICULIDAE'</li>\n",
       "\t<li>'DASYPROCTIDAE'</li>\n",
       "\t<li>'DINOMYIDAE'</li>\n",
       "\t<li>'EQUIDAE'</li>\n",
       "\t<li>'DIATOMYIDAE'</li>\n",
       "\t<li>'MORMOOPIDAE'</li>\n",
       "\t<li>'MYOCASTORIDAE'</li>\n",
       "\t<li>'MYSTACINIDAE'</li>\n",
       "\t<li>'MYZOPODIDAE'</li>\n",
       "\t<li>'NOCTILIONIDAE'</li>\n",
       "\t<li>'NYCTERIDAE'</li>\n",
       "\t<li>'PEDETIDAE'</li>\n",
       "\t<li>'PETROMURIDAE'</li>\n",
       "\t<li>'PLATACANTHOMYIDAE'</li>\n",
       "\t<li>'HOMINIDAE'</li>\n",
       "\t<li>'RHINOLOPHIDAE'</li>\n",
       "\t<li>'RHINOPOMATIDAE'</li>\n",
       "\t<li>'CEBIDAE'</li>\n",
       "\t<li>'TAPIRIDAE'</li>\n",
       "\t<li>'THRYONOMYIDAE'</li>\n",
       "\t<li>'THYROPTERIDAE'</li>\n",
       "\t<li>'LVSTD_DS'</li>\n",
       "\t<li>'LandUse_collapsed'</li>\n",
       "</ol>\n"
      ],
      "text/latex": [
       "\\begin{enumerate*}\n",
       "\\item 'Bio12\\_mean'\n",
       "\\item 'Bio1\\_mean'\n",
       "\\item 'Bio3\\_mean'\n",
       "\\item 'Crops\\_majority'\n",
       "\\item 'Mosquitoes\\_mean'\n",
       "\\item 'Ticks\\_mean'\n",
       "\\item 'bdiversity\\_mean'\n",
       "\\item 'centroidY'\n",
       "\\item 'maxlat'\n",
       "\\item 'mdiversity\\_mean'\n",
       "\\item 'minlat'\n",
       "\\item 'minlong'\n",
       "\\item 'Shape\\_Area\\_log'\n",
       "\\item 'centroidX\\_log'\n",
       "\\item 'maxlong\\_log'\n",
       "\\item 'MaxDiet'\n",
       "\\item 'ForStrategy'\n",
       "\\item 'ActivityTime'\n",
       "\\item 'Body\\_Temperature'\n",
       "\\item 'IUCN.Status'\n",
       "\\item 'Population.trend'\n",
       "\\item 'BodyMass\\_ln'\n",
       "\\item 'Metabolic\\_Rate\\_ln'\n",
       "\\item 'Habitat\\_Breadth\\_sqrt'\n",
       "\\item 'PubmedHits\\_ln'\n",
       "\\item 'HuPop\\_mean\\_log'\n",
       "\\item 'SLP\\_DS'\n",
       "\\item 'MURIDAE'\n",
       "\\item 'CRICETIDAE'\n",
       "\\item 'ABROCOMIDAE'\n",
       "\\item 'PTEROPODIDAE'\n",
       "\\item 'OCTODONTIDAE'\n",
       "\\item 'SCIURIDAE'\n",
       "\\item 'DIPODIDAE'\n",
       "\\item 'ATELIDAE'\n",
       "\\item 'PHYLLOSTOMIDAE'\n",
       "\\item 'FURIPTERIDAE'\n",
       "\\item 'ANOMALURIDAE'\n",
       "\\item 'HIPPOSIDERIDAE'\n",
       "\\item 'VESPERTILIONIDAE'\n",
       "\\item 'APLODONTIIDAE'\n",
       "\\item 'HYSTRICIDAE'\n",
       "\\item 'MOLOSSIDAE'\n",
       "\\item 'EMBALLONURIDAE'\n",
       "\\item 'BATHYERGIDAE'\n",
       "\\item 'NESOMYIDAE'\n",
       "\\item 'ECHIMYIDAE'\n",
       "\\item 'CALLITRICHIDAE'\n",
       "\\item 'CALOMYSCIDAE'\n",
       "\\item 'DIDELPHIDAE'\n",
       "\\item 'SPALACIDAE'\n",
       "\\item 'CAPROMYIDAE'\n",
       "\\item 'MEGADERMATIDAE'\n",
       "\\item 'CASTORIDAE'\n",
       "\\item 'CAVIIDAE'\n",
       "\\item 'RHINOCEROTIDAE'\n",
       "\\item 'GLIRIDAE'\n",
       "\\item 'HETEROMYIDAE'\n",
       "\\item 'ERETHIZONTIDAE'\n",
       "\\item 'NATALIDAE'\n",
       "\\item 'CHINCHILLIDAE'\n",
       "\\item 'CERCOPITHECIDAE'\n",
       "\\item 'CRASEONYCTERIDAE'\n",
       "\\item 'GEOMYIDAE'\n",
       "\\item 'CTENODACTYLIDAE'\n",
       "\\item 'CTENOMYIDAE'\n",
       "\\item 'CUNICULIDAE'\n",
       "\\item 'DASYPROCTIDAE'\n",
       "\\item 'DINOMYIDAE'\n",
       "\\item 'EQUIDAE'\n",
       "\\item 'DIATOMYIDAE'\n",
       "\\item 'MORMOOPIDAE'\n",
       "\\item 'MYOCASTORIDAE'\n",
       "\\item 'MYSTACINIDAE'\n",
       "\\item 'MYZOPODIDAE'\n",
       "\\item 'NOCTILIONIDAE'\n",
       "\\item 'NYCTERIDAE'\n",
       "\\item 'PEDETIDAE'\n",
       "\\item 'PETROMURIDAE'\n",
       "\\item 'PLATACANTHOMYIDAE'\n",
       "\\item 'HOMINIDAE'\n",
       "\\item 'RHINOLOPHIDAE'\n",
       "\\item 'RHINOPOMATIDAE'\n",
       "\\item 'CEBIDAE'\n",
       "\\item 'TAPIRIDAE'\n",
       "\\item 'THRYONOMYIDAE'\n",
       "\\item 'THYROPTERIDAE'\n",
       "\\item 'LVSTD\\_DS'\n",
       "\\item 'LandUse\\_collapsed'\n",
       "\\end{enumerate*}\n"
      ],
      "text/markdown": [
       "1. 'Bio12_mean'\n",
       "2. 'Bio1_mean'\n",
       "3. 'Bio3_mean'\n",
       "4. 'Crops_majority'\n",
       "5. 'Mosquitoes_mean'\n",
       "6. 'Ticks_mean'\n",
       "7. 'bdiversity_mean'\n",
       "8. 'centroidY'\n",
       "9. 'maxlat'\n",
       "10. 'mdiversity_mean'\n",
       "11. 'minlat'\n",
       "12. 'minlong'\n",
       "13. 'Shape_Area_log'\n",
       "14. 'centroidX_log'\n",
       "15. 'maxlong_log'\n",
       "16. 'MaxDiet'\n",
       "17. 'ForStrategy'\n",
       "18. 'ActivityTime'\n",
       "19. 'Body_Temperature'\n",
       "20. 'IUCN.Status'\n",
       "21. 'Population.trend'\n",
       "22. 'BodyMass_ln'\n",
       "23. 'Metabolic_Rate_ln'\n",
       "24. 'Habitat_Breadth_sqrt'\n",
       "25. 'PubmedHits_ln'\n",
       "26. 'HuPop_mean_log'\n",
       "27. 'SLP_DS'\n",
       "28. 'MURIDAE'\n",
       "29. 'CRICETIDAE'\n",
       "30. 'ABROCOMIDAE'\n",
       "31. 'PTEROPODIDAE'\n",
       "32. 'OCTODONTIDAE'\n",
       "33. 'SCIURIDAE'\n",
       "34. 'DIPODIDAE'\n",
       "35. 'ATELIDAE'\n",
       "36. 'PHYLLOSTOMIDAE'\n",
       "37. 'FURIPTERIDAE'\n",
       "38. 'ANOMALURIDAE'\n",
       "39. 'HIPPOSIDERIDAE'\n",
       "40. 'VESPERTILIONIDAE'\n",
       "41. 'APLODONTIIDAE'\n",
       "42. 'HYSTRICIDAE'\n",
       "43. 'MOLOSSIDAE'\n",
       "44. 'EMBALLONURIDAE'\n",
       "45. 'BATHYERGIDAE'\n",
       "46. 'NESOMYIDAE'\n",
       "47. 'ECHIMYIDAE'\n",
       "48. 'CALLITRICHIDAE'\n",
       "49. 'CALOMYSCIDAE'\n",
       "50. 'DIDELPHIDAE'\n",
       "51. 'SPALACIDAE'\n",
       "52. 'CAPROMYIDAE'\n",
       "53. 'MEGADERMATIDAE'\n",
       "54. 'CASTORIDAE'\n",
       "55. 'CAVIIDAE'\n",
       "56. 'RHINOCEROTIDAE'\n",
       "57. 'GLIRIDAE'\n",
       "58. 'HETEROMYIDAE'\n",
       "59. 'ERETHIZONTIDAE'\n",
       "60. 'NATALIDAE'\n",
       "61. 'CHINCHILLIDAE'\n",
       "62. 'CERCOPITHECIDAE'\n",
       "63. 'CRASEONYCTERIDAE'\n",
       "64. 'GEOMYIDAE'\n",
       "65. 'CTENODACTYLIDAE'\n",
       "66. 'CTENOMYIDAE'\n",
       "67. 'CUNICULIDAE'\n",
       "68. 'DASYPROCTIDAE'\n",
       "69. 'DINOMYIDAE'\n",
       "70. 'EQUIDAE'\n",
       "71. 'DIATOMYIDAE'\n",
       "72. 'MORMOOPIDAE'\n",
       "73. 'MYOCASTORIDAE'\n",
       "74. 'MYSTACINIDAE'\n",
       "75. 'MYZOPODIDAE'\n",
       "76. 'NOCTILIONIDAE'\n",
       "77. 'NYCTERIDAE'\n",
       "78. 'PEDETIDAE'\n",
       "79. 'PETROMURIDAE'\n",
       "80. 'PLATACANTHOMYIDAE'\n",
       "81. 'HOMINIDAE'\n",
       "82. 'RHINOLOPHIDAE'\n",
       "83. 'RHINOPOMATIDAE'\n",
       "84. 'CEBIDAE'\n",
       "85. 'TAPIRIDAE'\n",
       "86. 'THRYONOMYIDAE'\n",
       "87. 'THYROPTERIDAE'\n",
       "88. 'LVSTD_DS'\n",
       "89. 'LandUse_collapsed'\n",
       "\n",
       "\n"
      ],
      "text/plain": [
       " [1] \"Bio12_mean\"           \"Bio1_mean\"            \"Bio3_mean\"           \n",
       " [4] \"Crops_majority\"       \"Mosquitoes_mean\"      \"Ticks_mean\"          \n",
       " [7] \"bdiversity_mean\"      \"centroidY\"            \"maxlat\"              \n",
       "[10] \"mdiversity_mean\"      \"minlat\"               \"minlong\"             \n",
       "[13] \"Shape_Area_log\"       \"centroidX_log\"        \"maxlong_log\"         \n",
       "[16] \"MaxDiet\"              \"ForStrategy\"          \"ActivityTime\"        \n",
       "[19] \"Body_Temperature\"     \"IUCN.Status\"          \"Population.trend\"    \n",
       "[22] \"BodyMass_ln\"          \"Metabolic_Rate_ln\"    \"Habitat_Breadth_sqrt\"\n",
       "[25] \"PubmedHits_ln\"        \"HuPop_mean_log\"       \"SLP_DS\"              \n",
       "[28] \"MURIDAE\"              \"CRICETIDAE\"           \"ABROCOMIDAE\"         \n",
       "[31] \"PTEROPODIDAE\"         \"OCTODONTIDAE\"         \"SCIURIDAE\"           \n",
       "[34] \"DIPODIDAE\"            \"ATELIDAE\"             \"PHYLLOSTOMIDAE\"      \n",
       "[37] \"FURIPTERIDAE\"         \"ANOMALURIDAE\"         \"HIPPOSIDERIDAE\"      \n",
       "[40] \"VESPERTILIONIDAE\"     \"APLODONTIIDAE\"        \"HYSTRICIDAE\"         \n",
       "[43] \"MOLOSSIDAE\"           \"EMBALLONURIDAE\"       \"BATHYERGIDAE\"        \n",
       "[46] \"NESOMYIDAE\"           \"ECHIMYIDAE\"           \"CALLITRICHIDAE\"      \n",
       "[49] \"CALOMYSCIDAE\"         \"DIDELPHIDAE\"          \"SPALACIDAE\"          \n",
       "[52] \"CAPROMYIDAE\"          \"MEGADERMATIDAE\"       \"CASTORIDAE\"          \n",
       "[55] \"CAVIIDAE\"             \"RHINOCEROTIDAE\"       \"GLIRIDAE\"            \n",
       "[58] \"HETEROMYIDAE\"         \"ERETHIZONTIDAE\"       \"NATALIDAE\"           \n",
       "[61] \"CHINCHILLIDAE\"        \"CERCOPITHECIDAE\"      \"CRASEONYCTERIDAE\"    \n",
       "[64] \"GEOMYIDAE\"            \"CTENODACTYLIDAE\"      \"CTENOMYIDAE\"         \n",
       "[67] \"CUNICULIDAE\"          \"DASYPROCTIDAE\"        \"DINOMYIDAE\"          \n",
       "[70] \"EQUIDAE\"              \"DIATOMYIDAE\"          \"MORMOOPIDAE\"         \n",
       "[73] \"MYOCASTORIDAE\"        \"MYSTACINIDAE\"         \"MYZOPODIDAE\"         \n",
       "[76] \"NOCTILIONIDAE\"        \"NYCTERIDAE\"           \"PEDETIDAE\"           \n",
       "[79] \"PETROMURIDAE\"         \"PLATACANTHOMYIDAE\"    \"HOMINIDAE\"           \n",
       "[82] \"RHINOLOPHIDAE\"        \"RHINOPOMATIDAE\"       \"CEBIDAE\"             \n",
       "[85] \"TAPIRIDAE\"            \"THRYONOMYIDAE\"        \"THYROPTERIDAE\"       \n",
       "[88] \"LVSTD_DS\"             \"LandUse_collapsed\"   "
      ]
     },
     "metadata": {},
     "output_type": "display_data"
    }
   ],
   "source": [
    "predictorsNames"
   ]
  },
  {
   "cell_type": "code",
   "execution_count": 16,
   "metadata": {},
   "outputs": [
    {
     "data": {
      "text/html": [
       "89"
      ],
      "text/latex": [
       "89"
      ],
      "text/markdown": [
       "89"
      ],
      "text/plain": [
       "[1] 89"
      ]
     },
     "metadata": {},
     "output_type": "display_data"
    }
   ],
   "source": [
    "length(predictorsNames)"
   ]
  },
  {
   "cell_type": "code",
   "execution_count": 17,
   "metadata": {
    "scrolled": false
   },
   "outputs": [
    {
     "name": "stdout",
     "output_type": "stream",
     "text": [
      "\n",
      " \n",
      " GBM STEP - version 2.9 \n",
      " \n",
      "Performing cross-validation optimisation of a boosted regression tree model \n",
      "for NA and using a family of bernoulli \n",
      "Using 3666 observations and 96 predictors \n",
      "creating 10 initial models of 50 trees \n",
      "\n",
      " folds are stratified by prevalence \n",
      "total mean deviance =  0.0761 \n",
      "tolerance is fixed at  1e-04 \n",
      "ntrees resid. dev. \n",
      "50    0.0711 \n",
      "now adding trees... \n",
      "100   0.0683 \n",
      "150   0.0663 \n",
      "200   0.0647 \n",
      "250   0.0636 \n",
      "300   0.0625 \n",
      "350   0.0617 \n",
      "400   0.0609 \n",
      "450   0.0603 \n",
      "500   0.0597 \n",
      "550   0.0591 \n",
      "600   0.0586 \n",
      "650   0.0582 \n",
      "700   0.0578 \n",
      "750   0.0575 \n",
      "800   0.0571 \n",
      "850   0.0568 \n",
      "900   0.0565 \n",
      "950   0.0562 \n",
      "1000   0.056 \n",
      "1050   0.0558 \n",
      "1100   0.0556 \n",
      "1150   0.0554 \n",
      "1200   0.0553 \n",
      "1250   0.0551 \n",
      "1300   0.055 \n",
      "1350   0.0548 \n",
      "1400   0.0547 \n",
      "1450   0.0546 \n",
      "1500   0.0545 \n",
      "1550   0.0544 \n",
      "1600   0.0544 \n",
      "1650   0.0544 \n",
      "1700   0.0543 \n",
      "1750   0.0543 \n",
      "1800   0.0542 \n",
      "1850   0.0542 \n",
      "1900   0.0542 \n",
      "1950   0.0542 \n",
      "2000   0.0542 \n",
      "2050   0.0542 \n",
      "2100   0.0542 \n",
      "2150   0.0542 \n",
      "2200   0.0542 \n",
      "2250   0.0542 \n",
      "2300   0.0542 \n",
      "2350   0.0543 \n",
      "2400   0.0543 \n",
      "2450   0.0543 \n",
      "2500   0.0543 \n"
     ]
    },
    {
     "name": "stderr",
     "output_type": "stream",
     "text": [
      "fitting final gbm model with a fixed number of 2150 trees for NA\n"
     ]
    },
    {
     "name": "stdout",
     "output_type": "stream",
     "text": [
      "\n",
      "mean total deviance = 0.076 \n",
      "mean residual deviance = 0.021 \n",
      " \n",
      "estimated cv deviance = 0.054 ; se = 0.006 \n",
      " \n",
      "training data correlation = 0.821 \n",
      "cv correlation =  0.387 ; se = 0.084 \n",
      " \n",
      "training data AUC score = 0.998 \n",
      "cv AUC score = 0.906 ; se = 0.03 \n",
      " \n",
      "elapsed time -  0.14 minutes \n"
     ]
    },
    {
     "data": {
      "image/png": "[encoded data removed]",
      "text/plain": [
       "Plot with title \"NA, d - 5, lr - 0.001\""
      ]
     },
     "metadata": {},
     "output_type": "display_data"
    }
   ],
   "source": [
    "set.seed(100)\n",
    "Group1.total.tc5.lr0005 <- gbm.step(data = model.data,\n",
    "                                   gbm.x = predictorsNames,\n",
    "                                   gbm.y = outcomeName,\n",
    "                                   family = \"bernoulli\",\n",
    "                                   tree.complexity = 5,\n",
    "                                   learning.rate = 0.001,\n",
    "                                   bag.fraction = 0.5, \n",
    "                                   cv = 10)"
   ]
  },
  {
   "cell_type": "code",
   "execution_count": 18,
   "metadata": {},
   "outputs": [],
   "source": [
    "#for (i in predictorsNames){\n",
    "#    print (i)\n",
    "#    a = which( colnames(model.data)== i )\n",
    "#    print (a)\n",
    "#}"
   ]
  },
  {
   "cell_type": "code",
   "execution_count": 19,
   "metadata": {
    "scrolled": false
   },
   "outputs": [
    {
     "data": {
      "text/html": [
       "<table>\n",
       "<thead><tr><th></th><th scope=col>var</th><th scope=col>rel.inf</th></tr></thead>\n",
       "<tbody>\n",
       "\t<tr><th scope=row>Shape_Area_log</th><td>Shape_Area_log  </td><td>22.6126332316248</td></tr>\n",
       "\t<tr><th scope=row>PubmedHits_ln</th><td>PubmedHits_ln   </td><td>19.1770361329362</td></tr>\n",
       "\t<tr><th scope=row>MaxDiet</th><td>MaxDiet         </td><td>6.02931606762137</td></tr>\n",
       "\t<tr><th scope=row>maxlat</th><td>maxlat          </td><td>5.59875729738996</td></tr>\n",
       "\t<tr><th scope=row>BodyMass_ln</th><td>BodyMass_ln    </td><td>5.2258436276612</td></tr>\n",
       "\t<tr><th scope=row>mdiversity_mean</th><td>mdiversity_mean </td><td>4.27827612980484</td></tr>\n",
       "\t<tr><th scope=row>bdiversity_mean</th><td>bdiversity_mean </td><td>3.82846627451245</td></tr>\n",
       "\t<tr><th scope=row>Bio1_mean</th><td>Bio1_mean       </td><td>3.81840695766671</td></tr>\n",
       "\t<tr><th scope=row>Mosquitoes_mean</th><td>Mosquitoes_mean </td><td>3.81807895012117</td></tr>\n",
       "\t<tr><th scope=row>maxlong_log</th><td>maxlong_log     </td><td>3.63750070266513</td></tr>\n",
       "\t<tr><th scope=row>centroidX_log</th><td>centroidX_log   </td><td>2.76430386243548</td></tr>\n",
       "\t<tr><th scope=row>Bio12_mean</th><td>Bio12_mean      </td><td>2.11613755386369</td></tr>\n",
       "\t<tr><th scope=row>DIDELPHIDAE</th><td>DIDELPHIDAE     </td><td>1.99525729091872</td></tr>\n",
       "\t<tr><th scope=row>minlong</th><td>minlong        </td><td>1.9927452621797</td></tr>\n",
       "\t<tr><th scope=row>minlat</th><td>minlat          </td><td>1.87669362373448</td></tr>\n",
       "\t<tr><th scope=row>ForStrategy</th><td>ForStrategy     </td><td>1.76199517878166</td></tr>\n",
       "\t<tr><th scope=row>Bio3_mean</th><td>Bio3_mean       </td><td>1.72248993998274</td></tr>\n",
       "\t<tr><th scope=row>centroidY</th><td>centroidY       </td><td>1.48529450691429</td></tr>\n",
       "\t<tr><th scope=row>Ticks_mean</th><td>Ticks_mean      </td><td>1.18619775892095</td></tr>\n",
       "\t<tr><th scope=row>Population.trend</th><td>Population.trend</td><td>1.05011306368815</td></tr>\n",
       "\t<tr><th scope=row>Metabolic_Rate_ln</th><td>Metabolic_Rate_ln</td><td>1.01116190741721 </td></tr>\n",
       "\t<tr><th scope=row>HuPop_mean_log</th><td>HuPop_mean_log   </td><td>0.949918952059336</td></tr>\n",
       "\t<tr><th scope=row>Habitat_Breadth_sqrt</th><td>Habitat_Breadth_sqrt</td><td>0.646884433911917   </td></tr>\n",
       "\t<tr><th scope=row>ECHIMYIDAE</th><td>ECHIMYIDAE       </td><td>0.542893296305123</td></tr>\n",
       "\t<tr><th scope=row>PHYLLOSTOMIDAE</th><td>PHYLLOSTOMIDAE   </td><td>0.328390741119249</td></tr>\n",
       "\t<tr><th scope=row>LVSTD_DS</th><td>LVSTD_DS         </td><td>0.172814070205891</td></tr>\n",
       "\t<tr><th scope=row>Body_Temperature</th><td>Body_Temperature </td><td>0.120821985084347</td></tr>\n",
       "\t<tr><th scope=row>LandUse_collapsed</th><td>LandUse_collapsed </td><td>0.0908062003044243</td></tr>\n",
       "\t<tr><th scope=row>SLP_DS</th><td>SLP_DS            </td><td>0.0902380337306358</td></tr>\n",
       "\t<tr><th scope=row>IUCN.Status</th><td>IUCN.Status       </td><td>0.0207955107621677</td></tr>\n",
       "\t<tr><th scope=row>...</th><td>...</td><td>...</td></tr>\n",
       "\t<tr><th scope=row>ERETHIZONTIDAE</th><td>ERETHIZONTIDAE</td><td>0             </td></tr>\n",
       "\t<tr><th scope=row>NATALIDAE</th><td>NATALIDAE</td><td>0        </td></tr>\n",
       "\t<tr><th scope=row>CHINCHILLIDAE</th><td>CHINCHILLIDAE</td><td>0            </td></tr>\n",
       "\t<tr><th scope=row>HIPPOPOTAMIDAE</th><td>HIPPOPOTAMIDAE</td><td>0             </td></tr>\n",
       "\t<tr><th scope=row>CRASEONYCTERIDAE</th><td>CRASEONYCTERIDAE</td><td>0               </td></tr>\n",
       "\t<tr><th scope=row>GEOMYIDAE</th><td>GEOMYIDAE</td><td>0        </td></tr>\n",
       "\t<tr><th scope=row>CTENODACTYLIDAE</th><td>CTENODACTYLIDAE</td><td>0              </td></tr>\n",
       "\t<tr><th scope=row>CTENOMYIDAE</th><td>CTENOMYIDAE</td><td>0          </td></tr>\n",
       "\t<tr><th scope=row>CUNICULIDAE</th><td>CUNICULIDAE</td><td>0          </td></tr>\n",
       "\t<tr><th scope=row>DASYPROCTIDAE</th><td>DASYPROCTIDAE</td><td>0            </td></tr>\n",
       "\t<tr><th scope=row>DINOMYIDAE</th><td>DINOMYIDAE</td><td>0         </td></tr>\n",
       "\t<tr><th scope=row>GIRAFFIDAE</th><td>GIRAFFIDAE</td><td>0         </td></tr>\n",
       "\t<tr><th scope=row>TRAGULIDAE</th><td>TRAGULIDAE</td><td>0         </td></tr>\n",
       "\t<tr><th scope=row>DIATOMYIDAE</th><td>DIATOMYIDAE</td><td>0          </td></tr>\n",
       "\t<tr><th scope=row>MORMOOPIDAE</th><td>MORMOOPIDAE</td><td>0          </td></tr>\n",
       "\t<tr><th scope=row>MOSCHIDAE</th><td>MOSCHIDAE</td><td>0        </td></tr>\n",
       "\t<tr><th scope=row>MYOCASTORIDAE</th><td>MYOCASTORIDAE</td><td>0            </td></tr>\n",
       "\t<tr><th scope=row>MYSTACINIDAE</th><td>MYSTACINIDAE</td><td>0           </td></tr>\n",
       "\t<tr><th scope=row>MYZOPODIDAE</th><td>MYZOPODIDAE</td><td>0          </td></tr>\n",
       "\t<tr><th scope=row>NOCTILIONIDAE</th><td>NOCTILIONIDAE</td><td>0            </td></tr>\n",
       "\t<tr><th scope=row>NYCTERIDAE</th><td>NYCTERIDAE</td><td>0         </td></tr>\n",
       "\t<tr><th scope=row>PEDETIDAE</th><td>PEDETIDAE</td><td>0        </td></tr>\n",
       "\t<tr><th scope=row>PETROMURIDAE</th><td>PETROMURIDAE</td><td>0           </td></tr>\n",
       "\t<tr><th scope=row>PLATACANTHOMYIDAE</th><td>PLATACANTHOMYIDAE</td><td>0                </td></tr>\n",
       "\t<tr><th scope=row>HOMINIDAE</th><td>HOMINIDAE</td><td>0        </td></tr>\n",
       "\t<tr><th scope=row>RHINOLOPHIDAE</th><td>RHINOLOPHIDAE</td><td>0            </td></tr>\n",
       "\t<tr><th scope=row>RHINOPOMATIDAE</th><td>RHINOPOMATIDAE</td><td>0             </td></tr>\n",
       "\t<tr><th scope=row>CEBIDAE</th><td>CEBIDAE</td><td>0      </td></tr>\n",
       "\t<tr><th scope=row>THRYONOMYIDAE</th><td>THRYONOMYIDAE</td><td>0            </td></tr>\n",
       "\t<tr><th scope=row>THYROPTERIDAE</th><td>THYROPTERIDAE</td><td>0            </td></tr>\n",
       "</tbody>\n",
       "</table>\n"
      ],
      "text/latex": [
       "\\begin{tabular}{r|ll}\n",
       "  & var & rel.inf\\\\\n",
       "\\hline\n",
       "\tShape\\_Area\\_log & Shape\\_Area\\_log & 22.6126332316248  \\\\\n",
       "\tPubmedHits\\_ln & PubmedHits\\_ln  & 19.1770361329362\\\\\n",
       "\tMaxDiet & MaxDiet          & 6.02931606762137\\\\\n",
       "\tmaxlat & maxlat           & 5.59875729738996\\\\\n",
       "\tBodyMass\\_ln & BodyMass\\_ln   & 5.2258436276612\\\\\n",
       "\tmdiversity\\_mean & mdiversity\\_mean & 4.27827612980484 \\\\\n",
       "\tbdiversity\\_mean & bdiversity\\_mean & 3.82846627451245 \\\\\n",
       "\tBio1\\_mean & Bio1\\_mean      & 3.81840695766671\\\\\n",
       "\tMosquitoes\\_mean & Mosquitoes\\_mean & 3.81807895012117 \\\\\n",
       "\tmaxlong\\_log & maxlong\\_log    & 3.63750070266513\\\\\n",
       "\tcentroidX\\_log & centroidX\\_log  & 2.76430386243548\\\\\n",
       "\tBio12\\_mean & Bio12\\_mean     & 2.11613755386369\\\\\n",
       "\tDIDELPHIDAE & DIDELPHIDAE      & 1.99525729091872\\\\\n",
       "\tminlong & minlong         & 1.9927452621797\\\\\n",
       "\tminlat & minlat           & 1.87669362373448\\\\\n",
       "\tForStrategy & ForStrategy      & 1.76199517878166\\\\\n",
       "\tBio3\\_mean & Bio3\\_mean      & 1.72248993998274\\\\\n",
       "\tcentroidY & centroidY        & 1.48529450691429\\\\\n",
       "\tTicks\\_mean & Ticks\\_mean     & 1.18619775892095\\\\\n",
       "\tPopulation.trend & Population.trend & 1.05011306368815\\\\\n",
       "\tMetabolic\\_Rate\\_ln & Metabolic\\_Rate\\_ln & 1.01116190741721     \\\\\n",
       "\tHuPop\\_mean\\_log & HuPop\\_mean\\_log & 0.949918952059336 \\\\\n",
       "\tHabitat\\_Breadth\\_sqrt & Habitat\\_Breadth\\_sqrt & 0.646884433911917       \\\\\n",
       "\tECHIMYIDAE & ECHIMYIDAE        & 0.542893296305123\\\\\n",
       "\tPHYLLOSTOMIDAE & PHYLLOSTOMIDAE    & 0.328390741119249\\\\\n",
       "\tLVSTD\\_DS & LVSTD\\_DS        & 0.172814070205891\\\\\n",
       "\tBody\\_Temperature & Body\\_Temperature & 0.120821985084347 \\\\\n",
       "\tLandUse\\_collapsed & LandUse\\_collapsed & 0.0908062003044243 \\\\\n",
       "\tSLP\\_DS & SLP\\_DS           & 0.0902380337306358\\\\\n",
       "\tIUCN.Status & IUCN.Status        & 0.0207955107621677\\\\\n",
       "\t... & ... & ...\\\\\n",
       "\tERETHIZONTIDAE & ERETHIZONTIDAE & 0             \\\\\n",
       "\tNATALIDAE & NATALIDAE & 0        \\\\\n",
       "\tCHINCHILLIDAE & CHINCHILLIDAE & 0            \\\\\n",
       "\tHIPPOPOTAMIDAE & HIPPOPOTAMIDAE & 0             \\\\\n",
       "\tCRASEONYCTERIDAE & CRASEONYCTERIDAE & 0               \\\\\n",
       "\tGEOMYIDAE & GEOMYIDAE & 0        \\\\\n",
       "\tCTENODACTYLIDAE & CTENODACTYLIDAE & 0              \\\\\n",
       "\tCTENOMYIDAE & CTENOMYIDAE & 0          \\\\\n",
       "\tCUNICULIDAE & CUNICULIDAE & 0          \\\\\n",
       "\tDASYPROCTIDAE & DASYPROCTIDAE & 0            \\\\\n",
       "\tDINOMYIDAE & DINOMYIDAE & 0         \\\\\n",
       "\tGIRAFFIDAE & GIRAFFIDAE & 0         \\\\\n",
       "\tTRAGULIDAE & TRAGULIDAE & 0         \\\\\n",
       "\tDIATOMYIDAE & DIATOMYIDAE & 0          \\\\\n",
       "\tMORMOOPIDAE & MORMOOPIDAE & 0          \\\\\n",
       "\tMOSCHIDAE & MOSCHIDAE & 0        \\\\\n",
       "\tMYOCASTORIDAE & MYOCASTORIDAE & 0            \\\\\n",
       "\tMYSTACINIDAE & MYSTACINIDAE & 0           \\\\\n",
       "\tMYZOPODIDAE & MYZOPODIDAE & 0          \\\\\n",
       "\tNOCTILIONIDAE & NOCTILIONIDAE & 0            \\\\\n",
       "\tNYCTERIDAE & NYCTERIDAE & 0         \\\\\n",
       "\tPEDETIDAE & PEDETIDAE & 0        \\\\\n",
       "\tPETROMURIDAE & PETROMURIDAE & 0           \\\\\n",
       "\tPLATACANTHOMYIDAE & PLATACANTHOMYIDAE & 0                \\\\\n",
       "\tHOMINIDAE & HOMINIDAE & 0        \\\\\n",
       "\tRHINOLOPHIDAE & RHINOLOPHIDAE & 0            \\\\\n",
       "\tRHINOPOMATIDAE & RHINOPOMATIDAE & 0             \\\\\n",
       "\tCEBIDAE & CEBIDAE & 0      \\\\\n",
       "\tTHRYONOMYIDAE & THRYONOMYIDAE & 0            \\\\\n",
       "\tTHYROPTERIDAE & THYROPTERIDAE & 0            \\\\\n",
       "\\end{tabular}\n"
      ],
      "text/plain": [
       "                                      var            rel.inf\n",
       "Shape_Area_log             Shape_Area_log   22.6126332316248\n",
       "PubmedHits_ln               PubmedHits_ln   19.1770361329362\n",
       "MaxDiet                           MaxDiet   6.02931606762137\n",
       "maxlat                             maxlat   5.59875729738996\n",
       "BodyMass_ln                   BodyMass_ln    5.2258436276612\n",
       "mdiversity_mean           mdiversity_mean   4.27827612980484\n",
       "bdiversity_mean           bdiversity_mean   3.82846627451245\n",
       "Bio1_mean                       Bio1_mean   3.81840695766671\n",
       "Mosquitoes_mean           Mosquitoes_mean   3.81807895012117\n",
       "maxlong_log                   maxlong_log   3.63750070266513\n",
       "centroidX_log               centroidX_log   2.76430386243548\n",
       "Bio12_mean                     Bio12_mean   2.11613755386369\n",
       "DIDELPHIDAE                   DIDELPHIDAE   1.99525729091872\n",
       "minlong                           minlong    1.9927452621797\n",
       "minlat                             minlat   1.87669362373448\n",
       "ForStrategy                   ForStrategy   1.76199517878166\n",
       "Bio3_mean                       Bio3_mean   1.72248993998274\n",
       "centroidY                       centroidY   1.48529450691429\n",
       "Ticks_mean                     Ticks_mean   1.18619775892095\n",
       "Population.trend         Population.trend   1.05011306368815\n",
       "Metabolic_Rate_ln       Metabolic_Rate_ln   1.01116190741721\n",
       "HuPop_mean_log             HuPop_mean_log  0.949918952059336\n",
       "Habitat_Breadth_sqrt Habitat_Breadth_sqrt  0.646884433911917\n",
       "ECHIMYIDAE                     ECHIMYIDAE  0.542893296305123\n",
       "PHYLLOSTOMIDAE             PHYLLOSTOMIDAE  0.328390741119249\n",
       "LVSTD_DS                         LVSTD_DS  0.172814070205891\n",
       "Body_Temperature         Body_Temperature  0.120821985084347\n",
       "LandUse_collapsed       LandUse_collapsed 0.0908062003044243\n",
       "SLP_DS                             SLP_DS 0.0902380337306358\n",
       "IUCN.Status                   IUCN.Status 0.0207955107621677\n",
       "...                                   ...                ...\n",
       "ERETHIZONTIDAE             ERETHIZONTIDAE                  0\n",
       "NATALIDAE                       NATALIDAE                  0\n",
       "CHINCHILLIDAE               CHINCHILLIDAE                  0\n",
       "HIPPOPOTAMIDAE             HIPPOPOTAMIDAE                  0\n",
       "CRASEONYCTERIDAE         CRASEONYCTERIDAE                  0\n",
       "GEOMYIDAE                       GEOMYIDAE                  0\n",
       "CTENODACTYLIDAE           CTENODACTYLIDAE                  0\n",
       "CTENOMYIDAE                   CTENOMYIDAE                  0\n",
       "CUNICULIDAE                   CUNICULIDAE                  0\n",
       "DASYPROCTIDAE               DASYPROCTIDAE                  0\n",
       "DINOMYIDAE                     DINOMYIDAE                  0\n",
       "GIRAFFIDAE                     GIRAFFIDAE                  0\n",
       "TRAGULIDAE                     TRAGULIDAE                  0\n",
       "DIATOMYIDAE                   DIATOMYIDAE                  0\n",
       "MORMOOPIDAE                   MORMOOPIDAE                  0\n",
       "MOSCHIDAE                       MOSCHIDAE                  0\n",
       "MYOCASTORIDAE               MYOCASTORIDAE                  0\n",
       "MYSTACINIDAE                 MYSTACINIDAE                  0\n",
       "MYZOPODIDAE                   MYZOPODIDAE                  0\n",
       "NOCTILIONIDAE               NOCTILIONIDAE                  0\n",
       "NYCTERIDAE                     NYCTERIDAE                  0\n",
       "PEDETIDAE                       PEDETIDAE                  0\n",
       "PETROMURIDAE                 PETROMURIDAE                  0\n",
       "PLATACANTHOMYIDAE       PLATACANTHOMYIDAE                  0\n",
       "HOMINIDAE                       HOMINIDAE                  0\n",
       "RHINOLOPHIDAE               RHINOLOPHIDAE                  0\n",
       "RHINOPOMATIDAE             RHINOPOMATIDAE                  0\n",
       "CEBIDAE                           CEBIDAE                  0\n",
       "THRYONOMYIDAE               THRYONOMYIDAE                  0\n",
       "THYROPTERIDAE               THYROPTERIDAE                  0"
      ]
     },
     "metadata": {},
     "output_type": "display_data"
    },
    {
     "data": {
      "image/png": "[encoded data removed]",
      "text/plain": [
       "plot without title"
      ]
     },
     "metadata": {},
     "output_type": "display_data"
    }
   ],
   "source": [
    "summary(Group1.total.tc5.lr0005)"
   ]
  },
  {
   "cell_type": "code",
   "execution_count": 20,
   "metadata": {},
   "outputs": [
    {
     "name": "stdout",
     "output_type": "stream",
     "text": [
      "gbm::gbm(formula = y.data ~ ., distribution = as.character(family), \n",
      "    data = x.data, weights = site.weights, var.monotone = var.monotone, \n",
      "    n.trees = target.trees, interaction.depth = tree.complexity, \n",
      "    shrinkage = learning.rate, bag.fraction = bag.fraction, verbose = FALSE)\n",
      "A gradient boosted model with bernoulli loss function.\n",
      "2150 iterations were performed.\n",
      "There were 96 predictors of which 37 had non-zero influence.\n"
     ]
    }
   ],
   "source": [
    "print(Group1.total.tc5.lr0005)"
   ]
  },
  {
   "cell_type": "code",
   "execution_count": 21,
   "metadata": {},
   "outputs": [
    {
     "data": {
      "image/png": "[encoded data removed]",
      "text/plain": [
       "plot without title"
      ]
     },
     "metadata": {},
     "output_type": "display_data"
    }
   ],
   "source": [
    "plot.gbm(Group1.total.tc5.lr0005, 'Bio1_mean')"
   ]
  },
  {
   "cell_type": "code",
   "execution_count": 22,
   "metadata": {},
   "outputs": [
    {
     "name": "stdout",
     "output_type": "stream",
     "text": [
      "n.trees not given. Using 2150 trees.\n"
     ]
    }
   ],
   "source": [
    "ranks = relative.influence(Group1.total.tc5.lr0005, scale. = 'TRUE', sort. = 'TRUE')\n",
    "a = as.data.frame(ranks, col.names = , optional = FALSE)\n",
    "a = setDT(a, keep.rownames = TRUE)[]\n",
    "colnames(a) = c('Variable','influence')\n",
    "b = a\n",
    "for (i in b$Variable){\n",
    "    margianleffects = plot.gbm(Group1.total.tc5.lr0005, i.var = i,n.plots=3, \n",
    "                           write.title = T, return.grid  = T,\n",
    "                           show.contrib = T,y.label=\"Marginal effect on Host\")\n",
    "    filename = paste(\"Outputs/PartialDependence2/\", i,'Group5','.csv', sep=\"\")\n",
    "    write.csv(margianleffects, file = filename)    \n",
    "}"
   ]
  },
  {
   "cell_type": "code",
   "execution_count": 23,
   "metadata": {
    "collapsed": true
   },
   "outputs": [],
   "source": [
    "write.csv(a, 'Outputs/PartialDependence2/Ranks_group5.csv')"
   ]
  },
  {
   "cell_type": "code",
   "execution_count": 24,
   "metadata": {},
   "outputs": [
    {
     "data": {
      "text/html": [
       "<table>\n",
       "<thead><tr><th></th><th scope=col>Variable</th><th scope=col>influence</th></tr></thead>\n",
       "<tbody>\n",
       "\t<tr><th scope=row>1</th><td>Shape_Area_log</td><td>1             </td></tr>\n",
       "\t<tr><th scope=row>2</th><td>PubmedHits_ln    </td><td>0.848067358476245</td></tr>\n",
       "\t<tr><th scope=row>3</th><td>MaxDiet          </td><td>0.266634849902802</td></tr>\n",
       "\t<tr><th scope=row>4</th><td>maxlat           </td><td>0.247594220453717</td></tr>\n",
       "\t<tr><th scope=row>5</th><td>BodyMass_ln      </td><td>0.231102834160536</td></tr>\n",
       "\t<tr><th scope=row>6</th><td>mdiversity_mean  </td><td>0.189198492983183</td></tr>\n",
       "\t<tr><th scope=row>7</th><td>bdiversity_mean  </td><td>0.169306521504898</td></tr>\n",
       "\t<tr><th scope=row>8</th><td>Bio1_mean        </td><td>0.168861667659585</td></tr>\n",
       "\t<tr><th scope=row>9</th><td>Mosquitoes_mean  </td><td>0.168847162159841</td></tr>\n",
       "\t<tr><th scope=row>10</th><td>maxlong_log      </td><td>0.160861438179518</td></tr>\n",
       "\t<tr><th scope=row>11</th><td>centroidX_log    </td><td>0.122245995595483</td></tr>\n",
       "\t<tr><th scope=row>12</th><td>Bio12_mean        </td><td>0.0935820933452446</td></tr>\n",
       "\t<tr><th scope=row>13</th><td>DIDELPHIDAE       </td><td>0.0882363973483752</td></tr>\n",
       "\t<tr><th scope=row>14</th><td>minlong          </td><td>0.088125307732527</td></tr>\n",
       "\t<tr><th scope=row>15</th><td>minlat            </td><td>0.0829931483216133</td></tr>\n",
       "\t<tr><th scope=row>16</th><td>ForStrategy       </td><td>0.0779208312775106</td></tr>\n",
       "\t<tr><th scope=row>17</th><td>Bio3_mean         </td><td>0.0761737884455564</td></tr>\n",
       "\t<tr><th scope=row>18</th><td>centroidY         </td><td>0.0656842788586445</td></tr>\n",
       "\t<tr><th scope=row>19</th><td>Ticks_mean        </td><td>0.0524573032592242</td></tr>\n",
       "\t<tr><th scope=row>20</th><td>Population.trend  </td><td>0.0464392206308604</td></tr>\n",
       "\t<tr><th scope=row>21</th><td>Metabolic_Rate_ln </td><td>0.0447166810278005</td></tr>\n",
       "\t<tr><th scope=row>22</th><td>HuPop_mean_log    </td><td>0.0420083296946961</td></tr>\n",
       "\t<tr><th scope=row>23</th><td>Habitat_Breadth_sqrt</td><td>0.0286072138209548  </td></tr>\n",
       "\t<tr><th scope=row>24</th><td>ECHIMYIDAE        </td><td>0.0240084067496333</td></tr>\n",
       "\t<tr><th scope=row>25</th><td>PHYLLOSTOMIDAE    </td><td>0.0145224458273166</td></tr>\n",
       "\t<tr><th scope=row>26</th><td>LVSTD_DS           </td><td>0.00764236824768391</td></tr>\n",
       "\t<tr><th scope=row>27</th><td>Body_Temperature   </td><td>0.00534311877112003</td></tr>\n",
       "\t<tr><th scope=row>28</th><td>LandUse_collapsed  </td><td>0.00401572870237102</td></tr>\n",
       "\t<tr><th scope=row>29</th><td>SLP_DS             </td><td>0.00399060263377172</td></tr>\n",
       "\t<tr><th scope=row>30</th><td>IUCN.Status         </td><td>0.000919641270839888</td></tr>\n",
       "\t<tr><th scope=row>31</th><td>PTEROPODIDAE        </td><td>0.000897705012970535</td></tr>\n",
       "\t<tr><th scope=row>32</th><td>CERCOPITHECIDAE    </td><td>0.00039992883807202</td></tr>\n",
       "\t<tr><th scope=row>33</th><td>MOLOSSIDAE          </td><td>0.000345793237393215</td></tr>\n",
       "\t<tr><th scope=row>34</th><td>CRICETIDAE        </td><td>0.0002632333092259</td></tr>\n",
       "\t<tr><th scope=row>35</th><td>MURIDAE             </td><td>0.000131795488302185</td></tr>\n",
       "\t<tr><th scope=row>36</th><td>ActivityTime        </td><td>0.000128028080143931</td></tr>\n",
       "\t<tr><th scope=row>37</th><td>VESPERTILIONIDAE    </td><td>3.27935424710199e-05</td></tr>\n",
       "\t<tr><th scope=row>38</th><td>THYROPTERIDAE</td><td>0            </td></tr>\n",
       "\t<tr><th scope=row>39</th><td>THRYONOMYIDAE</td><td>0            </td></tr>\n",
       "\t<tr><th scope=row>40</th><td>CEBIDAE</td><td>0      </td></tr>\n",
       "\t<tr><th scope=row>41</th><td>RHINOPOMATIDAE</td><td>0             </td></tr>\n",
       "\t<tr><th scope=row>42</th><td>RHINOLOPHIDAE</td><td>0            </td></tr>\n",
       "\t<tr><th scope=row>43</th><td>HOMINIDAE</td><td>0        </td></tr>\n",
       "\t<tr><th scope=row>44</th><td>PLATACANTHOMYIDAE</td><td>0                </td></tr>\n",
       "\t<tr><th scope=row>45</th><td>PETROMURIDAE</td><td>0           </td></tr>\n",
       "\t<tr><th scope=row>46</th><td>PEDETIDAE</td><td>0        </td></tr>\n",
       "\t<tr><th scope=row>47</th><td>NYCTERIDAE</td><td>0         </td></tr>\n",
       "\t<tr><th scope=row>48</th><td>NOCTILIONIDAE</td><td>0            </td></tr>\n",
       "\t<tr><th scope=row>49</th><td>MYZOPODIDAE</td><td>0          </td></tr>\n",
       "\t<tr><th scope=row>50</th><td>MYSTACINIDAE</td><td>0           </td></tr>\n",
       "</tbody>\n",
       "</table>\n"
      ],
      "text/latex": [
       "\\begin{tabular}{r|ll}\n",
       "  & Variable & influence\\\\\n",
       "\\hline\n",
       "\t1 & Shape\\_Area\\_log & 1                 \\\\\n",
       "\t2 & PubmedHits\\_ln   & 0.848067358476245\\\\\n",
       "\t3 & MaxDiet           & 0.266634849902802\\\\\n",
       "\t4 & maxlat            & 0.247594220453717\\\\\n",
       "\t5 & BodyMass\\_ln     & 0.231102834160536\\\\\n",
       "\t6 & mdiversity\\_mean & 0.189198492983183\\\\\n",
       "\t7 & bdiversity\\_mean & 0.169306521504898\\\\\n",
       "\t8 & Bio1\\_mean       & 0.168861667659585\\\\\n",
       "\t9 & Mosquitoes\\_mean & 0.168847162159841\\\\\n",
       "\t10 & maxlong\\_log     & 0.160861438179518\\\\\n",
       "\t11 & centroidX\\_log   & 0.122245995595483\\\\\n",
       "\t12 & Bio12\\_mean       & 0.0935820933452446\\\\\n",
       "\t13 & DIDELPHIDAE        & 0.0882363973483752\\\\\n",
       "\t14 & minlong           & 0.088125307732527\\\\\n",
       "\t15 & minlat             & 0.0829931483216133\\\\\n",
       "\t16 & ForStrategy        & 0.0779208312775106\\\\\n",
       "\t17 & Bio3\\_mean        & 0.0761737884455564\\\\\n",
       "\t18 & centroidY          & 0.0656842788586445\\\\\n",
       "\t19 & Ticks\\_mean       & 0.0524573032592242\\\\\n",
       "\t20 & Population.trend   & 0.0464392206308604\\\\\n",
       "\t21 & Metabolic\\_Rate\\_ln & 0.0447166810278005   \\\\\n",
       "\t22 & HuPop\\_mean\\_log & 0.0420083296946961\\\\\n",
       "\t23 & Habitat\\_Breadth\\_sqrt & 0.0286072138209548      \\\\\n",
       "\t24 & ECHIMYIDAE         & 0.0240084067496333\\\\\n",
       "\t25 & PHYLLOSTOMIDAE     & 0.0145224458273166\\\\\n",
       "\t26 & LVSTD\\_DS          & 0.00764236824768391\\\\\n",
       "\t27 & Body\\_Temperature  & 0.00534311877112003\\\\\n",
       "\t28 & LandUse\\_collapsed & 0.00401572870237102\\\\\n",
       "\t29 & SLP\\_DS            & 0.00399060263377172\\\\\n",
       "\t30 & IUCN.Status          & 0.000919641270839888\\\\\n",
       "\t31 & PTEROPODIDAE         & 0.000897705012970535\\\\\n",
       "\t32 & CERCOPITHECIDAE     & 0.00039992883807202\\\\\n",
       "\t33 & MOLOSSIDAE           & 0.000345793237393215\\\\\n",
       "\t34 & CRICETIDAE         & 0.0002632333092259\\\\\n",
       "\t35 & MURIDAE              & 0.000131795488302185\\\\\n",
       "\t36 & ActivityTime         & 0.000128028080143931\\\\\n",
       "\t37 & VESPERTILIONIDAE     & 3.27935424710199e-05\\\\\n",
       "\t38 & THYROPTERIDAE & 0            \\\\\n",
       "\t39 & THRYONOMYIDAE & 0            \\\\\n",
       "\t40 & CEBIDAE & 0      \\\\\n",
       "\t41 & RHINOPOMATIDAE & 0             \\\\\n",
       "\t42 & RHINOLOPHIDAE & 0            \\\\\n",
       "\t43 & HOMINIDAE & 0        \\\\\n",
       "\t44 & PLATACANTHOMYIDAE & 0                \\\\\n",
       "\t45 & PETROMURIDAE & 0           \\\\\n",
       "\t46 & PEDETIDAE & 0        \\\\\n",
       "\t47 & NYCTERIDAE & 0         \\\\\n",
       "\t48 & NOCTILIONIDAE & 0            \\\\\n",
       "\t49 & MYZOPODIDAE & 0          \\\\\n",
       "\t50 & MYSTACINIDAE & 0           \\\\\n",
       "\\end{tabular}\n"
      ],
      "text/plain": [
       "               Variable    influence\n",
       "1        Shape_Area_log 1.000000e+00\n",
       "2         PubmedHits_ln 8.480674e-01\n",
       "3               MaxDiet 2.666348e-01\n",
       "4                maxlat 2.475942e-01\n",
       "5           BodyMass_ln 2.311028e-01\n",
       "6       mdiversity_mean 1.891985e-01\n",
       "7       bdiversity_mean 1.693065e-01\n",
       "8             Bio1_mean 1.688617e-01\n",
       "9       Mosquitoes_mean 1.688472e-01\n",
       "10          maxlong_log 1.608614e-01\n",
       "11        centroidX_log 1.222460e-01\n",
       "12           Bio12_mean 9.358209e-02\n",
       "13          DIDELPHIDAE 8.823640e-02\n",
       "14              minlong 8.812531e-02\n",
       "15               minlat 8.299315e-02\n",
       "16          ForStrategy 7.792083e-02\n",
       "17            Bio3_mean 7.617379e-02\n",
       "18            centroidY 6.568428e-02\n",
       "19           Ticks_mean 5.245730e-02\n",
       "20     Population.trend 4.643922e-02\n",
       "21    Metabolic_Rate_ln 4.471668e-02\n",
       "22       HuPop_mean_log 4.200833e-02\n",
       "23 Habitat_Breadth_sqrt 2.860721e-02\n",
       "24           ECHIMYIDAE 2.400841e-02\n",
       "25       PHYLLOSTOMIDAE 1.452245e-02\n",
       "26             LVSTD_DS 7.642368e-03\n",
       "27     Body_Temperature 5.343119e-03\n",
       "28    LandUse_collapsed 4.015729e-03\n",
       "29               SLP_DS 3.990603e-03\n",
       "30          IUCN.Status 9.196413e-04\n",
       "31         PTEROPODIDAE 8.977050e-04\n",
       "32      CERCOPITHECIDAE 3.999288e-04\n",
       "33           MOLOSSIDAE 3.457932e-04\n",
       "34           CRICETIDAE 2.632333e-04\n",
       "35              MURIDAE 1.317955e-04\n",
       "36         ActivityTime 1.280281e-04\n",
       "37     VESPERTILIONIDAE 3.279354e-05\n",
       "38        THYROPTERIDAE 0.000000e+00\n",
       "39        THRYONOMYIDAE 0.000000e+00\n",
       "40              CEBIDAE 0.000000e+00\n",
       "41       RHINOPOMATIDAE 0.000000e+00\n",
       "42        RHINOLOPHIDAE 0.000000e+00\n",
       "43            HOMINIDAE 0.000000e+00\n",
       "44    PLATACANTHOMYIDAE 0.000000e+00\n",
       "45         PETROMURIDAE 0.000000e+00\n",
       "46            PEDETIDAE 0.000000e+00\n",
       "47           NYCTERIDAE 0.000000e+00\n",
       "48        NOCTILIONIDAE 0.000000e+00\n",
       "49          MYZOPODIDAE 0.000000e+00\n",
       "50         MYSTACINIDAE 0.000000e+00"
      ]
     },
     "metadata": {},
     "output_type": "display_data"
    }
   ],
   "source": [
    "head(a, 50)"
   ]
  },
  {
   "cell_type": "code",
   "execution_count": 25,
   "metadata": {
    "scrolled": false
   },
   "outputs": [],
   "source": [
    "#Group1.simp = gbm.simplify(Group1.total.tc5.lr0005,)# n.drops = 5)"
   ]
  },
  {
   "cell_type": "code",
   "execution_count": 26,
   "metadata": {
    "scrolled": false
   },
   "outputs": [],
   "source": [
    "#find.int <- gbm.interactions(Group1.total.tc5.lr0005)\n",
    "#find.int$interactions"
   ]
  },
  {
   "cell_type": "code",
   "execution_count": 27,
   "metadata": {},
   "outputs": [],
   "source": [
    "#gbm.perspec(Group1.total.tc5.lr0005, 29, 28, y.range=c(15,20), z.range=c(0,0.6))"
   ]
  },
  {
   "cell_type": "code",
   "execution_count": 28,
   "metadata": {},
   "outputs": [
    {
     "data": {
      "text/html": [
       "0.0208216233845363"
      ],
      "text/latex": [
       "0.0208216233845363"
      ],
      "text/markdown": [
       "0.0208216233845363"
      ],
      "text/plain": [
       "[1] 0.02082162"
      ]
     },
     "metadata": {},
     "output_type": "display_data"
    }
   ],
   "source": [
    "preds <- predict.gbm(Group1.total.tc5.lr0005, model.data,n.trees=Group1.total.tc5.lr0005$gbm.call$best.trees, type=\"response\")\n",
    "calc.deviance(obs=model.data$Group5Binary, pred=preds, calc.mean=TRUE)"
   ]
  },
  {
   "cell_type": "code",
   "execution_count": 29,
   "metadata": {
    "scrolled": false
   },
   "outputs": [
    {
     "data": {
      "text/plain": [
       "class          : ModelEvaluation \n",
       "n presences    : 23 \n",
       "n absences     : 3643 \n",
       "AUC            : 0.998532 \n",
       "cor            : 0.8206139 \n",
       "max TPR+TNR at : 0.01933581 "
      ]
     },
     "metadata": {},
     "output_type": "display_data"
    }
   ],
   "source": [
    "d <- cbind(model.data$Group5Binary, preds)\n",
    "pres <- d[d[,1]==1, 2]\n",
    "abs <- d[d[,1]==0, 2]\n",
    "e <- evaluate(p=pres, a=abs)\n",
    "e"
   ]
  },
  {
   "cell_type": "code",
   "execution_count": 30,
   "metadata": {},
   "outputs": [],
   "source": [
    "model.data$PredictionProbability  = preds\n",
    "write.csv(model.data, file = \"Outputs/Predictions_R_Group5.csv\")"
   ]
  },
  {
   "cell_type": "markdown",
   "metadata": {},
   "source": [
    "## Holdout dataset and Cross Validation"
   ]
  },
  {
   "cell_type": "code",
   "execution_count": 17,
   "metadata": {},
   "outputs": [
    {
     "data": {
      "text/html": [
       "2758"
      ],
      "text/latex": [
       "2758"
      ],
      "text/markdown": [
       "2758"
      ],
      "text/plain": [
       "[1] 2758"
      ]
     },
     "metadata": {},
     "output_type": "display_data"
    },
    {
     "data": {
      "text/html": [
       "690"
      ],
      "text/latex": [
       "690"
      ],
      "text/markdown": [
       "690"
      ],
      "text/plain": [
       "[1] 690"
      ]
     },
     "metadata": {},
     "output_type": "display_data"
    },
    {
     "data": {
      "text/plain": [
       "\n",
       "   0    1 \n",
       "3425   23 "
      ]
     },
     "metadata": {},
     "output_type": "display_data"
    },
    {
     "data": {
      "text/plain": [
       "\n",
       "   0    1 \n",
       "2740   18 "
      ]
     },
     "metadata": {},
     "output_type": "display_data"
    },
    {
     "data": {
      "text/plain": [
       "\n",
       "  0   1 \n",
       "685   5 "
      ]
     },
     "metadata": {},
     "output_type": "display_data"
    }
   ],
   "source": [
    "library(caTools)\n",
    "model.data$spl=sample.split(model.data$Group5Binary,SplitRatio=0.8)\n",
    "train=subset(model.data, model.data$spl==TRUE)\n",
    "test=subset(model.data, model.data$spl==FALSE)\n",
    "nrow(train)\n",
    "nrow(test)\n",
    "table(model.data$Group5Binary)\n",
    "table(train$Group5Binary)\n",
    "table(test$Group5Binary)"
   ]
  },
  {
   "cell_type": "code",
   "execution_count": 18,
   "metadata": {
    "scrolled": false
   },
   "outputs": [
    {
     "name": "stdout",
     "output_type": "stream",
     "text": [
      "\n",
      " \n",
      " GBM STEP - version 2.9 \n",
      " \n",
      "Performing cross-validation optimisation of a boosted regression tree model \n",
      "for NA and using a family of bernoulli \n",
      "Using 2758 observations and 89 predictors \n",
      "creating 10 initial models of 50 trees \n",
      "\n",
      " folds are stratified by prevalence \n",
      "total mean deviance =  0.0787 \n",
      "tolerance is fixed at  1e-04 \n",
      "ntrees resid. dev. \n",
      "50    0.0739 \n",
      "now adding trees... \n",
      "100   0.0709 \n",
      "150   0.0688 \n",
      "200   0.0673 \n",
      "250   0.0661 \n",
      "300   0.0651 \n",
      "350   0.0642 \n",
      "400   0.0633 \n",
      "450   0.0626 \n",
      "500   0.0619 \n",
      "550   0.0614 \n",
      "600   0.0609 \n",
      "650   0.0606 \n",
      "700   0.0602 \n",
      "750   0.0598 \n",
      "800   0.0594 \n",
      "850   0.0591 \n",
      "900   0.0589 \n",
      "950   0.0585 \n",
      "1000   0.0584 \n",
      "1050   0.0581 \n",
      "1100   0.0579 \n",
      "1150   0.0578 \n",
      "1200   0.0576 \n",
      "1250   0.0574 \n",
      "1300   0.0572 \n",
      "1350   0.0571 \n",
      "1400   0.057 \n",
      "1450   0.0569 \n",
      "1500   0.0569 \n",
      "1550   0.0567 \n",
      "1600   0.0566 \n",
      "1650   0.0566 \n",
      "1700   0.0566 \n",
      "1750   0.0565 \n",
      "1800   0.0564 \n",
      "1850   0.0564 \n",
      "1900   0.0564 \n",
      "1950   0.0564 \n",
      "2000   0.0563 \n",
      "2050   0.0563 \n",
      "2100   0.0563 \n",
      "2150   0.0563 \n",
      "2200   0.0563 \n",
      "2250   0.0563 \n",
      "2300   0.0563 \n",
      "2350   0.0563 \n",
      "2400   0.0563 \n",
      "2450   0.0563 \n",
      "2500   0.0563 \n",
      "2550   0.0564 \n",
      "2600   0.0564 \n",
      "2650   0.0564 \n"
     ]
    },
    {
     "name": "stderr",
     "output_type": "stream",
     "text": [
      "fitting final gbm model with a fixed number of 2200 trees for NA\n"
     ]
    },
    {
     "name": "stdout",
     "output_type": "stream",
     "text": [
      "\n",
      "mean total deviance = 0.079 \n",
      "mean residual deviance = 0.019 \n",
      " \n",
      "estimated cv deviance = 0.056 ; se = 0.005 \n",
      " \n",
      "training data correlation = 0.88 \n",
      "cv correlation =  0.251 ; se = 0.072 \n",
      " \n",
      "training data AUC score = 1 \n",
      "cv AUC score = 0.909 ; se = 0.041 \n",
      " \n",
      "elapsed time -  0.08 minutes \n"
     ]
    },
    {
     "data": {
      "image/png": "[encoded data removed]",
      "text/plain": [
       "Plot with title \"NA, d - 5, lr - 0.001\""
      ]
     },
     "metadata": {},
     "output_type": "display_data"
    }
   ],
   "source": [
    "set.seed(100)\n",
    "Group1.total.tc5.lr0005 <- gbm.step(data = train,\n",
    "                                   gbm.x = predictorsNames,\n",
    "                                   gbm.y = outcomeName,\n",
    "                                   family = \"bernoulli\",\n",
    "                                   tree.complexity = 5,\n",
    "                                   learning.rate = 0.001,\n",
    "                                   bag.fraction = 0.5, \n",
    "                                   cv = 10, \n",
    "                                   max.trees = 20000)"
   ]
  },
  {
   "cell_type": "code",
   "execution_count": 19,
   "metadata": {},
   "outputs": [
    {
     "name": "stdout",
     "output_type": "stream",
     "text": [
      "gbm::gbm(formula = y.data ~ ., distribution = as.character(family), \n",
      "    data = x.data, weights = site.weights, var.monotone = var.monotone, \n",
      "    n.trees = target.trees, interaction.depth = tree.complexity, \n",
      "    shrinkage = learning.rate, bag.fraction = bag.fraction, verbose = FALSE)\n",
      "A gradient boosted model with bernoulli loss function.\n",
      "2200 iterations were performed.\n",
      "There were 89 predictors of which 35 had non-zero influence.\n"
     ]
    }
   ],
   "source": [
    "print(Group1.total.tc5.lr0005)"
   ]
  },
  {
   "cell_type": "code",
   "execution_count": 20,
   "metadata": {},
   "outputs": [
    {
     "data": {
      "text/html": [
       "0.0676474071268976"
      ],
      "text/latex": [
       "0.0676474071268976"
      ],
      "text/markdown": [
       "0.0676474071268976"
      ],
      "text/plain": [
       "[1] 0.06764741"
      ]
     },
     "metadata": {},
     "output_type": "display_data"
    }
   ],
   "source": [
    "preds2 <- predict.gbm(Group1.total.tc5.lr0005, \n",
    "                     test[,predictorsNames],\n",
    "                     n.trees=Group1.total.tc5.lr0005$gbm.call$best.trees,\n",
    "                     type=\"response\")\n",
    "\n",
    "calc.deviance(obs=test$Group5Binary, pred=preds2, calc.mean=TRUE)"
   ]
  },
  {
   "cell_type": "code",
   "execution_count": 21,
   "metadata": {},
   "outputs": [
    {
     "data": {
      "text/plain": [
       "class          : ModelEvaluation \n",
       "n presences    : 5 \n",
       "n absences     : 685 \n",
       "AUC            : 0.8770803 \n",
       "cor            : 0.3676981 \n",
       "max TPR+TNR at : 0.00204847 "
      ]
     },
     "metadata": {},
     "output_type": "display_data"
    }
   ],
   "source": [
    "d <- cbind(test$Group5Binary, preds2)\n",
    "pres <- d[d[,1]==1, 2]\n",
    "abs <- d[d[,1]==0, 2]\n",
    "e <- evaluate(p=pres, a=abs)\n",
    "e"
   ]
  },
  {
   "cell_type": "code",
   "execution_count": 22,
   "metadata": {},
   "outputs": [],
   "source": [
    "preds2 <- predict.gbm(Group1.total.tc5.lr0005, \n",
    "                     model.data[,predictorsNames],\n",
    "                     n.trees=Group1.total.tc5.lr0005$gbm.call$best.trees,\n",
    "                     type=\"response\")"
   ]
  },
  {
   "cell_type": "code",
   "execution_count": 33,
   "metadata": {},
   "outputs": [],
   "source": [
    "model.data$PredictionProbability  = preds2\n",
    "write.csv(model.data, file = \"Outputs2/Predictions_R_Group5.csv\")"
   ]
  },
  {
   "cell_type": "code",
   "execution_count": 32,
   "metadata": {
    "scrolled": false
   },
   "outputs": [
    {
     "data": {
      "text/html": [
       "<table>\n",
       "<thead><tr><th></th><th scope=col>var</th><th scope=col>rel.inf</th></tr></thead>\n",
       "<tbody>\n",
       "\t<tr><th scope=row>Shape_Area_log</th><td>Shape_Area_log      </td><td>25.41069095         </td></tr>\n",
       "\t<tr><th scope=row>PubmedHits_ln</th><td>PubmedHits_ln       </td><td>17.67748777         </td></tr>\n",
       "\t<tr><th scope=row>MaxDiet</th><td>MaxDiet             </td><td> 9.20349473         </td></tr>\n",
       "\t<tr><th scope=row>BodyMass_ln</th><td>BodyMass_ln         </td><td> 5.06920444         </td></tr>\n",
       "\t<tr><th scope=row>maxlat</th><td>maxlat              </td><td> 4.89928167         </td></tr>\n",
       "\t<tr><th scope=row>mdiversity_mean</th><td>mdiversity_mean     </td><td> 4.50282674         </td></tr>\n",
       "\t<tr><th scope=row>Bio1_mean</th><td>Bio1_mean           </td><td> 3.36494998         </td></tr>\n",
       "\t<tr><th scope=row>Mosquitoes_mean</th><td>Mosquitoes_mean     </td><td> 3.33346151         </td></tr>\n",
       "\t<tr><th scope=row>Bio12_mean</th><td>Bio12_mean          </td><td> 2.92166975         </td></tr>\n",
       "\t<tr><th scope=row>bdiversity_mean</th><td>bdiversity_mean     </td><td> 2.60262903         </td></tr>\n",
       "\t<tr><th scope=row>Metabolic_Rate_ln</th><td>Metabolic_Rate_ln   </td><td> 2.56406630         </td></tr>\n",
       "\t<tr><th scope=row>Bio3_mean</th><td>Bio3_mean           </td><td> 2.44773054         </td></tr>\n",
       "\t<tr><th scope=row>maxlong_log</th><td>maxlong_log         </td><td> 2.02505745         </td></tr>\n",
       "\t<tr><th scope=row>minlat</th><td>minlat              </td><td> 1.66400260         </td></tr>\n",
       "\t<tr><th scope=row>ForStrategy</th><td>ForStrategy         </td><td> 1.65441932         </td></tr>\n",
       "\t<tr><th scope=row>minlong</th><td>minlong             </td><td> 1.54542314         </td></tr>\n",
       "\t<tr><th scope=row>centroidY</th><td>centroidY           </td><td> 1.52992515         </td></tr>\n",
       "\t<tr><th scope=row>ECHIMYIDAE</th><td>ECHIMYIDAE          </td><td> 1.23832937         </td></tr>\n",
       "\t<tr><th scope=row>Population.trend</th><td>Population.trend    </td><td> 1.21061292         </td></tr>\n",
       "\t<tr><th scope=row>DIDELPHIDAE</th><td>DIDELPHIDAE         </td><td> 1.17734519         </td></tr>\n",
       "\t<tr><th scope=row>HuPop_mean_log</th><td>HuPop_mean_log      </td><td> 0.94340867         </td></tr>\n",
       "\t<tr><th scope=row>centroidX_log</th><td>centroidX_log       </td><td> 0.88802412         </td></tr>\n",
       "\t<tr><th scope=row>Ticks_mean</th><td>Ticks_mean          </td><td> 0.85342827         </td></tr>\n",
       "\t<tr><th scope=row>Habitat_Breadth_sqrt</th><td>Habitat_Breadth_sqrt</td><td> 0.45057880         </td></tr>\n",
       "\t<tr><th scope=row>LandUse_collapsed</th><td>LandUse_collapsed   </td><td> 0.21914169         </td></tr>\n",
       "\t<tr><th scope=row>SLP_DS</th><td>SLP_DS              </td><td> 0.17196217         </td></tr>\n",
       "\t<tr><th scope=row>PHYLLOSTOMIDAE</th><td>PHYLLOSTOMIDAE      </td><td> 0.10025184         </td></tr>\n",
       "\t<tr><th scope=row>LVSTD_DS</th><td>LVSTD_DS            </td><td> 0.09933715         </td></tr>\n",
       "\t<tr><th scope=row>IUCN.Status</th><td>IUCN.Status         </td><td> 0.07217092         </td></tr>\n",
       "\t<tr><th scope=row>ActivityTime</th><td>ActivityTime        </td><td> 0.06238028         </td></tr>\n",
       "\t<tr><th scope=row>...</th><td>...</td><td>...</td></tr>\n",
       "\t<tr><th scope=row>GLIRIDAE</th><td>GLIRIDAE         </td><td>0                </td></tr>\n",
       "\t<tr><th scope=row>HETEROMYIDAE</th><td>HETEROMYIDAE     </td><td>0                </td></tr>\n",
       "\t<tr><th scope=row>ERETHIZONTIDAE</th><td>ERETHIZONTIDAE   </td><td>0                </td></tr>\n",
       "\t<tr><th scope=row>CHINCHILLIDAE</th><td>CHINCHILLIDAE    </td><td>0                </td></tr>\n",
       "\t<tr><th scope=row>CERCOPITHECIDAE</th><td>CERCOPITHECIDAE  </td><td>0                </td></tr>\n",
       "\t<tr><th scope=row>CRASEONYCTERIDAE</th><td>CRASEONYCTERIDAE </td><td>0                </td></tr>\n",
       "\t<tr><th scope=row>GEOMYIDAE</th><td>GEOMYIDAE        </td><td>0                </td></tr>\n",
       "\t<tr><th scope=row>CTENODACTYLIDAE</th><td>CTENODACTYLIDAE  </td><td>0                </td></tr>\n",
       "\t<tr><th scope=row>CTENOMYIDAE</th><td>CTENOMYIDAE      </td><td>0                </td></tr>\n",
       "\t<tr><th scope=row>CUNICULIDAE</th><td>CUNICULIDAE      </td><td>0                </td></tr>\n",
       "\t<tr><th scope=row>DASYPROCTIDAE</th><td>DASYPROCTIDAE    </td><td>0                </td></tr>\n",
       "\t<tr><th scope=row>DINOMYIDAE</th><td>DINOMYIDAE       </td><td>0                </td></tr>\n",
       "\t<tr><th scope=row>EQUIDAE</th><td>EQUIDAE          </td><td>0                </td></tr>\n",
       "\t<tr><th scope=row>DIATOMYIDAE</th><td>DIATOMYIDAE      </td><td>0                </td></tr>\n",
       "\t<tr><th scope=row>MORMOOPIDAE</th><td>MORMOOPIDAE      </td><td>0                </td></tr>\n",
       "\t<tr><th scope=row>MYOCASTORIDAE</th><td>MYOCASTORIDAE    </td><td>0                </td></tr>\n",
       "\t<tr><th scope=row>MYSTACINIDAE</th><td>MYSTACINIDAE     </td><td>0                </td></tr>\n",
       "\t<tr><th scope=row>MYZOPODIDAE</th><td>MYZOPODIDAE      </td><td>0                </td></tr>\n",
       "\t<tr><th scope=row>NOCTILIONIDAE</th><td>NOCTILIONIDAE    </td><td>0                </td></tr>\n",
       "\t<tr><th scope=row>NYCTERIDAE</th><td>NYCTERIDAE       </td><td>0                </td></tr>\n",
       "\t<tr><th scope=row>PEDETIDAE</th><td>PEDETIDAE        </td><td>0                </td></tr>\n",
       "\t<tr><th scope=row>PETROMURIDAE</th><td>PETROMURIDAE     </td><td>0                </td></tr>\n",
       "\t<tr><th scope=row>PLATACANTHOMYIDAE</th><td>PLATACANTHOMYIDAE</td><td>0                </td></tr>\n",
       "\t<tr><th scope=row>HOMINIDAE</th><td>HOMINIDAE        </td><td>0                </td></tr>\n",
       "\t<tr><th scope=row>RHINOLOPHIDAE</th><td>RHINOLOPHIDAE    </td><td>0                </td></tr>\n",
       "\t<tr><th scope=row>RHINOPOMATIDAE</th><td>RHINOPOMATIDAE   </td><td>0                </td></tr>\n",
       "\t<tr><th scope=row>CEBIDAE</th><td>CEBIDAE          </td><td>0                </td></tr>\n",
       "\t<tr><th scope=row>TAPIRIDAE</th><td>TAPIRIDAE        </td><td>0                </td></tr>\n",
       "\t<tr><th scope=row>THRYONOMYIDAE</th><td>THRYONOMYIDAE    </td><td>0                </td></tr>\n",
       "\t<tr><th scope=row>THYROPTERIDAE</th><td>THYROPTERIDAE    </td><td>0                </td></tr>\n",
       "</tbody>\n",
       "</table>\n"
      ],
      "text/latex": [
       "\\begin{tabular}{r|ll}\n",
       "  & var & rel.inf\\\\\n",
       "\\hline\n",
       "\tShape\\_Area\\_log & Shape\\_Area\\_log       & 25.41069095             \\\\\n",
       "\tPubmedHits\\_ln & PubmedHits\\_ln        & 17.67748777           \\\\\n",
       "\tMaxDiet & MaxDiet              &  9.20349473         \\\\\n",
       "\tBodyMass\\_ln & BodyMass\\_ln          &  5.06920444           \\\\\n",
       "\tmaxlat & maxlat               &  4.89928167         \\\\\n",
       "\tmdiversity\\_mean & mdiversity\\_mean      &  4.50282674           \\\\\n",
       "\tBio1\\_mean & Bio1\\_mean            &  3.36494998           \\\\\n",
       "\tMosquitoes\\_mean & Mosquitoes\\_mean      &  3.33346151           \\\\\n",
       "\tBio12\\_mean & Bio12\\_mean           &  2.92166975           \\\\\n",
       "\tbdiversity\\_mean & bdiversity\\_mean      &  2.60262903           \\\\\n",
       "\tMetabolic\\_Rate\\_ln & Metabolic\\_Rate\\_ln    &  2.56406630             \\\\\n",
       "\tBio3\\_mean & Bio3\\_mean            &  2.44773054           \\\\\n",
       "\tmaxlong\\_log & maxlong\\_log          &  2.02505745           \\\\\n",
       "\tminlat & minlat               &  1.66400260         \\\\\n",
       "\tForStrategy & ForStrategy          &  1.65441932         \\\\\n",
       "\tminlong & minlong              &  1.54542314         \\\\\n",
       "\tcentroidY & centroidY            &  1.52992515         \\\\\n",
       "\tECHIMYIDAE & ECHIMYIDAE           &  1.23832937         \\\\\n",
       "\tPopulation.trend & Population.trend     &  1.21061292         \\\\\n",
       "\tDIDELPHIDAE & DIDELPHIDAE          &  1.17734519         \\\\\n",
       "\tHuPop\\_mean\\_log & HuPop\\_mean\\_log       &  0.94340867             \\\\\n",
       "\tcentroidX\\_log & centroidX\\_log        &  0.88802412           \\\\\n",
       "\tTicks\\_mean & Ticks\\_mean           &  0.85342827           \\\\\n",
       "\tHabitat\\_Breadth\\_sqrt & Habitat\\_Breadth\\_sqrt &  0.45057880             \\\\\n",
       "\tLandUse\\_collapsed & LandUse\\_collapsed    &  0.21914169           \\\\\n",
       "\tSLP\\_DS & SLP\\_DS               &  0.17196217           \\\\\n",
       "\tPHYLLOSTOMIDAE & PHYLLOSTOMIDAE       &  0.10025184         \\\\\n",
       "\tLVSTD\\_DS & LVSTD\\_DS             &  0.09933715           \\\\\n",
       "\tIUCN.Status & IUCN.Status          &  0.07217092         \\\\\n",
       "\tActivityTime & ActivityTime         &  0.06238028         \\\\\n",
       "\t... & ... & ...\\\\\n",
       "\tGLIRIDAE & GLIRIDAE          & 0                \\\\\n",
       "\tHETEROMYIDAE & HETEROMYIDAE      & 0                \\\\\n",
       "\tERETHIZONTIDAE & ERETHIZONTIDAE    & 0                \\\\\n",
       "\tCHINCHILLIDAE & CHINCHILLIDAE     & 0                \\\\\n",
       "\tCERCOPITHECIDAE & CERCOPITHECIDAE   & 0                \\\\\n",
       "\tCRASEONYCTERIDAE & CRASEONYCTERIDAE  & 0                \\\\\n",
       "\tGEOMYIDAE & GEOMYIDAE         & 0                \\\\\n",
       "\tCTENODACTYLIDAE & CTENODACTYLIDAE   & 0                \\\\\n",
       "\tCTENOMYIDAE & CTENOMYIDAE       & 0                \\\\\n",
       "\tCUNICULIDAE & CUNICULIDAE       & 0                \\\\\n",
       "\tDASYPROCTIDAE & DASYPROCTIDAE     & 0                \\\\\n",
       "\tDINOMYIDAE & DINOMYIDAE        & 0                \\\\\n",
       "\tEQUIDAE & EQUIDAE           & 0                \\\\\n",
       "\tDIATOMYIDAE & DIATOMYIDAE       & 0                \\\\\n",
       "\tMORMOOPIDAE & MORMOOPIDAE       & 0                \\\\\n",
       "\tMYOCASTORIDAE & MYOCASTORIDAE     & 0                \\\\\n",
       "\tMYSTACINIDAE & MYSTACINIDAE      & 0                \\\\\n",
       "\tMYZOPODIDAE & MYZOPODIDAE       & 0                \\\\\n",
       "\tNOCTILIONIDAE & NOCTILIONIDAE     & 0                \\\\\n",
       "\tNYCTERIDAE & NYCTERIDAE        & 0                \\\\\n",
       "\tPEDETIDAE & PEDETIDAE         & 0                \\\\\n",
       "\tPETROMURIDAE & PETROMURIDAE      & 0                \\\\\n",
       "\tPLATACANTHOMYIDAE & PLATACANTHOMYIDAE & 0                \\\\\n",
       "\tHOMINIDAE & HOMINIDAE         & 0                \\\\\n",
       "\tRHINOLOPHIDAE & RHINOLOPHIDAE     & 0                \\\\\n",
       "\tRHINOPOMATIDAE & RHINOPOMATIDAE    & 0                \\\\\n",
       "\tCEBIDAE & CEBIDAE           & 0                \\\\\n",
       "\tTAPIRIDAE & TAPIRIDAE         & 0                \\\\\n",
       "\tTHRYONOMYIDAE & THRYONOMYIDAE     & 0                \\\\\n",
       "\tTHYROPTERIDAE & THYROPTERIDAE     & 0                \\\\\n",
       "\\end{tabular}\n"
      ],
      "text/markdown": [
       "\n",
       "| <!--/--> | var | rel.inf | \n",
       "|---|---|---|---|---|---|---|---|---|---|---|---|---|---|---|---|---|---|---|---|---|---|---|---|---|---|---|---|---|---|---|---|---|---|---|---|---|---|---|---|---|---|---|---|---|---|---|---|---|---|---|---|---|---|---|---|---|---|---|---|---|\n",
       "| Shape_Area_log | Shape_Area_log       | 25.41069095          | \n",
       "| PubmedHits_ln | PubmedHits_ln        | 17.67748777          | \n",
       "| MaxDiet | MaxDiet              |  9.20349473          | \n",
       "| BodyMass_ln | BodyMass_ln          |  5.06920444          | \n",
       "| maxlat | maxlat               |  4.89928167          | \n",
       "| mdiversity_mean | mdiversity_mean      |  4.50282674          | \n",
       "| Bio1_mean | Bio1_mean            |  3.36494998          | \n",
       "| Mosquitoes_mean | Mosquitoes_mean      |  3.33346151          | \n",
       "| Bio12_mean | Bio12_mean           |  2.92166975          | \n",
       "| bdiversity_mean | bdiversity_mean      |  2.60262903          | \n",
       "| Metabolic_Rate_ln | Metabolic_Rate_ln    |  2.56406630          | \n",
       "| Bio3_mean | Bio3_mean            |  2.44773054          | \n",
       "| maxlong_log | maxlong_log          |  2.02505745          | \n",
       "| minlat | minlat               |  1.66400260          | \n",
       "| ForStrategy | ForStrategy          |  1.65441932          | \n",
       "| minlong | minlong              |  1.54542314          | \n",
       "| centroidY | centroidY            |  1.52992515          | \n",
       "| ECHIMYIDAE | ECHIMYIDAE           |  1.23832937          | \n",
       "| Population.trend | Population.trend     |  1.21061292          | \n",
       "| DIDELPHIDAE | DIDELPHIDAE          |  1.17734519          | \n",
       "| HuPop_mean_log | HuPop_mean_log       |  0.94340867          | \n",
       "| centroidX_log | centroidX_log        |  0.88802412          | \n",
       "| Ticks_mean | Ticks_mean           |  0.85342827          | \n",
       "| Habitat_Breadth_sqrt | Habitat_Breadth_sqrt |  0.45057880          | \n",
       "| LandUse_collapsed | LandUse_collapsed    |  0.21914169          | \n",
       "| SLP_DS | SLP_DS               |  0.17196217          | \n",
       "| PHYLLOSTOMIDAE | PHYLLOSTOMIDAE       |  0.10025184          | \n",
       "| LVSTD_DS | LVSTD_DS             |  0.09933715          | \n",
       "| IUCN.Status | IUCN.Status          |  0.07217092          | \n",
       "| ActivityTime | ActivityTime         |  0.06238028          | \n",
       "| ... | ... | ... | \n",
       "| GLIRIDAE | GLIRIDAE          | 0                 | \n",
       "| HETEROMYIDAE | HETEROMYIDAE      | 0                 | \n",
       "| ERETHIZONTIDAE | ERETHIZONTIDAE    | 0                 | \n",
       "| CHINCHILLIDAE | CHINCHILLIDAE     | 0                 | \n",
       "| CERCOPITHECIDAE | CERCOPITHECIDAE   | 0                 | \n",
       "| CRASEONYCTERIDAE | CRASEONYCTERIDAE  | 0                 | \n",
       "| GEOMYIDAE | GEOMYIDAE         | 0                 | \n",
       "| CTENODACTYLIDAE | CTENODACTYLIDAE   | 0                 | \n",
       "| CTENOMYIDAE | CTENOMYIDAE       | 0                 | \n",
       "| CUNICULIDAE | CUNICULIDAE       | 0                 | \n",
       "| DASYPROCTIDAE | DASYPROCTIDAE     | 0                 | \n",
       "| DINOMYIDAE | DINOMYIDAE        | 0                 | \n",
       "| EQUIDAE | EQUIDAE           | 0                 | \n",
       "| DIATOMYIDAE | DIATOMYIDAE       | 0                 | \n",
       "| MORMOOPIDAE | MORMOOPIDAE       | 0                 | \n",
       "| MYOCASTORIDAE | MYOCASTORIDAE     | 0                 | \n",
       "| MYSTACINIDAE | MYSTACINIDAE      | 0                 | \n",
       "| MYZOPODIDAE | MYZOPODIDAE       | 0                 | \n",
       "| NOCTILIONIDAE | NOCTILIONIDAE     | 0                 | \n",
       "| NYCTERIDAE | NYCTERIDAE        | 0                 | \n",
       "| PEDETIDAE | PEDETIDAE         | 0                 | \n",
       "| PETROMURIDAE | PETROMURIDAE      | 0                 | \n",
       "| PLATACANTHOMYIDAE | PLATACANTHOMYIDAE | 0                 | \n",
       "| HOMINIDAE | HOMINIDAE         | 0                 | \n",
       "| RHINOLOPHIDAE | RHINOLOPHIDAE     | 0                 | \n",
       "| RHINOPOMATIDAE | RHINOPOMATIDAE    | 0                 | \n",
       "| CEBIDAE | CEBIDAE           | 0                 | \n",
       "| TAPIRIDAE | TAPIRIDAE         | 0                 | \n",
       "| THRYONOMYIDAE | THRYONOMYIDAE     | 0                 | \n",
       "| THYROPTERIDAE | THYROPTERIDAE     | 0                 | \n",
       "\n",
       "\n"
      ],
      "text/plain": [
       "                     var                  rel.inf    \n",
       "Shape_Area_log       Shape_Area_log       25.41069095\n",
       "PubmedHits_ln        PubmedHits_ln        17.67748777\n",
       "MaxDiet              MaxDiet               9.20349473\n",
       "BodyMass_ln          BodyMass_ln           5.06920444\n",
       "maxlat               maxlat                4.89928167\n",
       "mdiversity_mean      mdiversity_mean       4.50282674\n",
       "Bio1_mean            Bio1_mean             3.36494998\n",
       "Mosquitoes_mean      Mosquitoes_mean       3.33346151\n",
       "Bio12_mean           Bio12_mean            2.92166975\n",
       "bdiversity_mean      bdiversity_mean       2.60262903\n",
       "Metabolic_Rate_ln    Metabolic_Rate_ln     2.56406630\n",
       "Bio3_mean            Bio3_mean             2.44773054\n",
       "maxlong_log          maxlong_log           2.02505745\n",
       "minlat               minlat                1.66400260\n",
       "ForStrategy          ForStrategy           1.65441932\n",
       "minlong              minlong               1.54542314\n",
       "centroidY            centroidY             1.52992515\n",
       "ECHIMYIDAE           ECHIMYIDAE            1.23832937\n",
       "Population.trend     Population.trend      1.21061292\n",
       "DIDELPHIDAE          DIDELPHIDAE           1.17734519\n",
       "HuPop_mean_log       HuPop_mean_log        0.94340867\n",
       "centroidX_log        centroidX_log         0.88802412\n",
       "Ticks_mean           Ticks_mean            0.85342827\n",
       "Habitat_Breadth_sqrt Habitat_Breadth_sqrt  0.45057880\n",
       "LandUse_collapsed    LandUse_collapsed     0.21914169\n",
       "SLP_DS               SLP_DS                0.17196217\n",
       "PHYLLOSTOMIDAE       PHYLLOSTOMIDAE        0.10025184\n",
       "LVSTD_DS             LVSTD_DS              0.09933715\n",
       "IUCN.Status          IUCN.Status           0.07217092\n",
       "ActivityTime         ActivityTime          0.06238028\n",
       "...                  ...                  ...        \n",
       "GLIRIDAE             GLIRIDAE             0          \n",
       "HETEROMYIDAE         HETEROMYIDAE         0          \n",
       "ERETHIZONTIDAE       ERETHIZONTIDAE       0          \n",
       "CHINCHILLIDAE        CHINCHILLIDAE        0          \n",
       "CERCOPITHECIDAE      CERCOPITHECIDAE      0          \n",
       "CRASEONYCTERIDAE     CRASEONYCTERIDAE     0          \n",
       "GEOMYIDAE            GEOMYIDAE            0          \n",
       "CTENODACTYLIDAE      CTENODACTYLIDAE      0          \n",
       "CTENOMYIDAE          CTENOMYIDAE          0          \n",
       "CUNICULIDAE          CUNICULIDAE          0          \n",
       "DASYPROCTIDAE        DASYPROCTIDAE        0          \n",
       "DINOMYIDAE           DINOMYIDAE           0          \n",
       "EQUIDAE              EQUIDAE              0          \n",
       "DIATOMYIDAE          DIATOMYIDAE          0          \n",
       "MORMOOPIDAE          MORMOOPIDAE          0          \n",
       "MYOCASTORIDAE        MYOCASTORIDAE        0          \n",
       "MYSTACINIDAE         MYSTACINIDAE         0          \n",
       "MYZOPODIDAE          MYZOPODIDAE          0          \n",
       "NOCTILIONIDAE        NOCTILIONIDAE        0          \n",
       "NYCTERIDAE           NYCTERIDAE           0          \n",
       "PEDETIDAE            PEDETIDAE            0          \n",
       "PETROMURIDAE         PETROMURIDAE         0          \n",
       "PLATACANTHOMYIDAE    PLATACANTHOMYIDAE    0          \n",
       "HOMINIDAE            HOMINIDAE            0          \n",
       "RHINOLOPHIDAE        RHINOLOPHIDAE        0          \n",
       "RHINOPOMATIDAE       RHINOPOMATIDAE       0          \n",
       "CEBIDAE              CEBIDAE              0          \n",
       "TAPIRIDAE            TAPIRIDAE            0          \n",
       "THRYONOMYIDAE        THRYONOMYIDAE        0          \n",
       "THYROPTERIDAE        THYROPTERIDAE        0          "
      ]
     },
     "metadata": {},
     "output_type": "display_data"
    },
    {
     "data": {
      "image/png": "[encoded data removed]",
      "text/plain": [
       "plot without title"
      ]
     },
     "metadata": {},
     "output_type": "display_data"
    }
   ],
   "source": [
    "summary(Group1.total.tc5.lr0005)"
   ]
  },
  {
   "cell_type": "code",
   "execution_count": 29,
   "metadata": {},
   "outputs": [
    {
     "name": "stdout",
     "output_type": "stream",
     "text": [
      "n.trees not given. Using 2200 trees.\n"
     ]
    }
   ],
   "source": [
    "ranks = relative.influence(Group1.total.tc5.lr0005, scale. = 'TRUE', sort. = 'TRUE')\n",
    "a = as.data.frame(ranks, col.names = , optional = FALSE)\n",
    "a = setDT(a, keep.rownames = TRUE)[]\n",
    "colnames(a) = c('Variable','influence')\n",
    "b = a\n",
    "for (i in b$Variable){\n",
    "    margianleffects = plot.gbm(Group1.total.tc5.lr0005, i.var = i,n.plots=3, \n",
    "                           write.title = T, return.grid  = T,\n",
    "                           show.contrib = T,y.label=\"Marginal effect on Host\")\n",
    "    filename = paste(\"Outputs2/PartialDependence3/\", i,'Group5','.csv', sep=\"\")\n",
    "    write.csv(margianleffects, file = filename)    \n",
    "}"
   ]
  },
  {
   "cell_type": "code",
   "execution_count": 31,
   "metadata": {},
   "outputs": [],
   "source": [
    "write.csv(a, 'Outputs2/PartialDependence3/Ranks_group5.csv')"
   ]
  },
  {
   "cell_type": "code",
   "execution_count": null,
   "metadata": {},
   "outputs": [],
   "source": []
  }
 ],
 "metadata": {
  "kernelspec": {
   "display_name": "R",
   "language": "R",
   "name": "ir"
  },
  "language_info": {
   "codemirror_mode": "r",
   "file_extension": ".r",
   "mimetype": "text/x-r-source",
   "name": "R",
   "pygments_lexer": "r",
   "version": "3.4.3"
  },
  "varInspector": {
   "cols": {
    "lenName": 16,
    "lenType": 16,
    "lenVar": 40
   },
   "kernels_config": {
    "python": {
     "delete_cmd_postfix": "",
     "delete_cmd_prefix": "del ",
     "library": "var_list.py",
     "varRefreshCmd": "print(var_dic_list())"
    },
    "r": {
     "delete_cmd_postfix": ") ",
     "delete_cmd_prefix": "rm(",
     "library": "var_list.r",
     "varRefreshCmd": "cat(var_dic_list()) "
    }
   },
   "types_to_exclude": [
    "module",
    "function",
    "builtin_function_or_method",
    "instance",
    "_Feature"
   ],
   "window_display": false
  }
 },
 "nbformat": 4,
 "nbformat_minor": 2
}
