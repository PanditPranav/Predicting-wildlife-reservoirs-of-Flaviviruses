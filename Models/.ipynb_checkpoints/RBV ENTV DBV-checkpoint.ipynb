{
 "cells": [
  {
   "cell_type": "code",
   "execution_count": 3,
   "metadata": {},
   "outputs": [],
   "source": [
    "setwd('C:/Users/Falco/Desktop/directory/Predicting-wildlife-reservoirs-of-Flaviviruses')"
   ]
  },
  {
   "cell_type": "code",
   "execution_count": 4,
   "metadata": {},
   "outputs": [
    {
     "name": "stderr",
     "output_type": "stream",
     "text": [
      "Loading required package: survival\n",
      "Loading required package: lattice\n",
      "Loading required package: splines\n",
      "Loading required package: parallel\n",
      "Loaded gbm 2.1.3\n",
      "\n",
      "Attaching package: 'dplyr'\n",
      "\n",
      "The following objects are masked from 'package:stats':\n",
      "\n",
      "    filter, lag\n",
      "\n",
      "The following objects are masked from 'package:base':\n",
      "\n",
      "    intersect, setdiff, setequal, union\n",
      "\n",
      "Loading required package: raster\n",
      "Loading required package: sp\n",
      "\n",
      "Attaching package: 'raster'\n",
      "\n",
      "The following object is masked from 'package:dplyr':\n",
      "\n",
      "    select\n",
      "\n",
      "Loading required package: ggplot2\n",
      "\n",
      "Attaching package: 'caret'\n",
      "\n",
      "The following object is masked from 'package:survival':\n",
      "\n",
      "    cluster\n",
      "\n",
      "Learn more about sjPlot with 'browseVignettes(\"sjPlot\")'.\n",
      "\n",
      "Attaching package: 'sjmisc'\n",
      "\n",
      "The following object is masked from 'package:raster':\n",
      "\n",
      "    trim\n",
      "\n",
      "------------------------------------------------------------------------------\n",
      "You have loaded plyr after dplyr - this is likely to cause problems.\n",
      "If you need functions from both plyr and dplyr, please load plyr first, then dplyr:\n",
      "library(plyr); library(dplyr)\n",
      "------------------------------------------------------------------------------\n",
      "\n",
      "Attaching package: 'plyr'\n",
      "\n",
      "The following objects are masked from 'package:dplyr':\n",
      "\n",
      "    arrange, count, desc, failwith, id, mutate, rename, summarise,\n",
      "    summarize\n",
      "\n",
      "\n",
      "Attaching package: 'data.table'\n",
      "\n",
      "The following object is masked from 'package:raster':\n",
      "\n",
      "    shift\n",
      "\n",
      "The following objects are masked from 'package:dplyr':\n",
      "\n",
      "    between, first, last\n",
      "\n"
     ]
    }
   ],
   "source": [
    "options(warn=-1)\n",
    "#install.packages(c('gbm', 'dplyr','dismo', 'caret',\n",
    "#                  'sjplot', 'skmisc','ggplot2'), repos='http://cran.us.r-project.org')\n",
    "library(gbm)\n",
    "library(dplyr)\n",
    "library(dismo)\n",
    "library(caret)\n",
    "library(sjPlot)\n",
    "library(sjmisc)\n",
    "library(ggplot2)\n",
    "library(raster)\n",
    "library(plyr)\n",
    "library(data.table)"
   ]
  },
  {
   "cell_type": "code",
   "execution_count": 5,
   "metadata": {},
   "outputs": [],
   "source": [
    "#model.data = read.csv(\"Outputs/model_data.csv\")\n",
    "model.data = read.csv('Outputs/dataGroup4.csv')"
   ]
  },
  {
   "cell_type": "code",
   "execution_count": 6,
   "metadata": {},
   "outputs": [],
   "source": [
    "#names(model.data)"
   ]
  },
  {
   "cell_type": "code",
   "execution_count": 7,
   "metadata": {},
   "outputs": [],
   "source": [
    "model.data$Class = factor(model.data$Class, levels = levels(model.data$Class))\n",
    "model.data$Order_y = factor(model.data$Order, levels = levels(model.data$Order))\n",
    "model.data$Family_y = factor(model.data$Family, levels = levels(model.data$Family))\n",
    "model.data$MatchHost = factor(model.data$MatchHost, levels = levels(model.data$MatchHost))\n",
    "model.data$IUCN.Status = factor(model.data$IUCN.Status, levels = levels(model.data$IUCN.Status))\n",
    "model.data$Diet_Certainty = factor(model.data$Diet_Certainty, levels = levels(model.data$Diet_Certainty))\n",
    "model.data$Group4Binary2 <- ifelse(model.data$Group4Binary==1,'host','nonhost')\n",
    "model.data$Group4Binary2 <- as.factor(model.data$Group4Binary2)\n",
    "outcomeName <- 'Group4Binary2'"
   ]
  },
  {
   "cell_type": "code",
   "execution_count": 8,
   "metadata": {},
   "outputs": [],
   "source": [
    "## Read in the raster data\n",
    "landuse <- raster(\"D:/lust/lus.tif\",package=\"raster\")\n",
    "## Extract attribute information for the categories from the raster layer, and convert into dataframe\n",
    "LanduseAttributeTable <- ldply(landuse@data@attributes, data.frame)\n",
    "#head(LanduseAttributeTable)"
   ]
  },
  {
   "cell_type": "code",
   "execution_count": 9,
   "metadata": {},
   "outputs": [],
   "source": [
    "## Read in the raster data\n",
    "Livestock <- raster(\"D:/lvstdt/lvstd.tif\",package=\"raster\")\n",
    "## Extract attribute information for the categories from the raster layer, and convert into dataframe\n",
    "LivestockAttributeTable <- ldply(Livestock@data@attributes, data.frame)\n",
    "#LivestockAttributeTable"
   ]
  },
  {
   "cell_type": "code",
   "execution_count": 10,
   "metadata": {},
   "outputs": [],
   "source": [
    "## Read in the raster data\n",
    "Slope <- raster(\"D:/slpt/slp.tif\",package=\"raster\")\n",
    "## Extract attribute information for the categories from the raster layer, and convert into dataframe\n",
    "SlopeAttributeTable <- ldply(Slope@data@attributes, data.frame)\n",
    "#SlopeAttributeTable"
   ]
  },
  {
   "cell_type": "code",
   "execution_count": 11,
   "metadata": {},
   "outputs": [],
   "source": [
    "model.data = merge(model.data, LanduseAttributeTable, by.x = 'LandUse_majority', by.y = 'Value', all.x = TRUE)   \n",
    "model.data = merge(model.data, LivestockAttributeTable, by.x = 'Livestock_majority', by.y = 'Value', all.x = TRUE)  \n",
    "model.data = merge(model.data, SlopeAttributeTable, by.x = 'Slope_majority', by.y = 'Value', all.x = TRUE)"
   ]
  },
  {
   "cell_type": "code",
   "execution_count": 12,
   "metadata": {},
   "outputs": [
    {
     "data": {
      "text/html": [
       "<ol class=list-inline>\n",
       "\t<li>Undefined</li>\n",
       "\t<li>Forest</li>\n",
       "\t<li>Grassland</li>\n",
       "\t<li>Urban</li>\n",
       "\t<li>Agriculture</li>\n",
       "\t<li>Shurbs</li>\n",
       "\t<li>Bare areas</li>\n",
       "\t<li>Wetlands</li>\n",
       "\t<li>Sparsely vegetated areas</li>\n",
       "\t<li>Open water</li>\n",
       "</ol>\n"
      ],
      "text/latex": [
       "\\begin{enumerate*}\n",
       "\\item Undefined\n",
       "\\item Forest\n",
       "\\item Grassland\n",
       "\\item Urban\n",
       "\\item Agriculture\n",
       "\\item Shurbs\n",
       "\\item Bare areas\n",
       "\\item Wetlands\n",
       "\\item Sparsely vegetated areas\n",
       "\\item Open water\n",
       "\\end{enumerate*}\n"
      ],
      "text/markdown": [
       "1. Undefined\n",
       "2. Forest\n",
       "3. Grassland\n",
       "4. Urban\n",
       "5. Agriculture\n",
       "6. Shurbs\n",
       "7. Bare areas\n",
       "8. Wetlands\n",
       "9. Sparsely vegetated areas\n",
       "10. Open water\n",
       "\n",
       "\n"
      ],
      "text/plain": [
       " [1] Undefined                Forest                   Grassland               \n",
       " [4] Urban                    Agriculture              Shurbs                  \n",
       " [7] Bare areas               Wetlands                 Sparsely vegetated areas\n",
       "[10] Open water              \n",
       "10 Levels: Agriculture Bare areas Forest Grassland Open water ... Wetlands"
      ]
     },
     "metadata": {},
     "output_type": "display_data"
    }
   ],
   "source": [
    "unique(model.data$LandUse_collapsed)"
   ]
  },
  {
   "cell_type": "code",
   "execution_count": 13,
   "metadata": {},
   "outputs": [
    {
     "data": {
      "text/plain": [
       "\n",
       "    > 45 0 to 0.5 0.5 to 2 16 to 30   2 to 5 30 to 45   5 to 8  8 to 16 \n",
       "      26        0      294      342      367       20       40        2 \n",
       " no data    Water \n",
       "      13        1 "
      ]
     },
     "metadata": {},
     "output_type": "display_data"
    }
   ],
   "source": [
    "table(model.data$SLP_DS)"
   ]
  },
  {
   "cell_type": "code",
   "execution_count": 14,
   "metadata": {},
   "outputs": [],
   "source": [
    "write.csv(model.data, 'Outputs/PartialDependence2/Group4Data_forPartial.csv')"
   ]
  },
  {
   "cell_type": "code",
   "execution_count": 15,
   "metadata": {},
   "outputs": [],
   "source": [
    "habitats = c(\"Forest\",\"Savanna\",\"Shrubland\",\"Grassland\",\"Wetlands\",\"Rocky.areas\",\"Caves.and.Subterranean.Habitats\",\"Desert\",\n",
    "            \"Marine.Neritic\",\"Marine.Oceanic\",\"Marine.Deep.Ocean.Floor\",\"Marine.Intertidal\",\"Marine.Coastal.Supratidal\", \n",
    "            \"Artificial.Terrestrial\",\"Artificial.Aquatic\",\"Introduced.Vegetation\",\"Other\",\"Unknown\")\n",
    "\n",
    "predictorsNames = c(\"Bio12_majority\", \"Bio12_max\", \"Bio12_mean\", \"Bio12_min\", \"Bio12_range\",\n",
    "                    \"Bio12_std\", \"Bio1_majority\", \"Bio1_max\", \"Bio1_mean\", \"Bio1_min\", \"Bio1_range\", \"Bio1_std\", \"Bio3_majority\",\n",
    "                    \"Bio3_max\", \"Bio3_mean\", \"Bio3_min\", \"Bio3_range\", \"Bio3_std\", \"Crops_majority\",\n",
    "                    \"HuPop_majority\", \"HuPop_max\", \"HuPop_mean\", \"HuPop_min\", \"HuPop_range\",\n",
    "                    \"HuPop_std\", \"LandUse_majority\", \"Livestock_majority\", \"Mosquitoes_majority\", \"Mosquitoes_max\",\n",
    "                    \"Mosquitoes_mean\", \"Slope_mean\", \"Slope_min\", \"Slope_range\", \"Slope_std\",\n",
    "                    \"Ticks_majority\", \"Ticks_mean\", \"Ticks_min\", \"bdiversity_majority\", \"bdiversity_max\",\n",
    "                    \"bdiversity_mean\", \"bdiversity_min\", \"bdiversity_range\", \"bdiversity_std\",\n",
    "                    \"centroidY\", \"maxlat\", \"mdiversity_majority\", \"mdiversity_max\", \"mdiversity_mean\",\n",
    "                    \"mdiversity_min\", \"mdiversity_range\", \"mdiversity_std\", \"minlat\",\n",
    "                    \"minlong\", \"Mosquitoes_min_log\", \"Mosquitoes_range_log\", \"Mosquitoes_std_log\",\n",
    "                    \"Shape_Area_log\", \"Shape_Length_log\", \"Slope_majority_log\", \"Slope_max_log\",\n",
    "                    \"Ticks_max_log\", \"Ticks_range_log\", \"Ticks_std_log\", \"centroidX_log\", \"maxlong_log\",\n",
    "                    \"MaxDiet\", \"ForStrategy\", \"ActivityTime\",\"Body_Temperature\", \"IUCN.Status\",\n",
    "                    \"Population.trend\", \"Data.Richness\", \"BodyMass_ln\", \"Metabolic_Rate_ln\", \"Habitat_Breadth_sqrt\",\n",
    "                    \"PubmedHits_ln\",'HuPop_mean_log',\n",
    "                    'Class','Family','Order','SLP_DS',\n",
    "                    'PTEROPODIDAE', 'PHYLLOSTOMIDAE', 'FURIPTERIDAE', 'HIPPOSIDERIDAE',\n",
    "       'VESPERTILIONIDAE', 'MOLOSSIDAE', 'EMBALLONURIDAE',\n",
    "       'MEGADERMATIDAE', 'NATALIDAE', 'CRASEONYCTERIDAE', 'MORMOOPIDAE',\n",
    "       'MYSTACINIDAE', 'MYZOPODIDAE', 'NOCTILIONIDAE', 'NYCTERIDAE',\n",
    "       'RHINOLOPHIDAE', 'RHINOPOMATIDAE', 'THYROPTERIDAE', 'PubmedHits')\n",
    "\n",
    "\n",
    "predictorsNames = predictorsNames[!predictorsNames %in% c('Activity_Diurnal', 'Activity_Nocturnal', 'BodyMass_SpecLevel',\n",
    "                                                          'Diet_Fruit', \"Diet_Inv\",\"Diet_Nect\",\"Diet_PlantO\", \"Diet_Scav\",\n",
    "                                                          \"Diet_Seed\", \"Diet_Vect\",\"Diet_Vend\", \"Diet_Vfish\", \"Diet_Vunk\",\n",
    "                                                          \"ForStrat_aerial\", \"ForStrat_aquatic\",\"ForStrat_arboreal\", \"ForStrat_ground\", \n",
    "                                                          'Crops_count', \"Crops_max\",\"Crops_mean\", \"Crops_median\", \"Crops_min\",\"Crops_range\",\n",
    "                                                          \"Crops_std\",\"LandUse_count\",'LandUse_majority', \"LandUse_max\",\"LandUse_mean\",\n",
    "                                                          \"LandUse_median\",\"LandUse_min\",\"LandUse_range\",\"LandUse_std\",\"Livestock_count\",\n",
    "                                                          \"Livestock_majority\",\"Livestock_max\",\"Livestock_mean\",\"Livestock_median\",\"Livestock_min\",\n",
    "                                                          \"Livestock_range\",\"Livestock_std\",\"MetRate_W_log\",\"BodyMass_log\",\n",
    "                                                          'TotalBinary', 'Test', 'Class','Family', 'Order','Data.Richness', \n",
    "                                                          'PubmedHits', \"BodyMass\", \"Metabolic.Rate\",\n",
    "                                                          \"Distribution.Area\", \"Mean.Temperature\", \"Mean.Human.population\",\n",
    "                                                          \"HabitatBreadth\", \"bdiversity_min\", \"bdiversity_std\", \"mdiversity_min\",\"mdiversity_std\", \n",
    "                                                          \"DELPHINIDAE\", \"sp\", \"BALAENIDAE\", \"BALAENOPTERIDAE\", \"ZIPHIIDAE\",\n",
    "                                                          \"NEOBALAENIDAE\", \"CISTUGIDAE\", \"MONODONTIDAE\", \"ESCHRICHTIIDAE\",\n",
    "                                                          \"INIIDAE\", \"PHYSETERIDAE\", \"PHOCOENIDAE\", \n",
    "                                                          \"PLATANISTIDAE\",\"MINIOPTERIDAE\", \n",
    "                                                          \n",
    "                                                          \"Bio12_range\",\"Bio1_range\",\"Bio3_range\", 'HuPop_range',\n",
    "                                                          \"Slope_range\", \"bdiversity_range\", \"mdiversity_range\",\n",
    "                                                          \"Mosquitoes_range_log\",\"Ticks_range_log\",\"Bio12_majority\",\n",
    "                                                          \n",
    "                                                          \"Bio1_majority\",\"Bio3_majority\", 'HuPop_majority',\n",
    "                                                         \"Slope_majority_log\", \"bdiversity_majority\", \"mdiversity_majority\",\n",
    "                                                         \"Mosquitoes_majority\",\"Ticks_majority\",\n",
    "                                                         \n",
    "                                                          \"Bio1_max\",\"Bio3_max\", 'HuPop_max',\n",
    "                                                         \"Slope_max_log\", \"bdiversity_max\", \"mdiversity_max\",\n",
    "                                                         \"Mosquitoes_max\",\"Ticks_max\",\n",
    "                                                         \n",
    "                                                          \"Bio1_min\",\"Bio3_min\", 'HuPop_min',\n",
    "                                                         \"Slope_min_log\", \"bdiversity_min\", \"mdiversity_min\",\n",
    "                                                         \"Mosquitoes_min\",\"Ticks_min\",\n",
    "                                                         \n",
    "                                                          \"Bio1_std\",\"Bio3_std\", 'HuPop_std',\n",
    "                                                         \"Slope_std_log\", \"bdiversity_std\", \"mdiversity_std\",\n",
    "                                                         \"Mosquitoes_std\",\"Ticks_std\",\n",
    "                                                         \n",
    "                                                          'Shape_Length_log', \"Slope_mean\",\n",
    "                                                         \n",
    "                                                          \"Bio12_max\",\"Bio12_min\",\"Bio12_std\",\n",
    "                                                         \"Slope_min\",\"Slope_std\", \n",
    "                                                         \"Mosquitoes_min_log\", \"Mosquitoes_std_log\",\n",
    "                                                          \"Ticks_max_log\", \"Ticks_std_log\", \n",
    "                                                         'HuPop_mean')]\n",
    "\n",
    "predictorsNames = predictorsNames[!predictorsNames %in% habitats]\n",
    "\n",
    "#predictorsNames = c(predictorsNames, 'LVSTD_DS', 'LUS_DS')\n",
    "predictorsNames = c(predictorsNames, 'LVSTD_DS', 'LandUse_collapsed')"
   ]
  },
  {
   "cell_type": "code",
   "execution_count": 16,
   "metadata": {},
   "outputs": [],
   "source": [
    "outcomeName <- 'Group4Binary'"
   ]
  },
  {
   "cell_type": "code",
   "execution_count": 17,
   "metadata": {},
   "outputs": [
    {
     "data": {
      "text/html": [
       "<ol class=list-inline>\n",
       "\t<li>'Bio12_mean'</li>\n",
       "\t<li>'Bio1_mean'</li>\n",
       "\t<li>'Bio3_mean'</li>\n",
       "\t<li>'Crops_majority'</li>\n",
       "\t<li>'Mosquitoes_mean'</li>\n",
       "\t<li>'Ticks_mean'</li>\n",
       "\t<li>'bdiversity_mean'</li>\n",
       "\t<li>'centroidY'</li>\n",
       "\t<li>'maxlat'</li>\n",
       "\t<li>'mdiversity_mean'</li>\n",
       "\t<li>'minlat'</li>\n",
       "\t<li>'minlong'</li>\n",
       "\t<li>'Shape_Area_log'</li>\n",
       "\t<li>'centroidX_log'</li>\n",
       "\t<li>'maxlong_log'</li>\n",
       "\t<li>'MaxDiet'</li>\n",
       "\t<li>'ForStrategy'</li>\n",
       "\t<li>'ActivityTime'</li>\n",
       "\t<li>'Body_Temperature'</li>\n",
       "\t<li>'IUCN.Status'</li>\n",
       "\t<li>'Population.trend'</li>\n",
       "\t<li>'BodyMass_ln'</li>\n",
       "\t<li>'Metabolic_Rate_ln'</li>\n",
       "\t<li>'Habitat_Breadth_sqrt'</li>\n",
       "\t<li>'PubmedHits_ln'</li>\n",
       "\t<li>'HuPop_mean_log'</li>\n",
       "\t<li>'SLP_DS'</li>\n",
       "\t<li>'PTEROPODIDAE'</li>\n",
       "\t<li>'PHYLLOSTOMIDAE'</li>\n",
       "\t<li>'FURIPTERIDAE'</li>\n",
       "\t<li>'HIPPOSIDERIDAE'</li>\n",
       "\t<li>'VESPERTILIONIDAE'</li>\n",
       "\t<li>'MOLOSSIDAE'</li>\n",
       "\t<li>'EMBALLONURIDAE'</li>\n",
       "\t<li>'MEGADERMATIDAE'</li>\n",
       "\t<li>'NATALIDAE'</li>\n",
       "\t<li>'CRASEONYCTERIDAE'</li>\n",
       "\t<li>'MORMOOPIDAE'</li>\n",
       "\t<li>'MYSTACINIDAE'</li>\n",
       "\t<li>'MYZOPODIDAE'</li>\n",
       "\t<li>'NOCTILIONIDAE'</li>\n",
       "\t<li>'NYCTERIDAE'</li>\n",
       "\t<li>'RHINOLOPHIDAE'</li>\n",
       "\t<li>'RHINOPOMATIDAE'</li>\n",
       "\t<li>'THYROPTERIDAE'</li>\n",
       "\t<li>'LVSTD_DS'</li>\n",
       "\t<li>'LandUse_collapsed'</li>\n",
       "</ol>\n"
      ],
      "text/latex": [
       "\\begin{enumerate*}\n",
       "\\item 'Bio12\\_mean'\n",
       "\\item 'Bio1\\_mean'\n",
       "\\item 'Bio3\\_mean'\n",
       "\\item 'Crops\\_majority'\n",
       "\\item 'Mosquitoes\\_mean'\n",
       "\\item 'Ticks\\_mean'\n",
       "\\item 'bdiversity\\_mean'\n",
       "\\item 'centroidY'\n",
       "\\item 'maxlat'\n",
       "\\item 'mdiversity\\_mean'\n",
       "\\item 'minlat'\n",
       "\\item 'minlong'\n",
       "\\item 'Shape\\_Area\\_log'\n",
       "\\item 'centroidX\\_log'\n",
       "\\item 'maxlong\\_log'\n",
       "\\item 'MaxDiet'\n",
       "\\item 'ForStrategy'\n",
       "\\item 'ActivityTime'\n",
       "\\item 'Body\\_Temperature'\n",
       "\\item 'IUCN.Status'\n",
       "\\item 'Population.trend'\n",
       "\\item 'BodyMass\\_ln'\n",
       "\\item 'Metabolic\\_Rate\\_ln'\n",
       "\\item 'Habitat\\_Breadth\\_sqrt'\n",
       "\\item 'PubmedHits\\_ln'\n",
       "\\item 'HuPop\\_mean\\_log'\n",
       "\\item 'SLP\\_DS'\n",
       "\\item 'PTEROPODIDAE'\n",
       "\\item 'PHYLLOSTOMIDAE'\n",
       "\\item 'FURIPTERIDAE'\n",
       "\\item 'HIPPOSIDERIDAE'\n",
       "\\item 'VESPERTILIONIDAE'\n",
       "\\item 'MOLOSSIDAE'\n",
       "\\item 'EMBALLONURIDAE'\n",
       "\\item 'MEGADERMATIDAE'\n",
       "\\item 'NATALIDAE'\n",
       "\\item 'CRASEONYCTERIDAE'\n",
       "\\item 'MORMOOPIDAE'\n",
       "\\item 'MYSTACINIDAE'\n",
       "\\item 'MYZOPODIDAE'\n",
       "\\item 'NOCTILIONIDAE'\n",
       "\\item 'NYCTERIDAE'\n",
       "\\item 'RHINOLOPHIDAE'\n",
       "\\item 'RHINOPOMATIDAE'\n",
       "\\item 'THYROPTERIDAE'\n",
       "\\item 'LVSTD\\_DS'\n",
       "\\item 'LandUse\\_collapsed'\n",
       "\\end{enumerate*}\n"
      ],
      "text/markdown": [
       "1. 'Bio12_mean'\n",
       "2. 'Bio1_mean'\n",
       "3. 'Bio3_mean'\n",
       "4. 'Crops_majority'\n",
       "5. 'Mosquitoes_mean'\n",
       "6. 'Ticks_mean'\n",
       "7. 'bdiversity_mean'\n",
       "8. 'centroidY'\n",
       "9. 'maxlat'\n",
       "10. 'mdiversity_mean'\n",
       "11. 'minlat'\n",
       "12. 'minlong'\n",
       "13. 'Shape_Area_log'\n",
       "14. 'centroidX_log'\n",
       "15. 'maxlong_log'\n",
       "16. 'MaxDiet'\n",
       "17. 'ForStrategy'\n",
       "18. 'ActivityTime'\n",
       "19. 'Body_Temperature'\n",
       "20. 'IUCN.Status'\n",
       "21. 'Population.trend'\n",
       "22. 'BodyMass_ln'\n",
       "23. 'Metabolic_Rate_ln'\n",
       "24. 'Habitat_Breadth_sqrt'\n",
       "25. 'PubmedHits_ln'\n",
       "26. 'HuPop_mean_log'\n",
       "27. 'SLP_DS'\n",
       "28. 'PTEROPODIDAE'\n",
       "29. 'PHYLLOSTOMIDAE'\n",
       "30. 'FURIPTERIDAE'\n",
       "31. 'HIPPOSIDERIDAE'\n",
       "32. 'VESPERTILIONIDAE'\n",
       "33. 'MOLOSSIDAE'\n",
       "34. 'EMBALLONURIDAE'\n",
       "35. 'MEGADERMATIDAE'\n",
       "36. 'NATALIDAE'\n",
       "37. 'CRASEONYCTERIDAE'\n",
       "38. 'MORMOOPIDAE'\n",
       "39. 'MYSTACINIDAE'\n",
       "40. 'MYZOPODIDAE'\n",
       "41. 'NOCTILIONIDAE'\n",
       "42. 'NYCTERIDAE'\n",
       "43. 'RHINOLOPHIDAE'\n",
       "44. 'RHINOPOMATIDAE'\n",
       "45. 'THYROPTERIDAE'\n",
       "46. 'LVSTD_DS'\n",
       "47. 'LandUse_collapsed'\n",
       "\n",
       "\n"
      ],
      "text/plain": [
       " [1] \"Bio12_mean\"           \"Bio1_mean\"            \"Bio3_mean\"           \n",
       " [4] \"Crops_majority\"       \"Mosquitoes_mean\"      \"Ticks_mean\"          \n",
       " [7] \"bdiversity_mean\"      \"centroidY\"            \"maxlat\"              \n",
       "[10] \"mdiversity_mean\"      \"minlat\"               \"minlong\"             \n",
       "[13] \"Shape_Area_log\"       \"centroidX_log\"        \"maxlong_log\"         \n",
       "[16] \"MaxDiet\"              \"ForStrategy\"          \"ActivityTime\"        \n",
       "[19] \"Body_Temperature\"     \"IUCN.Status\"          \"Population.trend\"    \n",
       "[22] \"BodyMass_ln\"          \"Metabolic_Rate_ln\"    \"Habitat_Breadth_sqrt\"\n",
       "[25] \"PubmedHits_ln\"        \"HuPop_mean_log\"       \"SLP_DS\"              \n",
       "[28] \"PTEROPODIDAE\"         \"PHYLLOSTOMIDAE\"       \"FURIPTERIDAE\"        \n",
       "[31] \"HIPPOSIDERIDAE\"       \"VESPERTILIONIDAE\"     \"MOLOSSIDAE\"          \n",
       "[34] \"EMBALLONURIDAE\"       \"MEGADERMATIDAE\"       \"NATALIDAE\"           \n",
       "[37] \"CRASEONYCTERIDAE\"     \"MORMOOPIDAE\"          \"MYSTACINIDAE\"        \n",
       "[40] \"MYZOPODIDAE\"          \"NOCTILIONIDAE\"        \"NYCTERIDAE\"          \n",
       "[43] \"RHINOLOPHIDAE\"        \"RHINOPOMATIDAE\"       \"THYROPTERIDAE\"       \n",
       "[46] \"LVSTD_DS\"             \"LandUse_collapsed\"   "
      ]
     },
     "metadata": {},
     "output_type": "display_data"
    }
   ],
   "source": [
    "predictorsNames"
   ]
  },
  {
   "cell_type": "code",
   "execution_count": 18,
   "metadata": {},
   "outputs": [
    {
     "data": {
      "text/html": [
       "47"
      ],
      "text/latex": [
       "47"
      ],
      "text/markdown": [
       "47"
      ],
      "text/plain": [
       "[1] 47"
      ]
     },
     "metadata": {},
     "output_type": "display_data"
    }
   ],
   "source": [
    "length(predictorsNames)"
   ]
  },
  {
   "cell_type": "code",
   "execution_count": 17,
   "metadata": {
    "scrolled": false
   },
   "outputs": [
    {
     "name": "stdout",
     "output_type": "stream",
     "text": [
      "\n",
      " \n",
      " GBM STEP - version 2.9 \n",
      " \n",
      "Performing cross-validation optimisation of a boosted regression tree model \n",
      "for NA and using a family of bernoulli \n",
      "Using 1105 observations and 47 predictors \n",
      "creating 10 initial models of 50 trees \n",
      "\n",
      " folds are stratified by prevalence \n",
      "total mean deviance =  0.1514 \n",
      "tolerance is fixed at  2e-04 \n",
      "ntrees resid. dev. \n",
      "50    0.1423 \n",
      "now adding trees... \n",
      "100   0.1366 \n",
      "150   0.1326 \n",
      "200   0.1294 \n",
      "250   0.1271 \n",
      "300   0.1252 \n",
      "350   0.1236 \n",
      "400   0.1221 \n",
      "450   0.1208 \n",
      "500   0.1197 \n",
      "550   0.1187 \n",
      "600   0.1175 \n",
      "650   0.1167 \n",
      "700   0.1161 \n",
      "750   0.1156 \n",
      "800   0.1151 \n",
      "850   0.1147 \n",
      "900   0.1142 \n",
      "950   0.1138 \n",
      "1000   0.1134 \n",
      "1050   0.1131 \n",
      "1100   0.1129 \n",
      "1150   0.1126 \n",
      "1200   0.1124 \n",
      "1250   0.1122 \n",
      "1300   0.1121 \n",
      "1350   0.112 \n",
      "1400   0.1119 \n",
      "1450   0.1117 \n",
      "1500   0.1116 \n",
      "1550   0.1116 \n",
      "1600   0.1116 \n",
      "1650   0.1115 \n",
      "1700   0.1115 \n",
      "1750   0.1115 \n",
      "1800   0.1116 \n",
      "1850   0.1116 \n",
      "1900   0.1117 \n",
      "1950   0.1118 \n",
      "2000   0.1119 \n",
      "2050   0.112 \n",
      "2100   0.1121 \n",
      "2150   0.1123 \n"
     ]
    },
    {
     "name": "stderr",
     "output_type": "stream",
     "text": [
      "fitting final gbm model with a fixed number of 1750 trees for NA\n"
     ]
    },
    {
     "name": "stdout",
     "output_type": "stream",
     "text": [
      "\n",
      "mean total deviance = 0.151 \n",
      "mean residual deviance = 0.048 \n",
      " \n",
      "estimated cv deviance = 0.111 ; se = 0.019 \n",
      " \n",
      "training data correlation = 0.831 \n",
      "cv correlation =  0.414 ; se = 0.118 \n",
      " \n",
      "training data AUC score = 0.998 \n",
      "cv AUC score = 0.853 ; se = 0.049 \n",
      " \n",
      "elapsed time -  0.02 minutes \n"
     ]
    },
    {
     "data": {
      "image/png": "[encoded data removed]",
      "text/plain": [
       "Plot with title \"NA, d - 5, lr - 0.001\""
      ]
     },
     "metadata": {},
     "output_type": "display_data"
    }
   ],
   "source": [
    "set.seed(100)\n",
    "Group1.total.tc5.lr0005 <- gbm.step(data = model.data,\n",
    "                                   gbm.x = predictorsNames,\n",
    "                                   gbm.y = outcomeName,\n",
    "                                   family = \"bernoulli\",\n",
    "                                   tree.complexity = 5,\n",
    "                                   learning.rate = 0.001,\n",
    "                                   bag.fraction = 0.5, \n",
    "                                   cv = 10)"
   ]
  },
  {
   "cell_type": "code",
   "execution_count": 18,
   "metadata": {
    "collapsed": true
   },
   "outputs": [],
   "source": [
    "#for (i in predictorsNames){\n",
    "#    print (i)\n",
    "#    a = which( colnames(model.data)== i )\n",
    "#    print (a)\n",
    "#}"
   ]
  },
  {
   "cell_type": "code",
   "execution_count": 19,
   "metadata": {
    "scrolled": false
   },
   "outputs": [
    {
     "data": {
      "text/html": [
       "<table>\n",
       "<thead><tr><th></th><th scope=col>var</th><th scope=col>rel.inf</th></tr></thead>\n",
       "<tbody>\n",
       "\t<tr><th scope=row>Shape_Area_log</th><td>Shape_Area_log  </td><td>48.1009033633254</td></tr>\n",
       "\t<tr><th scope=row>PubmedHits_ln</th><td>PubmedHits_ln   </td><td>8.42641416810116</td></tr>\n",
       "\t<tr><th scope=row>BodyMass_ln</th><td>BodyMass_ln     </td><td>4.78294212753033</td></tr>\n",
       "\t<tr><th scope=row>Ticks_mean</th><td>Ticks_mean      </td><td>4.16794690205999</td></tr>\n",
       "\t<tr><th scope=row>minlong</th><td>minlong         </td><td>4.01801044155413</td></tr>\n",
       "\t<tr><th scope=row>minlat</th><td>minlat          </td><td>4.01254514347521</td></tr>\n",
       "\t<tr><th scope=row>centroidY</th><td>centroidY       </td><td>3.48553446546261</td></tr>\n",
       "\t<tr><th scope=row>centroidX_log</th><td>centroidX_log   </td><td>2.49397422977419</td></tr>\n",
       "\t<tr><th scope=row>Bio3_mean</th><td>Bio3_mean       </td><td>2.36544071978092</td></tr>\n",
       "\t<tr><th scope=row>Population.trend</th><td>Population.trend</td><td>1.7923918725416 </td></tr>\n",
       "\t<tr><th scope=row>HuPop_mean_log</th><td>HuPop_mean_log  </td><td>1.77116876803815</td></tr>\n",
       "\t<tr><th scope=row>bdiversity_mean</th><td>bdiversity_mean </td><td>1.51212804613067</td></tr>\n",
       "\t<tr><th scope=row>maxlat</th><td>maxlat          </td><td>1.48202417036942</td></tr>\n",
       "\t<tr><th scope=row>maxlong_log</th><td>maxlong_log     </td><td>1.40636315542197</td></tr>\n",
       "\t<tr><th scope=row>Body_Temperature</th><td>Body_Temperature</td><td>1.38603674392572</td></tr>\n",
       "\t<tr><th scope=row>Bio1_mean</th><td>Bio1_mean       </td><td>1.27852634100226</td></tr>\n",
       "\t<tr><th scope=row>Mosquitoes_mean</th><td>Mosquitoes_mean </td><td>1.12370357680614</td></tr>\n",
       "\t<tr><th scope=row>MaxDiet</th><td>MaxDiet         </td><td>1.08793386001802</td></tr>\n",
       "\t<tr><th scope=row>mdiversity_mean</th><td>mdiversity_mean  </td><td>0.920448013681755</td></tr>\n",
       "\t<tr><th scope=row>Habitat_Breadth_sqrt</th><td>Habitat_Breadth_sqrt</td><td>0.839694847999306   </td></tr>\n",
       "\t<tr><th scope=row>Bio12_mean</th><td>Bio12_mean       </td><td>0.794894785826518</td></tr>\n",
       "\t<tr><th scope=row>LVSTD_DS</th><td>LVSTD_DS         </td><td>0.764063852881272</td></tr>\n",
       "\t<tr><th scope=row>ForStrategy</th><td>ForStrategy      </td><td>0.696665142147242</td></tr>\n",
       "\t<tr><th scope=row>EMBALLONURIDAE</th><td>EMBALLONURIDAE   </td><td>0.331853222428205</td></tr>\n",
       "\t<tr><th scope=row>Metabolic_Rate_ln</th><td>Metabolic_Rate_ln</td><td>0.257432418015891</td></tr>\n",
       "\t<tr><th scope=row>MOLOSSIDAE</th><td>MOLOSSIDAE       </td><td>0.188805311710375</td></tr>\n",
       "\t<tr><th scope=row>SLP_DS</th><td>SLP_DS           </td><td>0.163408996419776</td></tr>\n",
       "\t<tr><th scope=row>PHYLLOSTOMIDAE</th><td>PHYLLOSTOMIDAE   </td><td>0.146048771148049</td></tr>\n",
       "\t<tr><th scope=row>LandUse_collapsed</th><td>LandUse_collapsed</td><td>0.076322167917621</td></tr>\n",
       "\t<tr><th scope=row>IUCN.Status</th><td>IUCN.Status       </td><td>0.0630085726381305</td></tr>\n",
       "\t<tr><th scope=row>Crops_majority</th><td>Crops_majority    </td><td>0.0456582562409704</td></tr>\n",
       "\t<tr><th scope=row>VESPERTILIONIDAE</th><td>VESPERTILIONIDAE  </td><td>0.0157327258118796</td></tr>\n",
       "\t<tr><th scope=row>ActivityTime</th><td>ActivityTime       </td><td>0.00197481981508186</td></tr>\n",
       "\t<tr><th scope=row>PTEROPODIDAE</th><td>PTEROPODIDAE</td><td>0           </td></tr>\n",
       "\t<tr><th scope=row>FURIPTERIDAE</th><td>FURIPTERIDAE</td><td>0           </td></tr>\n",
       "\t<tr><th scope=row>HIPPOSIDERIDAE</th><td>HIPPOSIDERIDAE</td><td>0             </td></tr>\n",
       "\t<tr><th scope=row>MEGADERMATIDAE</th><td>MEGADERMATIDAE</td><td>0             </td></tr>\n",
       "\t<tr><th scope=row>NATALIDAE</th><td>NATALIDAE</td><td>0        </td></tr>\n",
       "\t<tr><th scope=row>CRASEONYCTERIDAE</th><td>CRASEONYCTERIDAE</td><td>0               </td></tr>\n",
       "\t<tr><th scope=row>MORMOOPIDAE</th><td>MORMOOPIDAE</td><td>0          </td></tr>\n",
       "\t<tr><th scope=row>MYSTACINIDAE</th><td>MYSTACINIDAE</td><td>0           </td></tr>\n",
       "\t<tr><th scope=row>MYZOPODIDAE</th><td>MYZOPODIDAE</td><td>0          </td></tr>\n",
       "\t<tr><th scope=row>NOCTILIONIDAE</th><td>NOCTILIONIDAE</td><td>0            </td></tr>\n",
       "\t<tr><th scope=row>NYCTERIDAE</th><td>NYCTERIDAE</td><td>0         </td></tr>\n",
       "\t<tr><th scope=row>RHINOLOPHIDAE</th><td>RHINOLOPHIDAE</td><td>0            </td></tr>\n",
       "\t<tr><th scope=row>RHINOPOMATIDAE</th><td>RHINOPOMATIDAE</td><td>0             </td></tr>\n",
       "\t<tr><th scope=row>THYROPTERIDAE</th><td>THYROPTERIDAE</td><td>0            </td></tr>\n",
       "</tbody>\n",
       "</table>\n"
      ],
      "text/latex": [
       "\\begin{tabular}{r|ll}\n",
       "  & var & rel.inf\\\\\n",
       "\\hline\n",
       "\tShape\\_Area\\_log & Shape\\_Area\\_log & 48.1009033633254  \\\\\n",
       "\tPubmedHits\\_ln & PubmedHits\\_ln  & 8.42641416810116\\\\\n",
       "\tBodyMass\\_ln & BodyMass\\_ln    & 4.78294212753033\\\\\n",
       "\tTicks\\_mean & Ticks\\_mean     & 4.16794690205999\\\\\n",
       "\tminlong & minlong          & 4.01801044155413\\\\\n",
       "\tminlat & minlat           & 4.01254514347521\\\\\n",
       "\tcentroidY & centroidY        & 3.48553446546261\\\\\n",
       "\tcentroidX\\_log & centroidX\\_log  & 2.49397422977419\\\\\n",
       "\tBio3\\_mean & Bio3\\_mean      & 2.36544071978092\\\\\n",
       "\tPopulation.trend & Population.trend & 1.7923918725416 \\\\\n",
       "\tHuPop\\_mean\\_log & HuPop\\_mean\\_log & 1.77116876803815  \\\\\n",
       "\tbdiversity\\_mean & bdiversity\\_mean & 1.51212804613067 \\\\\n",
       "\tmaxlat & maxlat           & 1.48202417036942\\\\\n",
       "\tmaxlong\\_log & maxlong\\_log    & 1.40636315542197\\\\\n",
       "\tBody\\_Temperature & Body\\_Temperature & 1.38603674392572  \\\\\n",
       "\tBio1\\_mean & Bio1\\_mean      & 1.27852634100226\\\\\n",
       "\tMosquitoes\\_mean & Mosquitoes\\_mean & 1.12370357680614 \\\\\n",
       "\tMaxDiet & MaxDiet          & 1.08793386001802\\\\\n",
       "\tmdiversity\\_mean & mdiversity\\_mean & 0.920448013681755\\\\\n",
       "\tHabitat\\_Breadth\\_sqrt & Habitat\\_Breadth\\_sqrt & 0.839694847999306       \\\\\n",
       "\tBio12\\_mean & Bio12\\_mean      & 0.794894785826518\\\\\n",
       "\tLVSTD\\_DS & LVSTD\\_DS        & 0.764063852881272\\\\\n",
       "\tForStrategy & ForStrategy       & 0.696665142147242\\\\\n",
       "\tEMBALLONURIDAE & EMBALLONURIDAE    & 0.331853222428205\\\\\n",
       "\tMetabolic\\_Rate\\_ln & Metabolic\\_Rate\\_ln & 0.257432418015891    \\\\\n",
       "\tMOLOSSIDAE & MOLOSSIDAE        & 0.188805311710375\\\\\n",
       "\tSLP\\_DS & SLP\\_DS          & 0.163408996419776\\\\\n",
       "\tPHYLLOSTOMIDAE & PHYLLOSTOMIDAE    & 0.146048771148049\\\\\n",
       "\tLandUse\\_collapsed & LandUse\\_collapsed & 0.076322167917621  \\\\\n",
       "\tIUCN.Status & IUCN.Status        & 0.0630085726381305\\\\\n",
       "\tCrops\\_majority & Crops\\_majority   & 0.0456582562409704\\\\\n",
       "\tVESPERTILIONIDAE & VESPERTILIONIDAE   & 0.0157327258118796\\\\\n",
       "\tActivityTime & ActivityTime        & 0.00197481981508186\\\\\n",
       "\tPTEROPODIDAE & PTEROPODIDAE & 0           \\\\\n",
       "\tFURIPTERIDAE & FURIPTERIDAE & 0           \\\\\n",
       "\tHIPPOSIDERIDAE & HIPPOSIDERIDAE & 0             \\\\\n",
       "\tMEGADERMATIDAE & MEGADERMATIDAE & 0             \\\\\n",
       "\tNATALIDAE & NATALIDAE & 0        \\\\\n",
       "\tCRASEONYCTERIDAE & CRASEONYCTERIDAE & 0               \\\\\n",
       "\tMORMOOPIDAE & MORMOOPIDAE & 0          \\\\\n",
       "\tMYSTACINIDAE & MYSTACINIDAE & 0           \\\\\n",
       "\tMYZOPODIDAE & MYZOPODIDAE & 0          \\\\\n",
       "\tNOCTILIONIDAE & NOCTILIONIDAE & 0            \\\\\n",
       "\tNYCTERIDAE & NYCTERIDAE & 0         \\\\\n",
       "\tRHINOLOPHIDAE & RHINOLOPHIDAE & 0            \\\\\n",
       "\tRHINOPOMATIDAE & RHINOPOMATIDAE & 0             \\\\\n",
       "\tTHYROPTERIDAE & THYROPTERIDAE & 0            \\\\\n",
       "\\end{tabular}\n"
      ],
      "text/plain": [
       "                                      var     rel.inf\n",
       "Shape_Area_log             Shape_Area_log 48.10090336\n",
       "PubmedHits_ln               PubmedHits_ln  8.42641417\n",
       "BodyMass_ln                   BodyMass_ln  4.78294213\n",
       "Ticks_mean                     Ticks_mean  4.16794690\n",
       "minlong                           minlong  4.01801044\n",
       "minlat                             minlat  4.01254514\n",
       "centroidY                       centroidY  3.48553447\n",
       "centroidX_log               centroidX_log  2.49397423\n",
       "Bio3_mean                       Bio3_mean  2.36544072\n",
       "Population.trend         Population.trend  1.79239187\n",
       "HuPop_mean_log             HuPop_mean_log  1.77116877\n",
       "bdiversity_mean           bdiversity_mean  1.51212805\n",
       "maxlat                             maxlat  1.48202417\n",
       "maxlong_log                   maxlong_log  1.40636316\n",
       "Body_Temperature         Body_Temperature  1.38603674\n",
       "Bio1_mean                       Bio1_mean  1.27852634\n",
       "Mosquitoes_mean           Mosquitoes_mean  1.12370358\n",
       "MaxDiet                           MaxDiet  1.08793386\n",
       "mdiversity_mean           mdiversity_mean  0.92044801\n",
       "Habitat_Breadth_sqrt Habitat_Breadth_sqrt  0.83969485\n",
       "Bio12_mean                     Bio12_mean  0.79489479\n",
       "LVSTD_DS                         LVSTD_DS  0.76406385\n",
       "ForStrategy                   ForStrategy  0.69666514\n",
       "EMBALLONURIDAE             EMBALLONURIDAE  0.33185322\n",
       "Metabolic_Rate_ln       Metabolic_Rate_ln  0.25743242\n",
       "MOLOSSIDAE                     MOLOSSIDAE  0.18880531\n",
       "SLP_DS                             SLP_DS  0.16340900\n",
       "PHYLLOSTOMIDAE             PHYLLOSTOMIDAE  0.14604877\n",
       "LandUse_collapsed       LandUse_collapsed  0.07632217\n",
       "IUCN.Status                   IUCN.Status  0.06300857\n",
       "Crops_majority             Crops_majority  0.04565826\n",
       "VESPERTILIONIDAE         VESPERTILIONIDAE  0.01573273\n",
       "ActivityTime                 ActivityTime  0.00197482\n",
       "PTEROPODIDAE                 PTEROPODIDAE  0.00000000\n",
       "FURIPTERIDAE                 FURIPTERIDAE  0.00000000\n",
       "HIPPOSIDERIDAE             HIPPOSIDERIDAE  0.00000000\n",
       "MEGADERMATIDAE             MEGADERMATIDAE  0.00000000\n",
       "NATALIDAE                       NATALIDAE  0.00000000\n",
       "CRASEONYCTERIDAE         CRASEONYCTERIDAE  0.00000000\n",
       "MORMOOPIDAE                   MORMOOPIDAE  0.00000000\n",
       "MYSTACINIDAE                 MYSTACINIDAE  0.00000000\n",
       "MYZOPODIDAE                   MYZOPODIDAE  0.00000000\n",
       "NOCTILIONIDAE               NOCTILIONIDAE  0.00000000\n",
       "NYCTERIDAE                     NYCTERIDAE  0.00000000\n",
       "RHINOLOPHIDAE               RHINOLOPHIDAE  0.00000000\n",
       "RHINOPOMATIDAE             RHINOPOMATIDAE  0.00000000\n",
       "THYROPTERIDAE               THYROPTERIDAE  0.00000000"
      ]
     },
     "metadata": {},
     "output_type": "display_data"
    },
    {
     "data": {
      "image/png": "[encoded data removed]",
      "text/plain": [
       "plot without title"
      ]
     },
     "metadata": {},
     "output_type": "display_data"
    }
   ],
   "source": [
    "summary(Group1.total.tc5.lr0005)"
   ]
  },
  {
   "cell_type": "code",
   "execution_count": 20,
   "metadata": {},
   "outputs": [
    {
     "name": "stdout",
     "output_type": "stream",
     "text": [
      "gbm::gbm(formula = y.data ~ ., distribution = as.character(family), \n",
      "    data = x.data, weights = site.weights, var.monotone = var.monotone, \n",
      "    n.trees = target.trees, interaction.depth = tree.complexity, \n",
      "    shrinkage = learning.rate, bag.fraction = bag.fraction, verbose = FALSE)\n",
      "A gradient boosted model with bernoulli loss function.\n",
      "1750 iterations were performed.\n",
      "There were 47 predictors of which 33 had non-zero influence.\n"
     ]
    }
   ],
   "source": [
    "print(Group1.total.tc5.lr0005)"
   ]
  },
  {
   "cell_type": "code",
   "execution_count": 21,
   "metadata": {},
   "outputs": [
    {
     "data": {
      "image/png": "[encoded data removed]",
      "text/plain": [
       "plot without title"
      ]
     },
     "metadata": {},
     "output_type": "display_data"
    }
   ],
   "source": [
    "plot.gbm(Group1.total.tc5.lr0005, 'Bio1_mean')"
   ]
  },
  {
   "cell_type": "code",
   "execution_count": 22,
   "metadata": {},
   "outputs": [
    {
     "name": "stdout",
     "output_type": "stream",
     "text": [
      "n.trees not given. Using 1750 trees.\n"
     ]
    }
   ],
   "source": [
    "ranks = relative.influence(Group1.total.tc5.lr0005, scale. = 'TRUE', sort. = 'TRUE')\n",
    "a = as.data.frame(ranks, col.names = , optional = FALSE)\n",
    "a = setDT(a, keep.rownames = TRUE)[]\n",
    "colnames(a) = c('Variable','influence')\n",
    "b = a\n",
    "for (i in b$Variable){\n",
    "    margianleffects = plot.gbm(Group1.total.tc5.lr0005, i.var = i,n.plots=3, \n",
    "                           write.title = T, return.grid  = T,\n",
    "                           show.contrib = T,y.label=\"Marginal effect on Host\")\n",
    "    filename = paste(\"Outputs/PartialDependence2/\", i,'Group4','.csv', sep=\"\")\n",
    "    write.csv(margianleffects, file = filename)    \n",
    "}"
   ]
  },
  {
   "cell_type": "code",
   "execution_count": 23,
   "metadata": {
    "collapsed": true
   },
   "outputs": [],
   "source": [
    "write.csv(a, 'Outputs/PartialDependence2/Ranks_group4.csv')"
   ]
  },
  {
   "cell_type": "code",
   "execution_count": 24,
   "metadata": {},
   "outputs": [
    {
     "data": {
      "text/html": [
       "<table>\n",
       "<thead><tr><th></th><th scope=col>Variable</th><th scope=col>influence</th></tr></thead>\n",
       "<tbody>\n",
       "\t<tr><th scope=row>1</th><td>Shape_Area_log</td><td>1             </td></tr>\n",
       "\t<tr><th scope=row>2</th><td>PubmedHits_ln    </td><td>0.175182035656442</td></tr>\n",
       "\t<tr><th scope=row>3</th><td>BodyMass_ln       </td><td>0.0994355987745771</td></tr>\n",
       "\t<tr><th scope=row>4</th><td>Ticks_mean        </td><td>0.0866500753754626</td></tr>\n",
       "\t<tr><th scope=row>5</th><td>minlong          </td><td>0.083532951786882</td></tr>\n",
       "\t<tr><th scope=row>6</th><td>minlat            </td><td>0.0834193302601169</td></tr>\n",
       "\t<tr><th scope=row>7</th><td>centroidY         </td><td>0.0724629730783841</td></tr>\n",
       "\t<tr><th scope=row>8</th><td>centroidX_log    </td><td>0.051848802317416</td></tr>\n",
       "\t<tr><th scope=row>9</th><td>Bio3_mean         </td><td>0.0491766381582025</td></tr>\n",
       "\t<tr><th scope=row>10</th><td>Population.trend  </td><td>0.0372631644566619</td></tr>\n",
       "\t<tr><th scope=row>11</th><td>HuPop_mean_log    </td><td>0.0368219439593431</td></tr>\n",
       "\t<tr><th scope=row>12</th><td>bdiversity_mean   </td><td>0.0314365831075762</td></tr>\n",
       "\t<tr><th scope=row>13</th><td>maxlat            </td><td>0.0308107346586632</td></tr>\n",
       "\t<tr><th scope=row>14</th><td>maxlong_log       </td><td>0.0292377701266677</td></tr>\n",
       "\t<tr><th scope=row>15</th><td>Body_Temperature  </td><td>0.0288151915454982</td></tr>\n",
       "\t<tr><th scope=row>16</th><td>Bio1_mean        </td><td>0.026580090010889</td></tr>\n",
       "\t<tr><th scope=row>17</th><td>Mosquitoes_mean  </td><td>0.023361381974853</td></tr>\n",
       "\t<tr><th scope=row>18</th><td>MaxDiet           </td><td>0.0226177427854197</td></tr>\n",
       "\t<tr><th scope=row>19</th><td>mdiversity_mean   </td><td>0.0191357739527102</td></tr>\n",
       "\t<tr><th scope=row>20</th><td>Habitat_Breadth_sqrt</td><td>0.0174569454892927  </td></tr>\n",
       "\t<tr><th scope=row>21</th><td>Bio12_mean        </td><td>0.0165255687574589</td></tr>\n",
       "\t<tr><th scope=row>22</th><td>LVSTD_DS          </td><td>0.0158846050584537</td></tr>\n",
       "\t<tr><th scope=row>23</th><td>ForStrategy       </td><td>0.0144834107768216</td></tr>\n",
       "\t<tr><th scope=row>24</th><td>EMBALLONURIDAE     </td><td>0.00689910582180931</td></tr>\n",
       "\t<tr><th scope=row>25</th><td>Metabolic_Rate_ln  </td><td>0.00535192480838459</td></tr>\n",
       "\t<tr><th scope=row>26</th><td>MOLOSSIDAE         </td><td>0.00392519263690855</td></tr>\n",
       "\t<tr><th scope=row>27</th><td>SLP_DS             </td><td>0.00339721262998913</td></tr>\n",
       "\t<tr><th scope=row>28</th><td>PHYLLOSTOMIDAE     </td><td>0.00303629996395044</td></tr>\n",
       "\t<tr><th scope=row>29</th><td>LandUse_collapsed  </td><td>0.00158670965784424</td></tr>\n",
       "\t<tr><th scope=row>30</th><td>IUCN.Status        </td><td>0.00130992493347165</td></tr>\n",
       "\t<tr><th scope=row>31</th><td>Crops_majority      </td><td>0.000949218269272309</td></tr>\n",
       "\t<tr><th scope=row>32</th><td>VESPERTILIONIDAE    </td><td>0.000327077553888001</td></tr>\n",
       "\t<tr><th scope=row>33</th><td>ActivityTime        </td><td>4.10557739459747e-05</td></tr>\n",
       "\t<tr><th scope=row>34</th><td>THYROPTERIDAE</td><td>0            </td></tr>\n",
       "\t<tr><th scope=row>35</th><td>RHINOPOMATIDAE</td><td>0             </td></tr>\n",
       "\t<tr><th scope=row>36</th><td>RHINOLOPHIDAE</td><td>0            </td></tr>\n",
       "\t<tr><th scope=row>37</th><td>NYCTERIDAE</td><td>0         </td></tr>\n",
       "\t<tr><th scope=row>38</th><td>NOCTILIONIDAE</td><td>0            </td></tr>\n",
       "\t<tr><th scope=row>39</th><td>MYZOPODIDAE</td><td>0          </td></tr>\n",
       "\t<tr><th scope=row>40</th><td>MYSTACINIDAE</td><td>0           </td></tr>\n",
       "\t<tr><th scope=row>41</th><td>MORMOOPIDAE</td><td>0          </td></tr>\n",
       "\t<tr><th scope=row>42</th><td>CRASEONYCTERIDAE</td><td>0               </td></tr>\n",
       "\t<tr><th scope=row>43</th><td>NATALIDAE</td><td>0        </td></tr>\n",
       "\t<tr><th scope=row>44</th><td>MEGADERMATIDAE</td><td>0             </td></tr>\n",
       "\t<tr><th scope=row>45</th><td>HIPPOSIDERIDAE</td><td>0             </td></tr>\n",
       "\t<tr><th scope=row>46</th><td>FURIPTERIDAE</td><td>0           </td></tr>\n",
       "\t<tr><th scope=row>47</th><td>PTEROPODIDAE</td><td>0           </td></tr>\n",
       "</tbody>\n",
       "</table>\n"
      ],
      "text/latex": [
       "\\begin{tabular}{r|ll}\n",
       "  & Variable & influence\\\\\n",
       "\\hline\n",
       "\t1 & Shape\\_Area\\_log & 1                 \\\\\n",
       "\t2 & PubmedHits\\_ln   & 0.175182035656442\\\\\n",
       "\t3 & BodyMass\\_ln      & 0.0994355987745771\\\\\n",
       "\t4 & Ticks\\_mean       & 0.0866500753754626\\\\\n",
       "\t5 & minlong           & 0.083532951786882\\\\\n",
       "\t6 & minlat             & 0.0834193302601169\\\\\n",
       "\t7 & centroidY          & 0.0724629730783841\\\\\n",
       "\t8 & centroidX\\_log   & 0.051848802317416\\\\\n",
       "\t9 & Bio3\\_mean        & 0.0491766381582025\\\\\n",
       "\t10 & Population.trend   & 0.0372631644566619\\\\\n",
       "\t11 & HuPop\\_mean\\_log & 0.0368219439593431\\\\\n",
       "\t12 & bdiversity\\_mean  & 0.0314365831075762\\\\\n",
       "\t13 & maxlat             & 0.0308107346586632\\\\\n",
       "\t14 & maxlong\\_log      & 0.0292377701266677\\\\\n",
       "\t15 & Body\\_Temperature & 0.0288151915454982\\\\\n",
       "\t16 & Bio1\\_mean       & 0.026580090010889\\\\\n",
       "\t17 & Mosquitoes\\_mean & 0.023361381974853\\\\\n",
       "\t18 & MaxDiet            & 0.0226177427854197\\\\\n",
       "\t19 & mdiversity\\_mean  & 0.0191357739527102\\\\\n",
       "\t20 & Habitat\\_Breadth\\_sqrt & 0.0174569454892927      \\\\\n",
       "\t21 & Bio12\\_mean       & 0.0165255687574589\\\\\n",
       "\t22 & LVSTD\\_DS         & 0.0158846050584537\\\\\n",
       "\t23 & ForStrategy        & 0.0144834107768216\\\\\n",
       "\t24 & EMBALLONURIDAE      & 0.00689910582180931\\\\\n",
       "\t25 & Metabolic\\_Rate\\_ln & 0.00535192480838459  \\\\\n",
       "\t26 & MOLOSSIDAE          & 0.00392519263690855\\\\\n",
       "\t27 & SLP\\_DS            & 0.00339721262998913\\\\\n",
       "\t28 & PHYLLOSTOMIDAE      & 0.00303629996395044\\\\\n",
       "\t29 & LandUse\\_collapsed & 0.00158670965784424\\\\\n",
       "\t30 & IUCN.Status         & 0.00130992493347165\\\\\n",
       "\t31 & Crops\\_majority     & 0.000949218269272309\\\\\n",
       "\t32 & VESPERTILIONIDAE     & 0.000327077553888001\\\\\n",
       "\t33 & ActivityTime         & 4.10557739459747e-05\\\\\n",
       "\t34 & THYROPTERIDAE & 0            \\\\\n",
       "\t35 & RHINOPOMATIDAE & 0             \\\\\n",
       "\t36 & RHINOLOPHIDAE & 0            \\\\\n",
       "\t37 & NYCTERIDAE & 0         \\\\\n",
       "\t38 & NOCTILIONIDAE & 0            \\\\\n",
       "\t39 & MYZOPODIDAE & 0          \\\\\n",
       "\t40 & MYSTACINIDAE & 0           \\\\\n",
       "\t41 & MORMOOPIDAE & 0          \\\\\n",
       "\t42 & CRASEONYCTERIDAE & 0               \\\\\n",
       "\t43 & NATALIDAE & 0        \\\\\n",
       "\t44 & MEGADERMATIDAE & 0             \\\\\n",
       "\t45 & HIPPOSIDERIDAE & 0             \\\\\n",
       "\t46 & FURIPTERIDAE & 0           \\\\\n",
       "\t47 & PTEROPODIDAE & 0           \\\\\n",
       "\\end{tabular}\n"
      ],
      "text/plain": [
       "               Variable    influence\n",
       "1        Shape_Area_log 1.000000e+00\n",
       "2         PubmedHits_ln 1.751820e-01\n",
       "3           BodyMass_ln 9.943560e-02\n",
       "4            Ticks_mean 8.665008e-02\n",
       "5               minlong 8.353295e-02\n",
       "6                minlat 8.341933e-02\n",
       "7             centroidY 7.246297e-02\n",
       "8         centroidX_log 5.184880e-02\n",
       "9             Bio3_mean 4.917664e-02\n",
       "10     Population.trend 3.726316e-02\n",
       "11       HuPop_mean_log 3.682194e-02\n",
       "12      bdiversity_mean 3.143658e-02\n",
       "13               maxlat 3.081073e-02\n",
       "14          maxlong_log 2.923777e-02\n",
       "15     Body_Temperature 2.881519e-02\n",
       "16            Bio1_mean 2.658009e-02\n",
       "17      Mosquitoes_mean 2.336138e-02\n",
       "18              MaxDiet 2.261774e-02\n",
       "19      mdiversity_mean 1.913577e-02\n",
       "20 Habitat_Breadth_sqrt 1.745695e-02\n",
       "21           Bio12_mean 1.652557e-02\n",
       "22             LVSTD_DS 1.588461e-02\n",
       "23          ForStrategy 1.448341e-02\n",
       "24       EMBALLONURIDAE 6.899106e-03\n",
       "25    Metabolic_Rate_ln 5.351925e-03\n",
       "26           MOLOSSIDAE 3.925193e-03\n",
       "27               SLP_DS 3.397213e-03\n",
       "28       PHYLLOSTOMIDAE 3.036300e-03\n",
       "29    LandUse_collapsed 1.586710e-03\n",
       "30          IUCN.Status 1.309925e-03\n",
       "31       Crops_majority 9.492183e-04\n",
       "32     VESPERTILIONIDAE 3.270776e-04\n",
       "33         ActivityTime 4.105577e-05\n",
       "34        THYROPTERIDAE 0.000000e+00\n",
       "35       RHINOPOMATIDAE 0.000000e+00\n",
       "36        RHINOLOPHIDAE 0.000000e+00\n",
       "37           NYCTERIDAE 0.000000e+00\n",
       "38        NOCTILIONIDAE 0.000000e+00\n",
       "39          MYZOPODIDAE 0.000000e+00\n",
       "40         MYSTACINIDAE 0.000000e+00\n",
       "41          MORMOOPIDAE 0.000000e+00\n",
       "42     CRASEONYCTERIDAE 0.000000e+00\n",
       "43            NATALIDAE 0.000000e+00\n",
       "44       MEGADERMATIDAE 0.000000e+00\n",
       "45       HIPPOSIDERIDAE 0.000000e+00\n",
       "46         FURIPTERIDAE 0.000000e+00\n",
       "47         PTEROPODIDAE 0.000000e+00"
      ]
     },
     "metadata": {},
     "output_type": "display_data"
    }
   ],
   "source": [
    "head(a, 50)"
   ]
  },
  {
   "cell_type": "code",
   "execution_count": 25,
   "metadata": {
    "collapsed": true,
    "scrolled": false
   },
   "outputs": [],
   "source": [
    "#Group1.simp = gbm.simplify(Group1.total.tc5.lr0005,)# n.drops = 5)"
   ]
  },
  {
   "cell_type": "code",
   "execution_count": 26,
   "metadata": {
    "collapsed": true,
    "scrolled": false
   },
   "outputs": [],
   "source": [
    "#find.int <- gbm.interactions(Group1.total.tc5.lr0005)\n",
    "#find.int$interactions"
   ]
  },
  {
   "cell_type": "code",
   "execution_count": 27,
   "metadata": {
    "collapsed": true
   },
   "outputs": [],
   "source": [
    "#gbm.perspec(Group1.total.tc5.lr0005, 29, 28, y.range=c(15,20), z.range=c(0,0.6))"
   ]
  },
  {
   "cell_type": "code",
   "execution_count": 28,
   "metadata": {},
   "outputs": [
    {
     "data": {
      "text/html": [
       "0.0476640566382765"
      ],
      "text/latex": [
       "0.0476640566382765"
      ],
      "text/markdown": [
       "0.0476640566382765"
      ],
      "text/plain": [
       "[1] 0.04766406"
      ]
     },
     "metadata": {},
     "output_type": "display_data"
    }
   ],
   "source": [
    "preds <- predict.gbm(Group1.total.tc5.lr0005, model.data,n.trees=Group1.total.tc5.lr0005$gbm.call$best.trees, type=\"response\")\n",
    "calc.deviance(obs=model.data$Group4Binary, pred=preds, calc.mean=TRUE)"
   ]
  },
  {
   "cell_type": "code",
   "execution_count": 29,
   "metadata": {
    "scrolled": false
   },
   "outputs": [
    {
     "data": {
      "text/plain": [
       "class          : ModelEvaluation \n",
       "n presences    : 16 \n",
       "n absences     : 1089 \n",
       "AUC            : 0.9984504 \n",
       "cor            : 0.8313287 \n",
       "max TPR+TNR at : 0.1591863 "
      ]
     },
     "metadata": {},
     "output_type": "display_data"
    }
   ],
   "source": [
    "d <- cbind(model.data$Group4Binary, preds)\n",
    "pres <- d[d[,1]==1, 2]\n",
    "abs <- d[d[,1]==0, 2]\n",
    "e <- evaluate(p=pres, a=abs)\n",
    "e"
   ]
  },
  {
   "cell_type": "code",
   "execution_count": 30,
   "metadata": {
    "collapsed": true
   },
   "outputs": [],
   "source": [
    "model.data$PredictionProbability  = preds\n",
    "write.csv(model.data, file = \"Outputs/Predictions_R_Group4.csv\")"
   ]
  },
  {
   "cell_type": "markdown",
   "metadata": {},
   "source": [
    "## Holdout dataset and Cross Validation"
   ]
  },
  {
   "cell_type": "code",
   "execution_count": 19,
   "metadata": {},
   "outputs": [
    {
     "data": {
      "text/html": [
       "884"
      ],
      "text/latex": [
       "884"
      ],
      "text/markdown": [
       "884"
      ],
      "text/plain": [
       "[1] 884"
      ]
     },
     "metadata": {},
     "output_type": "display_data"
    },
    {
     "data": {
      "text/html": [
       "221"
      ],
      "text/latex": [
       "221"
      ],
      "text/markdown": [
       "221"
      ],
      "text/plain": [
       "[1] 221"
      ]
     },
     "metadata": {},
     "output_type": "display_data"
    },
    {
     "data": {
      "text/plain": [
       "\n",
       "   0    1 \n",
       "1089   16 "
      ]
     },
     "metadata": {},
     "output_type": "display_data"
    },
    {
     "data": {
      "text/plain": [
       "\n",
       "  0   1 \n",
       "871  13 "
      ]
     },
     "metadata": {},
     "output_type": "display_data"
    },
    {
     "data": {
      "text/plain": [
       "\n",
       "  0   1 \n",
       "218   3 "
      ]
     },
     "metadata": {},
     "output_type": "display_data"
    }
   ],
   "source": [
    "library(caTools)\n",
    "model.data$spl=sample.split(model.data$Group4Binary,SplitRatio=0.8)\n",
    "train=subset(model.data, model.data$spl==TRUE)\n",
    "test=subset(model.data, model.data$spl==FALSE)\n",
    "nrow(train)\n",
    "nrow(test)\n",
    "table(model.data$Group4Binary)\n",
    "table(train$Group4Binary)\n",
    "table(test$Group4Binary)"
   ]
  },
  {
   "cell_type": "code",
   "execution_count": 20,
   "metadata": {
    "scrolled": false
   },
   "outputs": [
    {
     "name": "stdout",
     "output_type": "stream",
     "text": [
      "\n",
      " \n",
      " GBM STEP - version 2.9 \n",
      " \n",
      "Performing cross-validation optimisation of a boosted regression tree model \n",
      "for NA and using a family of bernoulli \n",
      "Using 884 observations and 47 predictors \n",
      "creating 10 initial models of 50 trees \n",
      "\n",
      " folds are stratified by prevalence \n",
      "total mean deviance =  0.1533 \n",
      "tolerance is fixed at  2e-04 \n",
      "ntrees resid. dev. \n",
      "50    0.1431 \n",
      "now adding trees... \n",
      "100   0.1368 \n",
      "150   0.1319 \n",
      "200   0.1285 \n",
      "250   0.1256 \n",
      "300   0.1233 \n",
      "350   0.1212 \n",
      "400   0.1193 \n",
      "450   0.1174 \n",
      "500   0.116 \n",
      "550   0.1146 \n",
      "600   0.1136 \n",
      "650   0.1124 \n",
      "700   0.1114 \n",
      "750   0.1107 \n",
      "800   0.1099 \n",
      "850   0.1092 \n",
      "900   0.1087 \n",
      "950   0.1081 \n",
      "1000   0.1076 \n",
      "1050   0.1071 \n",
      "1100   0.1066 \n",
      "1150   0.1063 \n",
      "1200   0.106 \n",
      "1250   0.1056 \n",
      "1300   0.1054 \n",
      "1350   0.1051 \n",
      "1400   0.1049 \n",
      "1450   0.1047 \n",
      "1500   0.1046 \n",
      "1550   0.1044 \n",
      "1600   0.1044 \n",
      "1650   0.1043 \n",
      "1700   0.1042 \n",
      "1750   0.1043 \n",
      "1800   0.1043 \n",
      "1850   0.1043 \n",
      "1900   0.1044 \n",
      "1950   0.1044 \n",
      "2000   0.1044 \n",
      "2050   0.1045 \n",
      "2100   0.1046 \n",
      "2150   0.1046 \n",
      "2200   0.1047 \n",
      "2250   0.1049 \n"
     ]
    },
    {
     "name": "stderr",
     "output_type": "stream",
     "text": [
      "fitting final gbm model with a fixed number of 1700 trees for NA\n"
     ]
    },
    {
     "name": "stdout",
     "output_type": "stream",
     "text": [
      "\n",
      "mean total deviance = 0.153 \n",
      "mean residual deviance = 0.047 \n",
      " \n",
      "estimated cv deviance = 0.104 ; se = 0.02 \n",
      " \n",
      "training data correlation = 0.845 \n",
      "cv correlation =  0.426 ; se = 0.133 \n",
      " \n",
      "training data AUC score = 0.998 \n",
      "cv AUC score = 0.929 ; se = 0.031 \n",
      " \n",
      "elapsed time -  0.02 minutes \n"
     ]
    },
    {
     "data": {
      "image/png": "[encoded data removed]",
      "text/plain": [
       "Plot with title \"NA, d - 5, lr - 0.001\""
      ]
     },
     "metadata": {},
     "output_type": "display_data"
    }
   ],
   "source": [
    "set.seed(100)\n",
    "Group1.total.tc5.lr0005 <- gbm.step(data = train,\n",
    "                                   gbm.x = predictorsNames,\n",
    "                                   gbm.y = outcomeName,\n",
    "                                   family = \"bernoulli\",\n",
    "                                   tree.complexity = 5,\n",
    "                                   learning.rate = 0.001,\n",
    "                                   bag.fraction = 0.5, \n",
    "                                   cv = 10, \n",
    "                                   max.trees = 20000)"
   ]
  },
  {
   "cell_type": "code",
   "execution_count": 21,
   "metadata": {},
   "outputs": [
    {
     "name": "stdout",
     "output_type": "stream",
     "text": [
      "gbm::gbm(formula = y.data ~ ., distribution = as.character(family), \n",
      "    data = x.data, weights = site.weights, var.monotone = var.monotone, \n",
      "    n.trees = target.trees, interaction.depth = tree.complexity, \n",
      "    shrinkage = learning.rate, bag.fraction = bag.fraction, verbose = FALSE)\n",
      "A gradient boosted model with bernoulli loss function.\n",
      "1700 iterations were performed.\n",
      "There were 47 predictors of which 32 had non-zero influence.\n"
     ]
    }
   ],
   "source": [
    "print(Group1.total.tc5.lr0005)"
   ]
  },
  {
   "cell_type": "code",
   "execution_count": 22,
   "metadata": {},
   "outputs": [
    {
     "data": {
      "text/html": [
       "0.12674531984104"
      ],
      "text/latex": [
       "0.12674531984104"
      ],
      "text/markdown": [
       "0.12674531984104"
      ],
      "text/plain": [
       "[1] 0.1267453"
      ]
     },
     "metadata": {},
     "output_type": "display_data"
    }
   ],
   "source": [
    "preds2 <- predict.gbm(Group1.total.tc5.lr0005, \n",
    "                     test[,predictorsNames],\n",
    "                     n.trees=Group1.total.tc5.lr0005$gbm.call$best.trees,\n",
    "                     type=\"response\")\n",
    "\n",
    "calc.deviance(obs=test$Group4Binary, pred=preds2, calc.mean=TRUE)"
   ]
  },
  {
   "cell_type": "code",
   "execution_count": 23,
   "metadata": {},
   "outputs": [
    {
     "data": {
      "text/plain": [
       "class          : ModelEvaluation \n",
       "n presences    : 3 \n",
       "n absences     : 218 \n",
       "AUC            : 0.6620795 \n",
       "cor            : 0.406119 \n",
       "max TPR+TNR at : 0.0060013 "
      ]
     },
     "metadata": {},
     "output_type": "display_data"
    }
   ],
   "source": [
    "d <- cbind(test$Group4Binary, preds2)\n",
    "pres <- d[d[,1]==1, 2]\n",
    "abs <- d[d[,1]==0, 2]\n",
    "e <- evaluate(p=pres, a=abs)\n",
    "e"
   ]
  },
  {
   "cell_type": "code",
   "execution_count": 24,
   "metadata": {},
   "outputs": [],
   "source": [
    "preds2 <- predict.gbm(Group1.total.tc5.lr0005, \n",
    "                     model.data[,predictorsNames],\n",
    "                     n.trees=Group1.total.tc5.lr0005$gbm.call$best.trees,\n",
    "                     type=\"response\")"
   ]
  },
  {
   "cell_type": "code",
   "execution_count": 28,
   "metadata": {},
   "outputs": [],
   "source": [
    "model.data$PredictionProbability  = preds2\n",
    "write.csv(model.data, file = \"Outputs2/Predictions_R_Group4.csv\")"
   ]
  },
  {
   "cell_type": "code",
   "execution_count": 25,
   "metadata": {
    "scrolled": false
   },
   "outputs": [
    {
     "data": {
      "text/html": [
       "<table>\n",
       "<thead><tr><th></th><th scope=col>var</th><th scope=col>rel.inf</th></tr></thead>\n",
       "<tbody>\n",
       "\t<tr><th scope=row>Shape_Area_log</th><td>Shape_Area_log      </td><td>50.471305399        </td></tr>\n",
       "\t<tr><th scope=row>PubmedHits_ln</th><td>PubmedHits_ln       </td><td> 9.396188354        </td></tr>\n",
       "\t<tr><th scope=row>BodyMass_ln</th><td>BodyMass_ln         </td><td> 4.729173252        </td></tr>\n",
       "\t<tr><th scope=row>minlong</th><td>minlong             </td><td> 4.030678274        </td></tr>\n",
       "\t<tr><th scope=row>HuPop_mean_log</th><td>HuPop_mean_log      </td><td> 3.280194946        </td></tr>\n",
       "\t<tr><th scope=row>centroidX_log</th><td>centroidX_log       </td><td> 2.877689759        </td></tr>\n",
       "\t<tr><th scope=row>Population.trend</th><td>Population.trend    </td><td> 2.705514432        </td></tr>\n",
       "\t<tr><th scope=row>Bio3_mean</th><td>Bio3_mean           </td><td> 2.061129870        </td></tr>\n",
       "\t<tr><th scope=row>minlat</th><td>minlat              </td><td> 2.058787572        </td></tr>\n",
       "\t<tr><th scope=row>maxlong_log</th><td>maxlong_log         </td><td> 2.026671891        </td></tr>\n",
       "\t<tr><th scope=row>Ticks_mean</th><td>Ticks_mean          </td><td> 1.949364786        </td></tr>\n",
       "\t<tr><th scope=row>centroidY</th><td>centroidY           </td><td> 1.823365239        </td></tr>\n",
       "\t<tr><th scope=row>Mosquitoes_mean</th><td>Mosquitoes_mean     </td><td> 1.821268432        </td></tr>\n",
       "\t<tr><th scope=row>MaxDiet</th><td>MaxDiet             </td><td> 1.532117729        </td></tr>\n",
       "\t<tr><th scope=row>Body_Temperature</th><td>Body_Temperature    </td><td> 1.397138758        </td></tr>\n",
       "\t<tr><th scope=row>Habitat_Breadth_sqrt</th><td>Habitat_Breadth_sqrt</td><td> 1.071843494        </td></tr>\n",
       "\t<tr><th scope=row>Bio1_mean</th><td>Bio1_mean           </td><td> 1.059494973        </td></tr>\n",
       "\t<tr><th scope=row>maxlat</th><td>maxlat              </td><td> 0.985992902        </td></tr>\n",
       "\t<tr><th scope=row>mdiversity_mean</th><td>mdiversity_mean     </td><td> 0.977448139        </td></tr>\n",
       "\t<tr><th scope=row>ForStrategy</th><td>ForStrategy         </td><td> 0.904017215        </td></tr>\n",
       "\t<tr><th scope=row>Bio12_mean</th><td>Bio12_mean          </td><td> 0.682939294        </td></tr>\n",
       "\t<tr><th scope=row>LVSTD_DS</th><td>LVSTD_DS            </td><td> 0.668121574        </td></tr>\n",
       "\t<tr><th scope=row>bdiversity_mean</th><td>bdiversity_mean     </td><td> 0.480713563        </td></tr>\n",
       "\t<tr><th scope=row>PHYLLOSTOMIDAE</th><td>PHYLLOSTOMIDAE      </td><td> 0.416316004        </td></tr>\n",
       "\t<tr><th scope=row>MOLOSSIDAE</th><td>MOLOSSIDAE          </td><td> 0.186092967        </td></tr>\n",
       "\t<tr><th scope=row>SLP_DS</th><td>SLP_DS              </td><td> 0.140452816        </td></tr>\n",
       "\t<tr><th scope=row>Metabolic_Rate_ln</th><td>Metabolic_Rate_ln   </td><td> 0.093741895        </td></tr>\n",
       "\t<tr><th scope=row>LandUse_collapsed</th><td>LandUse_collapsed   </td><td> 0.084397407        </td></tr>\n",
       "\t<tr><th scope=row>IUCN.Status</th><td>IUCN.Status         </td><td> 0.045206824        </td></tr>\n",
       "\t<tr><th scope=row>Crops_majority</th><td>Crops_majority      </td><td> 0.023759878        </td></tr>\n",
       "\t<tr><th scope=row>VESPERTILIONIDAE</th><td>VESPERTILIONIDAE    </td><td> 0.018562970        </td></tr>\n",
       "\t<tr><th scope=row>PTEROPODIDAE</th><td>PTEROPODIDAE        </td><td> 0.000309393        </td></tr>\n",
       "\t<tr><th scope=row>ActivityTime</th><td>ActivityTime        </td><td> 0.000000000        </td></tr>\n",
       "\t<tr><th scope=row>FURIPTERIDAE</th><td>FURIPTERIDAE        </td><td> 0.000000000        </td></tr>\n",
       "\t<tr><th scope=row>HIPPOSIDERIDAE</th><td>HIPPOSIDERIDAE      </td><td> 0.000000000        </td></tr>\n",
       "\t<tr><th scope=row>EMBALLONURIDAE</th><td>EMBALLONURIDAE      </td><td> 0.000000000        </td></tr>\n",
       "\t<tr><th scope=row>MEGADERMATIDAE</th><td>MEGADERMATIDAE      </td><td> 0.000000000        </td></tr>\n",
       "\t<tr><th scope=row>NATALIDAE</th><td>NATALIDAE           </td><td> 0.000000000        </td></tr>\n",
       "\t<tr><th scope=row>CRASEONYCTERIDAE</th><td>CRASEONYCTERIDAE    </td><td> 0.000000000        </td></tr>\n",
       "\t<tr><th scope=row>MORMOOPIDAE</th><td>MORMOOPIDAE         </td><td> 0.000000000        </td></tr>\n",
       "\t<tr><th scope=row>MYSTACINIDAE</th><td>MYSTACINIDAE        </td><td> 0.000000000        </td></tr>\n",
       "\t<tr><th scope=row>MYZOPODIDAE</th><td>MYZOPODIDAE         </td><td> 0.000000000        </td></tr>\n",
       "\t<tr><th scope=row>NOCTILIONIDAE</th><td>NOCTILIONIDAE       </td><td> 0.000000000        </td></tr>\n",
       "\t<tr><th scope=row>NYCTERIDAE</th><td>NYCTERIDAE          </td><td> 0.000000000        </td></tr>\n",
       "\t<tr><th scope=row>RHINOLOPHIDAE</th><td>RHINOLOPHIDAE       </td><td> 0.000000000        </td></tr>\n",
       "\t<tr><th scope=row>RHINOPOMATIDAE</th><td>RHINOPOMATIDAE      </td><td> 0.000000000        </td></tr>\n",
       "\t<tr><th scope=row>THYROPTERIDAE</th><td>THYROPTERIDAE       </td><td> 0.000000000        </td></tr>\n",
       "</tbody>\n",
       "</table>\n"
      ],
      "text/latex": [
       "\\begin{tabular}{r|ll}\n",
       "  & var & rel.inf\\\\\n",
       "\\hline\n",
       "\tShape\\_Area\\_log & Shape\\_Area\\_log       & 50.471305399            \\\\\n",
       "\tPubmedHits\\_ln & PubmedHits\\_ln        &  9.396188354          \\\\\n",
       "\tBodyMass\\_ln & BodyMass\\_ln          &  4.729173252          \\\\\n",
       "\tminlong & minlong              &  4.030678274        \\\\\n",
       "\tHuPop\\_mean\\_log & HuPop\\_mean\\_log       &  3.280194946            \\\\\n",
       "\tcentroidX\\_log & centroidX\\_log        &  2.877689759          \\\\\n",
       "\tPopulation.trend & Population.trend     &  2.705514432        \\\\\n",
       "\tBio3\\_mean & Bio3\\_mean            &  2.061129870          \\\\\n",
       "\tminlat & minlat               &  2.058787572        \\\\\n",
       "\tmaxlong\\_log & maxlong\\_log          &  2.026671891          \\\\\n",
       "\tTicks\\_mean & Ticks\\_mean           &  1.949364786          \\\\\n",
       "\tcentroidY & centroidY            &  1.823365239        \\\\\n",
       "\tMosquitoes\\_mean & Mosquitoes\\_mean      &  1.821268432          \\\\\n",
       "\tMaxDiet & MaxDiet              &  1.532117729        \\\\\n",
       "\tBody\\_Temperature & Body\\_Temperature     &  1.397138758          \\\\\n",
       "\tHabitat\\_Breadth\\_sqrt & Habitat\\_Breadth\\_sqrt &  1.071843494            \\\\\n",
       "\tBio1\\_mean & Bio1\\_mean            &  1.059494973          \\\\\n",
       "\tmaxlat & maxlat               &  0.985992902        \\\\\n",
       "\tmdiversity\\_mean & mdiversity\\_mean      &  0.977448139          \\\\\n",
       "\tForStrategy & ForStrategy          &  0.904017215        \\\\\n",
       "\tBio12\\_mean & Bio12\\_mean           &  0.682939294          \\\\\n",
       "\tLVSTD\\_DS & LVSTD\\_DS             &  0.668121574          \\\\\n",
       "\tbdiversity\\_mean & bdiversity\\_mean      &  0.480713563          \\\\\n",
       "\tPHYLLOSTOMIDAE & PHYLLOSTOMIDAE       &  0.416316004        \\\\\n",
       "\tMOLOSSIDAE & MOLOSSIDAE           &  0.186092967        \\\\\n",
       "\tSLP\\_DS & SLP\\_DS               &  0.140452816          \\\\\n",
       "\tMetabolic\\_Rate\\_ln & Metabolic\\_Rate\\_ln    &  0.093741895            \\\\\n",
       "\tLandUse\\_collapsed & LandUse\\_collapsed    &  0.084397407          \\\\\n",
       "\tIUCN.Status & IUCN.Status          &  0.045206824        \\\\\n",
       "\tCrops\\_majority & Crops\\_majority       &  0.023759878          \\\\\n",
       "\tVESPERTILIONIDAE & VESPERTILIONIDAE     &  0.018562970        \\\\\n",
       "\tPTEROPODIDAE & PTEROPODIDAE         &  0.000309393        \\\\\n",
       "\tActivityTime & ActivityTime         &  0.000000000        \\\\\n",
       "\tFURIPTERIDAE & FURIPTERIDAE         &  0.000000000        \\\\\n",
       "\tHIPPOSIDERIDAE & HIPPOSIDERIDAE       &  0.000000000        \\\\\n",
       "\tEMBALLONURIDAE & EMBALLONURIDAE       &  0.000000000        \\\\\n",
       "\tMEGADERMATIDAE & MEGADERMATIDAE       &  0.000000000        \\\\\n",
       "\tNATALIDAE & NATALIDAE            &  0.000000000        \\\\\n",
       "\tCRASEONYCTERIDAE & CRASEONYCTERIDAE     &  0.000000000        \\\\\n",
       "\tMORMOOPIDAE & MORMOOPIDAE          &  0.000000000        \\\\\n",
       "\tMYSTACINIDAE & MYSTACINIDAE         &  0.000000000        \\\\\n",
       "\tMYZOPODIDAE & MYZOPODIDAE          &  0.000000000        \\\\\n",
       "\tNOCTILIONIDAE & NOCTILIONIDAE        &  0.000000000        \\\\\n",
       "\tNYCTERIDAE & NYCTERIDAE           &  0.000000000        \\\\\n",
       "\tRHINOLOPHIDAE & RHINOLOPHIDAE        &  0.000000000        \\\\\n",
       "\tRHINOPOMATIDAE & RHINOPOMATIDAE       &  0.000000000        \\\\\n",
       "\tTHYROPTERIDAE & THYROPTERIDAE        &  0.000000000        \\\\\n",
       "\\end{tabular}\n"
      ],
      "text/markdown": [
       "\n",
       "| <!--/--> | var | rel.inf | \n",
       "|---|---|---|---|---|---|---|---|---|---|---|---|---|---|---|---|---|---|---|---|---|---|---|---|---|---|---|---|---|---|---|---|---|---|---|---|---|---|---|---|---|---|---|---|---|---|---|\n",
       "| Shape_Area_log | Shape_Area_log       | 50.471305399         | \n",
       "| PubmedHits_ln | PubmedHits_ln        |  9.396188354         | \n",
       "| BodyMass_ln | BodyMass_ln          |  4.729173252         | \n",
       "| minlong | minlong              |  4.030678274         | \n",
       "| HuPop_mean_log | HuPop_mean_log       |  3.280194946         | \n",
       "| centroidX_log | centroidX_log        |  2.877689759         | \n",
       "| Population.trend | Population.trend     |  2.705514432         | \n",
       "| Bio3_mean | Bio3_mean            |  2.061129870         | \n",
       "| minlat | minlat               |  2.058787572         | \n",
       "| maxlong_log | maxlong_log          |  2.026671891         | \n",
       "| Ticks_mean | Ticks_mean           |  1.949364786         | \n",
       "| centroidY | centroidY            |  1.823365239         | \n",
       "| Mosquitoes_mean | Mosquitoes_mean      |  1.821268432         | \n",
       "| MaxDiet | MaxDiet              |  1.532117729         | \n",
       "| Body_Temperature | Body_Temperature     |  1.397138758         | \n",
       "| Habitat_Breadth_sqrt | Habitat_Breadth_sqrt |  1.071843494         | \n",
       "| Bio1_mean | Bio1_mean            |  1.059494973         | \n",
       "| maxlat | maxlat               |  0.985992902         | \n",
       "| mdiversity_mean | mdiversity_mean      |  0.977448139         | \n",
       "| ForStrategy | ForStrategy          |  0.904017215         | \n",
       "| Bio12_mean | Bio12_mean           |  0.682939294         | \n",
       "| LVSTD_DS | LVSTD_DS             |  0.668121574         | \n",
       "| bdiversity_mean | bdiversity_mean      |  0.480713563         | \n",
       "| PHYLLOSTOMIDAE | PHYLLOSTOMIDAE       |  0.416316004         | \n",
       "| MOLOSSIDAE | MOLOSSIDAE           |  0.186092967         | \n",
       "| SLP_DS | SLP_DS               |  0.140452816         | \n",
       "| Metabolic_Rate_ln | Metabolic_Rate_ln    |  0.093741895         | \n",
       "| LandUse_collapsed | LandUse_collapsed    |  0.084397407         | \n",
       "| IUCN.Status | IUCN.Status          |  0.045206824         | \n",
       "| Crops_majority | Crops_majority       |  0.023759878         | \n",
       "| VESPERTILIONIDAE | VESPERTILIONIDAE     |  0.018562970         | \n",
       "| PTEROPODIDAE | PTEROPODIDAE         |  0.000309393         | \n",
       "| ActivityTime | ActivityTime         |  0.000000000         | \n",
       "| FURIPTERIDAE | FURIPTERIDAE         |  0.000000000         | \n",
       "| HIPPOSIDERIDAE | HIPPOSIDERIDAE       |  0.000000000         | \n",
       "| EMBALLONURIDAE | EMBALLONURIDAE       |  0.000000000         | \n",
       "| MEGADERMATIDAE | MEGADERMATIDAE       |  0.000000000         | \n",
       "| NATALIDAE | NATALIDAE            |  0.000000000         | \n",
       "| CRASEONYCTERIDAE | CRASEONYCTERIDAE     |  0.000000000         | \n",
       "| MORMOOPIDAE | MORMOOPIDAE          |  0.000000000         | \n",
       "| MYSTACINIDAE | MYSTACINIDAE         |  0.000000000         | \n",
       "| MYZOPODIDAE | MYZOPODIDAE          |  0.000000000         | \n",
       "| NOCTILIONIDAE | NOCTILIONIDAE        |  0.000000000         | \n",
       "| NYCTERIDAE | NYCTERIDAE           |  0.000000000         | \n",
       "| RHINOLOPHIDAE | RHINOLOPHIDAE        |  0.000000000         | \n",
       "| RHINOPOMATIDAE | RHINOPOMATIDAE       |  0.000000000         | \n",
       "| THYROPTERIDAE | THYROPTERIDAE        |  0.000000000         | \n",
       "\n",
       "\n"
      ],
      "text/plain": [
       "                     var                  rel.inf     \n",
       "Shape_Area_log       Shape_Area_log       50.471305399\n",
       "PubmedHits_ln        PubmedHits_ln         9.396188354\n",
       "BodyMass_ln          BodyMass_ln           4.729173252\n",
       "minlong              minlong               4.030678274\n",
       "HuPop_mean_log       HuPop_mean_log        3.280194946\n",
       "centroidX_log        centroidX_log         2.877689759\n",
       "Population.trend     Population.trend      2.705514432\n",
       "Bio3_mean            Bio3_mean             2.061129870\n",
       "minlat               minlat                2.058787572\n",
       "maxlong_log          maxlong_log           2.026671891\n",
       "Ticks_mean           Ticks_mean            1.949364786\n",
       "centroidY            centroidY             1.823365239\n",
       "Mosquitoes_mean      Mosquitoes_mean       1.821268432\n",
       "MaxDiet              MaxDiet               1.532117729\n",
       "Body_Temperature     Body_Temperature      1.397138758\n",
       "Habitat_Breadth_sqrt Habitat_Breadth_sqrt  1.071843494\n",
       "Bio1_mean            Bio1_mean             1.059494973\n",
       "maxlat               maxlat                0.985992902\n",
       "mdiversity_mean      mdiversity_mean       0.977448139\n",
       "ForStrategy          ForStrategy           0.904017215\n",
       "Bio12_mean           Bio12_mean            0.682939294\n",
       "LVSTD_DS             LVSTD_DS              0.668121574\n",
       "bdiversity_mean      bdiversity_mean       0.480713563\n",
       "PHYLLOSTOMIDAE       PHYLLOSTOMIDAE        0.416316004\n",
       "MOLOSSIDAE           MOLOSSIDAE            0.186092967\n",
       "SLP_DS               SLP_DS                0.140452816\n",
       "Metabolic_Rate_ln    Metabolic_Rate_ln     0.093741895\n",
       "LandUse_collapsed    LandUse_collapsed     0.084397407\n",
       "IUCN.Status          IUCN.Status           0.045206824\n",
       "Crops_majority       Crops_majority        0.023759878\n",
       "VESPERTILIONIDAE     VESPERTILIONIDAE      0.018562970\n",
       "PTEROPODIDAE         PTEROPODIDAE          0.000309393\n",
       "ActivityTime         ActivityTime          0.000000000\n",
       "FURIPTERIDAE         FURIPTERIDAE          0.000000000\n",
       "HIPPOSIDERIDAE       HIPPOSIDERIDAE        0.000000000\n",
       "EMBALLONURIDAE       EMBALLONURIDAE        0.000000000\n",
       "MEGADERMATIDAE       MEGADERMATIDAE        0.000000000\n",
       "NATALIDAE            NATALIDAE             0.000000000\n",
       "CRASEONYCTERIDAE     CRASEONYCTERIDAE      0.000000000\n",
       "MORMOOPIDAE          MORMOOPIDAE           0.000000000\n",
       "MYSTACINIDAE         MYSTACINIDAE          0.000000000\n",
       "MYZOPODIDAE          MYZOPODIDAE           0.000000000\n",
       "NOCTILIONIDAE        NOCTILIONIDAE         0.000000000\n",
       "NYCTERIDAE           NYCTERIDAE            0.000000000\n",
       "RHINOLOPHIDAE        RHINOLOPHIDAE         0.000000000\n",
       "RHINOPOMATIDAE       RHINOPOMATIDAE        0.000000000\n",
       "THYROPTERIDAE        THYROPTERIDAE         0.000000000"
      ]
     },
     "metadata": {},
     "output_type": "display_data"
    },
    {
     "data": {
      "image/png": "[encoded data removed]",
      "text/plain": [
       "plot without title"
      ]
     },
     "metadata": {},
     "output_type": "display_data"
    }
   ],
   "source": [
    "summary(Group1.total.tc5.lr0005)"
   ]
  },
  {
   "cell_type": "code",
   "execution_count": 26,
   "metadata": {},
   "outputs": [
    {
     "name": "stdout",
     "output_type": "stream",
     "text": [
      "n.trees not given. Using 1700 trees.\n"
     ]
    }
   ],
   "source": [
    "ranks = relative.influence(Group1.total.tc5.lr0005, scale. = 'TRUE', sort. = 'TRUE')\n",
    "a = as.data.frame(ranks, col.names = , optional = FALSE)\n",
    "a = setDT(a, keep.rownames = TRUE)[]\n",
    "colnames(a) = c('Variable','influence')\n",
    "b = a\n",
    "for (i in b$Variable){\n",
    "    margianleffects = plot.gbm(Group1.total.tc5.lr0005, i.var = i,n.plots=3, \n",
    "                           write.title = T, return.grid  = T,\n",
    "                           show.contrib = T,y.label=\"Marginal effect on Host\")\n",
    "    filename = paste(\"Outputs2/PartialDependence2/\", i,'Group4','.csv', sep=\"\")\n",
    "    write.csv(margianleffects, file = filename)    \n",
    "}"
   ]
  },
  {
   "cell_type": "code",
   "execution_count": 27,
   "metadata": {},
   "outputs": [],
   "source": [
    "write.csv(a, 'Outputs2/PartialDependence2/Ranks_group4.csv')"
   ]
  }
 ],
 "metadata": {
  "kernelspec": {
   "display_name": "R",
   "language": "R",
   "name": "ir"
  },
  "language_info": {
   "codemirror_mode": "r",
   "file_extension": ".r",
   "mimetype": "text/x-r-source",
   "name": "R",
   "pygments_lexer": "r",
   "version": "3.4.3"
  },
  "varInspector": {
   "cols": {
    "lenName": 16,
    "lenType": 16,
    "lenVar": 40
   },
   "kernels_config": {
    "python": {
     "delete_cmd_postfix": "",
     "delete_cmd_prefix": "del ",
     "library": "var_list.py",
     "varRefreshCmd": "print(var_dic_list())"
    },
    "r": {
     "delete_cmd_postfix": ") ",
     "delete_cmd_prefix": "rm(",
     "library": "var_list.r",
     "varRefreshCmd": "cat(var_dic_list()) "
    }
   },
   "types_to_exclude": [
    "module",
    "function",
    "builtin_function_or_method",
    "instance",
    "_Feature"
   ],
   "window_display": false
  }
 },
 "nbformat": 4,
 "nbformat_minor": 2
}
