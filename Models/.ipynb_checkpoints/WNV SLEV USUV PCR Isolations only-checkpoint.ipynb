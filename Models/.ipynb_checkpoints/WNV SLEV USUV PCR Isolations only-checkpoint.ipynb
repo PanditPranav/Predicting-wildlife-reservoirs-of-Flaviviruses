{
 "cells": [
  {
   "cell_type": "code",
   "execution_count": 1,
   "metadata": {},
   "outputs": [],
   "source": [
    "setwd('C:/Users/Falco/Desktop/directory/Predicting-wildlife-reservoirs-of-Flaviviruses')"
   ]
  },
  {
   "cell_type": "code",
   "execution_count": 2,
   "metadata": {},
   "outputs": [
    {
     "name": "stderr",
     "output_type": "stream",
     "text": [
      "Loading required package: survival\n",
      "Loading required package: lattice\n",
      "Loading required package: splines\n",
      "Loading required package: parallel\n",
      "Loaded gbm 2.1.3\n",
      "\n",
      "Attaching package: 'dplyr'\n",
      "\n",
      "The following objects are masked from 'package:stats':\n",
      "\n",
      "    filter, lag\n",
      "\n",
      "The following objects are masked from 'package:base':\n",
      "\n",
      "    intersect, setdiff, setequal, union\n",
      "\n",
      "Loading required package: raster\n",
      "Loading required package: sp\n",
      "\n",
      "Attaching package: 'raster'\n",
      "\n",
      "The following object is masked from 'package:dplyr':\n",
      "\n",
      "    select\n",
      "\n",
      "Loading required package: ggplot2\n",
      "\n",
      "Attaching package: 'caret'\n",
      "\n",
      "The following object is masked from 'package:survival':\n",
      "\n",
      "    cluster\n",
      "\n",
      "#refugeeswelcome\n",
      "Learn more about sjmisc with 'browseVignettes(\"sjmisc\")'.\n",
      "\n",
      "Attaching package: 'sjmisc'\n",
      "\n",
      "The following object is masked from 'package:raster':\n",
      "\n",
      "    trim\n",
      "\n",
      "------------------------------------------------------------------------------\n",
      "You have loaded plyr after dplyr - this is likely to cause problems.\n",
      "If you need functions from both plyr and dplyr, please load plyr first, then dplyr:\n",
      "library(plyr); library(dplyr)\n",
      "------------------------------------------------------------------------------\n",
      "\n",
      "Attaching package: 'plyr'\n",
      "\n",
      "The following objects are masked from 'package:dplyr':\n",
      "\n",
      "    arrange, count, desc, failwith, id, mutate, rename, summarise,\n",
      "    summarize\n",
      "\n",
      "\n",
      "Attaching package: 'data.table'\n",
      "\n",
      "The following object is masked from 'package:raster':\n",
      "\n",
      "    shift\n",
      "\n",
      "The following objects are masked from 'package:dplyr':\n",
      "\n",
      "    between, first, last\n",
      "\n"
     ]
    }
   ],
   "source": [
    "options(warn=-1)\n",
    "#install.packages(c('gbm', 'dplyr','dismo', 'caret',\n",
    "#                  'sjplot', 'skmisc','ggplot2'), repos='http://cran.us.r-project.org')\n",
    "library(gbm)\n",
    "library(dplyr)\n",
    "library(dismo)\n",
    "library(caret)\n",
    "library(sjPlot)\n",
    "library(sjmisc)\n",
    "library(ggplot2)\n",
    "library(raster)\n",
    "library(plyr)\n",
    "library(data.table)"
   ]
  },
  {
   "cell_type": "code",
   "execution_count": 3,
   "metadata": {},
   "outputs": [],
   "source": [
    "#model.data = read.csv(\"Outputs/model_data.csv\")\n",
    "model.data = read.csv('Outputs/dataGroup2.csv')"
   ]
  },
  {
   "cell_type": "code",
   "execution_count": 4,
   "metadata": {},
   "outputs": [],
   "source": [
    "PCRonly = read.csv('Outputs/G2_PCR_only.csv')"
   ]
  },
  {
   "cell_type": "code",
   "execution_count": 7,
   "metadata": {},
   "outputs": [
    {
     "data": {
      "text/html": [
       "<ol class=list-inline>\n",
       "\t<li>ACCIPITRIFORMES</li>\n",
       "\t<li>CHARADRIIFORMES</li>\n",
       "\t<li>STRIGIFORMES</li>\n",
       "\t<li>PASSERIFORMES</li>\n",
       "\t<li>GALLIFORMES</li>\n",
       "\t<li>PRIMATE</li>\n",
       "\t<li>ANSERIFORMES</li>\n",
       "\t<li>PELECANIFORMES</li>\n",
       "\t<li>RODENTIA</li>\n",
       "\t<li>BUCEROTIFORMES</li>\n",
       "\t<li>CETARTIODACTYLA</li>\n",
       "\t<li>CARNIVORA</li>\n",
       "\t<li>CAPRIMULGIFORMES</li>\n",
       "\t<li>PICIFORMES</li>\n",
       "\t<li>COLUMBIFORMES</li>\n",
       "\t<li>GRUIFORMES</li>\n",
       "\t<li>CATHARTIFORMES</li>\n",
       "\t<li>SULIFORMES</li>\n",
       "\t<li>CROCODYLIA</li>\n",
       "\t<li>PERISSODACTYLA</li>\n",
       "\t<li>FALCONIFORMES</li>\n",
       "\t<li>PHOENICOPTERIFORMES</li>\n",
       "\t<li>CHIROPTERA</li>\n",
       "\t<li>ANSEROFORMES</li>\n",
       "\t<li>PSITTACIFORMES</li>\n",
       "\t<li>CORACIIFORMES</li>\n",
       "\t<li>ANURA</li>\n",
       "\t<li>CICONIIFORMES</li>\n",
       "\t<li>STRUTHIONIFORMES</li>\n",
       "\t<li>DIDELPHIMORPHIA</li>\n",
       "</ol>\n"
      ],
      "text/latex": [
       "\\begin{enumerate*}\n",
       "\\item ACCIPITRIFORMES\n",
       "\\item CHARADRIIFORMES\n",
       "\\item STRIGIFORMES\n",
       "\\item PASSERIFORMES\n",
       "\\item GALLIFORMES\n",
       "\\item PRIMATE\n",
       "\\item ANSERIFORMES\n",
       "\\item PELECANIFORMES\n",
       "\\item RODENTIA\n",
       "\\item BUCEROTIFORMES\n",
       "\\item CETARTIODACTYLA\n",
       "\\item CARNIVORA\n",
       "\\item CAPRIMULGIFORMES\n",
       "\\item PICIFORMES\n",
       "\\item COLUMBIFORMES\n",
       "\\item GRUIFORMES\n",
       "\\item CATHARTIFORMES\n",
       "\\item SULIFORMES\n",
       "\\item CROCODYLIA\n",
       "\\item PERISSODACTYLA\n",
       "\\item FALCONIFORMES\n",
       "\\item PHOENICOPTERIFORMES\n",
       "\\item CHIROPTERA\n",
       "\\item ANSEROFORMES\n",
       "\\item PSITTACIFORMES\n",
       "\\item CORACIIFORMES\n",
       "\\item ANURA\n",
       "\\item CICONIIFORMES\n",
       "\\item STRUTHIONIFORMES\n",
       "\\item DIDELPHIMORPHIA\n",
       "\\end{enumerate*}\n"
      ],
      "text/markdown": [
       "1. ACCIPITRIFORMES\n",
       "2. CHARADRIIFORMES\n",
       "3. STRIGIFORMES\n",
       "4. PASSERIFORMES\n",
       "5. GALLIFORMES\n",
       "6. PRIMATE\n",
       "7. ANSERIFORMES\n",
       "8. PELECANIFORMES\n",
       "9. RODENTIA\n",
       "10. BUCEROTIFORMES\n",
       "11. CETARTIODACTYLA\n",
       "12. CARNIVORA\n",
       "13. CAPRIMULGIFORMES\n",
       "14. PICIFORMES\n",
       "15. COLUMBIFORMES\n",
       "16. GRUIFORMES\n",
       "17. CATHARTIFORMES\n",
       "18. SULIFORMES\n",
       "19. CROCODYLIA\n",
       "20. PERISSODACTYLA\n",
       "21. FALCONIFORMES\n",
       "22. PHOENICOPTERIFORMES\n",
       "23. CHIROPTERA\n",
       "24. ANSEROFORMES\n",
       "25. PSITTACIFORMES\n",
       "26. CORACIIFORMES\n",
       "27. ANURA\n",
       "28. CICONIIFORMES\n",
       "29. STRUTHIONIFORMES\n",
       "30. DIDELPHIMORPHIA\n",
       "\n",
       "\n"
      ],
      "text/plain": [
       " [1] ACCIPITRIFORMES     CHARADRIIFORMES     STRIGIFORMES       \n",
       " [4] PASSERIFORMES       GALLIFORMES         PRIMATE            \n",
       " [7] ANSERIFORMES        PELECANIFORMES      RODENTIA           \n",
       "[10] BUCEROTIFORMES      CETARTIODACTYLA     CARNIVORA          \n",
       "[13] CAPRIMULGIFORMES    PICIFORMES          COLUMBIFORMES      \n",
       "[16] GRUIFORMES          CATHARTIFORMES      SULIFORMES         \n",
       "[19] CROCODYLIA          PERISSODACTYLA      FALCONIFORMES      \n",
       "[22] PHOENICOPTERIFORMES CHIROPTERA          ANSEROFORMES       \n",
       "[25] PSITTACIFORMES      CORACIIFORMES       ANURA              \n",
       "[28] CICONIIFORMES       STRUTHIONIFORMES    DIDELPHIMORPHIA    \n",
       "30 Levels: ACCIPITRIFORMES ANSERIFORMES ANSEROFORMES ANURA ... SULIFORMES"
      ]
     },
     "metadata": {},
     "output_type": "display_data"
    }
   ],
   "source": [
    "unique(PCRonly$Order_y)"
   ]
  },
  {
   "cell_type": "code",
   "execution_count": 5,
   "metadata": {},
   "outputs": [],
   "source": [
    "species_list = unique(PCRonly$MatchHost)"
   ]
  },
  {
   "cell_type": "code",
   "execution_count": 6,
   "metadata": {},
   "outputs": [],
   "source": [
    "model.data$Class = factor(model.data$Class, levels = levels(model.data$Class))\n",
    "model.data$Order_y = factor(model.data$Order, levels = levels(model.data$Order))\n",
    "model.data$Family_y = factor(model.data$Family, levels = levels(model.data$Family))\n",
    "model.data$MatchHost = factor(model.data$MatchHost, levels = levels(model.data$MatchHost))\n",
    "model.data$IUCN.Status = factor(model.data$IUCN.Status, levels = levels(model.data$IUCN.Status))\n",
    "model.data$Diet_Certainty = factor(model.data$Diet_Certainty, levels = levels(model.data$Diet_Certainty))\n",
    "model.data$Group2Binary2 <- ifelse(model.data$Group2Binary==1,'host','nonhost')\n",
    "model.data$Group2Binary2 <- as.factor(model.data$Group2Binary2)\n",
    "outcomeName <- 'Group2Binary2'"
   ]
  },
  {
   "cell_type": "code",
   "execution_count": 7,
   "metadata": {},
   "outputs": [],
   "source": [
    "## Read in the raster data\n",
    "landuse <- raster(\"D:/lust/lus.tif\",package=\"raster\")\n",
    "## Extract attribute information for the categories from the raster layer, and convert into dataframe\n",
    "LanduseAttributeTable <- ldply(landuse@data@attributes, data.frame)\n",
    "#head(LanduseAttributeTable)"
   ]
  },
  {
   "cell_type": "code",
   "execution_count": 8,
   "metadata": {},
   "outputs": [],
   "source": [
    "## Read in the raster data\n",
    "Livestock <- raster(\"D:/lvstdt/lvstd.tif\",package=\"raster\")\n",
    "## Extract attribute information for the categories from the raster layer, and convert into dataframe\n",
    "LivestockAttributeTable <- ldply(Livestock@data@attributes, data.frame)\n",
    "#LivestockAttributeTable"
   ]
  },
  {
   "cell_type": "code",
   "execution_count": 9,
   "metadata": {},
   "outputs": [],
   "source": [
    "## Read in the raster data\n",
    "Slope <- raster(\"D:/slpt/slp.tif\",package=\"raster\")\n",
    "## Extract attribute information for the categories from the raster layer, and convert into dataframe\n",
    "SlopeAttributeTable <- ldply(Slope@data@attributes, data.frame)\n",
    "#SlopeAttributeTable"
   ]
  },
  {
   "cell_type": "code",
   "execution_count": 10,
   "metadata": {},
   "outputs": [],
   "source": [
    "model.data = merge(model.data, LanduseAttributeTable, by.x = 'LandUse_majority', by.y = 'Value', all.x = TRUE)   \n",
    "model.data = merge(model.data, LivestockAttributeTable, by.x = 'Livestock_majority', by.y = 'Value', all.x = TRUE)  \n",
    "model.data = merge(model.data, SlopeAttributeTable, by.x = 'Slope_majority', by.y = 'Value', all.x = TRUE)"
   ]
  },
  {
   "cell_type": "code",
   "execution_count": 11,
   "metadata": {},
   "outputs": [
    {
     "data": {
      "text/plain": [
       "\n",
       "    > 45 0 to 0.5 0.5 to 2 16 to 30   2 to 5 30 to 45   5 to 8  8 to 16 \n",
       "     907        0     4099     3941     3323      762      578       90 \n",
       " no data    Water \n",
       "     425       19 "
      ]
     },
     "metadata": {},
     "output_type": "display_data"
    }
   ],
   "source": [
    "table(model.data$SLP_DS)"
   ]
  },
  {
   "cell_type": "code",
   "execution_count": 12,
   "metadata": {},
   "outputs": [],
   "source": [
    "write.csv(model.data, 'Outputs/PartialDependence2/Group2Data_forPartial_PCRonly.csv')"
   ]
  },
  {
   "cell_type": "code",
   "execution_count": 13,
   "metadata": {},
   "outputs": [],
   "source": [
    "model.data$OutputPCR = ifelse(model.data$MatchHost %in% species_list, 1, 0)"
   ]
  },
  {
   "cell_type": "code",
   "execution_count": 14,
   "metadata": {},
   "outputs": [
    {
     "data": {
      "text/plain": [
       "\n",
       "    0     1 \n",
       "13996   148 "
      ]
     },
     "metadata": {},
     "output_type": "display_data"
    }
   ],
   "source": [
    "table(model.data$OutputPCR)"
   ]
  },
  {
   "cell_type": "code",
   "execution_count": 15,
   "metadata": {},
   "outputs": [],
   "source": [
    "habitats = c(\"Forest\",\"Savanna\",\"Shrubland\",\"Grassland\",\"Wetlands\",\"Rocky.areas\",\"Caves.and.Subterranean.Habitats\",\"Desert\",\n",
    "            \"Marine.Neritic\",\"Marine.Oceanic\",\"Marine.Deep.Ocean.Floor\",\"Marine.Intertidal\",\"Marine.Coastal.Supratidal\", \n",
    "            \"Artificial.Terrestrial\",\"Artificial.Aquatic\",\"Introduced.Vegetation\",\"Other\",\"Unknown\")\n",
    "\n",
    "predictorsNames = c(\"Bio12_majority\", \"Bio12_max\", \"Bio12_mean\", \"Bio12_min\", \"Bio12_range\",\n",
    "                    \"Bio12_std\", \"Bio1_majority\", \"Bio1_max\", \"Bio1_mean\", \"Bio1_min\", \"Bio1_range\", \"Bio1_std\", \"Bio3_majority\",\n",
    "                    \"Bio3_max\", \"Bio3_mean\", \"Bio3_min\", \"Bio3_range\", \"Bio3_std\", \"Crops_majority\",\n",
    "                    \"HuPop_majority\", \"HuPop_max\", \"HuPop_mean\", \"HuPop_min\", \"HuPop_range\",\n",
    "                    \"HuPop_std\", \"LandUse_majority\", \"Livestock_majority\", \"Mosquitoes_majority\", \"Mosquitoes_max\",\n",
    "                    \"Mosquitoes_mean\", \"Slope_mean\", \"Slope_min\", \"Slope_range\", \"Slope_std\",\n",
    "                    \"Ticks_majority\", \"Ticks_mean\", \"Ticks_min\", \"bdiversity_majority\", \"bdiversity_max\",\n",
    "                    \"bdiversity_mean\", \"bdiversity_min\", \"bdiversity_range\", \"bdiversity_std\",\n",
    "                    \"centroidY\", \"maxlat\", \"mdiversity_majority\", \"mdiversity_max\", \"mdiversity_mean\",\n",
    "                    \"mdiversity_min\", \"mdiversity_range\", \"mdiversity_std\", \"minlat\",\n",
    "                    \"minlong\", \"Mosquitoes_min_log\", \"Mosquitoes_range_log\", \"Mosquitoes_std_log\",\n",
    "                    \"Shape_Area_log\", \"Shape_Length_log\", \"Slope_majority_log\", \"Slope_max_log\",\n",
    "                    \"Ticks_max_log\", \"Ticks_range_log\", \"Ticks_std_log\", \"centroidX_log\", \"maxlong_log\",\n",
    "                    \"MaxDiet\", \"ForStrategy\", \"ActivityTime\",\"Body_Temperature\", \"IUCN.Status\",\n",
    "                    \"Population.trend\", \"Data.Richness\", \"BodyMass_ln\", \"Metabolic_Rate_ln\", \"Habitat_Breadth_sqrt\",\n",
    "                    \"PubmedHits_ln\",'HuPop_mean_log',\n",
    "                    'Class','Family','Order','SLP_DS',\n",
    "                    \n",
    "        'MURIDAE', 'CRICETIDAE', 'ABROCOMIDAE', 'PTEROPODIDAE', 'FELIDAE',\n",
    "       'OCTODONTIDAE', 'BOVIDAE', 'SCIURIDAE', 'URSIDAE', 'AILURIDAE',\n",
    "       'CERVIDAE', 'DIPODIDAE', 'ATELIDAE', 'PHYLLOSTOMIDAE',\n",
    "       'FURIPTERIDAE', 'ANOMALURIDAE', 'HIPPOSIDERIDAE', 'ANTILOCAPRIDAE',\n",
    "       'VESPERTILIONIDAE', 'MUSTELIDAE', 'APLODONTIIDAE', 'VIVERRIDAE',\n",
    "       'CANIDAE', 'HYSTRICIDAE', 'HERPESTIDAE', 'MOLOSSIDAE', 'SUIDAE',\n",
    "       'EMBALLONURIDAE', 'PROCYONIDAE', 'BATHYERGIDAE', 'NESOMYIDAE',\n",
    "       'LEPORIDAE', 'BRADYPODIDAE', 'ECHIMYIDAE', 'CALLITRICHIDAE',\n",
    "       'CALOMYSCIDAE', 'DIDELPHIDAE', 'CAMELIDAE', 'SPALACIDAE',\n",
    "       'CAPROMYIDAE', 'MEGADERMATIDAE', 'CASTORIDAE', 'TAYASSUIDAE',\n",
    "       'CAVIIDAE', 'RHINOCEROTIDAE', 'GLIRIDAE', 'HETEROMYIDAE',\n",
    "       'ERETHIZONTIDAE', 'NATALIDAE', 'CHINCHILLIDAE', 'CERCOPITHECIDAE',\n",
    "       'HIPPOPOTAMIDAE', 'MEGALONYCHIDAE', 'MEPHITIDAE',\n",
    "       'CRASEONYCTERIDAE', 'GEOMYIDAE', 'HYAENIDAE', 'EUPLERIDAE',\n",
    "       'CTENODACTYLIDAE', 'CTENOMYIDAE', 'CUNICULIDAE', 'CYCLOPEDIDAE',\n",
    "       'DASYPROCTIDAE', 'DINOMYIDAE', 'EQUIDAE', 'GIRAFFIDAE',\n",
    "       'TRAGULIDAE', 'DIATOMYIDAE', 'MORMOOPIDAE', 'MOSCHIDAE',\n",
    "       'MYOCASTORIDAE', 'MYRMECOPHAGIDAE', 'MYSTACINIDAE', 'MYZOPODIDAE',\n",
    "       'NANDINIIDAE', 'NOCTILIONIDAE', 'NYCTERIDAE', 'OCHOTONIDAE',\n",
    "       'PEDETIDAE', 'PETROMURIDAE', 'PLATACANTHOMYIDAE', 'HOMINIDAE',\n",
    "       'PRIONODONTIDAE', 'RHINOLOPHIDAE', 'RHINOPOMATIDAE', 'CEBIDAE',\n",
    "       'TAPIRIDAE', 'THRYONOMYIDAE', 'THYROPTERIDAE', 'TROCHILIDAE',\n",
    "       'SYLVIIDAE', 'CRACIDAE', 'MELIPHAGIDAE', 'EMBERIZIDAE',\n",
    "       'ACANTHISITTIDAE', 'ACANTHIZIDAE', 'ACCIPITRIDAE', 'BUCEROTIDAE',\n",
    "       'STURNIDAE', 'FURNARIIDAE', 'RHINOCRYPTIDAE', 'NUMIDIDAE',\n",
    "       'ALCEDINIDAE', 'TIMALIIDAE', 'SCOLOPACIDAE', 'JACANIDAE',\n",
    "       'AEGITHALIDAE', 'AEGITHINIDAE', 'STRIGIDAE', 'AEGOTHELIDAE',\n",
    "       'MEGAPODIIDAE', 'APODIDAE', 'ALCIDAE', 'NECTARINIIDAE',\n",
    "       'PHASIANIDAE', 'ARDEIDAE', 'PSITTACIDAE', 'ICTERIDAE', 'TYRANNIDAE',\n",
    "       'PTILONORHYNCHIDAE', 'ANATIDAE', 'ALAUDIDAE', 'PACHYCEPHALIDAE',\n",
    "       'COLUMBIDAE', 'TURDIDAE', 'PYCNONOTIDAE', 'HIRUNDINIDAE',\n",
    "       'ESTRILDIDAE', 'PETROICIDAE', 'RALLIDAE', 'CARDINALIDAE',\n",
    "       'PLOCEIDAE', 'COTINGIDAE', 'MALURIDAE', 'CHARADRIIDAE',\n",
    "       'CICONIIDAE', 'RAMPHASTIDAE', 'EUPETIDAE', 'ANHIMIDAE',\n",
    "       'ANHINGIDAE', 'THRAUPIDAE', 'VIDUIDAE', 'LARIDAE', 'ANSERANATIDAE',\n",
    "       'REMIZIDAE', 'GRUIDAE', 'MOTACILLIDAE', 'PIPRIDAE', 'CAPRIMULGIDAE',\n",
    "       'CISTICOLIDAE', 'ZOSTEROPIDAE', 'CORVIDAE', 'APTERYGIDAE',\n",
    "       'ARAMIDAE', 'MONARCHIDAE', 'VANGIDAE', 'ARTAMIDAE', 'MOMOTIDAE',\n",
    "       'PARADISAEIDAE', 'BRACHYPTERACIIDAE', 'ATRICHORNITHIDAE',\n",
    "       'THINOCORIDAE', 'PARIDAE', 'BALAENICIPITIDAE', 'PARULIDAE',\n",
    "       'THAMNOPHILIDAE', 'PLATYSTEIRIDAE', 'PODARGIDAE', 'PICIDAE',\n",
    "       'BOMBYCILLIDAE', 'THRESKIORNITHIDAE', 'GALBULIDAE', 'MUSCICAPIDAE',\n",
    "       'FRINGILLIDAE', 'LYBIIDAE', 'BUCCONIDAE', 'BURHINIDAE',\n",
    "       'CACATUIDAE', 'CUCULIDAE', 'CALLAEATIDAE', 'ODONTOPHORIDAE',\n",
    "       'MEGALAIMIDAE', 'EURYLAIMIDAE', 'CAMPEPHAGIDAE', 'DENDROCOLAPTIDAE',\n",
    "       'TROGLODYTIDAE', 'CAPITONIDAE', 'FALCONIDAE', 'CASUARIIDAE',\n",
    "       'STERCORARIIDAE', 'CATHARTIDAE', 'CERTHIIDAE', 'MOHOIDAE',\n",
    "       'DICRURIDAE', 'FORMICARIIDAE', 'CHIONIDAE', 'CHLOROPSEIDAE',\n",
    "       'MIMIDAE', 'CINCLOSOMATIDAE', 'CINCLIDAE', 'RECURVIROSTRIDAE',\n",
    "       'CLIMACTERIDAE', 'CNEMOPHILIDAE', 'COEREBIDAE', 'COLLURICINCLIDAE',\n",
    "       'CONOPOPHAGIDAE', 'CORACIIDAE', 'CORCORACIDAE', 'LANIIDAE',\n",
    "       'CRACTICIDAE', 'TINAMIDAE', 'GLAREOLIDAE', 'VIREONIDAE',\n",
    "       'NEOSITTIDAE', 'DASYORNITHIDAE', 'DICAEIDAE', 'DONACOBIIDAE',\n",
    "       'DROMADIDAE', 'MALACONOTIDAE', 'DULIDAE', 'FALCUNCULIDAE',\n",
    "       'FREGATIDAE', 'HAEMATOPODIDAE', 'HELIORNITHIDAE', 'HEMIPROCNIDAE',\n",
    "       'PASSERIDAE', 'IBIDORHYNCHIDAE', 'ORTHONYCHIDAE', 'INDICATORIDAE',\n",
    "       'IRENIDAE', 'MACHAERIRHYNCHIDAE', 'MELANOCHARITIDAE', 'MENURIDAE',\n",
    "       'MEROPIDAE', 'POLIOPTILIDAE', 'PHALACROCORACIDAE', 'SULIDAE',\n",
    "       'PHILEPITTIDAE', 'STRIGOPIDAE', 'NYCTIBIIDAE', 'ROSTRATULIDAE',\n",
    "       'ORIOLIDAE', 'TURNICIDAE', 'PANDIONIDAE', 'PARDALOTIDAE',\n",
    "       'PEDIONOMIDAE', 'PELECANIDAE', 'PEUCEDRAMIDAE', 'TYTONIDAE',\n",
    "       'PHOENICOPTERIDAE', 'PHOENICULIDAE', 'PICATHARTIDAE', 'PITTIDAE',\n",
    "       'PITYRIASEIDAE', 'PLUVIANELLIDAE', 'PLUVIANIDAE', 'POMATOSTOMIDAE',\n",
    "       'PROMEROPIDAE', 'PRUNELLIDAE', 'PSOPHIIDAE', 'REGULIIDAE',\n",
    "       'RHABDORNITHIDAE', 'RHEIDAE', 'RHIPIDURIDAE', 'SAGITTARIIDAE',\n",
    "       'SAPAYOAIDAE', 'SCOPIDAE', 'SEMNORNITHIDAE', 'SITTIDAE',\n",
    "       'STEATORNITHIDAE', 'STRUTHIONIDAE', 'TODIDAE', 'TURNAGRIDAE',\n",
    "       'UPUPIDAE', 'UROCYNCHRAMIDAE','PubmedHits')\n",
    "\n",
    "\n",
    "predictorsNames = predictorsNames[!predictorsNames %in% c('Activity_Diurnal', 'Activity_Nocturnal', 'BodyMass_SpecLevel',\n",
    "                                        'Diet_Fruit', \"Diet_Inv\",\"Diet_Nect\",\"Diet_PlantO\", \"Diet_Scav\",\n",
    "                                        \"Diet_Seed\", \"Diet_Vect\",\"Diet_Vend\", \"Diet_Vfish\", \"Diet_Vunk\",\n",
    "                                        \"ForStrat_aerial\", \"ForStrat_aquatic\",\"ForStrat_arboreal\", \"ForStrat_ground\", \n",
    "                                        'Crops_count', \"Crops_max\",\"Crops_mean\", \"Crops_median\", \"Crops_min\",\"Crops_range\",\n",
    "                                        \"Crops_std\",\"LandUse_count\",'LandUse_majority', \"LandUse_max\",\"LandUse_mean\",\n",
    "                                        \"LandUse_median\",\"LandUse_min\",\"LandUse_range\",\"LandUse_std\",\"Livestock_count\",\n",
    "                                        \"Livestock_majority\",\"Livestock_max\",\"Livestock_mean\",\"Livestock_median\",\"Livestock_min\",\n",
    "                                        \"Livestock_range\",\"Livestock_std\",\"MetRate_W_log\",\"BodyMass_log\",\n",
    "                                        'TotalBinary', 'Test', 'Class','Family', 'Order','Data.Richness',\n",
    "                                                         'PubmedHits', \"BodyMass\", \"Metabolic.Rate\",\n",
    "                                                          \"Distribution.Area\", \"Mean.Temperature\", \"Mean.Human.population\",\n",
    "\"HabitatBreadth\", \"bdiversity_min\", \"bdiversity_std\", \"mdiversity_min\",\n",
    "\"mdiversity_std\", \n",
    "                                                         \"CROCODYLIDAE\", \n",
    "\"OTARIIDAE\", \"BALAENIDAE\", \"BALAENOPTERIDAE\", \"ZIPHIIDAE\", \"NEOBALAENIDAE\", \"CHAEROPODIDAE\", \"CISTUGIDAE\",\n",
    "\"PHOCIDAE\",\"MONODONTIDAE\",\"DUGONGIDAE\",\"ESCHRICHTIIDAE\",\"INIIDAE\",\"PHYSETERIDAE\",\n",
    "\"MINIOPTERIDAE\",\"PHOCOENIDAE\",\"NESOPHONTIDAE\",\"ODOBENIDAE\",\"PALAEOPROPITHECIDAE\",\"PLATANISTIDAE\",\n",
    "\"PROLAGIDAE\",\"THYLACINIDAE\",\"TRICHECHIDAE\", \"BUFONIDAE\",\n",
    "\"RANIDAE\",\"PSITTACILIDAE\",\"PSITTACULIDAE\",\"DELPHINIDAE\",\"sp\", \n",
    "                                                         \"Bio12_range\",\"Bio1_range\",\"Bio3_range\", 'HuPop_range',\n",
    "                                                          \"Slope_range\", \"bdiversity_range\", \"mdiversity_range\",\n",
    "                                                          \"Mosquitoes_range_log\",\"Ticks_range_log\",\"Bio12_majority\",\n",
    "                                                          \n",
    "                                                          \"Bio1_majority\",\"Bio3_majority\", 'HuPop_majority',\n",
    "                                                         \"Slope_majority_log\", \"bdiversity_majority\", \"mdiversity_majority\",\n",
    "                                                         \"Mosquitoes_majority\",\"Ticks_majority\",\n",
    "                                                         \n",
    "                                                          \"Bio1_max\",\"Bio3_max\", 'HuPop_max',\n",
    "                                                         \"Slope_max_log\", \"bdiversity_max\", \"mdiversity_max\",\n",
    "                                                         \"Mosquitoes_max\",\"Ticks_max\",\n",
    "                                                         \n",
    "                                                          \"Bio1_min\",\"Bio3_min\", 'HuPop_min',\n",
    "                                                         \"Slope_min_log\", \"bdiversity_min\", \"mdiversity_min\",\n",
    "                                                         \"Mosquitoes_min\",\"Ticks_min\",\n",
    "                                                         \n",
    "                                                          \"Bio1_std\",\"Bio3_std\", 'HuPop_std',\n",
    "                                                         \"Slope_std_log\", \"bdiversity_std\", \"mdiversity_std\",\n",
    "                                                         \"Mosquitoes_std\",\"Ticks_std\",\n",
    "                                                         \n",
    "                                                          'Shape_Length_log', \"Slope_mean\",\n",
    "                                                         \n",
    "                                                          \"Bio12_max\",\"Bio12_min\",\"Bio12_std\",\n",
    "                                                         \"Slope_min\",\"Slope_std\", \n",
    "                                                         \"Mosquitoes_min_log\", \"Mosquitoes_std_log\",\n",
    "                                                          \"Ticks_max_log\", \"Ticks_std_log\", \n",
    "                                                         'HuPop_mean')]\n",
    "predictorsNames = predictorsNames[!predictorsNames %in% habitats]\n",
    "\n",
    "#predictorsNames = c(predictorsNames, 'LVSTD_DS', 'LUS_DS')\n",
    "predictorsNames = c(predictorsNames, 'LVSTD_DS', 'LandUse_collapsed')"
   ]
  },
  {
   "cell_type": "code",
   "execution_count": 16,
   "metadata": {},
   "outputs": [
    {
     "data": {
      "text/html": [
       "304"
      ],
      "text/latex": [
       "304"
      ],
      "text/markdown": [
       "304"
      ],
      "text/plain": [
       "[1] 304"
      ]
     },
     "metadata": {},
     "output_type": "display_data"
    }
   ],
   "source": [
    "length(predictorsNames)"
   ]
  },
  {
   "cell_type": "code",
   "execution_count": 17,
   "metadata": {},
   "outputs": [],
   "source": [
    "outcomeName <- 'OutputPCR'"
   ]
  },
  {
   "cell_type": "code",
   "execution_count": null,
   "metadata": {
    "scrolled": false
   },
   "outputs": [],
   "source": [
    "set.seed(25)\n",
    "Group2.total.tc5.lr0005 <- gbm.step(data = model.data,\n",
    "                                   gbm.x = predictorsNames,\n",
    "                                   gbm.y = outcomeName,\n",
    "                                   family = \"bernoulli\",\n",
    "                                   tree.complexity = 5,\n",
    "                                   learning.rate = 0.01,\n",
    "                                   bag.fraction = 0.5, \n",
    "                                   cv = 10)"
   ]
  },
  {
   "cell_type": "code",
   "execution_count": 16,
   "metadata": {
    "scrolled": false
   },
   "outputs": [
    {
     "data": {
      "text/html": [
       "<table>\n",
       "<thead><tr><th></th><th scope=col>var</th><th scope=col>rel.inf</th></tr></thead>\n",
       "<tbody>\n",
       "\t<tr><th scope=row>Shape_Area_log</th><td>Shape_Area_log      </td><td>13.1959645          </td></tr>\n",
       "\t<tr><th scope=row>maxlat</th><td>maxlat              </td><td> 9.9533414          </td></tr>\n",
       "\t<tr><th scope=row>minlong</th><td>minlong             </td><td> 9.3505161          </td></tr>\n",
       "\t<tr><th scope=row>PubmedHits_ln</th><td>PubmedHits_ln       </td><td> 9.0310727          </td></tr>\n",
       "\t<tr><th scope=row>MaxDiet</th><td>MaxDiet             </td><td> 6.0215679          </td></tr>\n",
       "\t<tr><th scope=row>centroidY</th><td>centroidY           </td><td> 4.9269877          </td></tr>\n",
       "\t<tr><th scope=row>BodyMass_ln</th><td>BodyMass_ln         </td><td> 3.5047010          </td></tr>\n",
       "\t<tr><th scope=row>Population.trend</th><td>Population.trend    </td><td> 3.3239570          </td></tr>\n",
       "\t<tr><th scope=row>minlat</th><td>minlat              </td><td> 3.0764769          </td></tr>\n",
       "\t<tr><th scope=row>Bio12_mean</th><td>Bio12_mean          </td><td> 2.9180091          </td></tr>\n",
       "\t<tr><th scope=row>Bio3_mean</th><td>Bio3_mean           </td><td> 2.7714567          </td></tr>\n",
       "\t<tr><th scope=row>Ticks_mean</th><td>Ticks_mean          </td><td> 2.7423563          </td></tr>\n",
       "\t<tr><th scope=row>Mosquitoes_mean</th><td>Mosquitoes_mean     </td><td> 2.6801755          </td></tr>\n",
       "\t<tr><th scope=row>centroidX_log</th><td>centroidX_log       </td><td> 2.6719798          </td></tr>\n",
       "\t<tr><th scope=row>Metabolic_Rate_ln</th><td>Metabolic_Rate_ln   </td><td> 2.1948508          </td></tr>\n",
       "\t<tr><th scope=row>HuPop_mean_log</th><td>HuPop_mean_log      </td><td> 2.1772192          </td></tr>\n",
       "\t<tr><th scope=row>maxlong_log</th><td>maxlong_log         </td><td> 2.0726132          </td></tr>\n",
       "\t<tr><th scope=row>SLP_DS</th><td>SLP_DS              </td><td> 1.9116211          </td></tr>\n",
       "\t<tr><th scope=row>Bio1_mean</th><td>Bio1_mean           </td><td> 1.8351231          </td></tr>\n",
       "\t<tr><th scope=row>Body_Temperature</th><td>Body_Temperature    </td><td> 1.6272803          </td></tr>\n",
       "\t<tr><th scope=row>bdiversity_mean</th><td>bdiversity_mean     </td><td> 1.5123377          </td></tr>\n",
       "\t<tr><th scope=row>ForStrategy</th><td>ForStrategy         </td><td> 1.5079076          </td></tr>\n",
       "\t<tr><th scope=row>mdiversity_mean</th><td>mdiversity_mean     </td><td> 1.4597805          </td></tr>\n",
       "\t<tr><th scope=row>LandUse_collapsed</th><td>LandUse_collapsed   </td><td> 0.9958684          </td></tr>\n",
       "\t<tr><th scope=row>ActivityTime</th><td>ActivityTime        </td><td> 0.8674452          </td></tr>\n",
       "\t<tr><th scope=row>STRIGIDAE</th><td>STRIGIDAE           </td><td> 0.8306567          </td></tr>\n",
       "\t<tr><th scope=row>LVSTD_DS</th><td>LVSTD_DS            </td><td> 0.7911842          </td></tr>\n",
       "\t<tr><th scope=row>Habitat_Breadth_sqrt</th><td>Habitat_Breadth_sqrt</td><td> 0.5245207          </td></tr>\n",
       "\t<tr><th scope=row>ACCIPITRIDAE</th><td>ACCIPITRIDAE        </td><td> 0.4881954          </td></tr>\n",
       "\t<tr><th scope=row>ICTERIDAE</th><td>ICTERIDAE           </td><td> 0.4238631          </td></tr>\n",
       "\t<tr><th scope=row>...</th><td>...</td><td>...</td></tr>\n",
       "\t<tr><th scope=row>PEDIONOMIDAE</th><td>PEDIONOMIDAE    </td><td>0               </td></tr>\n",
       "\t<tr><th scope=row>PELECANIDAE</th><td>PELECANIDAE     </td><td>0               </td></tr>\n",
       "\t<tr><th scope=row>PEUCEDRAMIDAE</th><td>PEUCEDRAMIDAE   </td><td>0               </td></tr>\n",
       "\t<tr><th scope=row>TYTONIDAE</th><td>TYTONIDAE       </td><td>0               </td></tr>\n",
       "\t<tr><th scope=row>PHOENICOPTERIDAE</th><td>PHOENICOPTERIDAE</td><td>0               </td></tr>\n",
       "\t<tr><th scope=row>PHOENICULIDAE</th><td>PHOENICULIDAE   </td><td>0               </td></tr>\n",
       "\t<tr><th scope=row>PICATHARTIDAE</th><td>PICATHARTIDAE   </td><td>0               </td></tr>\n",
       "\t<tr><th scope=row>PITTIDAE</th><td>PITTIDAE        </td><td>0               </td></tr>\n",
       "\t<tr><th scope=row>PITYRIASEIDAE</th><td>PITYRIASEIDAE   </td><td>0               </td></tr>\n",
       "\t<tr><th scope=row>PLUVIANELLIDAE</th><td>PLUVIANELLIDAE  </td><td>0               </td></tr>\n",
       "\t<tr><th scope=row>PLUVIANIDAE</th><td>PLUVIANIDAE     </td><td>0               </td></tr>\n",
       "\t<tr><th scope=row>POMATOSTOMIDAE</th><td>POMATOSTOMIDAE  </td><td>0               </td></tr>\n",
       "\t<tr><th scope=row>PROMEROPIDAE</th><td>PROMEROPIDAE    </td><td>0               </td></tr>\n",
       "\t<tr><th scope=row>PRUNELLIDAE</th><td>PRUNELLIDAE     </td><td>0               </td></tr>\n",
       "\t<tr><th scope=row>PSOPHIIDAE</th><td>PSOPHIIDAE      </td><td>0               </td></tr>\n",
       "\t<tr><th scope=row>REGULIIDAE</th><td>REGULIIDAE      </td><td>0               </td></tr>\n",
       "\t<tr><th scope=row>RHABDORNITHIDAE</th><td>RHABDORNITHIDAE </td><td>0               </td></tr>\n",
       "\t<tr><th scope=row>RHEIDAE</th><td>RHEIDAE         </td><td>0               </td></tr>\n",
       "\t<tr><th scope=row>RHIPIDURIDAE</th><td>RHIPIDURIDAE    </td><td>0               </td></tr>\n",
       "\t<tr><th scope=row>SAGITTARIIDAE</th><td>SAGITTARIIDAE   </td><td>0               </td></tr>\n",
       "\t<tr><th scope=row>SAPAYOAIDAE</th><td>SAPAYOAIDAE     </td><td>0               </td></tr>\n",
       "\t<tr><th scope=row>SCOPIDAE</th><td>SCOPIDAE        </td><td>0               </td></tr>\n",
       "\t<tr><th scope=row>SEMNORNITHIDAE</th><td>SEMNORNITHIDAE  </td><td>0               </td></tr>\n",
       "\t<tr><th scope=row>SITTIDAE</th><td>SITTIDAE        </td><td>0               </td></tr>\n",
       "\t<tr><th scope=row>STEATORNITHIDAE</th><td>STEATORNITHIDAE </td><td>0               </td></tr>\n",
       "\t<tr><th scope=row>STRUTHIONIDAE</th><td>STRUTHIONIDAE   </td><td>0               </td></tr>\n",
       "\t<tr><th scope=row>TODIDAE</th><td>TODIDAE         </td><td>0               </td></tr>\n",
       "\t<tr><th scope=row>TURNAGRIDAE</th><td>TURNAGRIDAE     </td><td>0               </td></tr>\n",
       "\t<tr><th scope=row>UPUPIDAE</th><td>UPUPIDAE        </td><td>0               </td></tr>\n",
       "\t<tr><th scope=row>UROCYNCHRAMIDAE</th><td>UROCYNCHRAMIDAE </td><td>0               </td></tr>\n",
       "</tbody>\n",
       "</table>\n"
      ],
      "text/latex": [
       "\\begin{tabular}{r|ll}\n",
       "  & var & rel.inf\\\\\n",
       "\\hline\n",
       "\tShape\\_Area\\_log & Shape\\_Area\\_log       & 13.1959645              \\\\\n",
       "\tmaxlat & maxlat               &  9.9533414          \\\\\n",
       "\tminlong & minlong              &  9.3505161          \\\\\n",
       "\tPubmedHits\\_ln & PubmedHits\\_ln        &  9.0310727            \\\\\n",
       "\tMaxDiet & MaxDiet              &  6.0215679          \\\\\n",
       "\tcentroidY & centroidY            &  4.9269877          \\\\\n",
       "\tBodyMass\\_ln & BodyMass\\_ln          &  3.5047010            \\\\\n",
       "\tPopulation.trend & Population.trend     &  3.3239570          \\\\\n",
       "\tminlat & minlat               &  3.0764769          \\\\\n",
       "\tBio12\\_mean & Bio12\\_mean           &  2.9180091            \\\\\n",
       "\tBio3\\_mean & Bio3\\_mean            &  2.7714567            \\\\\n",
       "\tTicks\\_mean & Ticks\\_mean           &  2.7423563            \\\\\n",
       "\tMosquitoes\\_mean & Mosquitoes\\_mean      &  2.6801755            \\\\\n",
       "\tcentroidX\\_log & centroidX\\_log        &  2.6719798            \\\\\n",
       "\tMetabolic\\_Rate\\_ln & Metabolic\\_Rate\\_ln    &  2.1948508              \\\\\n",
       "\tHuPop\\_mean\\_log & HuPop\\_mean\\_log       &  2.1772192              \\\\\n",
       "\tmaxlong\\_log & maxlong\\_log          &  2.0726132            \\\\\n",
       "\tSLP\\_DS & SLP\\_DS               &  1.9116211            \\\\\n",
       "\tBio1\\_mean & Bio1\\_mean            &  1.8351231            \\\\\n",
       "\tBody\\_Temperature & Body\\_Temperature     &  1.6272803            \\\\\n",
       "\tbdiversity\\_mean & bdiversity\\_mean      &  1.5123377            \\\\\n",
       "\tForStrategy & ForStrategy          &  1.5079076          \\\\\n",
       "\tmdiversity\\_mean & mdiversity\\_mean      &  1.4597805            \\\\\n",
       "\tLandUse\\_collapsed & LandUse\\_collapsed    &  0.9958684            \\\\\n",
       "\tActivityTime & ActivityTime         &  0.8674452          \\\\\n",
       "\tSTRIGIDAE & STRIGIDAE            &  0.8306567          \\\\\n",
       "\tLVSTD\\_DS & LVSTD\\_DS             &  0.7911842            \\\\\n",
       "\tHabitat\\_Breadth\\_sqrt & Habitat\\_Breadth\\_sqrt &  0.5245207              \\\\\n",
       "\tACCIPITRIDAE & ACCIPITRIDAE         &  0.4881954          \\\\\n",
       "\tICTERIDAE & ICTERIDAE            &  0.4238631          \\\\\n",
       "\t... & ... & ...\\\\\n",
       "\tPEDIONOMIDAE & PEDIONOMIDAE     & 0               \\\\\n",
       "\tPELECANIDAE & PELECANIDAE      & 0               \\\\\n",
       "\tPEUCEDRAMIDAE & PEUCEDRAMIDAE    & 0               \\\\\n",
       "\tTYTONIDAE & TYTONIDAE        & 0               \\\\\n",
       "\tPHOENICOPTERIDAE & PHOENICOPTERIDAE & 0               \\\\\n",
       "\tPHOENICULIDAE & PHOENICULIDAE    & 0               \\\\\n",
       "\tPICATHARTIDAE & PICATHARTIDAE    & 0               \\\\\n",
       "\tPITTIDAE & PITTIDAE         & 0               \\\\\n",
       "\tPITYRIASEIDAE & PITYRIASEIDAE    & 0               \\\\\n",
       "\tPLUVIANELLIDAE & PLUVIANELLIDAE   & 0               \\\\\n",
       "\tPLUVIANIDAE & PLUVIANIDAE      & 0               \\\\\n",
       "\tPOMATOSTOMIDAE & POMATOSTOMIDAE   & 0               \\\\\n",
       "\tPROMEROPIDAE & PROMEROPIDAE     & 0               \\\\\n",
       "\tPRUNELLIDAE & PRUNELLIDAE      & 0               \\\\\n",
       "\tPSOPHIIDAE & PSOPHIIDAE       & 0               \\\\\n",
       "\tREGULIIDAE & REGULIIDAE       & 0               \\\\\n",
       "\tRHABDORNITHIDAE & RHABDORNITHIDAE  & 0               \\\\\n",
       "\tRHEIDAE & RHEIDAE          & 0               \\\\\n",
       "\tRHIPIDURIDAE & RHIPIDURIDAE     & 0               \\\\\n",
       "\tSAGITTARIIDAE & SAGITTARIIDAE    & 0               \\\\\n",
       "\tSAPAYOAIDAE & SAPAYOAIDAE      & 0               \\\\\n",
       "\tSCOPIDAE & SCOPIDAE         & 0               \\\\\n",
       "\tSEMNORNITHIDAE & SEMNORNITHIDAE   & 0               \\\\\n",
       "\tSITTIDAE & SITTIDAE         & 0               \\\\\n",
       "\tSTEATORNITHIDAE & STEATORNITHIDAE  & 0               \\\\\n",
       "\tSTRUTHIONIDAE & STRUTHIONIDAE    & 0               \\\\\n",
       "\tTODIDAE & TODIDAE          & 0               \\\\\n",
       "\tTURNAGRIDAE & TURNAGRIDAE      & 0               \\\\\n",
       "\tUPUPIDAE & UPUPIDAE         & 0               \\\\\n",
       "\tUROCYNCHRAMIDAE & UROCYNCHRAMIDAE  & 0               \\\\\n",
       "\\end{tabular}\n"
      ],
      "text/markdown": [
       "\n",
       "| <!--/--> | var | rel.inf | \n",
       "|---|---|---|---|---|---|---|---|---|---|---|---|---|---|---|---|---|---|---|---|---|---|---|---|---|---|---|---|---|---|---|---|---|---|---|---|---|---|---|---|---|---|---|---|---|---|---|---|---|---|---|---|---|---|---|---|---|---|---|---|---|\n",
       "| Shape_Area_log | Shape_Area_log       | 13.1959645           | \n",
       "| maxlat | maxlat               |  9.9533414           | \n",
       "| minlong | minlong              |  9.3505161           | \n",
       "| PubmedHits_ln | PubmedHits_ln        |  9.0310727           | \n",
       "| MaxDiet | MaxDiet              |  6.0215679           | \n",
       "| centroidY | centroidY            |  4.9269877           | \n",
       "| BodyMass_ln | BodyMass_ln          |  3.5047010           | \n",
       "| Population.trend | Population.trend     |  3.3239570           | \n",
       "| minlat | minlat               |  3.0764769           | \n",
       "| Bio12_mean | Bio12_mean           |  2.9180091           | \n",
       "| Bio3_mean | Bio3_mean            |  2.7714567           | \n",
       "| Ticks_mean | Ticks_mean           |  2.7423563           | \n",
       "| Mosquitoes_mean | Mosquitoes_mean      |  2.6801755           | \n",
       "| centroidX_log | centroidX_log        |  2.6719798           | \n",
       "| Metabolic_Rate_ln | Metabolic_Rate_ln    |  2.1948508           | \n",
       "| HuPop_mean_log | HuPop_mean_log       |  2.1772192           | \n",
       "| maxlong_log | maxlong_log          |  2.0726132           | \n",
       "| SLP_DS | SLP_DS               |  1.9116211           | \n",
       "| Bio1_mean | Bio1_mean            |  1.8351231           | \n",
       "| Body_Temperature | Body_Temperature     |  1.6272803           | \n",
       "| bdiversity_mean | bdiversity_mean      |  1.5123377           | \n",
       "| ForStrategy | ForStrategy          |  1.5079076           | \n",
       "| mdiversity_mean | mdiversity_mean      |  1.4597805           | \n",
       "| LandUse_collapsed | LandUse_collapsed    |  0.9958684           | \n",
       "| ActivityTime | ActivityTime         |  0.8674452           | \n",
       "| STRIGIDAE | STRIGIDAE            |  0.8306567           | \n",
       "| LVSTD_DS | LVSTD_DS             |  0.7911842           | \n",
       "| Habitat_Breadth_sqrt | Habitat_Breadth_sqrt |  0.5245207           | \n",
       "| ACCIPITRIDAE | ACCIPITRIDAE         |  0.4881954           | \n",
       "| ICTERIDAE | ICTERIDAE            |  0.4238631           | \n",
       "| ... | ... | ... | \n",
       "| PEDIONOMIDAE | PEDIONOMIDAE     | 0                | \n",
       "| PELECANIDAE | PELECANIDAE      | 0                | \n",
       "| PEUCEDRAMIDAE | PEUCEDRAMIDAE    | 0                | \n",
       "| TYTONIDAE | TYTONIDAE        | 0                | \n",
       "| PHOENICOPTERIDAE | PHOENICOPTERIDAE | 0                | \n",
       "| PHOENICULIDAE | PHOENICULIDAE    | 0                | \n",
       "| PICATHARTIDAE | PICATHARTIDAE    | 0                | \n",
       "| PITTIDAE | PITTIDAE         | 0                | \n",
       "| PITYRIASEIDAE | PITYRIASEIDAE    | 0                | \n",
       "| PLUVIANELLIDAE | PLUVIANELLIDAE   | 0                | \n",
       "| PLUVIANIDAE | PLUVIANIDAE      | 0                | \n",
       "| POMATOSTOMIDAE | POMATOSTOMIDAE   | 0                | \n",
       "| PROMEROPIDAE | PROMEROPIDAE     | 0                | \n",
       "| PRUNELLIDAE | PRUNELLIDAE      | 0                | \n",
       "| PSOPHIIDAE | PSOPHIIDAE       | 0                | \n",
       "| REGULIIDAE | REGULIIDAE       | 0                | \n",
       "| RHABDORNITHIDAE | RHABDORNITHIDAE  | 0                | \n",
       "| RHEIDAE | RHEIDAE          | 0                | \n",
       "| RHIPIDURIDAE | RHIPIDURIDAE     | 0                | \n",
       "| SAGITTARIIDAE | SAGITTARIIDAE    | 0                | \n",
       "| SAPAYOAIDAE | SAPAYOAIDAE      | 0                | \n",
       "| SCOPIDAE | SCOPIDAE         | 0                | \n",
       "| SEMNORNITHIDAE | SEMNORNITHIDAE   | 0                | \n",
       "| SITTIDAE | SITTIDAE         | 0                | \n",
       "| STEATORNITHIDAE | STEATORNITHIDAE  | 0                | \n",
       "| STRUTHIONIDAE | STRUTHIONIDAE    | 0                | \n",
       "| TODIDAE | TODIDAE          | 0                | \n",
       "| TURNAGRIDAE | TURNAGRIDAE      | 0                | \n",
       "| UPUPIDAE | UPUPIDAE         | 0                | \n",
       "| UROCYNCHRAMIDAE | UROCYNCHRAMIDAE  | 0                | \n",
       "\n",
       "\n"
      ],
      "text/plain": [
       "                     var                  rel.inf   \n",
       "Shape_Area_log       Shape_Area_log       13.1959645\n",
       "maxlat               maxlat                9.9533414\n",
       "minlong              minlong               9.3505161\n",
       "PubmedHits_ln        PubmedHits_ln         9.0310727\n",
       "MaxDiet              MaxDiet               6.0215679\n",
       "centroidY            centroidY             4.9269877\n",
       "BodyMass_ln          BodyMass_ln           3.5047010\n",
       "Population.trend     Population.trend      3.3239570\n",
       "minlat               minlat                3.0764769\n",
       "Bio12_mean           Bio12_mean            2.9180091\n",
       "Bio3_mean            Bio3_mean             2.7714567\n",
       "Ticks_mean           Ticks_mean            2.7423563\n",
       "Mosquitoes_mean      Mosquitoes_mean       2.6801755\n",
       "centroidX_log        centroidX_log         2.6719798\n",
       "Metabolic_Rate_ln    Metabolic_Rate_ln     2.1948508\n",
       "HuPop_mean_log       HuPop_mean_log        2.1772192\n",
       "maxlong_log          maxlong_log           2.0726132\n",
       "SLP_DS               SLP_DS                1.9116211\n",
       "Bio1_mean            Bio1_mean             1.8351231\n",
       "Body_Temperature     Body_Temperature      1.6272803\n",
       "bdiversity_mean      bdiversity_mean       1.5123377\n",
       "ForStrategy          ForStrategy           1.5079076\n",
       "mdiversity_mean      mdiversity_mean       1.4597805\n",
       "LandUse_collapsed    LandUse_collapsed     0.9958684\n",
       "ActivityTime         ActivityTime          0.8674452\n",
       "STRIGIDAE            STRIGIDAE             0.8306567\n",
       "LVSTD_DS             LVSTD_DS              0.7911842\n",
       "Habitat_Breadth_sqrt Habitat_Breadth_sqrt  0.5245207\n",
       "ACCIPITRIDAE         ACCIPITRIDAE          0.4881954\n",
       "ICTERIDAE            ICTERIDAE             0.4238631\n",
       "...                  ...                  ...       \n",
       "PEDIONOMIDAE         PEDIONOMIDAE         0         \n",
       "PELECANIDAE          PELECANIDAE          0         \n",
       "PEUCEDRAMIDAE        PEUCEDRAMIDAE        0         \n",
       "TYTONIDAE            TYTONIDAE            0         \n",
       "PHOENICOPTERIDAE     PHOENICOPTERIDAE     0         \n",
       "PHOENICULIDAE        PHOENICULIDAE        0         \n",
       "PICATHARTIDAE        PICATHARTIDAE        0         \n",
       "PITTIDAE             PITTIDAE             0         \n",
       "PITYRIASEIDAE        PITYRIASEIDAE        0         \n",
       "PLUVIANELLIDAE       PLUVIANELLIDAE       0         \n",
       "PLUVIANIDAE          PLUVIANIDAE          0         \n",
       "POMATOSTOMIDAE       POMATOSTOMIDAE       0         \n",
       "PROMEROPIDAE         PROMEROPIDAE         0         \n",
       "PRUNELLIDAE          PRUNELLIDAE          0         \n",
       "PSOPHIIDAE           PSOPHIIDAE           0         \n",
       "REGULIIDAE           REGULIIDAE           0         \n",
       "RHABDORNITHIDAE      RHABDORNITHIDAE      0         \n",
       "RHEIDAE              RHEIDAE              0         \n",
       "RHIPIDURIDAE         RHIPIDURIDAE         0         \n",
       "SAGITTARIIDAE        SAGITTARIIDAE        0         \n",
       "SAPAYOAIDAE          SAPAYOAIDAE          0         \n",
       "SCOPIDAE             SCOPIDAE             0         \n",
       "SEMNORNITHIDAE       SEMNORNITHIDAE       0         \n",
       "SITTIDAE             SITTIDAE             0         \n",
       "STEATORNITHIDAE      STEATORNITHIDAE      0         \n",
       "STRUTHIONIDAE        STRUTHIONIDAE        0         \n",
       "TODIDAE              TODIDAE              0         \n",
       "TURNAGRIDAE          TURNAGRIDAE          0         \n",
       "UPUPIDAE             UPUPIDAE             0         \n",
       "UROCYNCHRAMIDAE      UROCYNCHRAMIDAE      0         "
      ]
     },
     "metadata": {},
     "output_type": "display_data"
    },
    {
     "data": {
      "image/png": "[encoded data removed]",
      "text/plain": [
       "plot without title"
      ]
     },
     "metadata": {},
     "output_type": "display_data"
    }
   ],
   "source": [
    "summary(Group2.total.tc5.lr0005)"
   ]
  },
  {
   "cell_type": "code",
   "execution_count": 17,
   "metadata": {},
   "outputs": [
    {
     "name": "stdout",
     "output_type": "stream",
     "text": [
      "gbm::gbm(formula = y.data ~ ., distribution = as.character(family), \n",
      "    data = x.data, weights = site.weights, var.monotone = var.monotone, \n",
      "    n.trees = target.trees, interaction.depth = tree.complexity, \n",
      "    shrinkage = learning.rate, bag.fraction = bag.fraction, verbose = FALSE)\n",
      "A gradient boosted model with bernoulli loss function.\n",
      "1450 iterations were performed.\n",
      "There were 304 predictors of which 58 had non-zero influence.\n"
     ]
    }
   ],
   "source": [
    "print(Group2.total.tc5.lr0005)"
   ]
  },
  {
   "cell_type": "code",
   "execution_count": 18,
   "metadata": {},
   "outputs": [
    {
     "name": "stdout",
     "output_type": "stream",
     "text": [
      "n.trees not given. Using 1450 trees.\n"
     ]
    }
   ],
   "source": [
    "ranks = relative.influence(Group2.total.tc5.lr0005, scale. = 'TRUE', sort. = 'TRUE')\n",
    "a = as.data.frame(ranks, col.names = , optional = FALSE)\n",
    "a = setDT(a, keep.rownames = TRUE)[]\n",
    "colnames(a) = c('Variable','influence')\n",
    "b = a\n",
    "for (i in b$Variable){\n",
    "    margianleffects = plot.gbm(Group2.total.tc5.lr0005, i.var = i,n.plots=3, \n",
    "                           write.title = T, return.grid  = T,\n",
    "                           show.contrib = T,y.label=\"Marginal effect on Host\")\n",
    "    filename = paste(\"Outputs/PartialDependence2/\", i,'_Group2','.csv', sep=\"\")\n",
    "    write.csv(margianleffects, file = filename)    \n",
    "}"
   ]
  },
  {
   "cell_type": "code",
   "execution_count": 19,
   "metadata": {},
   "outputs": [],
   "source": [
    "write.csv(a, 'Outputs/PartialDependence2/Ranks_group22.csv')"
   ]
  },
  {
   "cell_type": "code",
   "execution_count": 20,
   "metadata": {
    "scrolled": false
   },
   "outputs": [],
   "source": [
    "#Group1.simp = gbm.simplify(Group1.total.tc5.lr0005,)# n.drops = 5)"
   ]
  },
  {
   "cell_type": "code",
   "execution_count": 21,
   "metadata": {
    "scrolled": false
   },
   "outputs": [],
   "source": [
    "#find.int <- gbm.interactions(Group1.total.tc5.lr0005)\n",
    "#find.int$interactions"
   ]
  },
  {
   "cell_type": "code",
   "execution_count": 22,
   "metadata": {},
   "outputs": [],
   "source": [
    "#gbm.perspec(Group1.total.tc5.lr0005, 29, 28, y.range=c(15,20), z.range=c(0,0.6))"
   ]
  },
  {
   "cell_type": "code",
   "execution_count": 23,
   "metadata": {},
   "outputs": [
    {
     "data": {
      "text/html": [
       "0.0643117770647629"
      ],
      "text/latex": [
       "0.0643117770647629"
      ],
      "text/markdown": [
       "0.0643117770647629"
      ],
      "text/plain": [
       "[1] 0.06431178"
      ]
     },
     "metadata": {},
     "output_type": "display_data"
    }
   ],
   "source": [
    "preds <- predict.gbm(Group2.total.tc5.lr0005, model.data,n.trees=Group2.total.tc5.lr0005$gbm.call$best.trees, type=\"response\")\n",
    "calc.deviance(obs=model.data$Group2Binary, pred=preds, calc.mean=TRUE)"
   ]
  },
  {
   "cell_type": "code",
   "execution_count": 24,
   "metadata": {
    "scrolled": false
   },
   "outputs": [
    {
     "data": {
      "text/plain": [
       "class          : ModelEvaluation \n",
       "n presences    : 254 \n",
       "n absences     : 13890 \n",
       "AUC            : 0.9801316 \n",
       "cor            : 0.7816647 \n",
       "max TPR+TNR at : 0.0244664 "
      ]
     },
     "metadata": {},
     "output_type": "display_data"
    }
   ],
   "source": [
    "d <- cbind(model.data$Group2Binary, preds)\n",
    "pres <- d[d[,1]==1, 2]\n",
    "abs <- d[d[,1]==0, 2]\n",
    "e <- evaluate(p=pres, a=abs)\n",
    "e"
   ]
  },
  {
   "cell_type": "code",
   "execution_count": 25,
   "metadata": {},
   "outputs": [],
   "source": [
    "model.data$PredictionProbability  = preds\n",
    "write.csv(model.data, file = \"Outputs/Predictions_R_Group22.csv\")"
   ]
  },
  {
   "cell_type": "markdown",
   "metadata": {},
   "source": [
    "### Holdout dataset and Cross validation"
   ]
  },
  {
   "cell_type": "code",
   "execution_count": 23,
   "metadata": {},
   "outputs": [],
   "source": [
    "library(caTools)"
   ]
  },
  {
   "cell_type": "code",
   "execution_count": 24,
   "metadata": {},
   "outputs": [],
   "source": [
    "model.data$spl=sample.split(model.data$OutputPCR,SplitRatio=0.8)\n",
    "train=subset(model.data, model.data$spl==TRUE)\n",
    "test=subset(model.data, model.data$spl==FALSE)"
   ]
  },
  {
   "cell_type": "code",
   "execution_count": 25,
   "metadata": {},
   "outputs": [
    {
     "data": {
      "text/html": [
       "11315"
      ],
      "text/latex": [
       "11315"
      ],
      "text/markdown": [
       "11315"
      ],
      "text/plain": [
       "[1] 11315"
      ]
     },
     "metadata": {},
     "output_type": "display_data"
    }
   ],
   "source": [
    "nrow(train)"
   ]
  },
  {
   "cell_type": "code",
   "execution_count": 26,
   "metadata": {},
   "outputs": [
    {
     "data": {
      "text/html": [
       "2829"
      ],
      "text/latex": [
       "2829"
      ],
      "text/markdown": [
       "2829"
      ],
      "text/plain": [
       "[1] 2829"
      ]
     },
     "metadata": {},
     "output_type": "display_data"
    }
   ],
   "source": [
    "nrow(test)"
   ]
  },
  {
   "cell_type": "code",
   "execution_count": 27,
   "metadata": {},
   "outputs": [
    {
     "data": {
      "text/plain": [
       "\n",
       "    0     1 \n",
       "13996   148 "
      ]
     },
     "metadata": {},
     "output_type": "display_data"
    }
   ],
   "source": [
    "table(model.data$OutputPCR)"
   ]
  },
  {
   "cell_type": "code",
   "execution_count": 28,
   "metadata": {},
   "outputs": [
    {
     "data": {
      "text/plain": [
       "\n",
       "    0     1 \n",
       "11197   118 "
      ]
     },
     "metadata": {},
     "output_type": "display_data"
    }
   ],
   "source": [
    "table(train$OutputPCR)"
   ]
  },
  {
   "cell_type": "code",
   "execution_count": 29,
   "metadata": {},
   "outputs": [
    {
     "data": {
      "text/plain": [
       "\n",
       "   0    1 \n",
       "2799   30 "
      ]
     },
     "metadata": {},
     "output_type": "display_data"
    }
   ],
   "source": [
    "table(test$OutputPCR)"
   ]
  },
  {
   "cell_type": "code",
   "execution_count": 30,
   "metadata": {
    "scrolled": false
   },
   "outputs": [
    {
     "name": "stdout",
     "output_type": "stream",
     "text": [
      "\n",
      " \n",
      " GBM STEP - version 2.9 \n",
      " \n",
      "Performing cross-validation optimisation of a boosted regression tree model \n",
      "for NA and using a family of bernoulli \n",
      "Using 11315 observations and 304 predictors \n",
      "creating 10 initial models of 50 trees \n",
      "\n",
      " folds are stratified by prevalence \n",
      "total mean deviance =  0.1159 \n",
      "tolerance is fixed at  1e-04 \n",
      "ntrees resid. dev. \n",
      "50    0.1087 \n",
      "now adding trees... \n",
      "100   0.1046 \n",
      "150   0.1017 \n",
      "200   0.0995 \n",
      "250   0.0977 \n",
      "300   0.0961 \n",
      "350   0.0947 \n",
      "400   0.0935 \n",
      "450   0.0924 \n",
      "500   0.0914 \n",
      "550   0.0905 \n",
      "600   0.0898 \n",
      "650   0.089 \n",
      "700   0.0884 \n",
      "750   0.0877 \n",
      "800   0.0872 \n",
      "850   0.0866 \n",
      "900   0.0861 \n",
      "950   0.0856 \n",
      "1000   0.0851 \n",
      "1050   0.0847 \n",
      "1100   0.0844 \n",
      "1150   0.084 \n",
      "1200   0.0836 \n",
      "1250   0.0833 \n",
      "1300   0.083 \n",
      "1350   0.0827 \n",
      "1400   0.0824 \n",
      "1450   0.0822 \n",
      "1500   0.082 \n",
      "1550   0.0818 \n",
      "1600   0.0816 \n",
      "1650   0.0813 \n",
      "1700   0.0811 \n",
      "1750   0.081 \n",
      "1800   0.0808 \n",
      "1850   0.0806 \n",
      "1900   0.0805 \n",
      "1950   0.0804 \n",
      "2000   0.0802 \n",
      "2050   0.0801 \n",
      "2100   0.0799 \n",
      "2150   0.0798 \n",
      "2200   0.0797 \n",
      "2250   0.0796 \n",
      "2300   0.0795 \n",
      "2350   0.0794 \n",
      "2400   0.0793 \n",
      "2450   0.0792 \n",
      "2500   0.0791 \n",
      "2550   0.0791 \n",
      "2600   0.079 \n",
      "2650   0.0789 \n",
      "2700   0.0788 \n",
      "2750   0.0787 \n",
      "2800   0.0787 \n",
      "2850   0.0786 \n",
      "2900   0.0785 \n",
      "2950   0.0785 \n",
      "3000   0.0784 \n",
      "3050   0.0783 \n",
      "3100   0.0783 \n",
      "3150   0.0782 \n",
      "3200   0.0781 \n",
      "3250   0.0781 \n",
      "3300   0.0781 \n",
      "3350   0.078 \n",
      "3400   0.078 \n",
      "3450   0.0779 \n",
      "3500   0.0778 \n",
      "3550   0.0778 \n",
      "3600   0.0777 \n",
      "3650   0.0777 \n",
      "3700   0.0776 \n",
      "3750   0.0776 \n",
      "3800   0.0776 \n",
      "3850   0.0775 \n",
      "3900   0.0775 \n",
      "3950   0.0774 \n",
      "4000   0.0774 \n",
      "4050   0.0774 \n",
      "4100   0.0773 \n",
      "4150   0.0773 \n",
      "4200   0.0773 \n",
      "4250   0.0772 \n",
      "4300   0.0772 \n",
      "4350   0.0772 \n",
      "4400   0.0771 \n",
      "4450   0.0771 \n",
      "4500   0.0771 \n",
      "4550   0.0771 \n",
      "4600   0.077 \n",
      "4650   0.077 \n",
      "4700   0.077 \n",
      "4750   0.077 \n",
      "4800   0.0769 \n",
      "4850   0.0769 \n",
      "4900   0.0769 \n",
      "4950   0.0769 \n",
      "5000   0.0768 \n",
      "5050   0.0768 \n",
      "5100   0.0768 \n",
      "5150   0.0768 \n",
      "5200   0.0768 \n",
      "5250   0.0767 \n",
      "5300   0.0767 \n",
      "5350   0.0767 \n",
      "5400   0.0767 \n",
      "5450   0.0767 \n",
      "5500   0.0767 \n",
      "5550   0.0767 \n",
      "5600   0.0766 \n",
      "5650   0.0766 \n",
      "5700   0.0766 \n",
      "5750   0.0766 \n",
      "5800   0.0766 \n",
      "5850   0.0765 \n",
      "5900   0.0765 \n",
      "5950   0.0765 \n",
      "6000   0.0765 \n",
      "6050   0.0765 \n",
      "6100   0.0765 \n",
      "6150   0.0765 \n",
      "6200   0.0765 \n",
      "6250   0.0765 \n",
      "6300   0.0765 \n",
      "6350   0.0764 \n",
      "6400   0.0764 \n",
      "6450   0.0764 \n",
      "6500   0.0764 \n"
     ]
    },
    {
     "name": "stderr",
     "output_type": "stream",
     "text": [
      "fitting final gbm model with a fixed number of 6450 trees for NA\n"
     ]
    },
    {
     "name": "stdout",
     "output_type": "stream",
     "text": [
      "\n",
      "mean total deviance = 0.116 \n",
      "mean residual deviance = 0.043 \n",
      " \n",
      "estimated cv deviance = 0.076 ; se = 0.004 \n",
      " \n",
      "training data correlation = 0.771 \n",
      "cv correlation =  0.427 ; se = 0.047 \n",
      " \n",
      "training data AUC score = 0.976 \n",
      "cv AUC score = 0.924 ; se = 0.011 \n",
      " \n",
      "elapsed time -  0.06 minutes \n"
     ]
    },
    {
     "data": {
      "image/png": "[encoded data removed]",
      "text/plain": [
       "Plot with title \"NA, d - 5, lr - 0.001\""
      ]
     },
     "metadata": {},
     "output_type": "display_data"
    }
   ],
   "source": [
    "set.seed(100)\n",
    "Group1.total.tc5.lr0005 <- gbm.step(data = train,\n",
    "                                   gbm.x = predictorsNames,\n",
    "                                   gbm.y = outcomeName,\n",
    "                                   family = \"bernoulli\",\n",
    "                                   tree.complexity = 5,\n",
    "                                   learning.rate = 0.001,\n",
    "                                   bag.fraction = 0.5, \n",
    "                                   cv = 10, \n",
    "                                   max.trees = 20000)"
   ]
  },
  {
   "cell_type": "code",
   "execution_count": 31,
   "metadata": {},
   "outputs": [
    {
     "name": "stdout",
     "output_type": "stream",
     "text": [
      "gbm::gbm(formula = y.data ~ ., distribution = as.character(family), \n",
      "    data = x.data, weights = site.weights, var.monotone = var.monotone, \n",
      "    n.trees = target.trees, interaction.depth = tree.complexity, \n",
      "    shrinkage = learning.rate, bag.fraction = bag.fraction, verbose = FALSE)\n",
      "A gradient boosted model with bernoulli loss function.\n",
      "6450 iterations were performed.\n",
      "There were 304 predictors of which 50 had non-zero influence.\n"
     ]
    }
   ],
   "source": [
    "print(Group1.total.tc5.lr0005)"
   ]
  },
  {
   "cell_type": "code",
   "execution_count": 32,
   "metadata": {},
   "outputs": [
    {
     "data": {
      "text/html": [
       "0.126760478293956"
      ],
      "text/latex": [
       "0.126760478293956"
      ],
      "text/markdown": [
       "0.126760478293956"
      ],
      "text/plain": [
       "[1] 0.1267605"
      ]
     },
     "metadata": {},
     "output_type": "display_data"
    }
   ],
   "source": [
    "preds2 <- predict.gbm(Group1.total.tc5.lr0005, \n",
    "                     test[,predictorsNames],\n",
    "                     n.trees=Group1.total.tc5.lr0005$gbm.call$best.trees,\n",
    "                     type=\"response\")\n",
    "\n",
    "calc.deviance(obs=test$Group2Binary, pred=preds2, calc.mean=TRUE)"
   ]
  },
  {
   "cell_type": "code",
   "execution_count": 33,
   "metadata": {},
   "outputs": [
    {
     "data": {
      "text/plain": [
       "class          : ModelEvaluation \n",
       "n presences    : 30 \n",
       "n absences     : 2799 \n",
       "AUC            : 0.8919138 \n",
       "cor            : 0.3767339 \n",
       "max TPR+TNR at : 0.0162849 "
      ]
     },
     "metadata": {},
     "output_type": "display_data"
    }
   ],
   "source": [
    "d <- cbind(test$OutputPCR, preds2)\n",
    "pres <- d[d[,1]==1, 2]\n",
    "abs <- d[d[,1]==0, 2]\n",
    "e <- evaluate(p=pres, a=abs)\n",
    "e"
   ]
  },
  {
   "cell_type": "code",
   "execution_count": 34,
   "metadata": {},
   "outputs": [],
   "source": [
    "preds2 <- predict.gbm(Group1.total.tc5.lr0005, \n",
    "                     model.data[,predictorsNames],\n",
    "                     n.trees=Group1.total.tc5.lr0005$gbm.call$best.trees,\n",
    "                     type=\"response\")"
   ]
  },
  {
   "cell_type": "code",
   "execution_count": 35,
   "metadata": {},
   "outputs": [],
   "source": [
    "model.data$PredictionProbability  = preds2\n",
    "write.csv(model.data, file = \"Outputs2/Predictions_R_Group22_PCR_only.csv\")"
   ]
  },
  {
   "cell_type": "code",
   "execution_count": 36,
   "metadata": {
    "scrolled": false
   },
   "outputs": [
    {
     "data": {
      "text/html": [
       "<table>\n",
       "<thead><tr><th></th><th scope=col>var</th><th scope=col>rel.inf</th></tr></thead>\n",
       "<tbody>\n",
       "\t<tr><th scope=row>maxlat</th><td>maxlat           </td><td>12.1488896       </td></tr>\n",
       "\t<tr><th scope=row>PubmedHits_ln</th><td>PubmedHits_ln    </td><td>11.5808876       </td></tr>\n",
       "\t<tr><th scope=row>Shape_Area_log</th><td>Shape_Area_log   </td><td>10.2262253       </td></tr>\n",
       "\t<tr><th scope=row>MaxDiet</th><td>MaxDiet          </td><td> 7.0054472       </td></tr>\n",
       "\t<tr><th scope=row>minlong</th><td>minlong          </td><td> 6.8961000       </td></tr>\n",
       "\t<tr><th scope=row>centroidY</th><td>centroidY        </td><td> 5.2856735       </td></tr>\n",
       "\t<tr><th scope=row>Population.trend</th><td>Population.trend </td><td> 4.4745699       </td></tr>\n",
       "\t<tr><th scope=row>BodyMass_ln</th><td>BodyMass_ln      </td><td> 3.7550312       </td></tr>\n",
       "\t<tr><th scope=row>Bio12_mean</th><td>Bio12_mean       </td><td> 3.1727601       </td></tr>\n",
       "\t<tr><th scope=row>Bio3_mean</th><td>Bio3_mean        </td><td> 2.9409013       </td></tr>\n",
       "\t<tr><th scope=row>maxlong_log</th><td>maxlong_log      </td><td> 2.5734826       </td></tr>\n",
       "\t<tr><th scope=row>ACCIPITRIDAE</th><td>ACCIPITRIDAE     </td><td> 2.3936788       </td></tr>\n",
       "\t<tr><th scope=row>centroidX_log</th><td>centroidX_log    </td><td> 2.3526142       </td></tr>\n",
       "\t<tr><th scope=row>Ticks_mean</th><td>Ticks_mean       </td><td> 2.1850122       </td></tr>\n",
       "\t<tr><th scope=row>minlat</th><td>minlat           </td><td> 2.0898691       </td></tr>\n",
       "\t<tr><th scope=row>Mosquitoes_mean</th><td>Mosquitoes_mean  </td><td> 2.0846262       </td></tr>\n",
       "\t<tr><th scope=row>HuPop_mean_log</th><td>HuPop_mean_log   </td><td> 2.0186047       </td></tr>\n",
       "\t<tr><th scope=row>Bio1_mean</th><td>Bio1_mean        </td><td> 2.0144797       </td></tr>\n",
       "\t<tr><th scope=row>SLP_DS</th><td>SLP_DS           </td><td> 2.0045228       </td></tr>\n",
       "\t<tr><th scope=row>ForStrategy</th><td>ForStrategy      </td><td> 1.4449609       </td></tr>\n",
       "\t<tr><th scope=row>mdiversity_mean</th><td>mdiversity_mean  </td><td> 1.3932352       </td></tr>\n",
       "\t<tr><th scope=row>Metabolic_Rate_ln</th><td>Metabolic_Rate_ln</td><td> 1.3519797       </td></tr>\n",
       "\t<tr><th scope=row>bdiversity_mean</th><td>bdiversity_mean  </td><td> 1.1571302       </td></tr>\n",
       "\t<tr><th scope=row>LVSTD_DS</th><td>LVSTD_DS         </td><td> 0.9276345       </td></tr>\n",
       "\t<tr><th scope=row>STRIGIDAE</th><td>STRIGIDAE        </td><td> 0.8417197       </td></tr>\n",
       "\t<tr><th scope=row>CORVIDAE</th><td>CORVIDAE         </td><td> 0.8061036       </td></tr>\n",
       "\t<tr><th scope=row>ActivityTime</th><td>ActivityTime     </td><td> 0.7924827       </td></tr>\n",
       "\t<tr><th scope=row>MIMIDAE</th><td>MIMIDAE          </td><td> 0.7488994       </td></tr>\n",
       "\t<tr><th scope=row>LandUse_collapsed</th><td>LandUse_collapsed</td><td> 0.6835344       </td></tr>\n",
       "\t<tr><th scope=row>LARIDAE</th><td>LARIDAE          </td><td> 0.6040629       </td></tr>\n",
       "\t<tr><th scope=row>...</th><td>...</td><td>...</td></tr>\n",
       "\t<tr><th scope=row>PEDIONOMIDAE</th><td>PEDIONOMIDAE    </td><td>0               </td></tr>\n",
       "\t<tr><th scope=row>PELECANIDAE</th><td>PELECANIDAE     </td><td>0               </td></tr>\n",
       "\t<tr><th scope=row>PEUCEDRAMIDAE</th><td>PEUCEDRAMIDAE   </td><td>0               </td></tr>\n",
       "\t<tr><th scope=row>TYTONIDAE</th><td>TYTONIDAE       </td><td>0               </td></tr>\n",
       "\t<tr><th scope=row>PHOENICOPTERIDAE</th><td>PHOENICOPTERIDAE</td><td>0               </td></tr>\n",
       "\t<tr><th scope=row>PHOENICULIDAE</th><td>PHOENICULIDAE   </td><td>0               </td></tr>\n",
       "\t<tr><th scope=row>PICATHARTIDAE</th><td>PICATHARTIDAE   </td><td>0               </td></tr>\n",
       "\t<tr><th scope=row>PITTIDAE</th><td>PITTIDAE        </td><td>0               </td></tr>\n",
       "\t<tr><th scope=row>PITYRIASEIDAE</th><td>PITYRIASEIDAE   </td><td>0               </td></tr>\n",
       "\t<tr><th scope=row>PLUVIANELLIDAE</th><td>PLUVIANELLIDAE  </td><td>0               </td></tr>\n",
       "\t<tr><th scope=row>PLUVIANIDAE</th><td>PLUVIANIDAE     </td><td>0               </td></tr>\n",
       "\t<tr><th scope=row>POMATOSTOMIDAE</th><td>POMATOSTOMIDAE  </td><td>0               </td></tr>\n",
       "\t<tr><th scope=row>PROMEROPIDAE</th><td>PROMEROPIDAE    </td><td>0               </td></tr>\n",
       "\t<tr><th scope=row>PRUNELLIDAE</th><td>PRUNELLIDAE     </td><td>0               </td></tr>\n",
       "\t<tr><th scope=row>PSOPHIIDAE</th><td>PSOPHIIDAE      </td><td>0               </td></tr>\n",
       "\t<tr><th scope=row>REGULIIDAE</th><td>REGULIIDAE      </td><td>0               </td></tr>\n",
       "\t<tr><th scope=row>RHABDORNITHIDAE</th><td>RHABDORNITHIDAE </td><td>0               </td></tr>\n",
       "\t<tr><th scope=row>RHEIDAE</th><td>RHEIDAE         </td><td>0               </td></tr>\n",
       "\t<tr><th scope=row>RHIPIDURIDAE</th><td>RHIPIDURIDAE    </td><td>0               </td></tr>\n",
       "\t<tr><th scope=row>SAGITTARIIDAE</th><td>SAGITTARIIDAE   </td><td>0               </td></tr>\n",
       "\t<tr><th scope=row>SAPAYOAIDAE</th><td>SAPAYOAIDAE     </td><td>0               </td></tr>\n",
       "\t<tr><th scope=row>SCOPIDAE</th><td>SCOPIDAE        </td><td>0               </td></tr>\n",
       "\t<tr><th scope=row>SEMNORNITHIDAE</th><td>SEMNORNITHIDAE  </td><td>0               </td></tr>\n",
       "\t<tr><th scope=row>SITTIDAE</th><td>SITTIDAE        </td><td>0               </td></tr>\n",
       "\t<tr><th scope=row>STEATORNITHIDAE</th><td>STEATORNITHIDAE </td><td>0               </td></tr>\n",
       "\t<tr><th scope=row>STRUTHIONIDAE</th><td>STRUTHIONIDAE   </td><td>0               </td></tr>\n",
       "\t<tr><th scope=row>TODIDAE</th><td>TODIDAE         </td><td>0               </td></tr>\n",
       "\t<tr><th scope=row>TURNAGRIDAE</th><td>TURNAGRIDAE     </td><td>0               </td></tr>\n",
       "\t<tr><th scope=row>UPUPIDAE</th><td>UPUPIDAE        </td><td>0               </td></tr>\n",
       "\t<tr><th scope=row>UROCYNCHRAMIDAE</th><td>UROCYNCHRAMIDAE </td><td>0               </td></tr>\n",
       "</tbody>\n",
       "</table>\n"
      ],
      "text/latex": [
       "\\begin{tabular}{r|ll}\n",
       "  & var & rel.inf\\\\\n",
       "\\hline\n",
       "\tmaxlat & maxlat            & 12.1488896       \\\\\n",
       "\tPubmedHits\\_ln & PubmedHits\\_ln     & 11.5808876         \\\\\n",
       "\tShape\\_Area\\_log & Shape\\_Area\\_log    & 10.2262253           \\\\\n",
       "\tMaxDiet & MaxDiet           &  7.0054472       \\\\\n",
       "\tminlong & minlong           &  6.8961000       \\\\\n",
       "\tcentroidY & centroidY         &  5.2856735       \\\\\n",
       "\tPopulation.trend & Population.trend  &  4.4745699       \\\\\n",
       "\tBodyMass\\_ln & BodyMass\\_ln       &  3.7550312         \\\\\n",
       "\tBio12\\_mean & Bio12\\_mean        &  3.1727601         \\\\\n",
       "\tBio3\\_mean & Bio3\\_mean         &  2.9409013         \\\\\n",
       "\tmaxlong\\_log & maxlong\\_log       &  2.5734826         \\\\\n",
       "\tACCIPITRIDAE & ACCIPITRIDAE      &  2.3936788       \\\\\n",
       "\tcentroidX\\_log & centroidX\\_log     &  2.3526142         \\\\\n",
       "\tTicks\\_mean & Ticks\\_mean        &  2.1850122         \\\\\n",
       "\tminlat & minlat            &  2.0898691       \\\\\n",
       "\tMosquitoes\\_mean & Mosquitoes\\_mean   &  2.0846262         \\\\\n",
       "\tHuPop\\_mean\\_log & HuPop\\_mean\\_log    &  2.0186047           \\\\\n",
       "\tBio1\\_mean & Bio1\\_mean         &  2.0144797         \\\\\n",
       "\tSLP\\_DS & SLP\\_DS            &  2.0045228         \\\\\n",
       "\tForStrategy & ForStrategy       &  1.4449609       \\\\\n",
       "\tmdiversity\\_mean & mdiversity\\_mean   &  1.3932352         \\\\\n",
       "\tMetabolic\\_Rate\\_ln & Metabolic\\_Rate\\_ln &  1.3519797           \\\\\n",
       "\tbdiversity\\_mean & bdiversity\\_mean   &  1.1571302         \\\\\n",
       "\tLVSTD\\_DS & LVSTD\\_DS          &  0.9276345         \\\\\n",
       "\tSTRIGIDAE & STRIGIDAE         &  0.8417197       \\\\\n",
       "\tCORVIDAE & CORVIDAE          &  0.8061036       \\\\\n",
       "\tActivityTime & ActivityTime      &  0.7924827       \\\\\n",
       "\tMIMIDAE & MIMIDAE           &  0.7488994       \\\\\n",
       "\tLandUse\\_collapsed & LandUse\\_collapsed &  0.6835344         \\\\\n",
       "\tLARIDAE & LARIDAE           &  0.6040629       \\\\\n",
       "\t... & ... & ...\\\\\n",
       "\tPEDIONOMIDAE & PEDIONOMIDAE     & 0               \\\\\n",
       "\tPELECANIDAE & PELECANIDAE      & 0               \\\\\n",
       "\tPEUCEDRAMIDAE & PEUCEDRAMIDAE    & 0               \\\\\n",
       "\tTYTONIDAE & TYTONIDAE        & 0               \\\\\n",
       "\tPHOENICOPTERIDAE & PHOENICOPTERIDAE & 0               \\\\\n",
       "\tPHOENICULIDAE & PHOENICULIDAE    & 0               \\\\\n",
       "\tPICATHARTIDAE & PICATHARTIDAE    & 0               \\\\\n",
       "\tPITTIDAE & PITTIDAE         & 0               \\\\\n",
       "\tPITYRIASEIDAE & PITYRIASEIDAE    & 0               \\\\\n",
       "\tPLUVIANELLIDAE & PLUVIANELLIDAE   & 0               \\\\\n",
       "\tPLUVIANIDAE & PLUVIANIDAE      & 0               \\\\\n",
       "\tPOMATOSTOMIDAE & POMATOSTOMIDAE   & 0               \\\\\n",
       "\tPROMEROPIDAE & PROMEROPIDAE     & 0               \\\\\n",
       "\tPRUNELLIDAE & PRUNELLIDAE      & 0               \\\\\n",
       "\tPSOPHIIDAE & PSOPHIIDAE       & 0               \\\\\n",
       "\tREGULIIDAE & REGULIIDAE       & 0               \\\\\n",
       "\tRHABDORNITHIDAE & RHABDORNITHIDAE  & 0               \\\\\n",
       "\tRHEIDAE & RHEIDAE          & 0               \\\\\n",
       "\tRHIPIDURIDAE & RHIPIDURIDAE     & 0               \\\\\n",
       "\tSAGITTARIIDAE & SAGITTARIIDAE    & 0               \\\\\n",
       "\tSAPAYOAIDAE & SAPAYOAIDAE      & 0               \\\\\n",
       "\tSCOPIDAE & SCOPIDAE         & 0               \\\\\n",
       "\tSEMNORNITHIDAE & SEMNORNITHIDAE   & 0               \\\\\n",
       "\tSITTIDAE & SITTIDAE         & 0               \\\\\n",
       "\tSTEATORNITHIDAE & STEATORNITHIDAE  & 0               \\\\\n",
       "\tSTRUTHIONIDAE & STRUTHIONIDAE    & 0               \\\\\n",
       "\tTODIDAE & TODIDAE          & 0               \\\\\n",
       "\tTURNAGRIDAE & TURNAGRIDAE      & 0               \\\\\n",
       "\tUPUPIDAE & UPUPIDAE         & 0               \\\\\n",
       "\tUROCYNCHRAMIDAE & UROCYNCHRAMIDAE  & 0               \\\\\n",
       "\\end{tabular}\n"
      ],
      "text/markdown": [
       "\n",
       "| <!--/--> | var | rel.inf | \n",
       "|---|---|---|---|---|---|---|---|---|---|---|---|---|---|---|---|---|---|---|---|---|---|---|---|---|---|---|---|---|---|---|---|---|---|---|---|---|---|---|---|---|---|---|---|---|---|---|---|---|---|---|---|---|---|---|---|---|---|---|---|---|\n",
       "| maxlat | maxlat            | 12.1488896        | \n",
       "| PubmedHits_ln | PubmedHits_ln     | 11.5808876        | \n",
       "| Shape_Area_log | Shape_Area_log    | 10.2262253        | \n",
       "| MaxDiet | MaxDiet           |  7.0054472        | \n",
       "| minlong | minlong           |  6.8961000        | \n",
       "| centroidY | centroidY         |  5.2856735        | \n",
       "| Population.trend | Population.trend  |  4.4745699        | \n",
       "| BodyMass_ln | BodyMass_ln       |  3.7550312        | \n",
       "| Bio12_mean | Bio12_mean        |  3.1727601        | \n",
       "| Bio3_mean | Bio3_mean         |  2.9409013        | \n",
       "| maxlong_log | maxlong_log       |  2.5734826        | \n",
       "| ACCIPITRIDAE | ACCIPITRIDAE      |  2.3936788        | \n",
       "| centroidX_log | centroidX_log     |  2.3526142        | \n",
       "| Ticks_mean | Ticks_mean        |  2.1850122        | \n",
       "| minlat | minlat            |  2.0898691        | \n",
       "| Mosquitoes_mean | Mosquitoes_mean   |  2.0846262        | \n",
       "| HuPop_mean_log | HuPop_mean_log    |  2.0186047        | \n",
       "| Bio1_mean | Bio1_mean         |  2.0144797        | \n",
       "| SLP_DS | SLP_DS            |  2.0045228        | \n",
       "| ForStrategy | ForStrategy       |  1.4449609        | \n",
       "| mdiversity_mean | mdiversity_mean   |  1.3932352        | \n",
       "| Metabolic_Rate_ln | Metabolic_Rate_ln |  1.3519797        | \n",
       "| bdiversity_mean | bdiversity_mean   |  1.1571302        | \n",
       "| LVSTD_DS | LVSTD_DS          |  0.9276345        | \n",
       "| STRIGIDAE | STRIGIDAE         |  0.8417197        | \n",
       "| CORVIDAE | CORVIDAE          |  0.8061036        | \n",
       "| ActivityTime | ActivityTime      |  0.7924827        | \n",
       "| MIMIDAE | MIMIDAE           |  0.7488994        | \n",
       "| LandUse_collapsed | LandUse_collapsed |  0.6835344        | \n",
       "| LARIDAE | LARIDAE           |  0.6040629        | \n",
       "| ... | ... | ... | \n",
       "| PEDIONOMIDAE | PEDIONOMIDAE     | 0                | \n",
       "| PELECANIDAE | PELECANIDAE      | 0                | \n",
       "| PEUCEDRAMIDAE | PEUCEDRAMIDAE    | 0                | \n",
       "| TYTONIDAE | TYTONIDAE        | 0                | \n",
       "| PHOENICOPTERIDAE | PHOENICOPTERIDAE | 0                | \n",
       "| PHOENICULIDAE | PHOENICULIDAE    | 0                | \n",
       "| PICATHARTIDAE | PICATHARTIDAE    | 0                | \n",
       "| PITTIDAE | PITTIDAE         | 0                | \n",
       "| PITYRIASEIDAE | PITYRIASEIDAE    | 0                | \n",
       "| PLUVIANELLIDAE | PLUVIANELLIDAE   | 0                | \n",
       "| PLUVIANIDAE | PLUVIANIDAE      | 0                | \n",
       "| POMATOSTOMIDAE | POMATOSTOMIDAE   | 0                | \n",
       "| PROMEROPIDAE | PROMEROPIDAE     | 0                | \n",
       "| PRUNELLIDAE | PRUNELLIDAE      | 0                | \n",
       "| PSOPHIIDAE | PSOPHIIDAE       | 0                | \n",
       "| REGULIIDAE | REGULIIDAE       | 0                | \n",
       "| RHABDORNITHIDAE | RHABDORNITHIDAE  | 0                | \n",
       "| RHEIDAE | RHEIDAE          | 0                | \n",
       "| RHIPIDURIDAE | RHIPIDURIDAE     | 0                | \n",
       "| SAGITTARIIDAE | SAGITTARIIDAE    | 0                | \n",
       "| SAPAYOAIDAE | SAPAYOAIDAE      | 0                | \n",
       "| SCOPIDAE | SCOPIDAE         | 0                | \n",
       "| SEMNORNITHIDAE | SEMNORNITHIDAE   | 0                | \n",
       "| SITTIDAE | SITTIDAE         | 0                | \n",
       "| STEATORNITHIDAE | STEATORNITHIDAE  | 0                | \n",
       "| STRUTHIONIDAE | STRUTHIONIDAE    | 0                | \n",
       "| TODIDAE | TODIDAE          | 0                | \n",
       "| TURNAGRIDAE | TURNAGRIDAE      | 0                | \n",
       "| UPUPIDAE | UPUPIDAE         | 0                | \n",
       "| UROCYNCHRAMIDAE | UROCYNCHRAMIDAE  | 0                | \n",
       "\n",
       "\n"
      ],
      "text/plain": [
       "                  var               rel.inf   \n",
       "maxlat            maxlat            12.1488896\n",
       "PubmedHits_ln     PubmedHits_ln     11.5808876\n",
       "Shape_Area_log    Shape_Area_log    10.2262253\n",
       "MaxDiet           MaxDiet            7.0054472\n",
       "minlong           minlong            6.8961000\n",
       "centroidY         centroidY          5.2856735\n",
       "Population.trend  Population.trend   4.4745699\n",
       "BodyMass_ln       BodyMass_ln        3.7550312\n",
       "Bio12_mean        Bio12_mean         3.1727601\n",
       "Bio3_mean         Bio3_mean          2.9409013\n",
       "maxlong_log       maxlong_log        2.5734826\n",
       "ACCIPITRIDAE      ACCIPITRIDAE       2.3936788\n",
       "centroidX_log     centroidX_log      2.3526142\n",
       "Ticks_mean        Ticks_mean         2.1850122\n",
       "minlat            minlat             2.0898691\n",
       "Mosquitoes_mean   Mosquitoes_mean    2.0846262\n",
       "HuPop_mean_log    HuPop_mean_log     2.0186047\n",
       "Bio1_mean         Bio1_mean          2.0144797\n",
       "SLP_DS            SLP_DS             2.0045228\n",
       "ForStrategy       ForStrategy        1.4449609\n",
       "mdiversity_mean   mdiversity_mean    1.3932352\n",
       "Metabolic_Rate_ln Metabolic_Rate_ln  1.3519797\n",
       "bdiversity_mean   bdiversity_mean    1.1571302\n",
       "LVSTD_DS          LVSTD_DS           0.9276345\n",
       "STRIGIDAE         STRIGIDAE          0.8417197\n",
       "CORVIDAE          CORVIDAE           0.8061036\n",
       "ActivityTime      ActivityTime       0.7924827\n",
       "MIMIDAE           MIMIDAE            0.7488994\n",
       "LandUse_collapsed LandUse_collapsed  0.6835344\n",
       "LARIDAE           LARIDAE            0.6040629\n",
       "...               ...               ...       \n",
       "PEDIONOMIDAE      PEDIONOMIDAE      0         \n",
       "PELECANIDAE       PELECANIDAE       0         \n",
       "PEUCEDRAMIDAE     PEUCEDRAMIDAE     0         \n",
       "TYTONIDAE         TYTONIDAE         0         \n",
       "PHOENICOPTERIDAE  PHOENICOPTERIDAE  0         \n",
       "PHOENICULIDAE     PHOENICULIDAE     0         \n",
       "PICATHARTIDAE     PICATHARTIDAE     0         \n",
       "PITTIDAE          PITTIDAE          0         \n",
       "PITYRIASEIDAE     PITYRIASEIDAE     0         \n",
       "PLUVIANELLIDAE    PLUVIANELLIDAE    0         \n",
       "PLUVIANIDAE       PLUVIANIDAE       0         \n",
       "POMATOSTOMIDAE    POMATOSTOMIDAE    0         \n",
       "PROMEROPIDAE      PROMEROPIDAE      0         \n",
       "PRUNELLIDAE       PRUNELLIDAE       0         \n",
       "PSOPHIIDAE        PSOPHIIDAE        0         \n",
       "REGULIIDAE        REGULIIDAE        0         \n",
       "RHABDORNITHIDAE   RHABDORNITHIDAE   0         \n",
       "RHEIDAE           RHEIDAE           0         \n",
       "RHIPIDURIDAE      RHIPIDURIDAE      0         \n",
       "SAGITTARIIDAE     SAGITTARIIDAE     0         \n",
       "SAPAYOAIDAE       SAPAYOAIDAE       0         \n",
       "SCOPIDAE          SCOPIDAE          0         \n",
       "SEMNORNITHIDAE    SEMNORNITHIDAE    0         \n",
       "SITTIDAE          SITTIDAE          0         \n",
       "STEATORNITHIDAE   STEATORNITHIDAE   0         \n",
       "STRUTHIONIDAE     STRUTHIONIDAE     0         \n",
       "TODIDAE           TODIDAE           0         \n",
       "TURNAGRIDAE       TURNAGRIDAE       0         \n",
       "UPUPIDAE          UPUPIDAE          0         \n",
       "UROCYNCHRAMIDAE   UROCYNCHRAMIDAE   0         "
      ]
     },
     "metadata": {},
     "output_type": "display_data"
    },
    {
     "data": {
      "image/png": "[encoded data removed]",
      "text/plain": [
       "plot without title"
      ]
     },
     "metadata": {},
     "output_type": "display_data"
    }
   ],
   "source": [
    "summary(Group1.total.tc5.lr0005)"
   ]
  },
  {
   "cell_type": "code",
   "execution_count": 37,
   "metadata": {},
   "outputs": [
    {
     "name": "stdout",
     "output_type": "stream",
     "text": [
      "n.trees not given. Using 6450 trees.\n"
     ]
    }
   ],
   "source": [
    "ranks = relative.influence(Group1.total.tc5.lr0005, scale. = 'TRUE', sort. = 'TRUE')\n",
    "a = as.data.frame(ranks, col.names = , optional = FALSE)\n",
    "a = setDT(a, keep.rownames = TRUE)[]\n",
    "colnames(a) = c('Variable','influence')\n",
    "b = a\n",
    "for (i in b$Variable){\n",
    "    margianleffects = plot.gbm(Group1.total.tc5.lr0005, i.var = i,n.plots=3, \n",
    "                           write.title = T, return.grid  = T,\n",
    "                           show.contrib = T,y.label=\"Marginal effect on Host\")\n",
    "    filename = paste(\"Outputs2/PartialDependence2/\", i,'Group2_PCROnly','.csv', sep=\"\")\n",
    "    write.csv(margianleffects, file = filename)    \n",
    "}"
   ]
  },
  {
   "cell_type": "code",
   "execution_count": 38,
   "metadata": {},
   "outputs": [],
   "source": [
    "write.csv(a, 'Outputs2/PartialDependence2/Ranks_group22_PCROnly.csv')"
   ]
  }
 ],
 "metadata": {
  "kernelspec": {
   "display_name": "R",
   "language": "R",
   "name": "ir"
  },
  "language_info": {
   "codemirror_mode": "r",
   "file_extension": ".r",
   "mimetype": "text/x-r-source",
   "name": "R",
   "pygments_lexer": "r",
   "version": "3.4.3"
  },
  "varInspector": {
   "cols": {
    "lenName": 16,
    "lenType": 16,
    "lenVar": 40
   },
   "kernels_config": {
    "python": {
     "delete_cmd_postfix": "",
     "delete_cmd_prefix": "del ",
     "library": "var_list.py",
     "varRefreshCmd": "print(var_dic_list())"
    },
    "r": {
     "delete_cmd_postfix": ") ",
     "delete_cmd_prefix": "rm(",
     "library": "var_list.r",
     "varRefreshCmd": "cat(var_dic_list()) "
    }
   },
   "types_to_exclude": [
    "module",
    "function",
    "builtin_function_or_method",
    "instance",
    "_Feature"
   ],
   "window_display": false
  }
 },
 "nbformat": 4,
 "nbformat_minor": 2
}
