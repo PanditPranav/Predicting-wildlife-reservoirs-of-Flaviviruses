{
 "cells": [
  {
   "cell_type": "code",
   "execution_count": 1,
   "metadata": {},
   "outputs": [],
   "source": [
    "setwd('C:/Users/Falco/Desktop/directory/Predicting-wildlife-reservoirs-of-Flaviviruses')"
   ]
  },
  {
   "cell_type": "code",
   "execution_count": 2,
   "metadata": {
    "scrolled": true
   },
   "outputs": [],
   "source": [
    "#install.packages('caTools', repos='http://cran.us.r-project.org')"
   ]
  },
  {
   "cell_type": "code",
   "execution_count": 3,
   "metadata": {},
   "outputs": [
    {
     "name": "stderr",
     "output_type": "stream",
     "text": [
      "Loading required package: survival\n",
      "Loading required package: lattice\n",
      "Loading required package: splines\n",
      "Loading required package: parallel\n",
      "Loaded gbm 2.1.3\n",
      "\n",
      "Attaching package: 'dplyr'\n",
      "\n",
      "The following objects are masked from 'package:stats':\n",
      "\n",
      "    filter, lag\n",
      "\n",
      "The following objects are masked from 'package:base':\n",
      "\n",
      "    intersect, setdiff, setequal, union\n",
      "\n",
      "Loading required package: raster\n",
      "Loading required package: sp\n",
      "\n",
      "Attaching package: 'raster'\n",
      "\n",
      "The following object is masked from 'package:dplyr':\n",
      "\n",
      "    select\n",
      "\n",
      "Loading required package: ggplot2\n",
      "\n",
      "Attaching package: 'caret'\n",
      "\n",
      "The following object is masked from 'package:survival':\n",
      "\n",
      "    cluster\n",
      "\n",
      "\n",
      "Attaching package: 'sjmisc'\n",
      "\n",
      "The following object is masked from 'package:raster':\n",
      "\n",
      "    trim\n",
      "\n",
      "------------------------------------------------------------------------------\n",
      "You have loaded plyr after dplyr - this is likely to cause problems.\n",
      "If you need functions from both plyr and dplyr, please load plyr first, then dplyr:\n",
      "library(plyr); library(dplyr)\n",
      "------------------------------------------------------------------------------\n",
      "\n",
      "Attaching package: 'plyr'\n",
      "\n",
      "The following objects are masked from 'package:dplyr':\n",
      "\n",
      "    arrange, count, desc, failwith, id, mutate, rename, summarise,\n",
      "    summarize\n",
      "\n",
      "\n",
      "Attaching package: 'data.table'\n",
      "\n",
      "The following object is masked from 'package:raster':\n",
      "\n",
      "    shift\n",
      "\n",
      "The following objects are masked from 'package:dplyr':\n",
      "\n",
      "    between, first, last\n",
      "\n"
     ]
    }
   ],
   "source": [
    "options(warn=-1)\n",
    "#install.packages(c('gbm', 'dplyr','dismo', 'caret',\n",
    "#                  'sjPlot', 'skmisc','ggplot2'), repos='http://cran.us.r-project.org')\n",
    "library(gbm)\n",
    "library(dplyr)\n",
    "library(dismo)\n",
    "library(caret)\n",
    "library(sjPlot)\n",
    "library(sjmisc)\n",
    "library(ggplot2)\n",
    "library(raster)\n",
    "library(plyr)\n",
    "library(data.table)"
   ]
  },
  {
   "cell_type": "code",
   "execution_count": 4,
   "metadata": {},
   "outputs": [],
   "source": [
    "#model.data = read.csv(\"Outputs/model_data.csv\")\n",
    "model.data = read.csv('Outputs/dataGroup1a.csv')"
   ]
  },
  {
   "cell_type": "code",
   "execution_count": 5,
   "metadata": {},
   "outputs": [
    {
     "data": {
      "text/html": [
       "<ol class=list-inline>\n",
       "\t<li>2232</li>\n",
       "\t<li>505</li>\n",
       "</ol>\n"
      ],
      "text/latex": [
       "\\begin{enumerate*}\n",
       "\\item 2232\n",
       "\\item 505\n",
       "\\end{enumerate*}\n"
      ],
      "text/markdown": [
       "1. 2232\n",
       "2. 505\n",
       "\n",
       "\n"
      ],
      "text/plain": [
       "[1] 2232  505"
      ]
     },
     "metadata": {},
     "output_type": "display_data"
    }
   ],
   "source": [
    "dim(model.data)"
   ]
  },
  {
   "cell_type": "code",
   "execution_count": 6,
   "metadata": {},
   "outputs": [],
   "source": [
    "#names(model.data)"
   ]
  },
  {
   "cell_type": "code",
   "execution_count": 7,
   "metadata": {},
   "outputs": [],
   "source": [
    "model.data$Class = factor(model.data$Class, levels = levels(model.data$Class))\n",
    "model.data$Order_y = factor(model.data$Order, levels = levels(model.data$Order))\n",
    "model.data$Family_y = factor(model.data$Family, levels = levels(model.data$Family))\n",
    "model.data$MatchHost = factor(model.data$MatchHost, levels = levels(model.data$MatchHost))\n",
    "model.data$IUCN.Status = factor(model.data$IUCN.Status, levels = levels(model.data$IUCN.Status))\n",
    "model.data$Diet_Certainty = factor(model.data$Diet_Certainty, levels = levels(model.data$Diet_Certainty))\n",
    "model.data$Group1Binary2 <- ifelse(model.data$Group1Binary==1,'host','nonhost')\n",
    "model.data$Group1Binary2 <- as.factor(model.data$Group1Binary2)\n",
    "outcomeName <- 'Group1Binary2'"
   ]
  },
  {
   "cell_type": "code",
   "execution_count": 8,
   "metadata": {},
   "outputs": [],
   "source": [
    "## Read in the raster data\n",
    "landuse <- raster(\"D:/lust/lus.tif\",package=\"raster\")\n",
    "## Extract attribute information for the categories from the raster layer, and convert into dataframe\n",
    "LanduseAttributeTable <- ldply(landuse@data@attributes, data.frame)\n",
    "#head(LanduseAttributeTable)"
   ]
  },
  {
   "cell_type": "code",
   "execution_count": 9,
   "metadata": {},
   "outputs": [],
   "source": [
    "## Read in the raster data\n",
    "Livestock <- raster(\"D:/lvstdt/lvstd.tif\",package=\"raster\")\n",
    "## Extract attribute information for the categories from the raster layer, and convert into dataframe\n",
    "LivestockAttributeTable <- ldply(Livestock@data@attributes, data.frame)\n",
    "#LivestockAttributeTable"
   ]
  },
  {
   "cell_type": "code",
   "execution_count": 10,
   "metadata": {},
   "outputs": [],
   "source": [
    "## Read in the raster data\n",
    "Slope <- raster(\"D:/slpt/slp.tif\",package=\"raster\")\n",
    "## Extract attribute information for the categories from the raster layer, and convert into dataframe\n",
    "SlopeAttributeTable <- ldply(Slope@data@attributes, data.frame)\n",
    "#SlopeAttributeTable"
   ]
  },
  {
   "cell_type": "code",
   "execution_count": 11,
   "metadata": {},
   "outputs": [],
   "source": [
    "model.data = merge(model.data, LanduseAttributeTable, by.x = 'LandUse_majority', by.y = 'Value', all.x = TRUE)   \n",
    "model.data = merge(model.data, LivestockAttributeTable, by.x = 'Livestock_majority', by.y = 'Value', all.x = TRUE)  \n",
    "model.data = merge(model.data, SlopeAttributeTable, by.x = 'Slope_majority', by.y = 'Value', all.x = TRUE)"
   ]
  },
  {
   "cell_type": "code",
   "execution_count": 12,
   "metadata": {
    "scrolled": true
   },
   "outputs": [
    {
     "data": {
      "text/html": [
       "<table>\n",
       "<thead><tr><th scope=col>ID</th><th scope=col>COUNT</th><th scope=col>BinValues</th><th scope=col>SLP_DS</th><th scope=col>Value</th></tr></thead>\n",
       "<tbody>\n",
       "\t<tr><td>0       </td><td>6781392 </td><td>0       </td><td>no data </td><td>0       </td></tr>\n",
       "\t<tr><td>1       </td><td>  33126 </td><td>1       </td><td>0 to 0.5</td><td>1       </td></tr>\n",
       "\t<tr><td>2       </td><td> 696323 </td><td>2       </td><td>0.5 to 2</td><td>2       </td></tr>\n",
       "\t<tr><td>3       </td><td> 522207 </td><td>3       </td><td>2 to 5  </td><td>3       </td></tr>\n",
       "\t<tr><td>4       </td><td> 320490 </td><td>4       </td><td>5 to 8  </td><td>4       </td></tr>\n",
       "\t<tr><td>5       </td><td> 201996 </td><td>5       </td><td>8 to 16 </td><td>5       </td></tr>\n",
       "\t<tr><td>6       </td><td> 217875 </td><td>6       </td><td>16 to 30</td><td>6       </td></tr>\n",
       "\t<tr><td>7       </td><td> 103347 </td><td>7       </td><td>30 to 45</td><td>7       </td></tr>\n",
       "\t<tr><td>8                                                  </td><td><span style=white-space:pre-wrap>  54591</span>    </td><td>8                                                  </td><td><span style=white-space:pre-wrap>&gt; 45    </span></td><td>8                                                  </td></tr>\n",
       "\t<tr><td>9       </td><td>  62893 </td><td>9       </td><td>Water   </td><td>9       </td></tr>\n",
       "</tbody>\n",
       "</table>\n"
      ],
      "text/latex": [
       "\\begin{tabular}{r|lllll}\n",
       " ID & COUNT & BinValues & SLP\\_DS & Value\\\\\n",
       "\\hline\n",
       "\t 0        & 6781392  & 0        & no data  & 0       \\\\\n",
       "\t 1        &   33126  & 1        & 0 to 0.5 & 1       \\\\\n",
       "\t 2        &  696323  & 2        & 0.5 to 2 & 2       \\\\\n",
       "\t 3        &  522207  & 3        & 2 to 5   & 3       \\\\\n",
       "\t 4        &  320490  & 4        & 5 to 8   & 4       \\\\\n",
       "\t 5        &  201996  & 5        & 8 to 16  & 5       \\\\\n",
       "\t 6        &  217875  & 6        & 16 to 30 & 6       \\\\\n",
       "\t 7        &  103347  & 7        & 30 to 45 & 7       \\\\\n",
       "\t 8        &   54591  & 8        & > 45     & 8       \\\\\n",
       "\t 9        &   62893  & 9        & Water    & 9       \\\\\n",
       "\\end{tabular}\n"
      ],
      "text/markdown": [
       "\n",
       "ID | COUNT | BinValues | SLP_DS | Value | \n",
       "|---|---|---|---|---|---|---|---|---|---|\n",
       "| 0        | 6781392  | 0        | no data  | 0        | \n",
       "| 1        |   33126  | 1        | 0 to 0.5 | 1        | \n",
       "| 2        |  696323  | 2        | 0.5 to 2 | 2        | \n",
       "| 3        |  522207  | 3        | 2 to 5   | 3        | \n",
       "| 4        |  320490  | 4        | 5 to 8   | 4        | \n",
       "| 5        |  201996  | 5        | 8 to 16  | 5        | \n",
       "| 6        |  217875  | 6        | 16 to 30 | 6        | \n",
       "| 7        |  103347  | 7        | 30 to 45 | 7        | \n",
       "| 8        |   54591  | 8        | > 45     | 8        | \n",
       "| 9        |   62893  | 9        | Water    | 9        | \n",
       "\n",
       "\n"
      ],
      "text/plain": [
       "   ID COUNT   BinValues SLP_DS   Value\n",
       "1  0  6781392 0         no data  0    \n",
       "2  1    33126 1         0 to 0.5 1    \n",
       "3  2   696323 2         0.5 to 2 2    \n",
       "4  3   522207 3         2 to 5   3    \n",
       "5  4   320490 4         5 to 8   4    \n",
       "6  5   201996 5         8 to 16  5    \n",
       "7  6   217875 6         16 to 30 6    \n",
       "8  7   103347 7         30 to 45 7    \n",
       "9  8    54591 8         > 45     8    \n",
       "10 9    62893 9         Water    9    "
      ]
     },
     "metadata": {},
     "output_type": "display_data"
    }
   ],
   "source": [
    "SlopeAttributeTable"
   ]
  },
  {
   "cell_type": "code",
   "execution_count": 13,
   "metadata": {},
   "outputs": [
    {
     "data": {
      "text/plain": [
       "NULL"
      ]
     },
     "metadata": {},
     "output_type": "display_data"
    }
   ],
   "source": [
    "unique(model.data$LandUse_majortiy_collapsed)"
   ]
  },
  {
   "cell_type": "code",
   "execution_count": 14,
   "metadata": {},
   "outputs": [
    {
     "data": {
      "text/plain": [
       "\n",
       "    > 45 0 to 0.5 0.5 to 2 16 to 30   2 to 5 30 to 45   5 to 8  8 to 16 \n",
       "     167        0      620      715      430      147      106       32 \n",
       " no data    Water \n",
       "      12        3 "
      ]
     },
     "metadata": {},
     "output_type": "display_data"
    }
   ],
   "source": [
    "table(model.data$SLP_DS)"
   ]
  },
  {
   "cell_type": "code",
   "execution_count": 15,
   "metadata": {},
   "outputs": [],
   "source": [
    "write.csv(model.data, 'Outputs/PartialDependence2/Group1aData_forPartial.csv')"
   ]
  },
  {
   "cell_type": "code",
   "execution_count": 39,
   "metadata": {},
   "outputs": [],
   "source": [
    "habitats = c(\"Forest\",\"Savanna\",\"Shrubland\",\"Grassland\",\"Wetlands\",\"Rocky.areas\",\"Caves.and.Subterranean.Habitats\",\"Desert\",\n",
    "            \"Marine.Neritic\",\"Marine.Oceanic\",\"Marine.Deep.Ocean.Floor\",\"Marine.Intertidal\",\"Marine.Coastal.Supratidal\", \n",
    "            \"Artificial.Terrestrial\",\"Artificial.Aquatic\",\"Introduced.Vegetation\",\"Other\",\"Unknown\")\n",
    "\n",
    "predictorsNames = c(\"Bio12_majority\", \"Bio12_max\", \"Bio12_mean\", \"Bio12_min\", \"Bio12_range\",\n",
    "                    \"Bio12_std\", \"Bio1_majority\", \"Bio1_max\", \"Bio1_mean\", \"Bio1_min\", \"Bio1_range\", \"Bio1_std\", \"Bio3_majority\",\n",
    "                    \"Bio3_max\", \"Bio3_mean\", \"Bio3_min\", \"Bio3_range\", \"Bio3_std\", \"Crops_majority\",\n",
    "                    \"HuPop_majority\", \"HuPop_max\", \"HuPop_mean\", \"HuPop_min\", \"HuPop_range\",\n",
    "                    \"HuPop_std\", \"LandUse_majority\", \"Livestock_majority\", \"Mosquitoes_majority\", \"Mosquitoes_max\",\n",
    "                    \"Mosquitoes_mean\", \"Slope_mean\", \"Slope_min\", \"Slope_range\", \"Slope_std\",\n",
    "                    \"Ticks_majority\", \"Ticks_mean\", \"Ticks_min\", \"bdiversity_majority\", \"bdiversity_max\",\n",
    "                    \"bdiversity_mean\", \"bdiversity_min\", \"bdiversity_range\", \"bdiversity_std\",\n",
    "                    \"centroidY\", \"maxlat\", \"mdiversity_majority\", \"mdiversity_max\", \"mdiversity_mean\",\n",
    "                    \"mdiversity_min\", \"mdiversity_range\", \"mdiversity_std\", \"minlat\",\n",
    "                    \"minlong\", \"Mosquitoes_min_log\", \"Mosquitoes_range_log\", \"Mosquitoes_std_log\",\n",
    "                    \"Shape_Area_log\", \"Shape_Length_log\", \"Slope_majority_log\", \"Slope_max_log\",\n",
    "                    \"Ticks_max_log\", \"Ticks_range_log\", \"Ticks_std_log\", \"centroidX_log\", \"maxlong_log\",\n",
    "                    \"MaxDiet\", \"ForStrategy\", \"ActivityTime\",\"Body_Temperature\", \"IUCN.Status\",\n",
    "                    \"Population.trend\", \"Data.Richness\", \"BodyMass_ln\", \"Metabolic_Rate_ln\", \"Habitat_Breadth_sqrt\",\n",
    "                    \"PubmedHits_ln\",'HuPop_mean_log',\n",
    "                    'Class','Family','Order','SLP_DS',\n",
    "                    'MURIDAE', 'CRICETIDAE', 'ABROCOMIDAE', 'OCTODONTIDAE', 'SCIURIDAE',\n",
    "       'DIPODIDAE', 'ATELIDAE', 'ANOMALURIDAE', 'APLODONTIIDAE',\n",
    "       'HYSTRICIDAE', 'BATHYERGIDAE', 'NESOMYIDAE', 'ECHIMYIDAE',\n",
    "       'CALLITRICHIDAE', 'CALOMYSCIDAE', 'SPALACIDAE', 'CAPROMYIDAE',\n",
    "       'CASTORIDAE', 'CAVIIDAE', 'GLIRIDAE', 'HETEROMYIDAE',\n",
    "       'ERETHIZONTIDAE', 'CHINCHILLIDAE', 'CERCOPITHECIDAE', 'GEOMYIDAE',\n",
    "       'CTENODACTYLIDAE', 'CTENOMYIDAE', 'CUNICULIDAE', 'DASYPROCTIDAE',\n",
    "       'DINOMYIDAE', 'DIATOMYIDAE', 'MYOCASTORIDAE', 'PEDETIDAE',\n",
    "       'PETROMURIDAE', 'PLATACANTHOMYIDAE', 'HOMINIDAE', 'CEBIDAE',\n",
    "       'THRYONOMYIDAE', 'PubmedHits')\n",
    "\n",
    "\n",
    "predictorsNames = predictorsNames[!predictorsNames %in% c('Activity_Diurnal', 'Activity_Nocturnal', 'BodyMass_SpecLevel',\n",
    "                                                          'Diet_Fruit', \"Diet_Inv\",\"Diet_Nect\",\"Diet_PlantO\", \"Diet_Scav\",\n",
    "                                                          \"Diet_Seed\", \"Diet_Vect\",\"Diet_Vend\", \"Diet_Vfish\", \"Diet_Vunk\",\n",
    "                                                          \"ForStrat_aerial\", \"ForStrat_aquatic\",\"ForStrat_arboreal\", \"ForStrat_ground\", \n",
    "                                                          'Crops_count', \"Crops_max\",\"Crops_mean\", \"Crops_median\", \"Crops_min\",\"Crops_range\",\n",
    "                                                          \"Crops_std\",\"LandUse_count\",'LandUse_majority', \"LandUse_max\",\"LandUse_mean\",\n",
    "                                                          \"LandUse_median\",\"LandUse_min\",\"LandUse_range\",\"LandUse_std\",\"Livestock_count\",\n",
    "                                                          \"Livestock_majority\",\"Livestock_max\",\"Livestock_mean\",\"Livestock_median\",\"Livestock_min\",\n",
    "                                                          \"Livestock_range\",\"Livestock_std\",\"MetRate_W_log\",\"BodyMass_log\",\n",
    "                                                          'TotalBinary', 'Test', 'Class','Family', 'Order','Data.Richness', \n",
    "                                                          'PubmedHits', \"BodyMass\", \"Metabolic.Rate\",\n",
    "                                                          \"Distribution.Area\", \"Mean.Temperature\", \"Mean.Human.population\",\n",
    "                                                          \"HabitatBreadth\", \"bdiversity_min\", \"bdiversity_std\", \"mdiversity_min\",\"mdiversity_std\", \n",
    "                                                          \"DELPHINIDAE\", \"sp\", \"BALAENIDAE\", \"BALAENOPTERIDAE\", \"ZIPHIIDAE\",\n",
    "                                                          \"NEOBALAENIDAE\", \"CISTUGIDAE\", \"MONODONTIDAE\", \"ESCHRICHTIIDAE\",\n",
    "                                                          \"INIIDAE\", \"PHYSETERIDAE\", \"PHOCOENIDAE\", \n",
    "                                                          \"PLATANISTIDAE\",\"MINIOPTERIDAE\", \n",
    "                                                          \n",
    "                                                          \"Bio12_range\",\"Bio1_range\",\"Bio3_range\", 'HuPop_range',\n",
    "                                                          \"Slope_range\", \"bdiversity_range\", \"mdiversity_range\",\n",
    "                                                          \"Mosquitoes_range_log\",\"Ticks_range_log\",\"Bio12_majority\",\n",
    "                                                          \n",
    "                                                          \"Bio1_majority\",\"Bio3_majority\", 'HuPop_majority',\n",
    "                                                         \"Slope_majority_log\", \"bdiversity_majority\", \"mdiversity_majority\",\n",
    "                                                         \"Mosquitoes_majority\",\"Ticks_majority\",\n",
    "                                                         \n",
    "                                                          \"Bio1_max\",\"Bio3_max\", 'HuPop_max',\n",
    "                                                         \"Slope_max_log\", \"bdiversity_max\", \"mdiversity_max\",\n",
    "                                                         \"Mosquitoes_max\",\"Ticks_max\",\n",
    "                                                         \n",
    "                                                          \"Bio1_min\",\"Bio3_min\", 'HuPop_min',\n",
    "                                                         \"Slope_min_log\", \"bdiversity_min\", \"mdiversity_min\",\n",
    "                                                         \"Mosquitoes_min\",\"Ticks_min\",\n",
    "                                                         \n",
    "                                                          \"Bio1_std\",\"Bio3_std\", 'HuPop_std',\n",
    "                                                         \"Slope_std_log\", \"bdiversity_std\", \"mdiversity_std\",\n",
    "                                                         \"Mosquitoes_std\",\"Ticks_std\",\n",
    "                                                         \n",
    "                                                          'Shape_Length_log', \"Slope_mean\",\n",
    "                                                         \n",
    "                                                          \"Bio12_max\",\"Bio12_min\",\"Bio12_std\",\n",
    "                                                         \"Slope_min\",\"Slope_std\", \n",
    "                                                         \"Mosquitoes_min_log\", \"Mosquitoes_std_log\",\n",
    "                                                          \"Ticks_max_log\", \"Ticks_std_log\", \n",
    "                                                         'HuPop_mean')]\n",
    "\n",
    "predictorsNames = predictorsNames[!predictorsNames %in% habitats]\n",
    "\n",
    "#predictorsNames = c(predictorsNames, 'LVSTD_DS', 'LUS_DS')\n",
    "predictorsNames = c(predictorsNames, 'LVSTD_DS', 'LandUse_collapsed')\n",
    "\n"
   ]
  },
  {
   "cell_type": "code",
   "execution_count": 40,
   "metadata": {},
   "outputs": [],
   "source": [
    "outcomeName <- 'Group1Binary'"
   ]
  },
  {
   "cell_type": "code",
   "execution_count": 41,
   "metadata": {},
   "outputs": [
    {
     "data": {
      "text/html": [
       "<ol class=list-inline>\n",
       "\t<li>'Bio12_mean'</li>\n",
       "\t<li>'Bio1_mean'</li>\n",
       "\t<li>'Bio3_mean'</li>\n",
       "\t<li>'Crops_majority'</li>\n",
       "\t<li>'Mosquitoes_mean'</li>\n",
       "\t<li>'Ticks_mean'</li>\n",
       "\t<li>'bdiversity_mean'</li>\n",
       "\t<li>'centroidY'</li>\n",
       "\t<li>'maxlat'</li>\n",
       "\t<li>'mdiversity_mean'</li>\n",
       "\t<li>'minlat'</li>\n",
       "\t<li>'minlong'</li>\n",
       "\t<li>'Shape_Area_log'</li>\n",
       "\t<li>'centroidX_log'</li>\n",
       "\t<li>'maxlong_log'</li>\n",
       "\t<li>'MaxDiet'</li>\n",
       "\t<li>'ForStrategy'</li>\n",
       "\t<li>'ActivityTime'</li>\n",
       "\t<li>'Body_Temperature'</li>\n",
       "\t<li>'IUCN.Status'</li>\n",
       "\t<li>'Population.trend'</li>\n",
       "\t<li>'BodyMass_ln'</li>\n",
       "\t<li>'Metabolic_Rate_ln'</li>\n",
       "\t<li>'Habitat_Breadth_sqrt'</li>\n",
       "\t<li>'PubmedHits_ln'</li>\n",
       "\t<li>'HuPop_mean_log'</li>\n",
       "\t<li>'SLP_DS'</li>\n",
       "\t<li>'MURIDAE'</li>\n",
       "\t<li>'CRICETIDAE'</li>\n",
       "\t<li>'ABROCOMIDAE'</li>\n",
       "\t<li>'OCTODONTIDAE'</li>\n",
       "\t<li>'SCIURIDAE'</li>\n",
       "\t<li>'DIPODIDAE'</li>\n",
       "\t<li>'ATELIDAE'</li>\n",
       "\t<li>'ANOMALURIDAE'</li>\n",
       "\t<li>'APLODONTIIDAE'</li>\n",
       "\t<li>'HYSTRICIDAE'</li>\n",
       "\t<li>'BATHYERGIDAE'</li>\n",
       "\t<li>'NESOMYIDAE'</li>\n",
       "\t<li>'ECHIMYIDAE'</li>\n",
       "\t<li>'CALLITRICHIDAE'</li>\n",
       "\t<li>'CALOMYSCIDAE'</li>\n",
       "\t<li>'SPALACIDAE'</li>\n",
       "\t<li>'CAPROMYIDAE'</li>\n",
       "\t<li>'CASTORIDAE'</li>\n",
       "\t<li>'CAVIIDAE'</li>\n",
       "\t<li>'GLIRIDAE'</li>\n",
       "\t<li>'HETEROMYIDAE'</li>\n",
       "\t<li>'ERETHIZONTIDAE'</li>\n",
       "\t<li>'CHINCHILLIDAE'</li>\n",
       "\t<li>'CERCOPITHECIDAE'</li>\n",
       "\t<li>'GEOMYIDAE'</li>\n",
       "\t<li>'CTENODACTYLIDAE'</li>\n",
       "\t<li>'CTENOMYIDAE'</li>\n",
       "\t<li>'CUNICULIDAE'</li>\n",
       "\t<li>'DASYPROCTIDAE'</li>\n",
       "\t<li>'DINOMYIDAE'</li>\n",
       "\t<li>'DIATOMYIDAE'</li>\n",
       "\t<li>'MYOCASTORIDAE'</li>\n",
       "\t<li>'PEDETIDAE'</li>\n",
       "\t<li>'PETROMURIDAE'</li>\n",
       "\t<li>'PLATACANTHOMYIDAE'</li>\n",
       "\t<li>'HOMINIDAE'</li>\n",
       "\t<li>'CEBIDAE'</li>\n",
       "\t<li>'THRYONOMYIDAE'</li>\n",
       "\t<li>'LVSTD_DS'</li>\n",
       "\t<li>'LandUse_collapsed'</li>\n",
       "</ol>\n"
      ],
      "text/latex": [
       "\\begin{enumerate*}\n",
       "\\item 'Bio12\\_mean'\n",
       "\\item 'Bio1\\_mean'\n",
       "\\item 'Bio3\\_mean'\n",
       "\\item 'Crops\\_majority'\n",
       "\\item 'Mosquitoes\\_mean'\n",
       "\\item 'Ticks\\_mean'\n",
       "\\item 'bdiversity\\_mean'\n",
       "\\item 'centroidY'\n",
       "\\item 'maxlat'\n",
       "\\item 'mdiversity\\_mean'\n",
       "\\item 'minlat'\n",
       "\\item 'minlong'\n",
       "\\item 'Shape\\_Area\\_log'\n",
       "\\item 'centroidX\\_log'\n",
       "\\item 'maxlong\\_log'\n",
       "\\item 'MaxDiet'\n",
       "\\item 'ForStrategy'\n",
       "\\item 'ActivityTime'\n",
       "\\item 'Body\\_Temperature'\n",
       "\\item 'IUCN.Status'\n",
       "\\item 'Population.trend'\n",
       "\\item 'BodyMass\\_ln'\n",
       "\\item 'Metabolic\\_Rate\\_ln'\n",
       "\\item 'Habitat\\_Breadth\\_sqrt'\n",
       "\\item 'PubmedHits\\_ln'\n",
       "\\item 'HuPop\\_mean\\_log'\n",
       "\\item 'SLP\\_DS'\n",
       "\\item 'MURIDAE'\n",
       "\\item 'CRICETIDAE'\n",
       "\\item 'ABROCOMIDAE'\n",
       "\\item 'OCTODONTIDAE'\n",
       "\\item 'SCIURIDAE'\n",
       "\\item 'DIPODIDAE'\n",
       "\\item 'ATELIDAE'\n",
       "\\item 'ANOMALURIDAE'\n",
       "\\item 'APLODONTIIDAE'\n",
       "\\item 'HYSTRICIDAE'\n",
       "\\item 'BATHYERGIDAE'\n",
       "\\item 'NESOMYIDAE'\n",
       "\\item 'ECHIMYIDAE'\n",
       "\\item 'CALLITRICHIDAE'\n",
       "\\item 'CALOMYSCIDAE'\n",
       "\\item 'SPALACIDAE'\n",
       "\\item 'CAPROMYIDAE'\n",
       "\\item 'CASTORIDAE'\n",
       "\\item 'CAVIIDAE'\n",
       "\\item 'GLIRIDAE'\n",
       "\\item 'HETEROMYIDAE'\n",
       "\\item 'ERETHIZONTIDAE'\n",
       "\\item 'CHINCHILLIDAE'\n",
       "\\item 'CERCOPITHECIDAE'\n",
       "\\item 'GEOMYIDAE'\n",
       "\\item 'CTENODACTYLIDAE'\n",
       "\\item 'CTENOMYIDAE'\n",
       "\\item 'CUNICULIDAE'\n",
       "\\item 'DASYPROCTIDAE'\n",
       "\\item 'DINOMYIDAE'\n",
       "\\item 'DIATOMYIDAE'\n",
       "\\item 'MYOCASTORIDAE'\n",
       "\\item 'PEDETIDAE'\n",
       "\\item 'PETROMURIDAE'\n",
       "\\item 'PLATACANTHOMYIDAE'\n",
       "\\item 'HOMINIDAE'\n",
       "\\item 'CEBIDAE'\n",
       "\\item 'THRYONOMYIDAE'\n",
       "\\item 'LVSTD\\_DS'\n",
       "\\item 'LandUse\\_collapsed'\n",
       "\\end{enumerate*}\n"
      ],
      "text/markdown": [
       "1. 'Bio12_mean'\n",
       "2. 'Bio1_mean'\n",
       "3. 'Bio3_mean'\n",
       "4. 'Crops_majority'\n",
       "5. 'Mosquitoes_mean'\n",
       "6. 'Ticks_mean'\n",
       "7. 'bdiversity_mean'\n",
       "8. 'centroidY'\n",
       "9. 'maxlat'\n",
       "10. 'mdiversity_mean'\n",
       "11. 'minlat'\n",
       "12. 'minlong'\n",
       "13. 'Shape_Area_log'\n",
       "14. 'centroidX_log'\n",
       "15. 'maxlong_log'\n",
       "16. 'MaxDiet'\n",
       "17. 'ForStrategy'\n",
       "18. 'ActivityTime'\n",
       "19. 'Body_Temperature'\n",
       "20. 'IUCN.Status'\n",
       "21. 'Population.trend'\n",
       "22. 'BodyMass_ln'\n",
       "23. 'Metabolic_Rate_ln'\n",
       "24. 'Habitat_Breadth_sqrt'\n",
       "25. 'PubmedHits_ln'\n",
       "26. 'HuPop_mean_log'\n",
       "27. 'SLP_DS'\n",
       "28. 'MURIDAE'\n",
       "29. 'CRICETIDAE'\n",
       "30. 'ABROCOMIDAE'\n",
       "31. 'OCTODONTIDAE'\n",
       "32. 'SCIURIDAE'\n",
       "33. 'DIPODIDAE'\n",
       "34. 'ATELIDAE'\n",
       "35. 'ANOMALURIDAE'\n",
       "36. 'APLODONTIIDAE'\n",
       "37. 'HYSTRICIDAE'\n",
       "38. 'BATHYERGIDAE'\n",
       "39. 'NESOMYIDAE'\n",
       "40. 'ECHIMYIDAE'\n",
       "41. 'CALLITRICHIDAE'\n",
       "42. 'CALOMYSCIDAE'\n",
       "43. 'SPALACIDAE'\n",
       "44. 'CAPROMYIDAE'\n",
       "45. 'CASTORIDAE'\n",
       "46. 'CAVIIDAE'\n",
       "47. 'GLIRIDAE'\n",
       "48. 'HETEROMYIDAE'\n",
       "49. 'ERETHIZONTIDAE'\n",
       "50. 'CHINCHILLIDAE'\n",
       "51. 'CERCOPITHECIDAE'\n",
       "52. 'GEOMYIDAE'\n",
       "53. 'CTENODACTYLIDAE'\n",
       "54. 'CTENOMYIDAE'\n",
       "55. 'CUNICULIDAE'\n",
       "56. 'DASYPROCTIDAE'\n",
       "57. 'DINOMYIDAE'\n",
       "58. 'DIATOMYIDAE'\n",
       "59. 'MYOCASTORIDAE'\n",
       "60. 'PEDETIDAE'\n",
       "61. 'PETROMURIDAE'\n",
       "62. 'PLATACANTHOMYIDAE'\n",
       "63. 'HOMINIDAE'\n",
       "64. 'CEBIDAE'\n",
       "65. 'THRYONOMYIDAE'\n",
       "66. 'LVSTD_DS'\n",
       "67. 'LandUse_collapsed'\n",
       "\n",
       "\n"
      ],
      "text/plain": [
       " [1] \"Bio12_mean\"           \"Bio1_mean\"            \"Bio3_mean\"           \n",
       " [4] \"Crops_majority\"       \"Mosquitoes_mean\"      \"Ticks_mean\"          \n",
       " [7] \"bdiversity_mean\"      \"centroidY\"            \"maxlat\"              \n",
       "[10] \"mdiversity_mean\"      \"minlat\"               \"minlong\"             \n",
       "[13] \"Shape_Area_log\"       \"centroidX_log\"        \"maxlong_log\"         \n",
       "[16] \"MaxDiet\"              \"ForStrategy\"          \"ActivityTime\"        \n",
       "[19] \"Body_Temperature\"     \"IUCN.Status\"          \"Population.trend\"    \n",
       "[22] \"BodyMass_ln\"          \"Metabolic_Rate_ln\"    \"Habitat_Breadth_sqrt\"\n",
       "[25] \"PubmedHits_ln\"        \"HuPop_mean_log\"       \"SLP_DS\"              \n",
       "[28] \"MURIDAE\"              \"CRICETIDAE\"           \"ABROCOMIDAE\"         \n",
       "[31] \"OCTODONTIDAE\"         \"SCIURIDAE\"            \"DIPODIDAE\"           \n",
       "[34] \"ATELIDAE\"             \"ANOMALURIDAE\"         \"APLODONTIIDAE\"       \n",
       "[37] \"HYSTRICIDAE\"          \"BATHYERGIDAE\"         \"NESOMYIDAE\"          \n",
       "[40] \"ECHIMYIDAE\"           \"CALLITRICHIDAE\"       \"CALOMYSCIDAE\"        \n",
       "[43] \"SPALACIDAE\"           \"CAPROMYIDAE\"          \"CASTORIDAE\"          \n",
       "[46] \"CAVIIDAE\"             \"GLIRIDAE\"             \"HETEROMYIDAE\"        \n",
       "[49] \"ERETHIZONTIDAE\"       \"CHINCHILLIDAE\"        \"CERCOPITHECIDAE\"     \n",
       "[52] \"GEOMYIDAE\"            \"CTENODACTYLIDAE\"      \"CTENOMYIDAE\"         \n",
       "[55] \"CUNICULIDAE\"          \"DASYPROCTIDAE\"        \"DINOMYIDAE\"          \n",
       "[58] \"DIATOMYIDAE\"          \"MYOCASTORIDAE\"        \"PEDETIDAE\"           \n",
       "[61] \"PETROMURIDAE\"         \"PLATACANTHOMYIDAE\"    \"HOMINIDAE\"           \n",
       "[64] \"CEBIDAE\"              \"THRYONOMYIDAE\"        \"LVSTD_DS\"            \n",
       "[67] \"LandUse_collapsed\"   "
      ]
     },
     "metadata": {},
     "output_type": "display_data"
    }
   ],
   "source": [
    "predictorsNames"
   ]
  },
  {
   "cell_type": "code",
   "execution_count": 42,
   "metadata": {},
   "outputs": [
    {
     "data": {
      "text/html": [
       "67"
      ],
      "text/latex": [
       "67"
      ],
      "text/markdown": [
       "67"
      ],
      "text/plain": [
       "[1] 67"
      ]
     },
     "metadata": {},
     "output_type": "display_data"
    }
   ],
   "source": [
    "length(predictorsNames)"
   ]
  },
  {
   "cell_type": "code",
   "execution_count": 20,
   "metadata": {},
   "outputs": [],
   "source": [
    "?gbm.step"
   ]
  },
  {
   "cell_type": "code",
   "execution_count": 19,
   "metadata": {
    "scrolled": false
   },
   "outputs": [
    {
     "name": "stdout",
     "output_type": "stream",
     "text": [
      "\n",
      " \n",
      " GBM STEP - version 2.9 \n",
      " \n",
      "Performing cross-validation optimisation of a boosted regression tree model \n",
      "for NA and using a family of bernoulli \n",
      "Using 3571 observations and 95 predictors \n",
      "creating 10 initial models of 50 trees \n",
      "\n",
      " folds are stratified by prevalence \n",
      "total mean deviance =  0.0513 \n",
      "tolerance is fixed at  1e-04 \n",
      "ntrees resid. dev. \n",
      "50    0.0475 \n",
      "now adding trees... \n",
      "100   0.0457 \n",
      "150   0.0443 \n",
      "200   0.0434 \n",
      "250   0.0427 \n",
      "300   0.0422 \n",
      "350   0.0418 \n",
      "400   0.0414 \n",
      "450   0.041 \n",
      "500   0.0408 \n",
      "550   0.0405 \n",
      "600   0.0403 \n",
      "650   0.0402 \n",
      "700   0.04 \n",
      "750   0.0398 \n",
      "800   0.0396 \n",
      "850   0.0395 \n",
      "900   0.0394 \n",
      "950   0.0394 \n",
      "1000   0.0393 \n",
      "1050   0.0393 \n",
      "1100   0.0392 \n",
      "1150   0.0392 \n",
      "1200   0.0391 \n",
      "1250   0.0391 \n",
      "1300   0.0391 \n",
      "1350   0.0391 \n",
      "1400   0.0391 \n",
      "1450   0.0391 \n",
      "1500   0.0391 \n",
      "1550   0.0391 \n",
      "1600   0.0392 \n",
      "1650   0.0392 \n",
      "1700   0.0393 \n",
      "1750   0.0394 \n",
      "1800   0.0394 \n"
     ]
    },
    {
     "name": "stderr",
     "output_type": "stream",
     "text": [
      "fitting final gbm model with a fixed number of 1300 trees for NA\n"
     ]
    },
    {
     "name": "stdout",
     "output_type": "stream",
     "text": [
      "\n",
      "mean total deviance = 0.051 \n",
      "mean residual deviance = 0.014 \n",
      " \n",
      "estimated cv deviance = 0.039 ; se = 0.005 \n",
      " \n",
      "training data correlation = 0.835 \n",
      "cv correlation =  0.248 ; se = 0.099 \n",
      " \n",
      "training data AUC score = 1 \n",
      "cv AUC score = 0.922 ; se = 0.032 \n",
      " \n",
      "elapsed time -  0.08 minutes \n"
     ]
    },
    {
     "data": {
      "image/png": "[encoded data removed]",
      "text/plain": [
       "Plot with title \"NA, d - 5, lr - 0.001\""
      ]
     },
     "metadata": {},
     "output_type": "display_data"
    }
   ],
   "source": [
    "set.seed(100)\n",
    "Group1.total.tc5.lr0005 <- gbm.step(data = model.data,\n",
    "                                   gbm.x = predictorsNames,\n",
    "                                   gbm.y = outcomeName,\n",
    "                                   family = \"bernoulli\",\n",
    "                                   tree.complexity = 5,\n",
    "                                   learning.rate = 0.001,\n",
    "                                   bag.fraction = 0.5, \n",
    "                                   cv = 10, )"
   ]
  },
  {
   "cell_type": "code",
   "execution_count": 20,
   "metadata": {},
   "outputs": [],
   "source": [
    "#for (i in predictorsNames){\n",
    "#    print (i)\n",
    "#    a = which( colnames(model.data)== i )\n",
    "#    print (a)\n",
    "#}"
   ]
  },
  {
   "cell_type": "code",
   "execution_count": 21,
   "metadata": {
    "scrolled": false
   },
   "outputs": [
    {
     "data": {
      "text/html": [
       "<table>\n",
       "<thead><tr><th></th><th scope=col>var</th><th scope=col>rel.inf</th></tr></thead>\n",
       "<tbody>\n",
       "\t<tr><th scope=row>ForStrategy</th><td>ForStrategy         </td><td>21.80004340         </td></tr>\n",
       "\t<tr><th scope=row>BodyMass_ln</th><td>BodyMass_ln         </td><td>14.71666376         </td></tr>\n",
       "\t<tr><th scope=row>PubmedHits_ln</th><td>PubmedHits_ln       </td><td>10.95376899         </td></tr>\n",
       "\t<tr><th scope=row>Shape_Area_log</th><td>Shape_Area_log      </td><td>10.19629872         </td></tr>\n",
       "\t<tr><th scope=row>SLP_DS</th><td>SLP_DS              </td><td> 4.61799248         </td></tr>\n",
       "\t<tr><th scope=row>Body_Temperature</th><td>Body_Temperature    </td><td> 4.57577043         </td></tr>\n",
       "\t<tr><th scope=row>mdiversity_mean</th><td>mdiversity_mean     </td><td> 3.71267350         </td></tr>\n",
       "\t<tr><th scope=row>Bio12_mean</th><td>Bio12_mean          </td><td> 3.64090494         </td></tr>\n",
       "\t<tr><th scope=row>Metabolic_Rate_ln</th><td>Metabolic_Rate_ln   </td><td> 2.75202353         </td></tr>\n",
       "\t<tr><th scope=row>ActivityTime</th><td>ActivityTime        </td><td> 2.59484946         </td></tr>\n",
       "\t<tr><th scope=row>MaxDiet</th><td>MaxDiet             </td><td> 2.51328505         </td></tr>\n",
       "\t<tr><th scope=row>maxlat</th><td>maxlat              </td><td> 2.45064711         </td></tr>\n",
       "\t<tr><th scope=row>bdiversity_mean</th><td>bdiversity_mean     </td><td> 1.67173593         </td></tr>\n",
       "\t<tr><th scope=row>Bio1_mean</th><td>Bio1_mean           </td><td> 1.55837378         </td></tr>\n",
       "\t<tr><th scope=row>IUCN.Status</th><td>IUCN.Status         </td><td> 1.52089295         </td></tr>\n",
       "\t<tr><th scope=row>minlat</th><td>minlat              </td><td> 1.47683510         </td></tr>\n",
       "\t<tr><th scope=row>centroidY</th><td>centroidY           </td><td> 1.27245573         </td></tr>\n",
       "\t<tr><th scope=row>Mosquitoes_mean</th><td>Mosquitoes_mean     </td><td> 1.16472261         </td></tr>\n",
       "\t<tr><th scope=row>Ticks_mean</th><td>Ticks_mean          </td><td> 1.15940439         </td></tr>\n",
       "\t<tr><th scope=row>centroidX_log</th><td>centroidX_log       </td><td> 1.13361030         </td></tr>\n",
       "\t<tr><th scope=row>HuPop_mean_log</th><td>HuPop_mean_log      </td><td> 1.00559898         </td></tr>\n",
       "\t<tr><th scope=row>Habitat_Breadth_sqrt</th><td>Habitat_Breadth_sqrt</td><td> 0.88561207         </td></tr>\n",
       "\t<tr><th scope=row>maxlong_log</th><td>maxlong_log         </td><td> 0.79608260         </td></tr>\n",
       "\t<tr><th scope=row>Bio3_mean</th><td>Bio3_mean           </td><td> 0.48937184         </td></tr>\n",
       "\t<tr><th scope=row>LVSTD_DS</th><td>LVSTD_DS            </td><td> 0.40997236         </td></tr>\n",
       "\t<tr><th scope=row>minlong</th><td>minlong             </td><td> 0.39986908         </td></tr>\n",
       "\t<tr><th scope=row>LandUse_collapsed</th><td>LandUse_collapsed   </td><td> 0.39836145         </td></tr>\n",
       "\t<tr><th scope=row>Population.trend</th><td>Population.trend    </td><td> 0.10799248         </td></tr>\n",
       "\t<tr><th scope=row>Crops_majority</th><td>Crops_majority      </td><td> 0.02418697         </td></tr>\n",
       "\t<tr><th scope=row>MURIDAE</th><td>MURIDAE             </td><td> 0.00000000         </td></tr>\n",
       "\t<tr><th scope=row>...</th><td>...</td><td>...</td></tr>\n",
       "\t<tr><th scope=row>NATALIDAE</th><td>NATALIDAE        </td><td>0                </td></tr>\n",
       "\t<tr><th scope=row>CHINCHILLIDAE</th><td>CHINCHILLIDAE    </td><td>0                </td></tr>\n",
       "\t<tr><th scope=row>CERCOPITHECIDAE</th><td>CERCOPITHECIDAE  </td><td>0                </td></tr>\n",
       "\t<tr><th scope=row>HIPPOPOTAMIDAE</th><td>HIPPOPOTAMIDAE   </td><td>0                </td></tr>\n",
       "\t<tr><th scope=row>CRASEONYCTERIDAE</th><td>CRASEONYCTERIDAE </td><td>0                </td></tr>\n",
       "\t<tr><th scope=row>GEOMYIDAE</th><td>GEOMYIDAE        </td><td>0                </td></tr>\n",
       "\t<tr><th scope=row>CTENODACTYLIDAE</th><td>CTENODACTYLIDAE  </td><td>0                </td></tr>\n",
       "\t<tr><th scope=row>CTENOMYIDAE</th><td>CTENOMYIDAE      </td><td>0                </td></tr>\n",
       "\t<tr><th scope=row>CUNICULIDAE</th><td>CUNICULIDAE      </td><td>0                </td></tr>\n",
       "\t<tr><th scope=row>DASYPROCTIDAE</th><td>DASYPROCTIDAE    </td><td>0                </td></tr>\n",
       "\t<tr><th scope=row>DINOMYIDAE</th><td>DINOMYIDAE       </td><td>0                </td></tr>\n",
       "\t<tr><th scope=row>GIRAFFIDAE</th><td>GIRAFFIDAE       </td><td>0                </td></tr>\n",
       "\t<tr><th scope=row>TRAGULIDAE</th><td>TRAGULIDAE       </td><td>0                </td></tr>\n",
       "\t<tr><th scope=row>DIATOMYIDAE</th><td>DIATOMYIDAE      </td><td>0                </td></tr>\n",
       "\t<tr><th scope=row>MORMOOPIDAE</th><td>MORMOOPIDAE      </td><td>0                </td></tr>\n",
       "\t<tr><th scope=row>MOSCHIDAE</th><td>MOSCHIDAE        </td><td>0                </td></tr>\n",
       "\t<tr><th scope=row>MYOCASTORIDAE</th><td>MYOCASTORIDAE    </td><td>0                </td></tr>\n",
       "\t<tr><th scope=row>MYSTACINIDAE</th><td>MYSTACINIDAE     </td><td>0                </td></tr>\n",
       "\t<tr><th scope=row>MYZOPODIDAE</th><td>MYZOPODIDAE      </td><td>0                </td></tr>\n",
       "\t<tr><th scope=row>NOCTILIONIDAE</th><td>NOCTILIONIDAE    </td><td>0                </td></tr>\n",
       "\t<tr><th scope=row>NYCTERIDAE</th><td>NYCTERIDAE       </td><td>0                </td></tr>\n",
       "\t<tr><th scope=row>PEDETIDAE</th><td>PEDETIDAE        </td><td>0                </td></tr>\n",
       "\t<tr><th scope=row>PETROMURIDAE</th><td>PETROMURIDAE     </td><td>0                </td></tr>\n",
       "\t<tr><th scope=row>PLATACANTHOMYIDAE</th><td>PLATACANTHOMYIDAE</td><td>0                </td></tr>\n",
       "\t<tr><th scope=row>HOMINIDAE</th><td>HOMINIDAE        </td><td>0                </td></tr>\n",
       "\t<tr><th scope=row>RHINOLOPHIDAE</th><td>RHINOLOPHIDAE    </td><td>0                </td></tr>\n",
       "\t<tr><th scope=row>RHINOPOMATIDAE</th><td>RHINOPOMATIDAE   </td><td>0                </td></tr>\n",
       "\t<tr><th scope=row>CEBIDAE</th><td>CEBIDAE          </td><td>0                </td></tr>\n",
       "\t<tr><th scope=row>THRYONOMYIDAE</th><td>THRYONOMYIDAE    </td><td>0                </td></tr>\n",
       "\t<tr><th scope=row>THYROPTERIDAE</th><td>THYROPTERIDAE    </td><td>0                </td></tr>\n",
       "</tbody>\n",
       "</table>\n"
      ],
      "text/latex": [
       "\\begin{tabular}{r|ll}\n",
       "  & var & rel.inf\\\\\n",
       "\\hline\n",
       "\tForStrategy & ForStrategy          & 21.80004340         \\\\\n",
       "\tBodyMass\\_ln & BodyMass\\_ln          & 14.71666376           \\\\\n",
       "\tPubmedHits\\_ln & PubmedHits\\_ln        & 10.95376899           \\\\\n",
       "\tShape\\_Area\\_log & Shape\\_Area\\_log       & 10.19629872             \\\\\n",
       "\tSLP\\_DS & SLP\\_DS               &  4.61799248           \\\\\n",
       "\tBody\\_Temperature & Body\\_Temperature     &  4.57577043           \\\\\n",
       "\tmdiversity\\_mean & mdiversity\\_mean      &  3.71267350           \\\\\n",
       "\tBio12\\_mean & Bio12\\_mean           &  3.64090494           \\\\\n",
       "\tMetabolic\\_Rate\\_ln & Metabolic\\_Rate\\_ln    &  2.75202353             \\\\\n",
       "\tActivityTime & ActivityTime         &  2.59484946         \\\\\n",
       "\tMaxDiet & MaxDiet              &  2.51328505         \\\\\n",
       "\tmaxlat & maxlat               &  2.45064711         \\\\\n",
       "\tbdiversity\\_mean & bdiversity\\_mean      &  1.67173593           \\\\\n",
       "\tBio1\\_mean & Bio1\\_mean            &  1.55837378           \\\\\n",
       "\tIUCN.Status & IUCN.Status          &  1.52089295         \\\\\n",
       "\tminlat & minlat               &  1.47683510         \\\\\n",
       "\tcentroidY & centroidY            &  1.27245573         \\\\\n",
       "\tMosquitoes\\_mean & Mosquitoes\\_mean      &  1.16472261           \\\\\n",
       "\tTicks\\_mean & Ticks\\_mean           &  1.15940439           \\\\\n",
       "\tcentroidX\\_log & centroidX\\_log        &  1.13361030           \\\\\n",
       "\tHuPop\\_mean\\_log & HuPop\\_mean\\_log       &  1.00559898             \\\\\n",
       "\tHabitat\\_Breadth\\_sqrt & Habitat\\_Breadth\\_sqrt &  0.88561207             \\\\\n",
       "\tmaxlong\\_log & maxlong\\_log          &  0.79608260           \\\\\n",
       "\tBio3\\_mean & Bio3\\_mean            &  0.48937184           \\\\\n",
       "\tLVSTD\\_DS & LVSTD\\_DS             &  0.40997236           \\\\\n",
       "\tminlong & minlong              &  0.39986908         \\\\\n",
       "\tLandUse\\_collapsed & LandUse\\_collapsed    &  0.39836145           \\\\\n",
       "\tPopulation.trend & Population.trend     &  0.10799248         \\\\\n",
       "\tCrops\\_majority & Crops\\_majority       &  0.02418697           \\\\\n",
       "\tMURIDAE & MURIDAE              &  0.00000000         \\\\\n",
       "\t... & ... & ...\\\\\n",
       "\tNATALIDAE & NATALIDAE         & 0                \\\\\n",
       "\tCHINCHILLIDAE & CHINCHILLIDAE     & 0                \\\\\n",
       "\tCERCOPITHECIDAE & CERCOPITHECIDAE   & 0                \\\\\n",
       "\tHIPPOPOTAMIDAE & HIPPOPOTAMIDAE    & 0                \\\\\n",
       "\tCRASEONYCTERIDAE & CRASEONYCTERIDAE  & 0                \\\\\n",
       "\tGEOMYIDAE & GEOMYIDAE         & 0                \\\\\n",
       "\tCTENODACTYLIDAE & CTENODACTYLIDAE   & 0                \\\\\n",
       "\tCTENOMYIDAE & CTENOMYIDAE       & 0                \\\\\n",
       "\tCUNICULIDAE & CUNICULIDAE       & 0                \\\\\n",
       "\tDASYPROCTIDAE & DASYPROCTIDAE     & 0                \\\\\n",
       "\tDINOMYIDAE & DINOMYIDAE        & 0                \\\\\n",
       "\tGIRAFFIDAE & GIRAFFIDAE        & 0                \\\\\n",
       "\tTRAGULIDAE & TRAGULIDAE        & 0                \\\\\n",
       "\tDIATOMYIDAE & DIATOMYIDAE       & 0                \\\\\n",
       "\tMORMOOPIDAE & MORMOOPIDAE       & 0                \\\\\n",
       "\tMOSCHIDAE & MOSCHIDAE         & 0                \\\\\n",
       "\tMYOCASTORIDAE & MYOCASTORIDAE     & 0                \\\\\n",
       "\tMYSTACINIDAE & MYSTACINIDAE      & 0                \\\\\n",
       "\tMYZOPODIDAE & MYZOPODIDAE       & 0                \\\\\n",
       "\tNOCTILIONIDAE & NOCTILIONIDAE     & 0                \\\\\n",
       "\tNYCTERIDAE & NYCTERIDAE        & 0                \\\\\n",
       "\tPEDETIDAE & PEDETIDAE         & 0                \\\\\n",
       "\tPETROMURIDAE & PETROMURIDAE      & 0                \\\\\n",
       "\tPLATACANTHOMYIDAE & PLATACANTHOMYIDAE & 0                \\\\\n",
       "\tHOMINIDAE & HOMINIDAE         & 0                \\\\\n",
       "\tRHINOLOPHIDAE & RHINOLOPHIDAE     & 0                \\\\\n",
       "\tRHINOPOMATIDAE & RHINOPOMATIDAE    & 0                \\\\\n",
       "\tCEBIDAE & CEBIDAE           & 0                \\\\\n",
       "\tTHRYONOMYIDAE & THRYONOMYIDAE     & 0                \\\\\n",
       "\tTHYROPTERIDAE & THYROPTERIDAE     & 0                \\\\\n",
       "\\end{tabular}\n"
      ],
      "text/markdown": [
       "\n",
       "| <!--/--> | var | rel.inf | \n",
       "|---|---|---|---|---|---|---|---|---|---|---|---|---|---|---|---|---|---|---|---|---|---|---|---|---|---|---|---|---|---|---|---|---|---|---|---|---|---|---|---|---|---|---|---|---|---|---|---|---|---|---|---|---|---|---|---|---|---|---|---|---|\n",
       "| ForStrategy | ForStrategy          | 21.80004340          | \n",
       "| BodyMass_ln | BodyMass_ln          | 14.71666376          | \n",
       "| PubmedHits_ln | PubmedHits_ln        | 10.95376899          | \n",
       "| Shape_Area_log | Shape_Area_log       | 10.19629872          | \n",
       "| SLP_DS | SLP_DS               |  4.61799248          | \n",
       "| Body_Temperature | Body_Temperature     |  4.57577043          | \n",
       "| mdiversity_mean | mdiversity_mean      |  3.71267350          | \n",
       "| Bio12_mean | Bio12_mean           |  3.64090494          | \n",
       "| Metabolic_Rate_ln | Metabolic_Rate_ln    |  2.75202353          | \n",
       "| ActivityTime | ActivityTime         |  2.59484946          | \n",
       "| MaxDiet | MaxDiet              |  2.51328505          | \n",
       "| maxlat | maxlat               |  2.45064711          | \n",
       "| bdiversity_mean | bdiversity_mean      |  1.67173593          | \n",
       "| Bio1_mean | Bio1_mean            |  1.55837378          | \n",
       "| IUCN.Status | IUCN.Status          |  1.52089295          | \n",
       "| minlat | minlat               |  1.47683510          | \n",
       "| centroidY | centroidY            |  1.27245573          | \n",
       "| Mosquitoes_mean | Mosquitoes_mean      |  1.16472261          | \n",
       "| Ticks_mean | Ticks_mean           |  1.15940439          | \n",
       "| centroidX_log | centroidX_log        |  1.13361030          | \n",
       "| HuPop_mean_log | HuPop_mean_log       |  1.00559898          | \n",
       "| Habitat_Breadth_sqrt | Habitat_Breadth_sqrt |  0.88561207          | \n",
       "| maxlong_log | maxlong_log          |  0.79608260          | \n",
       "| Bio3_mean | Bio3_mean            |  0.48937184          | \n",
       "| LVSTD_DS | LVSTD_DS             |  0.40997236          | \n",
       "| minlong | minlong              |  0.39986908          | \n",
       "| LandUse_collapsed | LandUse_collapsed    |  0.39836145          | \n",
       "| Population.trend | Population.trend     |  0.10799248          | \n",
       "| Crops_majority | Crops_majority       |  0.02418697          | \n",
       "| MURIDAE | MURIDAE              |  0.00000000          | \n",
       "| ... | ... | ... | \n",
       "| NATALIDAE | NATALIDAE         | 0                 | \n",
       "| CHINCHILLIDAE | CHINCHILLIDAE     | 0                 | \n",
       "| CERCOPITHECIDAE | CERCOPITHECIDAE   | 0                 | \n",
       "| HIPPOPOTAMIDAE | HIPPOPOTAMIDAE    | 0                 | \n",
       "| CRASEONYCTERIDAE | CRASEONYCTERIDAE  | 0                 | \n",
       "| GEOMYIDAE | GEOMYIDAE         | 0                 | \n",
       "| CTENODACTYLIDAE | CTENODACTYLIDAE   | 0                 | \n",
       "| CTENOMYIDAE | CTENOMYIDAE       | 0                 | \n",
       "| CUNICULIDAE | CUNICULIDAE       | 0                 | \n",
       "| DASYPROCTIDAE | DASYPROCTIDAE     | 0                 | \n",
       "| DINOMYIDAE | DINOMYIDAE        | 0                 | \n",
       "| GIRAFFIDAE | GIRAFFIDAE        | 0                 | \n",
       "| TRAGULIDAE | TRAGULIDAE        | 0                 | \n",
       "| DIATOMYIDAE | DIATOMYIDAE       | 0                 | \n",
       "| MORMOOPIDAE | MORMOOPIDAE       | 0                 | \n",
       "| MOSCHIDAE | MOSCHIDAE         | 0                 | \n",
       "| MYOCASTORIDAE | MYOCASTORIDAE     | 0                 | \n",
       "| MYSTACINIDAE | MYSTACINIDAE      | 0                 | \n",
       "| MYZOPODIDAE | MYZOPODIDAE       | 0                 | \n",
       "| NOCTILIONIDAE | NOCTILIONIDAE     | 0                 | \n",
       "| NYCTERIDAE | NYCTERIDAE        | 0                 | \n",
       "| PEDETIDAE | PEDETIDAE         | 0                 | \n",
       "| PETROMURIDAE | PETROMURIDAE      | 0                 | \n",
       "| PLATACANTHOMYIDAE | PLATACANTHOMYIDAE | 0                 | \n",
       "| HOMINIDAE | HOMINIDAE         | 0                 | \n",
       "| RHINOLOPHIDAE | RHINOLOPHIDAE     | 0                 | \n",
       "| RHINOPOMATIDAE | RHINOPOMATIDAE    | 0                 | \n",
       "| CEBIDAE | CEBIDAE           | 0                 | \n",
       "| THRYONOMYIDAE | THRYONOMYIDAE     | 0                 | \n",
       "| THYROPTERIDAE | THYROPTERIDAE     | 0                 | \n",
       "\n",
       "\n"
      ],
      "text/plain": [
       "                     var                  rel.inf    \n",
       "ForStrategy          ForStrategy          21.80004340\n",
       "BodyMass_ln          BodyMass_ln          14.71666376\n",
       "PubmedHits_ln        PubmedHits_ln        10.95376899\n",
       "Shape_Area_log       Shape_Area_log       10.19629872\n",
       "SLP_DS               SLP_DS                4.61799248\n",
       "Body_Temperature     Body_Temperature      4.57577043\n",
       "mdiversity_mean      mdiversity_mean       3.71267350\n",
       "Bio12_mean           Bio12_mean            3.64090494\n",
       "Metabolic_Rate_ln    Metabolic_Rate_ln     2.75202353\n",
       "ActivityTime         ActivityTime          2.59484946\n",
       "MaxDiet              MaxDiet               2.51328505\n",
       "maxlat               maxlat                2.45064711\n",
       "bdiversity_mean      bdiversity_mean       1.67173593\n",
       "Bio1_mean            Bio1_mean             1.55837378\n",
       "IUCN.Status          IUCN.Status           1.52089295\n",
       "minlat               minlat                1.47683510\n",
       "centroidY            centroidY             1.27245573\n",
       "Mosquitoes_mean      Mosquitoes_mean       1.16472261\n",
       "Ticks_mean           Ticks_mean            1.15940439\n",
       "centroidX_log        centroidX_log         1.13361030\n",
       "HuPop_mean_log       HuPop_mean_log        1.00559898\n",
       "Habitat_Breadth_sqrt Habitat_Breadth_sqrt  0.88561207\n",
       "maxlong_log          maxlong_log           0.79608260\n",
       "Bio3_mean            Bio3_mean             0.48937184\n",
       "LVSTD_DS             LVSTD_DS              0.40997236\n",
       "minlong              minlong               0.39986908\n",
       "LandUse_collapsed    LandUse_collapsed     0.39836145\n",
       "Population.trend     Population.trend      0.10799248\n",
       "Crops_majority       Crops_majority        0.02418697\n",
       "MURIDAE              MURIDAE               0.00000000\n",
       "...                  ...                  ...        \n",
       "NATALIDAE            NATALIDAE            0          \n",
       "CHINCHILLIDAE        CHINCHILLIDAE        0          \n",
       "CERCOPITHECIDAE      CERCOPITHECIDAE      0          \n",
       "HIPPOPOTAMIDAE       HIPPOPOTAMIDAE       0          \n",
       "CRASEONYCTERIDAE     CRASEONYCTERIDAE     0          \n",
       "GEOMYIDAE            GEOMYIDAE            0          \n",
       "CTENODACTYLIDAE      CTENODACTYLIDAE      0          \n",
       "CTENOMYIDAE          CTENOMYIDAE          0          \n",
       "CUNICULIDAE          CUNICULIDAE          0          \n",
       "DASYPROCTIDAE        DASYPROCTIDAE        0          \n",
       "DINOMYIDAE           DINOMYIDAE           0          \n",
       "GIRAFFIDAE           GIRAFFIDAE           0          \n",
       "TRAGULIDAE           TRAGULIDAE           0          \n",
       "DIATOMYIDAE          DIATOMYIDAE          0          \n",
       "MORMOOPIDAE          MORMOOPIDAE          0          \n",
       "MOSCHIDAE            MOSCHIDAE            0          \n",
       "MYOCASTORIDAE        MYOCASTORIDAE        0          \n",
       "MYSTACINIDAE         MYSTACINIDAE         0          \n",
       "MYZOPODIDAE          MYZOPODIDAE          0          \n",
       "NOCTILIONIDAE        NOCTILIONIDAE        0          \n",
       "NYCTERIDAE           NYCTERIDAE           0          \n",
       "PEDETIDAE            PEDETIDAE            0          \n",
       "PETROMURIDAE         PETROMURIDAE         0          \n",
       "PLATACANTHOMYIDAE    PLATACANTHOMYIDAE    0          \n",
       "HOMINIDAE            HOMINIDAE            0          \n",
       "RHINOLOPHIDAE        RHINOLOPHIDAE        0          \n",
       "RHINOPOMATIDAE       RHINOPOMATIDAE       0          \n",
       "CEBIDAE              CEBIDAE              0          \n",
       "THRYONOMYIDAE        THRYONOMYIDAE        0          \n",
       "THYROPTERIDAE        THYROPTERIDAE        0          "
      ]
     },
     "metadata": {},
     "output_type": "display_data"
    },
    {
     "data": {
      "image/png": "[encoded data removed]",
      "text/plain": [
       "plot without title"
      ]
     },
     "metadata": {},
     "output_type": "display_data"
    }
   ],
   "source": [
    "summary(Group1.total.tc5.lr0005)"
   ]
  },
  {
   "cell_type": "code",
   "execution_count": 22,
   "metadata": {},
   "outputs": [
    {
     "name": "stdout",
     "output_type": "stream",
     "text": [
      "gbm::gbm(formula = y.data ~ ., distribution = as.character(family), \n",
      "    data = x.data, weights = site.weights, var.monotone = var.monotone, \n",
      "    n.trees = target.trees, interaction.depth = tree.complexity, \n",
      "    shrinkage = learning.rate, bag.fraction = bag.fraction, verbose = FALSE)\n",
      "A gradient boosted model with bernoulli loss function.\n",
      "1300 iterations were performed.\n",
      "There were 95 predictors of which 29 had non-zero influence.\n"
     ]
    }
   ],
   "source": [
    "print(Group1.total.tc5.lr0005)"
   ]
  },
  {
   "cell_type": "code",
   "execution_count": 23,
   "metadata": {},
   "outputs": [
    {
     "data": {
      "image/png": "[encoded data removed]",
      "text/plain": [
       "plot without title"
      ]
     },
     "metadata": {},
     "output_type": "display_data"
    }
   ],
   "source": [
    "plot.gbm(Group1.total.tc5.lr0005, 'Bio1_mean')"
   ]
  },
  {
   "cell_type": "code",
   "execution_count": 24,
   "metadata": {},
   "outputs": [
    {
     "name": "stdout",
     "output_type": "stream",
     "text": [
      "n.trees not given. Using 1300 trees.\n"
     ]
    }
   ],
   "source": [
    "ranks = relative.influence(Group1.total.tc5.lr0005, scale. = 'TRUE', sort. = 'TRUE')\n",
    "a = as.data.frame(ranks, col.names = , optional = FALSE)\n",
    "a = setDT(a, keep.rownames = TRUE)[]\n",
    "colnames(a) = c('Variable','influence')\n",
    "b = a\n",
    "for (i in b$Variable){\n",
    "    margianleffects = plot.gbm(Group1.total.tc5.lr0005, i.var = i,n.plots=3, \n",
    "                           write.title = T, return.grid  = T,\n",
    "                           show.contrib = T,y.label=\"Marginal effect on Host\")\n",
    "    filename = paste(\"Outputs/PartialDependence2/\", i,'Group1a','.csv', sep=\"\")\n",
    "    write.csv(margianleffects, file = filename)    \n",
    "}"
   ]
  },
  {
   "cell_type": "code",
   "execution_count": 25,
   "metadata": {},
   "outputs": [],
   "source": [
    "write.csv(a, 'Outputs/PartialDependence2/Ranks_group1a.csv')"
   ]
  },
  {
   "cell_type": "code",
   "execution_count": 26,
   "metadata": {},
   "outputs": [
    {
     "data": {
      "text/html": [
       "<table>\n",
       "<thead><tr><th scope=col>Variable</th><th scope=col>influence</th></tr></thead>\n",
       "<tbody>\n",
       "\t<tr><td>ForStrategy         </td><td>1.000000000         </td></tr>\n",
       "\t<tr><td>BodyMass_ln         </td><td>0.675074975         </td></tr>\n",
       "\t<tr><td>PubmedHits_ln       </td><td>0.502465467         </td></tr>\n",
       "\t<tr><td>Shape_Area_log      </td><td>0.467719194         </td></tr>\n",
       "\t<tr><td>SLP_DS              </td><td>0.211834096         </td></tr>\n",
       "\t<tr><td>Body_Temperature    </td><td>0.209897308         </td></tr>\n",
       "\t<tr><td>mdiversity_mean     </td><td>0.170305785         </td></tr>\n",
       "\t<tr><td>Bio12_mean          </td><td>0.167013656         </td></tr>\n",
       "\t<tr><td>Metabolic_Rate_ln   </td><td>0.126239360         </td></tr>\n",
       "\t<tr><td>ActivityTime        </td><td>0.119029555         </td></tr>\n",
       "\t<tr><td>MaxDiet             </td><td>0.115288076         </td></tr>\n",
       "\t<tr><td>maxlat              </td><td>0.112414781         </td></tr>\n",
       "\t<tr><td>bdiversity_mean     </td><td>0.076684982         </td></tr>\n",
       "\t<tr><td>Bio1_mean           </td><td>0.071484894         </td></tr>\n",
       "\t<tr><td>IUCN.Status         </td><td>0.069765593         </td></tr>\n",
       "\t<tr><td>minlat              </td><td>0.067744594         </td></tr>\n",
       "\t<tr><td>centroidY           </td><td>0.058369413         </td></tr>\n",
       "\t<tr><td>Mosquitoes_mean     </td><td>0.053427536         </td></tr>\n",
       "\t<tr><td>Ticks_mean          </td><td>0.053183582         </td></tr>\n",
       "\t<tr><td>centroidX_log       </td><td>0.052000369         </td></tr>\n",
       "\t<tr><td>HuPop_mean_log      </td><td>0.046128302         </td></tr>\n",
       "\t<tr><td>Habitat_Breadth_sqrt</td><td>0.040624326         </td></tr>\n",
       "\t<tr><td>maxlong_log         </td><td>0.036517478         </td></tr>\n",
       "\t<tr><td>Bio3_mean           </td><td>0.022448205         </td></tr>\n",
       "\t<tr><td>LVSTD_DS            </td><td>0.018806034         </td></tr>\n",
       "\t<tr><td>minlong             </td><td>0.018342582         </td></tr>\n",
       "\t<tr><td>LandUse_collapsed   </td><td>0.018273424         </td></tr>\n",
       "\t<tr><td>Population.trend    </td><td>0.004953774         </td></tr>\n",
       "\t<tr><td>Crops_majority      </td><td>0.001109492         </td></tr>\n",
       "\t<tr><td>THYROPTERIDAE       </td><td>0.000000000         </td></tr>\n",
       "\t<tr><td>THRYONOMYIDAE       </td><td>0.000000000         </td></tr>\n",
       "\t<tr><td>CEBIDAE             </td><td>0.000000000         </td></tr>\n",
       "\t<tr><td>RHINOPOMATIDAE      </td><td>0.000000000         </td></tr>\n",
       "\t<tr><td>RHINOLOPHIDAE       </td><td>0.000000000         </td></tr>\n",
       "\t<tr><td>HOMINIDAE           </td><td>0.000000000         </td></tr>\n",
       "\t<tr><td>PLATACANTHOMYIDAE   </td><td>0.000000000         </td></tr>\n",
       "\t<tr><td>PETROMURIDAE        </td><td>0.000000000         </td></tr>\n",
       "\t<tr><td>PEDETIDAE           </td><td>0.000000000         </td></tr>\n",
       "\t<tr><td>NYCTERIDAE          </td><td>0.000000000         </td></tr>\n",
       "\t<tr><td>NOCTILIONIDAE       </td><td>0.000000000         </td></tr>\n",
       "\t<tr><td>MYZOPODIDAE         </td><td>0.000000000         </td></tr>\n",
       "\t<tr><td>MYSTACINIDAE        </td><td>0.000000000         </td></tr>\n",
       "\t<tr><td>MYOCASTORIDAE       </td><td>0.000000000         </td></tr>\n",
       "\t<tr><td>MOSCHIDAE           </td><td>0.000000000         </td></tr>\n",
       "\t<tr><td>MORMOOPIDAE         </td><td>0.000000000         </td></tr>\n",
       "\t<tr><td>DIATOMYIDAE         </td><td>0.000000000         </td></tr>\n",
       "\t<tr><td>TRAGULIDAE          </td><td>0.000000000         </td></tr>\n",
       "\t<tr><td>GIRAFFIDAE          </td><td>0.000000000         </td></tr>\n",
       "\t<tr><td>DINOMYIDAE          </td><td>0.000000000         </td></tr>\n",
       "\t<tr><td>DASYPROCTIDAE       </td><td>0.000000000         </td></tr>\n",
       "</tbody>\n",
       "</table>\n"
      ],
      "text/latex": [
       "\\begin{tabular}{r|ll}\n",
       " Variable & influence\\\\\n",
       "\\hline\n",
       "\t ForStrategy          & 1.000000000         \\\\\n",
       "\t BodyMass\\_ln          & 0.675074975           \\\\\n",
       "\t PubmedHits\\_ln        & 0.502465467           \\\\\n",
       "\t Shape\\_Area\\_log       & 0.467719194             \\\\\n",
       "\t SLP\\_DS               & 0.211834096           \\\\\n",
       "\t Body\\_Temperature     & 0.209897308           \\\\\n",
       "\t mdiversity\\_mean      & 0.170305785           \\\\\n",
       "\t Bio12\\_mean           & 0.167013656           \\\\\n",
       "\t Metabolic\\_Rate\\_ln    & 0.126239360             \\\\\n",
       "\t ActivityTime         & 0.119029555         \\\\\n",
       "\t MaxDiet              & 0.115288076         \\\\\n",
       "\t maxlat               & 0.112414781         \\\\\n",
       "\t bdiversity\\_mean      & 0.076684982           \\\\\n",
       "\t Bio1\\_mean            & 0.071484894           \\\\\n",
       "\t IUCN.Status          & 0.069765593         \\\\\n",
       "\t minlat               & 0.067744594         \\\\\n",
       "\t centroidY            & 0.058369413         \\\\\n",
       "\t Mosquitoes\\_mean      & 0.053427536           \\\\\n",
       "\t Ticks\\_mean           & 0.053183582           \\\\\n",
       "\t centroidX\\_log        & 0.052000369           \\\\\n",
       "\t HuPop\\_mean\\_log       & 0.046128302             \\\\\n",
       "\t Habitat\\_Breadth\\_sqrt & 0.040624326             \\\\\n",
       "\t maxlong\\_log          & 0.036517478           \\\\\n",
       "\t Bio3\\_mean            & 0.022448205           \\\\\n",
       "\t LVSTD\\_DS             & 0.018806034           \\\\\n",
       "\t minlong              & 0.018342582         \\\\\n",
       "\t LandUse\\_collapsed    & 0.018273424           \\\\\n",
       "\t Population.trend     & 0.004953774         \\\\\n",
       "\t Crops\\_majority       & 0.001109492           \\\\\n",
       "\t THYROPTERIDAE        & 0.000000000         \\\\\n",
       "\t THRYONOMYIDAE        & 0.000000000         \\\\\n",
       "\t CEBIDAE              & 0.000000000         \\\\\n",
       "\t RHINOPOMATIDAE       & 0.000000000         \\\\\n",
       "\t RHINOLOPHIDAE        & 0.000000000         \\\\\n",
       "\t HOMINIDAE            & 0.000000000         \\\\\n",
       "\t PLATACANTHOMYIDAE    & 0.000000000         \\\\\n",
       "\t PETROMURIDAE         & 0.000000000         \\\\\n",
       "\t PEDETIDAE            & 0.000000000         \\\\\n",
       "\t NYCTERIDAE           & 0.000000000         \\\\\n",
       "\t NOCTILIONIDAE        & 0.000000000         \\\\\n",
       "\t MYZOPODIDAE          & 0.000000000         \\\\\n",
       "\t MYSTACINIDAE         & 0.000000000         \\\\\n",
       "\t MYOCASTORIDAE        & 0.000000000         \\\\\n",
       "\t MOSCHIDAE            & 0.000000000         \\\\\n",
       "\t MORMOOPIDAE          & 0.000000000         \\\\\n",
       "\t DIATOMYIDAE          & 0.000000000         \\\\\n",
       "\t TRAGULIDAE           & 0.000000000         \\\\\n",
       "\t GIRAFFIDAE           & 0.000000000         \\\\\n",
       "\t DINOMYIDAE           & 0.000000000         \\\\\n",
       "\t DASYPROCTIDAE        & 0.000000000         \\\\\n",
       "\\end{tabular}\n"
      ],
      "text/markdown": [
       "\n",
       "Variable | influence | \n",
       "|---|---|---|---|---|---|---|---|---|---|---|---|---|---|---|---|---|---|---|---|---|---|---|---|---|---|---|---|---|---|---|---|---|---|---|---|---|---|---|---|---|---|---|---|---|---|---|---|---|---|\n",
       "| ForStrategy          | 1.000000000          | \n",
       "| BodyMass_ln          | 0.675074975          | \n",
       "| PubmedHits_ln        | 0.502465467          | \n",
       "| Shape_Area_log       | 0.467719194          | \n",
       "| SLP_DS               | 0.211834096          | \n",
       "| Body_Temperature     | 0.209897308          | \n",
       "| mdiversity_mean      | 0.170305785          | \n",
       "| Bio12_mean           | 0.167013656          | \n",
       "| Metabolic_Rate_ln    | 0.126239360          | \n",
       "| ActivityTime         | 0.119029555          | \n",
       "| MaxDiet              | 0.115288076          | \n",
       "| maxlat               | 0.112414781          | \n",
       "| bdiversity_mean      | 0.076684982          | \n",
       "| Bio1_mean            | 0.071484894          | \n",
       "| IUCN.Status          | 0.069765593          | \n",
       "| minlat               | 0.067744594          | \n",
       "| centroidY            | 0.058369413          | \n",
       "| Mosquitoes_mean      | 0.053427536          | \n",
       "| Ticks_mean           | 0.053183582          | \n",
       "| centroidX_log        | 0.052000369          | \n",
       "| HuPop_mean_log       | 0.046128302          | \n",
       "| Habitat_Breadth_sqrt | 0.040624326          | \n",
       "| maxlong_log          | 0.036517478          | \n",
       "| Bio3_mean            | 0.022448205          | \n",
       "| LVSTD_DS             | 0.018806034          | \n",
       "| minlong              | 0.018342582          | \n",
       "| LandUse_collapsed    | 0.018273424          | \n",
       "| Population.trend     | 0.004953774          | \n",
       "| Crops_majority       | 0.001109492          | \n",
       "| THYROPTERIDAE        | 0.000000000          | \n",
       "| THRYONOMYIDAE        | 0.000000000          | \n",
       "| CEBIDAE              | 0.000000000          | \n",
       "| RHINOPOMATIDAE       | 0.000000000          | \n",
       "| RHINOLOPHIDAE        | 0.000000000          | \n",
       "| HOMINIDAE            | 0.000000000          | \n",
       "| PLATACANTHOMYIDAE    | 0.000000000          | \n",
       "| PETROMURIDAE         | 0.000000000          | \n",
       "| PEDETIDAE            | 0.000000000          | \n",
       "| NYCTERIDAE           | 0.000000000          | \n",
       "| NOCTILIONIDAE        | 0.000000000          | \n",
       "| MYZOPODIDAE          | 0.000000000          | \n",
       "| MYSTACINIDAE         | 0.000000000          | \n",
       "| MYOCASTORIDAE        | 0.000000000          | \n",
       "| MOSCHIDAE            | 0.000000000          | \n",
       "| MORMOOPIDAE          | 0.000000000          | \n",
       "| DIATOMYIDAE          | 0.000000000          | \n",
       "| TRAGULIDAE           | 0.000000000          | \n",
       "| GIRAFFIDAE           | 0.000000000          | \n",
       "| DINOMYIDAE           | 0.000000000          | \n",
       "| DASYPROCTIDAE        | 0.000000000          | \n",
       "\n",
       "\n"
      ],
      "text/plain": [
       "   Variable             influence  \n",
       "1  ForStrategy          1.000000000\n",
       "2  BodyMass_ln          0.675074975\n",
       "3  PubmedHits_ln        0.502465467\n",
       "4  Shape_Area_log       0.467719194\n",
       "5  SLP_DS               0.211834096\n",
       "6  Body_Temperature     0.209897308\n",
       "7  mdiversity_mean      0.170305785\n",
       "8  Bio12_mean           0.167013656\n",
       "9  Metabolic_Rate_ln    0.126239360\n",
       "10 ActivityTime         0.119029555\n",
       "11 MaxDiet              0.115288076\n",
       "12 maxlat               0.112414781\n",
       "13 bdiversity_mean      0.076684982\n",
       "14 Bio1_mean            0.071484894\n",
       "15 IUCN.Status          0.069765593\n",
       "16 minlat               0.067744594\n",
       "17 centroidY            0.058369413\n",
       "18 Mosquitoes_mean      0.053427536\n",
       "19 Ticks_mean           0.053183582\n",
       "20 centroidX_log        0.052000369\n",
       "21 HuPop_mean_log       0.046128302\n",
       "22 Habitat_Breadth_sqrt 0.040624326\n",
       "23 maxlong_log          0.036517478\n",
       "24 Bio3_mean            0.022448205\n",
       "25 LVSTD_DS             0.018806034\n",
       "26 minlong              0.018342582\n",
       "27 LandUse_collapsed    0.018273424\n",
       "28 Population.trend     0.004953774\n",
       "29 Crops_majority       0.001109492\n",
       "30 THYROPTERIDAE        0.000000000\n",
       "31 THRYONOMYIDAE        0.000000000\n",
       "32 CEBIDAE              0.000000000\n",
       "33 RHINOPOMATIDAE       0.000000000\n",
       "34 RHINOLOPHIDAE        0.000000000\n",
       "35 HOMINIDAE            0.000000000\n",
       "36 PLATACANTHOMYIDAE    0.000000000\n",
       "37 PETROMURIDAE         0.000000000\n",
       "38 PEDETIDAE            0.000000000\n",
       "39 NYCTERIDAE           0.000000000\n",
       "40 NOCTILIONIDAE        0.000000000\n",
       "41 MYZOPODIDAE          0.000000000\n",
       "42 MYSTACINIDAE         0.000000000\n",
       "43 MYOCASTORIDAE        0.000000000\n",
       "44 MOSCHIDAE            0.000000000\n",
       "45 MORMOOPIDAE          0.000000000\n",
       "46 DIATOMYIDAE          0.000000000\n",
       "47 TRAGULIDAE           0.000000000\n",
       "48 GIRAFFIDAE           0.000000000\n",
       "49 DINOMYIDAE           0.000000000\n",
       "50 DASYPROCTIDAE        0.000000000"
      ]
     },
     "metadata": {},
     "output_type": "display_data"
    }
   ],
   "source": [
    "head(a, 50)"
   ]
  },
  {
   "cell_type": "code",
   "execution_count": 27,
   "metadata": {
    "scrolled": false
   },
   "outputs": [],
   "source": [
    "#Group1.simp = gbm.simplify(Group1.total.tc5.lr0005,)# n.drops = 5)"
   ]
  },
  {
   "cell_type": "code",
   "execution_count": 28,
   "metadata": {
    "scrolled": false
   },
   "outputs": [],
   "source": [
    "#find.int <- gbm.interactions(Group1.total.tc5.lr0005)\n",
    "#find.int$interactions"
   ]
  },
  {
   "cell_type": "code",
   "execution_count": 29,
   "metadata": {},
   "outputs": [],
   "source": [
    "#gbm.perspec(Group1.total.tc5.lr0005, 29, 28, y.range=c(15,20), z.range=c(0,0.6))"
   ]
  },
  {
   "cell_type": "code",
   "execution_count": 41,
   "metadata": {},
   "outputs": [],
   "source": [
    "?predict.gbm"
   ]
  },
  {
   "cell_type": "code",
   "execution_count": 48,
   "metadata": {
    "scrolled": true
   },
   "outputs": [
    {
     "data": {
      "text/html": [
       "0.0137897815864879"
      ],
      "text/latex": [
       "0.0137897815864879"
      ],
      "text/markdown": [
       "0.0137897815864879"
      ],
      "text/plain": [
       "[1] 0.01378978"
      ]
     },
     "metadata": {},
     "output_type": "display_data"
    }
   ],
   "source": [
    "preds <- predict.gbm(Group1.total.tc5.lr0005, \n",
    "                     model.data[,predictorsNames],\n",
    "                     n.trees=Group1.total.tc5.lr0005$gbm.call$best.trees,\n",
    "                     type=\"response\")\n",
    "\n",
    "calc.deviance(obs=model.data$Group1Binary, pred=preds, calc.mean=TRUE)"
   ]
  },
  {
   "cell_type": "code",
   "execution_count": 32,
   "metadata": {},
   "outputs": [
    {
     "data": {
      "text/html": [
       "0.0137897815864879"
      ],
      "text/latex": [
       "0.0137897815864879"
      ],
      "text/markdown": [
       "0.0137897815864879"
      ],
      "text/plain": [
       "[1] 0.01378978"
      ]
     },
     "metadata": {},
     "output_type": "display_data"
    }
   ],
   "source": [
    "preds <- predict.gbm(Group1.total.tc5.lr0005, model.data,n.trees=Group1.total.tc5.lr0005$gbm.call$best.trees, type=\"response\")\n",
    "calc.deviance(obs=model.data$Group1Binary, pred=preds, calc.mean=TRUE)"
   ]
  },
  {
   "cell_type": "code",
   "execution_count": 33,
   "metadata": {
    "scrolled": false
   },
   "outputs": [
    {
     "data": {
      "text/plain": [
       "class          : ModelEvaluation \n",
       "n presences    : 14 \n",
       "n absences     : 3557 \n",
       "AUC            : 0.9996586 \n",
       "cor            : 0.8345925 \n",
       "max TPR+TNR at : 0.09661381 "
      ]
     },
     "metadata": {},
     "output_type": "display_data"
    }
   ],
   "source": [
    "d <- cbind(model.data$Group1Binary, preds)\n",
    "pres <- d[d[,1]==1, 2]\n",
    "abs <- d[d[,1]==0, 2]\n",
    "e <- evaluate(p=pres, a=abs)\n",
    "e"
   ]
  },
  {
   "cell_type": "code",
   "execution_count": 34,
   "metadata": {},
   "outputs": [],
   "source": [
    "model.data$PredictionProbability  = preds\n",
    "write.csv(model.data, file = \"Outputs/Predictions_R_Group1a2.csv\")"
   ]
  },
  {
   "cell_type": "code",
   "execution_count": 35,
   "metadata": {
    "scrolled": true
   },
   "outputs": [
    {
     "data": {
      "image/png": "[encoded data removed]",
      "text/plain": [
       "plot without title"
      ]
     },
     "metadata": {},
     "output_type": "display_data"
    }
   ],
   "source": [
    "plot(Group1.total.tc5.lr0005)"
   ]
  },
  {
   "cell_type": "code",
   "execution_count": 36,
   "metadata": {},
   "outputs": [
    {
     "ename": "ERROR",
     "evalue": "Error in gbm.perf(object = Group1.total.tc5.lr0005, method = \"cv\"): In order to use method=\"cv\" gbm must be called with cv.folds>1.\n",
     "output_type": "error",
     "traceback": [
      "Error in gbm.perf(object = Group1.total.tc5.lr0005, method = \"cv\"): In order to use method=\"cv\" gbm must be called with cv.folds>1.\nTraceback:\n",
      "1. gbm.perf(object = Group1.total.tc5.lr0005, method = \"cv\")",
      "2. stop(\"In order to use method=\\\"cv\\\" gbm must be called with cv.folds>1.\")"
     ]
    }
   ],
   "source": [
    "gbm.perf(object = Group1.total.tc5.lr0005, method = 'cv')"
   ]
  },
  {
   "cell_type": "code",
   "execution_count": 37,
   "metadata": {},
   "outputs": [],
   "source": [
    "?gbm.perf"
   ]
  },
  {
   "cell_type": "markdown",
   "metadata": {},
   "source": [
    "### Holdout dataset and Cross validation"
   ]
  },
  {
   "cell_type": "code",
   "execution_count": 43,
   "metadata": {},
   "outputs": [],
   "source": [
    "library(caTools)"
   ]
  },
  {
   "cell_type": "code",
   "execution_count": 44,
   "metadata": {},
   "outputs": [],
   "source": [
    "model.data$spl=sample.split(model.data$Group1Binary,SplitRatio=0.8)"
   ]
  },
  {
   "cell_type": "code",
   "execution_count": 45,
   "metadata": {},
   "outputs": [
    {
     "data": {
      "text/html": [
       "<ol class=list-inline>\n",
       "\t<li>2232</li>\n",
       "\t<li>522</li>\n",
       "</ol>\n"
      ],
      "text/latex": [
       "\\begin{enumerate*}\n",
       "\\item 2232\n",
       "\\item 522\n",
       "\\end{enumerate*}\n"
      ],
      "text/markdown": [
       "1. 2232\n",
       "2. 522\n",
       "\n",
       "\n"
      ],
      "text/plain": [
       "[1] 2232  522"
      ]
     },
     "metadata": {},
     "output_type": "display_data"
    }
   ],
   "source": [
    "dim(model.data)"
   ]
  },
  {
   "cell_type": "code",
   "execution_count": 46,
   "metadata": {},
   "outputs": [],
   "source": [
    "train=subset(model.data, model.data$spl==TRUE)\n",
    "test=subset(model.data, model.data$spl==FALSE)"
   ]
  },
  {
   "cell_type": "code",
   "execution_count": 47,
   "metadata": {},
   "outputs": [
    {
     "data": {
      "text/html": [
       "1785"
      ],
      "text/latex": [
       "1785"
      ],
      "text/markdown": [
       "1785"
      ],
      "text/plain": [
       "[1] 1785"
      ]
     },
     "metadata": {},
     "output_type": "display_data"
    }
   ],
   "source": [
    "nrow(train)"
   ]
  },
  {
   "cell_type": "code",
   "execution_count": 48,
   "metadata": {},
   "outputs": [
    {
     "data": {
      "text/html": [
       "447"
      ],
      "text/latex": [
       "447"
      ],
      "text/markdown": [
       "447"
      ],
      "text/plain": [
       "[1] 447"
      ]
     },
     "metadata": {},
     "output_type": "display_data"
    }
   ],
   "source": [
    "nrow(test)"
   ]
  },
  {
   "cell_type": "code",
   "execution_count": 49,
   "metadata": {},
   "outputs": [
    {
     "data": {
      "text/plain": [
       "\n",
       "   0    1 \n",
       "2218   14 "
      ]
     },
     "metadata": {},
     "output_type": "display_data"
    }
   ],
   "source": [
    "table(model.data$Group1Binary)"
   ]
  },
  {
   "cell_type": "code",
   "execution_count": 50,
   "metadata": {},
   "outputs": [
    {
     "data": {
      "text/plain": [
       "\n",
       "   0    1 \n",
       "1774   11 "
      ]
     },
     "metadata": {},
     "output_type": "display_data"
    }
   ],
   "source": [
    "table(train$Group1Binary)"
   ]
  },
  {
   "cell_type": "code",
   "execution_count": 51,
   "metadata": {},
   "outputs": [
    {
     "data": {
      "text/plain": [
       "\n",
       "  0   1 \n",
       "444   3 "
      ]
     },
     "metadata": {},
     "output_type": "display_data"
    }
   ],
   "source": [
    "table(test$Group1Binary)"
   ]
  },
  {
   "cell_type": "code",
   "execution_count": 52,
   "metadata": {
    "scrolled": false
   },
   "outputs": [
    {
     "name": "stdout",
     "output_type": "stream",
     "text": [
      "\n",
      " \n",
      " GBM STEP - version 2.9 \n",
      " \n",
      "Performing cross-validation optimisation of a boosted regression tree model \n",
      "for NA and using a family of bernoulli \n",
      "Using 1785 observations and 67 predictors \n",
      "creating 10 initial models of 50 trees \n",
      "\n",
      " folds are stratified by prevalence \n",
      "total mean deviance =  0.075 \n",
      "tolerance is fixed at  1e-04 \n",
      "ntrees resid. dev. \n",
      "50    0.0697 \n",
      "now adding trees... \n",
      "100   0.0665 \n",
      "150   0.0643 \n",
      "200   0.0626 \n",
      "250   0.0613 \n",
      "300   0.0602 \n",
      "350   0.0594 \n",
      "400   0.0586 \n",
      "450   0.0579 \n",
      "500   0.0573 \n",
      "550   0.0567 \n",
      "600   0.0564 \n",
      "650   0.056 \n",
      "700   0.0558 \n",
      "750   0.0555 \n",
      "800   0.0553 \n",
      "850   0.0552 \n",
      "900   0.055 \n",
      "950   0.0549 \n",
      "1000   0.0547 \n",
      "1050   0.0546 \n",
      "1100   0.0545 \n",
      "1150   0.0544 \n",
      "1200   0.0543 \n",
      "1250   0.0543 \n",
      "1300   0.0543 \n",
      "1350   0.0543 \n",
      "1400   0.0543 \n",
      "1450   0.0543 \n",
      "1500   0.0544 \n",
      "1550   0.0544 \n",
      "1600   0.0545 \n",
      "1650   0.0545 \n",
      "1700   0.0546 \n",
      "1750   0.0547 \n",
      "1800   0.0548 \n",
      "1850   0.0549 \n"
     ]
    },
    {
     "name": "stderr",
     "output_type": "stream",
     "text": [
      "fitting final gbm model with a fixed number of 1400 trees for NA\n"
     ]
    },
    {
     "name": "stdout",
     "output_type": "stream",
     "text": [
      "\n",
      "mean total deviance = 0.075 \n",
      "mean residual deviance = 0.025 \n",
      " \n",
      "estimated cv deviance = 0.054 ; se = 0.012 \n",
      " \n",
      "training data correlation = 0.78 \n",
      "cv correlation =  0.439 ; se = 0.117 \n",
      " \n",
      "training data AUC score = 0.999 \n",
      "cv AUC score = 0.944 ; se = 0.03 \n",
      " \n",
      "elapsed time -  0.03 minutes \n"
     ]
    },
    {
     "data": {
      "image/png": "[encoded data removed]",
      "text/plain": [
       "Plot with title \"NA, d - 5, lr - 0.001\""
      ]
     },
     "metadata": {},
     "output_type": "display_data"
    }
   ],
   "source": [
    "set.seed(100)\n",
    "Group1.total.tc5.lr0005 <- gbm.step(data = train,\n",
    "                                   gbm.x = predictorsNames,\n",
    "                                   gbm.y = outcomeName,\n",
    "                                   family = \"bernoulli\",\n",
    "                                   tree.complexity = 5,\n",
    "                                   learning.rate = 0.001,\n",
    "                                   bag.fraction = 0.5, \n",
    "                                   cv = 10, \n",
    "                                   max.trees = 20000)"
   ]
  },
  {
   "cell_type": "code",
   "execution_count": 53,
   "metadata": {},
   "outputs": [
    {
     "name": "stdout",
     "output_type": "stream",
     "text": [
      "gbm::gbm(formula = y.data ~ ., distribution = as.character(family), \n",
      "    data = x.data, weights = site.weights, var.monotone = var.monotone, \n",
      "    n.trees = target.trees, interaction.depth = tree.complexity, \n",
      "    shrinkage = learning.rate, bag.fraction = bag.fraction, verbose = FALSE)\n",
      "A gradient boosted model with bernoulli loss function.\n",
      "1400 iterations were performed.\n",
      "There were 67 predictors of which 30 had non-zero influence.\n"
     ]
    }
   ],
   "source": [
    "print(Group1.total.tc5.lr0005)"
   ]
  },
  {
   "cell_type": "code",
   "execution_count": 54,
   "metadata": {},
   "outputs": [
    {
     "data": {
      "text/html": [
       "0.0500236075028163"
      ],
      "text/latex": [
       "0.0500236075028163"
      ],
      "text/markdown": [
       "0.0500236075028163"
      ],
      "text/plain": [
       "[1] 0.05002361"
      ]
     },
     "metadata": {},
     "output_type": "display_data"
    }
   ],
   "source": [
    "preds2 <- predict.gbm(Group1.total.tc5.lr0005, \n",
    "                     test[,predictorsNames],\n",
    "                     n.trees=Group1.total.tc5.lr0005$gbm.call$best.trees,\n",
    "                     type=\"response\")\n",
    "\n",
    "calc.deviance(obs=test$Group1Binary, pred=preds2, calc.mean=TRUE)"
   ]
  },
  {
   "cell_type": "code",
   "execution_count": 55,
   "metadata": {},
   "outputs": [
    {
     "data": {
      "text/plain": [
       "class          : ModelEvaluation \n",
       "n presences    : 3 \n",
       "n absences     : 444 \n",
       "AUC            : 0.975976 \n",
       "cor            : 0.4225845 \n",
       "max TPR+TNR at : 0.01303328 "
      ]
     },
     "metadata": {},
     "output_type": "display_data"
    }
   ],
   "source": [
    "d <- cbind(test$Group1Binary, preds2)\n",
    "pres <- d[d[,1]==1, 2]\n",
    "abs <- d[d[,1]==0, 2]\n",
    "e <- evaluate(p=pres, a=abs)\n",
    "e"
   ]
  },
  {
   "cell_type": "code",
   "execution_count": 56,
   "metadata": {},
   "outputs": [
    {
     "data": {
      "text/html": [
       "0.029876286481878"
      ],
      "text/latex": [
       "0.029876286481878"
      ],
      "text/markdown": [
       "0.029876286481878"
      ],
      "text/plain": [
       "[1] 0.02987629"
      ]
     },
     "metadata": {},
     "output_type": "display_data"
    }
   ],
   "source": [
    "preds2 <- predict.gbm(Group1.total.tc5.lr0005, \n",
    "                     model.data[,predictorsNames],\n",
    "                     n.trees=Group1.total.tc5.lr0005$gbm.call$best.trees,\n",
    "                     type=\"response\")\n",
    "\n",
    "calc.deviance(obs=model.data$Group1Binary, pred=preds2, calc.mean=TRUE)"
   ]
  },
  {
   "cell_type": "code",
   "execution_count": 57,
   "metadata": {},
   "outputs": [],
   "source": [
    "model.data$PredictionProbability  = preds2\n",
    "write.csv(model.data, file = \"Outputs2/Predictions_R_Group1a2.csv\")"
   ]
  },
  {
   "cell_type": "code",
   "execution_count": 58,
   "metadata": {},
   "outputs": [
    {
     "data": {
      "text/plain": [
       "class          : ModelEvaluation \n",
       "n presences    : 14 \n",
       "n absences     : 2218 \n",
       "AUC            : 0.9942999 \n",
       "cor            : 0.7083843 \n",
       "max TPR+TNR at : 0.01303328 "
      ]
     },
     "metadata": {},
     "output_type": "display_data"
    }
   ],
   "source": [
    "d <- cbind(model.data$Group1Binary, preds2)\n",
    "pres <- d[d[,1]==1, 2]\n",
    "abs <- d[d[,1]==0, 2]\n",
    "e <- evaluate(p=pres, a=abs)\n",
    "e"
   ]
  },
  {
   "cell_type": "code",
   "execution_count": 59,
   "metadata": {
    "scrolled": false
   },
   "outputs": [
    {
     "data": {
      "text/html": [
       "<table>\n",
       "<thead><tr><th></th><th scope=col>var</th><th scope=col>rel.inf</th></tr></thead>\n",
       "<tbody>\n",
       "\t<tr><th scope=row>Metabolic_Rate_ln</th><td>Metabolic_Rate_ln   </td><td>25.338587004        </td></tr>\n",
       "\t<tr><th scope=row>BodyMass_ln</th><td>BodyMass_ln         </td><td>23.683997897        </td></tr>\n",
       "\t<tr><th scope=row>PubmedHits_ln</th><td>PubmedHits_ln       </td><td>11.243684490        </td></tr>\n",
       "\t<tr><th scope=row>Shape_Area_log</th><td>Shape_Area_log      </td><td>10.282780110        </td></tr>\n",
       "\t<tr><th scope=row>Bio12_mean</th><td>Bio12_mean          </td><td> 5.692096107        </td></tr>\n",
       "\t<tr><th scope=row>minlat</th><td>minlat              </td><td> 3.238824301        </td></tr>\n",
       "\t<tr><th scope=row>maxlong_log</th><td>maxlong_log         </td><td> 2.924272536        </td></tr>\n",
       "\t<tr><th scope=row>IUCN.Status</th><td>IUCN.Status         </td><td> 2.262771487        </td></tr>\n",
       "\t<tr><th scope=row>centroidY</th><td>centroidY           </td><td> 1.658038050        </td></tr>\n",
       "\t<tr><th scope=row>SLP_DS</th><td>SLP_DS              </td><td> 1.657513043        </td></tr>\n",
       "\t<tr><th scope=row>mdiversity_mean</th><td>mdiversity_mean     </td><td> 1.535049683        </td></tr>\n",
       "\t<tr><th scope=row>ForStrategy</th><td>ForStrategy         </td><td> 1.354888069        </td></tr>\n",
       "\t<tr><th scope=row>MaxDiet</th><td>MaxDiet             </td><td> 1.202997058        </td></tr>\n",
       "\t<tr><th scope=row>centroidX_log</th><td>centroidX_log       </td><td> 0.867351971        </td></tr>\n",
       "\t<tr><th scope=row>bdiversity_mean</th><td>bdiversity_mean     </td><td> 0.847961958        </td></tr>\n",
       "\t<tr><th scope=row>Bio1_mean</th><td>Bio1_mean           </td><td> 0.827348980        </td></tr>\n",
       "\t<tr><th scope=row>Body_Temperature</th><td>Body_Temperature    </td><td> 0.745142206        </td></tr>\n",
       "\t<tr><th scope=row>HuPop_mean_log</th><td>HuPop_mean_log      </td><td> 0.719825105        </td></tr>\n",
       "\t<tr><th scope=row>LVSTD_DS</th><td>LVSTD_DS            </td><td> 0.587471707        </td></tr>\n",
       "\t<tr><th scope=row>Ticks_mean</th><td>Ticks_mean          </td><td> 0.564141914        </td></tr>\n",
       "\t<tr><th scope=row>Habitat_Breadth_sqrt</th><td>Habitat_Breadth_sqrt</td><td> 0.542831156        </td></tr>\n",
       "\t<tr><th scope=row>maxlat</th><td>maxlat              </td><td> 0.536110738        </td></tr>\n",
       "\t<tr><th scope=row>minlong</th><td>minlong             </td><td> 0.520959730        </td></tr>\n",
       "\t<tr><th scope=row>Bio3_mean</th><td>Bio3_mean           </td><td> 0.389463667        </td></tr>\n",
       "\t<tr><th scope=row>Population.trend</th><td>Population.trend    </td><td> 0.367867351        </td></tr>\n",
       "\t<tr><th scope=row>ActivityTime</th><td>ActivityTime        </td><td> 0.135110605        </td></tr>\n",
       "\t<tr><th scope=row>LandUse_collapsed</th><td>LandUse_collapsed   </td><td> 0.130869210        </td></tr>\n",
       "\t<tr><th scope=row>Mosquitoes_mean</th><td>Mosquitoes_mean     </td><td> 0.090390556        </td></tr>\n",
       "\t<tr><th scope=row>MURIDAE</th><td>MURIDAE             </td><td> 0.045573938        </td></tr>\n",
       "\t<tr><th scope=row>SCIURIDAE</th><td>SCIURIDAE           </td><td> 0.006079374        </td></tr>\n",
       "\t<tr><th scope=row>...</th><td>...</td><td>...</td></tr>\n",
       "\t<tr><th scope=row>APLODONTIIDAE</th><td>APLODONTIIDAE    </td><td>0                </td></tr>\n",
       "\t<tr><th scope=row>HYSTRICIDAE</th><td>HYSTRICIDAE      </td><td>0                </td></tr>\n",
       "\t<tr><th scope=row>BATHYERGIDAE</th><td>BATHYERGIDAE     </td><td>0                </td></tr>\n",
       "\t<tr><th scope=row>NESOMYIDAE</th><td>NESOMYIDAE       </td><td>0                </td></tr>\n",
       "\t<tr><th scope=row>ECHIMYIDAE</th><td>ECHIMYIDAE       </td><td>0                </td></tr>\n",
       "\t<tr><th scope=row>CALLITRICHIDAE</th><td>CALLITRICHIDAE   </td><td>0                </td></tr>\n",
       "\t<tr><th scope=row>CALOMYSCIDAE</th><td>CALOMYSCIDAE     </td><td>0                </td></tr>\n",
       "\t<tr><th scope=row>SPALACIDAE</th><td>SPALACIDAE       </td><td>0                </td></tr>\n",
       "\t<tr><th scope=row>CAPROMYIDAE</th><td>CAPROMYIDAE      </td><td>0                </td></tr>\n",
       "\t<tr><th scope=row>CASTORIDAE</th><td>CASTORIDAE       </td><td>0                </td></tr>\n",
       "\t<tr><th scope=row>CAVIIDAE</th><td>CAVIIDAE         </td><td>0                </td></tr>\n",
       "\t<tr><th scope=row>GLIRIDAE</th><td>GLIRIDAE         </td><td>0                </td></tr>\n",
       "\t<tr><th scope=row>HETEROMYIDAE</th><td>HETEROMYIDAE     </td><td>0                </td></tr>\n",
       "\t<tr><th scope=row>ERETHIZONTIDAE</th><td>ERETHIZONTIDAE   </td><td>0                </td></tr>\n",
       "\t<tr><th scope=row>CHINCHILLIDAE</th><td>CHINCHILLIDAE    </td><td>0                </td></tr>\n",
       "\t<tr><th scope=row>CERCOPITHECIDAE</th><td>CERCOPITHECIDAE  </td><td>0                </td></tr>\n",
       "\t<tr><th scope=row>GEOMYIDAE</th><td>GEOMYIDAE        </td><td>0                </td></tr>\n",
       "\t<tr><th scope=row>CTENODACTYLIDAE</th><td>CTENODACTYLIDAE  </td><td>0                </td></tr>\n",
       "\t<tr><th scope=row>CTENOMYIDAE</th><td>CTENOMYIDAE      </td><td>0                </td></tr>\n",
       "\t<tr><th scope=row>CUNICULIDAE</th><td>CUNICULIDAE      </td><td>0                </td></tr>\n",
       "\t<tr><th scope=row>DASYPROCTIDAE</th><td>DASYPROCTIDAE    </td><td>0                </td></tr>\n",
       "\t<tr><th scope=row>DINOMYIDAE</th><td>DINOMYIDAE       </td><td>0                </td></tr>\n",
       "\t<tr><th scope=row>DIATOMYIDAE</th><td>DIATOMYIDAE      </td><td>0                </td></tr>\n",
       "\t<tr><th scope=row>MYOCASTORIDAE</th><td>MYOCASTORIDAE    </td><td>0                </td></tr>\n",
       "\t<tr><th scope=row>PEDETIDAE</th><td>PEDETIDAE        </td><td>0                </td></tr>\n",
       "\t<tr><th scope=row>PETROMURIDAE</th><td>PETROMURIDAE     </td><td>0                </td></tr>\n",
       "\t<tr><th scope=row>PLATACANTHOMYIDAE</th><td>PLATACANTHOMYIDAE</td><td>0                </td></tr>\n",
       "\t<tr><th scope=row>HOMINIDAE</th><td>HOMINIDAE        </td><td>0                </td></tr>\n",
       "\t<tr><th scope=row>CEBIDAE</th><td>CEBIDAE          </td><td>0                </td></tr>\n",
       "\t<tr><th scope=row>THRYONOMYIDAE</th><td>THRYONOMYIDAE    </td><td>0                </td></tr>\n",
       "</tbody>\n",
       "</table>\n"
      ],
      "text/latex": [
       "\\begin{tabular}{r|ll}\n",
       "  & var & rel.inf\\\\\n",
       "\\hline\n",
       "\tMetabolic\\_Rate\\_ln & Metabolic\\_Rate\\_ln    & 25.338587004            \\\\\n",
       "\tBodyMass\\_ln & BodyMass\\_ln          & 23.683997897          \\\\\n",
       "\tPubmedHits\\_ln & PubmedHits\\_ln        & 11.243684490          \\\\\n",
       "\tShape\\_Area\\_log & Shape\\_Area\\_log       & 10.282780110            \\\\\n",
       "\tBio12\\_mean & Bio12\\_mean           &  5.692096107          \\\\\n",
       "\tminlat & minlat               &  3.238824301        \\\\\n",
       "\tmaxlong\\_log & maxlong\\_log          &  2.924272536          \\\\\n",
       "\tIUCN.Status & IUCN.Status          &  2.262771487        \\\\\n",
       "\tcentroidY & centroidY            &  1.658038050        \\\\\n",
       "\tSLP\\_DS & SLP\\_DS               &  1.657513043          \\\\\n",
       "\tmdiversity\\_mean & mdiversity\\_mean      &  1.535049683          \\\\\n",
       "\tForStrategy & ForStrategy          &  1.354888069        \\\\\n",
       "\tMaxDiet & MaxDiet              &  1.202997058        \\\\\n",
       "\tcentroidX\\_log & centroidX\\_log        &  0.867351971          \\\\\n",
       "\tbdiversity\\_mean & bdiversity\\_mean      &  0.847961958          \\\\\n",
       "\tBio1\\_mean & Bio1\\_mean            &  0.827348980          \\\\\n",
       "\tBody\\_Temperature & Body\\_Temperature     &  0.745142206          \\\\\n",
       "\tHuPop\\_mean\\_log & HuPop\\_mean\\_log       &  0.719825105            \\\\\n",
       "\tLVSTD\\_DS & LVSTD\\_DS             &  0.587471707          \\\\\n",
       "\tTicks\\_mean & Ticks\\_mean           &  0.564141914          \\\\\n",
       "\tHabitat\\_Breadth\\_sqrt & Habitat\\_Breadth\\_sqrt &  0.542831156            \\\\\n",
       "\tmaxlat & maxlat               &  0.536110738        \\\\\n",
       "\tminlong & minlong              &  0.520959730        \\\\\n",
       "\tBio3\\_mean & Bio3\\_mean            &  0.389463667          \\\\\n",
       "\tPopulation.trend & Population.trend     &  0.367867351        \\\\\n",
       "\tActivityTime & ActivityTime         &  0.135110605        \\\\\n",
       "\tLandUse\\_collapsed & LandUse\\_collapsed    &  0.130869210          \\\\\n",
       "\tMosquitoes\\_mean & Mosquitoes\\_mean      &  0.090390556          \\\\\n",
       "\tMURIDAE & MURIDAE              &  0.045573938        \\\\\n",
       "\tSCIURIDAE & SCIURIDAE            &  0.006079374        \\\\\n",
       "\t... & ... & ...\\\\\n",
       "\tAPLODONTIIDAE & APLODONTIIDAE     & 0                \\\\\n",
       "\tHYSTRICIDAE & HYSTRICIDAE       & 0                \\\\\n",
       "\tBATHYERGIDAE & BATHYERGIDAE      & 0                \\\\\n",
       "\tNESOMYIDAE & NESOMYIDAE        & 0                \\\\\n",
       "\tECHIMYIDAE & ECHIMYIDAE        & 0                \\\\\n",
       "\tCALLITRICHIDAE & CALLITRICHIDAE    & 0                \\\\\n",
       "\tCALOMYSCIDAE & CALOMYSCIDAE      & 0                \\\\\n",
       "\tSPALACIDAE & SPALACIDAE        & 0                \\\\\n",
       "\tCAPROMYIDAE & CAPROMYIDAE       & 0                \\\\\n",
       "\tCASTORIDAE & CASTORIDAE        & 0                \\\\\n",
       "\tCAVIIDAE & CAVIIDAE          & 0                \\\\\n",
       "\tGLIRIDAE & GLIRIDAE          & 0                \\\\\n",
       "\tHETEROMYIDAE & HETEROMYIDAE      & 0                \\\\\n",
       "\tERETHIZONTIDAE & ERETHIZONTIDAE    & 0                \\\\\n",
       "\tCHINCHILLIDAE & CHINCHILLIDAE     & 0                \\\\\n",
       "\tCERCOPITHECIDAE & CERCOPITHECIDAE   & 0                \\\\\n",
       "\tGEOMYIDAE & GEOMYIDAE         & 0                \\\\\n",
       "\tCTENODACTYLIDAE & CTENODACTYLIDAE   & 0                \\\\\n",
       "\tCTENOMYIDAE & CTENOMYIDAE       & 0                \\\\\n",
       "\tCUNICULIDAE & CUNICULIDAE       & 0                \\\\\n",
       "\tDASYPROCTIDAE & DASYPROCTIDAE     & 0                \\\\\n",
       "\tDINOMYIDAE & DINOMYIDAE        & 0                \\\\\n",
       "\tDIATOMYIDAE & DIATOMYIDAE       & 0                \\\\\n",
       "\tMYOCASTORIDAE & MYOCASTORIDAE     & 0                \\\\\n",
       "\tPEDETIDAE & PEDETIDAE         & 0                \\\\\n",
       "\tPETROMURIDAE & PETROMURIDAE      & 0                \\\\\n",
       "\tPLATACANTHOMYIDAE & PLATACANTHOMYIDAE & 0                \\\\\n",
       "\tHOMINIDAE & HOMINIDAE         & 0                \\\\\n",
       "\tCEBIDAE & CEBIDAE           & 0                \\\\\n",
       "\tTHRYONOMYIDAE & THRYONOMYIDAE     & 0                \\\\\n",
       "\\end{tabular}\n"
      ],
      "text/markdown": [
       "\n",
       "| <!--/--> | var | rel.inf | \n",
       "|---|---|---|---|---|---|---|---|---|---|---|---|---|---|---|---|---|---|---|---|---|---|---|---|---|---|---|---|---|---|---|---|---|---|---|---|---|---|---|---|---|---|---|---|---|---|---|---|---|---|---|---|---|---|---|---|---|---|---|---|---|\n",
       "| Metabolic_Rate_ln | Metabolic_Rate_ln    | 25.338587004         | \n",
       "| BodyMass_ln | BodyMass_ln          | 23.683997897         | \n",
       "| PubmedHits_ln | PubmedHits_ln        | 11.243684490         | \n",
       "| Shape_Area_log | Shape_Area_log       | 10.282780110         | \n",
       "| Bio12_mean | Bio12_mean           |  5.692096107         | \n",
       "| minlat | minlat               |  3.238824301         | \n",
       "| maxlong_log | maxlong_log          |  2.924272536         | \n",
       "| IUCN.Status | IUCN.Status          |  2.262771487         | \n",
       "| centroidY | centroidY            |  1.658038050         | \n",
       "| SLP_DS | SLP_DS               |  1.657513043         | \n",
       "| mdiversity_mean | mdiversity_mean      |  1.535049683         | \n",
       "| ForStrategy | ForStrategy          |  1.354888069         | \n",
       "| MaxDiet | MaxDiet              |  1.202997058         | \n",
       "| centroidX_log | centroidX_log        |  0.867351971         | \n",
       "| bdiversity_mean | bdiversity_mean      |  0.847961958         | \n",
       "| Bio1_mean | Bio1_mean            |  0.827348980         | \n",
       "| Body_Temperature | Body_Temperature     |  0.745142206         | \n",
       "| HuPop_mean_log | HuPop_mean_log       |  0.719825105         | \n",
       "| LVSTD_DS | LVSTD_DS             |  0.587471707         | \n",
       "| Ticks_mean | Ticks_mean           |  0.564141914         | \n",
       "| Habitat_Breadth_sqrt | Habitat_Breadth_sqrt |  0.542831156         | \n",
       "| maxlat | maxlat               |  0.536110738         | \n",
       "| minlong | minlong              |  0.520959730         | \n",
       "| Bio3_mean | Bio3_mean            |  0.389463667         | \n",
       "| Population.trend | Population.trend     |  0.367867351         | \n",
       "| ActivityTime | ActivityTime         |  0.135110605         | \n",
       "| LandUse_collapsed | LandUse_collapsed    |  0.130869210         | \n",
       "| Mosquitoes_mean | Mosquitoes_mean      |  0.090390556         | \n",
       "| MURIDAE | MURIDAE              |  0.045573938         | \n",
       "| SCIURIDAE | SCIURIDAE            |  0.006079374         | \n",
       "| ... | ... | ... | \n",
       "| APLODONTIIDAE | APLODONTIIDAE     | 0                 | \n",
       "| HYSTRICIDAE | HYSTRICIDAE       | 0                 | \n",
       "| BATHYERGIDAE | BATHYERGIDAE      | 0                 | \n",
       "| NESOMYIDAE | NESOMYIDAE        | 0                 | \n",
       "| ECHIMYIDAE | ECHIMYIDAE        | 0                 | \n",
       "| CALLITRICHIDAE | CALLITRICHIDAE    | 0                 | \n",
       "| CALOMYSCIDAE | CALOMYSCIDAE      | 0                 | \n",
       "| SPALACIDAE | SPALACIDAE        | 0                 | \n",
       "| CAPROMYIDAE | CAPROMYIDAE       | 0                 | \n",
       "| CASTORIDAE | CASTORIDAE        | 0                 | \n",
       "| CAVIIDAE | CAVIIDAE          | 0                 | \n",
       "| GLIRIDAE | GLIRIDAE          | 0                 | \n",
       "| HETEROMYIDAE | HETEROMYIDAE      | 0                 | \n",
       "| ERETHIZONTIDAE | ERETHIZONTIDAE    | 0                 | \n",
       "| CHINCHILLIDAE | CHINCHILLIDAE     | 0                 | \n",
       "| CERCOPITHECIDAE | CERCOPITHECIDAE   | 0                 | \n",
       "| GEOMYIDAE | GEOMYIDAE         | 0                 | \n",
       "| CTENODACTYLIDAE | CTENODACTYLIDAE   | 0                 | \n",
       "| CTENOMYIDAE | CTENOMYIDAE       | 0                 | \n",
       "| CUNICULIDAE | CUNICULIDAE       | 0                 | \n",
       "| DASYPROCTIDAE | DASYPROCTIDAE     | 0                 | \n",
       "| DINOMYIDAE | DINOMYIDAE        | 0                 | \n",
       "| DIATOMYIDAE | DIATOMYIDAE       | 0                 | \n",
       "| MYOCASTORIDAE | MYOCASTORIDAE     | 0                 | \n",
       "| PEDETIDAE | PEDETIDAE         | 0                 | \n",
       "| PETROMURIDAE | PETROMURIDAE      | 0                 | \n",
       "| PLATACANTHOMYIDAE | PLATACANTHOMYIDAE | 0                 | \n",
       "| HOMINIDAE | HOMINIDAE         | 0                 | \n",
       "| CEBIDAE | CEBIDAE           | 0                 | \n",
       "| THRYONOMYIDAE | THRYONOMYIDAE     | 0                 | \n",
       "\n",
       "\n"
      ],
      "text/plain": [
       "                     var                  rel.inf     \n",
       "Metabolic_Rate_ln    Metabolic_Rate_ln    25.338587004\n",
       "BodyMass_ln          BodyMass_ln          23.683997897\n",
       "PubmedHits_ln        PubmedHits_ln        11.243684490\n",
       "Shape_Area_log       Shape_Area_log       10.282780110\n",
       "Bio12_mean           Bio12_mean            5.692096107\n",
       "minlat               minlat                3.238824301\n",
       "maxlong_log          maxlong_log           2.924272536\n",
       "IUCN.Status          IUCN.Status           2.262771487\n",
       "centroidY            centroidY             1.658038050\n",
       "SLP_DS               SLP_DS                1.657513043\n",
       "mdiversity_mean      mdiversity_mean       1.535049683\n",
       "ForStrategy          ForStrategy           1.354888069\n",
       "MaxDiet              MaxDiet               1.202997058\n",
       "centroidX_log        centroidX_log         0.867351971\n",
       "bdiversity_mean      bdiversity_mean       0.847961958\n",
       "Bio1_mean            Bio1_mean             0.827348980\n",
       "Body_Temperature     Body_Temperature      0.745142206\n",
       "HuPop_mean_log       HuPop_mean_log        0.719825105\n",
       "LVSTD_DS             LVSTD_DS              0.587471707\n",
       "Ticks_mean           Ticks_mean            0.564141914\n",
       "Habitat_Breadth_sqrt Habitat_Breadth_sqrt  0.542831156\n",
       "maxlat               maxlat                0.536110738\n",
       "minlong              minlong               0.520959730\n",
       "Bio3_mean            Bio3_mean             0.389463667\n",
       "Population.trend     Population.trend      0.367867351\n",
       "ActivityTime         ActivityTime          0.135110605\n",
       "LandUse_collapsed    LandUse_collapsed     0.130869210\n",
       "Mosquitoes_mean      Mosquitoes_mean       0.090390556\n",
       "MURIDAE              MURIDAE               0.045573938\n",
       "SCIURIDAE            SCIURIDAE             0.006079374\n",
       "...                  ...                  ...         \n",
       "APLODONTIIDAE        APLODONTIIDAE        0           \n",
       "HYSTRICIDAE          HYSTRICIDAE          0           \n",
       "BATHYERGIDAE         BATHYERGIDAE         0           \n",
       "NESOMYIDAE           NESOMYIDAE           0           \n",
       "ECHIMYIDAE           ECHIMYIDAE           0           \n",
       "CALLITRICHIDAE       CALLITRICHIDAE       0           \n",
       "CALOMYSCIDAE         CALOMYSCIDAE         0           \n",
       "SPALACIDAE           SPALACIDAE           0           \n",
       "CAPROMYIDAE          CAPROMYIDAE          0           \n",
       "CASTORIDAE           CASTORIDAE           0           \n",
       "CAVIIDAE             CAVIIDAE             0           \n",
       "GLIRIDAE             GLIRIDAE             0           \n",
       "HETEROMYIDAE         HETEROMYIDAE         0           \n",
       "ERETHIZONTIDAE       ERETHIZONTIDAE       0           \n",
       "CHINCHILLIDAE        CHINCHILLIDAE        0           \n",
       "CERCOPITHECIDAE      CERCOPITHECIDAE      0           \n",
       "GEOMYIDAE            GEOMYIDAE            0           \n",
       "CTENODACTYLIDAE      CTENODACTYLIDAE      0           \n",
       "CTENOMYIDAE          CTENOMYIDAE          0           \n",
       "CUNICULIDAE          CUNICULIDAE          0           \n",
       "DASYPROCTIDAE        DASYPROCTIDAE        0           \n",
       "DINOMYIDAE           DINOMYIDAE           0           \n",
       "DIATOMYIDAE          DIATOMYIDAE          0           \n",
       "MYOCASTORIDAE        MYOCASTORIDAE        0           \n",
       "PEDETIDAE            PEDETIDAE            0           \n",
       "PETROMURIDAE         PETROMURIDAE         0           \n",
       "PLATACANTHOMYIDAE    PLATACANTHOMYIDAE    0           \n",
       "HOMINIDAE            HOMINIDAE            0           \n",
       "CEBIDAE              CEBIDAE              0           \n",
       "THRYONOMYIDAE        THRYONOMYIDAE        0           "
      ]
     },
     "metadata": {},
     "output_type": "display_data"
    },
    {
     "data": {
      "image/png": "[encoded data removed]",
      "text/plain": [
       "plot without title"
      ]
     },
     "metadata": {},
     "output_type": "display_data"
    }
   ],
   "source": [
    "summary(Group1.total.tc5.lr0005)"
   ]
  },
  {
   "cell_type": "code",
   "execution_count": 60,
   "metadata": {},
   "outputs": [
    {
     "name": "stdout",
     "output_type": "stream",
     "text": [
      "n.trees not given. Using 1400 trees.\n"
     ]
    }
   ],
   "source": [
    "ranks = relative.influence(Group1.total.tc5.lr0005, scale. = 'TRUE', sort. = 'TRUE')\n",
    "a = as.data.frame(ranks, col.names = , optional = FALSE)\n",
    "a = setDT(a, keep.rownames = TRUE)[]\n",
    "colnames(a) = c('Variable','influence')\n",
    "b = a\n",
    "for (i in b$Variable){\n",
    "    margianleffects = plot.gbm(Group1.total.tc5.lr0005, i.var = i,n.plots=3, \n",
    "                           write.title = T, return.grid  = T,\n",
    "                           show.contrib = T,y.label=\"Marginal effect on Host\")\n",
    "    filename = paste(\"Outputs2/PartialDependence3/\", i,'Group1a','.csv', sep=\"\")\n",
    "    write.csv(margianleffects, file = filename)    \n",
    "}"
   ]
  },
  {
   "cell_type": "code",
   "execution_count": 61,
   "metadata": {},
   "outputs": [],
   "source": [
    "write.csv(a, 'Outputs2/PartialDependence3/Ranks_group1a.csv')"
   ]
  },
  {
   "cell_type": "code",
   "execution_count": null,
   "metadata": {},
   "outputs": [],
   "source": []
  }
 ],
 "metadata": {
  "kernelspec": {
   "display_name": "R",
   "language": "R",
   "name": "ir"
  },
  "language_info": {
   "codemirror_mode": "r",
   "file_extension": ".r",
   "mimetype": "text/x-r-source",
   "name": "R",
   "pygments_lexer": "r",
   "version": "3.4.3"
  },
  "varInspector": {
   "cols": {
    "lenName": 16,
    "lenType": 16,
    "lenVar": 40
   },
   "kernels_config": {
    "python": {
     "delete_cmd_postfix": "",
     "delete_cmd_prefix": "del ",
     "library": "var_list.py",
     "varRefreshCmd": "print(var_dic_list())"
    },
    "r": {
     "delete_cmd_postfix": ") ",
     "delete_cmd_prefix": "rm(",
     "library": "var_list.r",
     "varRefreshCmd": "cat(var_dic_list()) "
    }
   },
   "types_to_exclude": [
    "module",
    "function",
    "builtin_function_or_method",
    "instance",
    "_Feature"
   ],
   "window_display": false
  }
 },
 "nbformat": 4,
 "nbformat_minor": 2
}
