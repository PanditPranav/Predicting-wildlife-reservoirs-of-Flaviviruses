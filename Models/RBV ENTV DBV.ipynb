{
 "cells": [
  {
   "cell_type": "code",
   "execution_count": null,
   "metadata": {},
   "outputs": [],
   "source": [
    "setwd('C:/Users/Falco/Desktop/directory/Predicting-wildlife-reservoirs-of-Flaviviruses')"
   ]
  },
  {
   "cell_type": "code",
   "execution_count": null,
   "metadata": {},
   "outputs": [],
   "source": [
    "options(warn=-1)\n",
    "#install.packages(c('gbm', 'dplyr','dismo', 'caret',\n",
    "#                  'sjplot', 'skmisc','ggplot2'), repos='http://cran.us.r-project.org')\n",
    "library(gbm)\n",
    "library(dplyr)\n",
    "library(dismo)\n",
    "library(caret)\n",
    "library(sjPlot)\n",
    "library(sjmisc)\n",
    "library(ggplot2)\n",
    "library(raster)\n",
    "library(plyr)\n",
    "library(data.table)"
   ]
  },
  {
   "cell_type": "code",
   "execution_count": null,
   "metadata": {},
   "outputs": [],
   "source": [
    "#model.data = read.csv(\"Outputs/model_data.csv\")\n",
    "model.data = read.csv('data/dataGroup4.csv')"
   ]
  },
  {
   "cell_type": "code",
   "execution_count": null,
   "metadata": {},
   "outputs": [],
   "source": [
    "#names(model.data)"
   ]
  },
  {
   "cell_type": "code",
   "execution_count": null,
   "metadata": {},
   "outputs": [],
   "source": [
    "model.data$Class = factor(model.data$Class, levels = levels(model.data$Class))\n",
    "model.data$Order_y = factor(model.data$Order, levels = levels(model.data$Order))\n",
    "model.data$Family_y = factor(model.data$Family, levels = levels(model.data$Family))\n",
    "model.data$MatchHost = factor(model.data$MatchHost, levels = levels(model.data$MatchHost))\n",
    "model.data$IUCN.Status = factor(model.data$IUCN.Status, levels = levels(model.data$IUCN.Status))\n",
    "model.data$Diet_Certainty = factor(model.data$Diet_Certainty, levels = levels(model.data$Diet_Certainty))\n",
    "model.data$Group4Binary2 <- ifelse(model.data$Group4Binary==1,'host','nonhost')\n",
    "model.data$Group4Binary2 <- as.factor(model.data$Group4Binary2)\n",
    "outcomeName <- 'Group4Binary2'"
   ]
  },
  {
   "cell_type": "code",
   "execution_count": null,
   "metadata": {},
   "outputs": [],
   "source": [
    "## Read in the raster data\n",
    "landuse <- raster(\"D:/lust/lus.tif\",package=\"raster\")\n",
    "## Extract attribute information for the categories from the raster layer, and convert into dataframe\n",
    "LanduseAttributeTable <- ldply(landuse@data@attributes, data.frame)\n",
    "#head(LanduseAttributeTable)"
   ]
  },
  {
   "cell_type": "code",
   "execution_count": null,
   "metadata": {},
   "outputs": [],
   "source": [
    "## Read in the raster data\n",
    "Livestock <- raster(\"D:/lvstdt/lvstd.tif\",package=\"raster\")\n",
    "## Extract attribute information for the categories from the raster layer, and convert into dataframe\n",
    "LivestockAttributeTable <- ldply(Livestock@data@attributes, data.frame)\n",
    "#LivestockAttributeTable"
   ]
  },
  {
   "cell_type": "code",
   "execution_count": null,
   "metadata": {},
   "outputs": [],
   "source": [
    "## Read in the raster data\n",
    "Slope <- raster(\"D:/slpt/slp.tif\",package=\"raster\")\n",
    "## Extract attribute information for the categories from the raster layer, and convert into dataframe\n",
    "SlopeAttributeTable <- ldply(Slope@data@attributes, data.frame)\n",
    "#SlopeAttributeTable"
   ]
  },
  {
   "cell_type": "code",
   "execution_count": null,
   "metadata": {},
   "outputs": [],
   "source": [
    "model.data = merge(model.data, LanduseAttributeTable, by.x = 'LandUse_majority', by.y = 'Value', all.x = TRUE)   \n",
    "model.data = merge(model.data, LivestockAttributeTable, by.x = 'Livestock_majority', by.y = 'Value', all.x = TRUE)  \n",
    "model.data = merge(model.data, SlopeAttributeTable, by.x = 'Slope_majority', by.y = 'Value', all.x = TRUE)"
   ]
  },
  {
   "cell_type": "code",
   "execution_count": null,
   "metadata": {},
   "outputs": [],
   "source": [
    "unique(model.data$LandUse_collapsed)"
   ]
  },
  {
   "cell_type": "code",
   "execution_count": null,
   "metadata": {},
   "outputs": [],
   "source": [
    "table(model.data$SLP_DS)"
   ]
  },
  {
   "cell_type": "code",
   "execution_count": null,
   "metadata": {},
   "outputs": [],
   "source": [
    "write.csv(model.data, 'Outputs/PartialDependence/Group4Data_forPartial.csv')"
   ]
  },
  {
   "cell_type": "code",
   "execution_count": null,
   "metadata": {},
   "outputs": [],
   "source": [
    "habitats = c(\"Forest\",\"Savanna\",\"Shrubland\",\"Grassland\",\"Wetlands\",\"Rocky.areas\",\"Caves.and.Subterranean.Habitats\",\"Desert\",\n",
    "            \"Marine.Neritic\",\"Marine.Oceanic\",\"Marine.Deep.Ocean.Floor\",\"Marine.Intertidal\",\"Marine.Coastal.Supratidal\", \n",
    "            \"Artificial.Terrestrial\",\"Artificial.Aquatic\",\"Introduced.Vegetation\",\"Other\",\"Unknown\")\n",
    "\n",
    "predictorsNames = c(\"Bio12_majority\", \"Bio12_max\", \"Bio12_mean\", \"Bio12_min\", \"Bio12_range\",\n",
    "                    \"Bio12_std\", \"Bio1_majority\", \"Bio1_max\", \"Bio1_mean\", \"Bio1_min\", \"Bio1_range\", \"Bio1_std\", \"Bio3_majority\",\n",
    "                    \"Bio3_max\", \"Bio3_mean\", \"Bio3_min\", \"Bio3_range\", \"Bio3_std\", \"Crops_majority\",\n",
    "                    \"HuPop_majority\", \"HuPop_max\", \"HuPop_mean\", \"HuPop_min\", \"HuPop_range\",\n",
    "                    \"HuPop_std\", \"LandUse_majority\", \"Livestock_majority\", \"Mosquitoes_majority\", \"Mosquitoes_max\",\n",
    "                    \"Mosquitoes_mean\", \"Slope_mean\", \"Slope_min\", \"Slope_range\", \"Slope_std\",\n",
    "                    \"Ticks_majority\", \"Ticks_mean\", \"Ticks_min\", \"bdiversity_majority\", \"bdiversity_max\",\n",
    "                    \"bdiversity_mean\", \"bdiversity_min\", \"bdiversity_range\", \"bdiversity_std\",\n",
    "                    \"centroidY\", \"maxlat\", \"mdiversity_majority\", \"mdiversity_max\", \"mdiversity_mean\",\n",
    "                    \"mdiversity_min\", \"mdiversity_range\", \"mdiversity_std\", \"minlat\",\n",
    "                    \"minlong\", \"Mosquitoes_min_log\", \"Mosquitoes_range_log\", \"Mosquitoes_std_log\",\n",
    "                    \"Shape_Area_log\", \"Shape_Length_log\", \"Slope_majority_log\", \"Slope_max_log\",\n",
    "                    \"Ticks_max_log\", \"Ticks_range_log\", \"Ticks_std_log\", \"centroidX_log\", \"maxlong_log\",\n",
    "                    \"MaxDiet\", \"ForStrategy\", \"ActivityTime\",\"Body_Temperature\", \"IUCN.Status\",\n",
    "                    \"Population.trend\", \"Data.Richness\", \"BodyMass_ln\", \"Metabolic_Rate_ln\", \"Habitat_Breadth_sqrt\",\n",
    "                    \"PubmedHits_ln\",'HuPop_mean_log',\n",
    "                    'Class','Family','Order','SLP_DS',\n",
    "                    'PTEROPODIDAE', 'PHYLLOSTOMIDAE', 'FURIPTERIDAE', 'HIPPOSIDERIDAE',\n",
    "       'VESPERTILIONIDAE', 'MOLOSSIDAE', 'EMBALLONURIDAE',\n",
    "       'MEGADERMATIDAE', 'NATALIDAE', 'CRASEONYCTERIDAE', 'MORMOOPIDAE',\n",
    "       'MYSTACINIDAE', 'MYZOPODIDAE', 'NOCTILIONIDAE', 'NYCTERIDAE',\n",
    "       'RHINOLOPHIDAE', 'RHINOPOMATIDAE', 'THYROPTERIDAE', 'PubmedHits')\n",
    "\n",
    "\n",
    "predictorsNames = predictorsNames[!predictorsNames %in% c('Activity_Diurnal', 'Activity_Nocturnal', 'BodyMass_SpecLevel',\n",
    "                                                          'Diet_Fruit', \"Diet_Inv\",\"Diet_Nect\",\"Diet_PlantO\", \"Diet_Scav\",\n",
    "                                                          \"Diet_Seed\", \"Diet_Vect\",\"Diet_Vend\", \"Diet_Vfish\", \"Diet_Vunk\",\n",
    "                                                          \"ForStrat_aerial\", \"ForStrat_aquatic\",\"ForStrat_arboreal\", \"ForStrat_ground\", \n",
    "                                                          'Crops_count', \"Crops_max\",\"Crops_mean\", \"Crops_median\", \"Crops_min\",\"Crops_range\",\n",
    "                                                          \"Crops_std\",\"LandUse_count\",'LandUse_majority', \"LandUse_max\",\"LandUse_mean\",\n",
    "                                                          \"LandUse_median\",\"LandUse_min\",\"LandUse_range\",\"LandUse_std\",\"Livestock_count\",\n",
    "                                                          \"Livestock_majority\",\"Livestock_max\",\"Livestock_mean\",\"Livestock_median\",\"Livestock_min\",\n",
    "                                                          \"Livestock_range\",\"Livestock_std\",\"MetRate_W_log\",\"BodyMass_log\",\n",
    "                                                          'TotalBinary', 'Test', 'Class','Family', 'Order','Data.Richness', \n",
    "                                                          'PubmedHits', \"BodyMass\", \"Metabolic.Rate\",\n",
    "                                                          \"Distribution.Area\", \"Mean.Temperature\", \"Mean.Human.population\",\n",
    "                                                          \"HabitatBreadth\", \"bdiversity_min\", \"bdiversity_std\", \"mdiversity_min\",\"mdiversity_std\", \n",
    "                                                          \"DELPHINIDAE\", \"sp\", \"BALAENIDAE\", \"BALAENOPTERIDAE\", \"ZIPHIIDAE\",\n",
    "                                                          \"NEOBALAENIDAE\", \"CISTUGIDAE\", \"MONODONTIDAE\", \"ESCHRICHTIIDAE\",\n",
    "                                                          \"INIIDAE\", \"PHYSETERIDAE\", \"PHOCOENIDAE\", \n",
    "                                                          \"PLATANISTIDAE\",\"MINIOPTERIDAE\", \n",
    "                                                          \n",
    "                                                          \"Bio12_range\",\"Bio1_range\",\"Bio3_range\", 'HuPop_range',\n",
    "                                                          \"Slope_range\", \"bdiversity_range\", \"mdiversity_range\",\n",
    "                                                          \"Mosquitoes_range_log\",\"Ticks_range_log\",\"Bio12_majority\",\n",
    "                                                          \n",
    "                                                          \"Bio1_majority\",\"Bio3_majority\", 'HuPop_majority',\n",
    "                                                         \"Slope_majority_log\", \"bdiversity_majority\", \"mdiversity_majority\",\n",
    "                                                         \"Mosquitoes_majority\",\"Ticks_majority\",\n",
    "                                                         \n",
    "                                                          \"Bio1_max\",\"Bio3_max\", 'HuPop_max',\n",
    "                                                         \"Slope_max_log\", \"bdiversity_max\", \"mdiversity_max\",\n",
    "                                                         \"Mosquitoes_max\",\"Ticks_max\",\n",
    "                                                         \n",
    "                                                          \"Bio1_min\",\"Bio3_min\", 'HuPop_min',\n",
    "                                                         \"Slope_min_log\", \"bdiversity_min\", \"mdiversity_min\",\n",
    "                                                         \"Mosquitoes_min\",\"Ticks_min\",\n",
    "                                                         \n",
    "                                                          \"Bio1_std\",\"Bio3_std\", 'HuPop_std',\n",
    "                                                         \"Slope_std_log\", \"bdiversity_std\", \"mdiversity_std\",\n",
    "                                                         \"Mosquitoes_std\",\"Ticks_std\",\n",
    "                                                         \n",
    "                                                          'Shape_Length_log', \"Slope_mean\",\n",
    "                                                         \n",
    "                                                          \"Bio12_max\",\"Bio12_min\",\"Bio12_std\",\n",
    "                                                         \"Slope_min\",\"Slope_std\", \n",
    "                                                         \"Mosquitoes_min_log\", \"Mosquitoes_std_log\",\n",
    "                                                          \"Ticks_max_log\", \"Ticks_std_log\", \n",
    "                                                         'HuPop_mean')]\n",
    "\n",
    "predictorsNames = predictorsNames[!predictorsNames %in% habitats]\n",
    "\n",
    "#predictorsNames = c(predictorsNames, 'LVSTD_DS', 'LUS_DS')\n",
    "predictorsNames = c(predictorsNames, 'LVSTD_DS', 'LandUse_collapsed')"
   ]
  },
  {
   "cell_type": "code",
   "execution_count": null,
   "metadata": {},
   "outputs": [],
   "source": [
    "outcomeName <- 'Group4Binary'"
   ]
  },
  {
   "cell_type": "code",
   "execution_count": null,
   "metadata": {},
   "outputs": [],
   "source": [
    "predictorsNames"
   ]
  },
  {
   "cell_type": "code",
   "execution_count": null,
   "metadata": {},
   "outputs": [],
   "source": [
    "length(predictorsNames)"
   ]
  },
  {
   "cell_type": "markdown",
   "metadata": {},
   "source": [
    "## Holdout dataset and Cross Validation"
   ]
  },
  {
   "cell_type": "code",
   "execution_count": null,
   "metadata": {},
   "outputs": [],
   "source": [
    "library(caTools)\n",
    "model.data$spl=sample.split(model.data$Group4Binary,SplitRatio=0.8)\n",
    "train=subset(model.data, model.data$spl==TRUE)\n",
    "test=subset(model.data, model.data$spl==FALSE)\n",
    "nrow(train)\n",
    "nrow(test)\n",
    "table(model.data$Group4Binary)\n",
    "table(train$Group4Binary)\n",
    "table(test$Group4Binary)"
   ]
  },
  {
   "cell_type": "code",
   "execution_count": null,
   "metadata": {
    "scrolled": false
   },
   "outputs": [],
   "source": [
    "set.seed(100)\n",
    "Group1.total.tc5.lr0005 <- gbm.step(data = train,\n",
    "                                   gbm.x = predictorsNames,\n",
    "                                   gbm.y = outcomeName,\n",
    "                                   family = \"bernoulli\",\n",
    "                                   tree.complexity = 5,\n",
    "                                   learning.rate = 0.001,\n",
    "                                   bag.fraction = 0.5, \n",
    "                                   cv = 10, \n",
    "                                   max.trees = 20000)"
   ]
  },
  {
   "cell_type": "code",
   "execution_count": null,
   "metadata": {},
   "outputs": [],
   "source": [
    "print(Group1.total.tc5.lr0005)"
   ]
  },
  {
   "cell_type": "code",
   "execution_count": null,
   "metadata": {},
   "outputs": [],
   "source": [
    "preds2 <- predict.gbm(Group1.total.tc5.lr0005, \n",
    "                     test[,predictorsNames],\n",
    "                     n.trees=Group1.total.tc5.lr0005$gbm.call$best.trees,\n",
    "                     type=\"response\")\n",
    "\n",
    "calc.deviance(obs=test$Group4Binary, pred=preds2, calc.mean=TRUE)"
   ]
  },
  {
   "cell_type": "code",
   "execution_count": null,
   "metadata": {},
   "outputs": [],
   "source": [
    "d <- cbind(test$Group4Binary, preds2)\n",
    "pres <- d[d[,1]==1, 2]\n",
    "abs <- d[d[,1]==0, 2]\n",
    "e <- evaluate(p=pres, a=abs)\n",
    "e"
   ]
  },
  {
   "cell_type": "code",
   "execution_count": null,
   "metadata": {},
   "outputs": [],
   "source": [
    "preds2 <- predict.gbm(Group1.total.tc5.lr0005, \n",
    "                     model.data[,predictorsNames],\n",
    "                     n.trees=Group1.total.tc5.lr0005$gbm.call$best.trees,\n",
    "                     type=\"response\")"
   ]
  },
  {
   "cell_type": "code",
   "execution_count": null,
   "metadata": {},
   "outputs": [],
   "source": [
    "model.data$PredictionProbability  = preds2\n",
    "write.csv(model.data, file = \"Outputs/Predictions_R_Group4.csv\")"
   ]
  },
  {
   "cell_type": "code",
   "execution_count": null,
   "metadata": {
    "scrolled": false
   },
   "outputs": [],
   "source": [
    "summary(Group1.total.tc5.lr0005)"
   ]
  },
  {
   "cell_type": "code",
   "execution_count": null,
   "metadata": {},
   "outputs": [],
   "source": [
    "ranks = relative.influence(Group1.total.tc5.lr0005, scale. = 'TRUE', sort. = 'TRUE')\n",
    "a = as.data.frame(ranks, col.names = , optional = FALSE)\n",
    "a = setDT(a, keep.rownames = TRUE)[]\n",
    "colnames(a) = c('Variable','influence')\n",
    "b = a\n",
    "for (i in b$Variable){\n",
    "    margianleffects = plot.gbm(Group1.total.tc5.lr0005, i.var = i,n.plots=3, \n",
    "                           write.title = T, return.grid  = T,\n",
    "                           show.contrib = T,y.label=\"Marginal effect on Host\")\n",
    "    filename = paste(\"Outputs/PartialDependence/\", i,'Group4','.csv', sep=\"\")\n",
    "    write.csv(margianleffects, file = filename)    \n",
    "}"
   ]
  },
  {
   "cell_type": "code",
   "execution_count": null,
   "metadata": {},
   "outputs": [],
   "source": [
    "write.csv(a, 'Outputs/PartialDependence/Ranks_group4.csv')"
   ]
  }
 ],
 "metadata": {
  "kernelspec": {
   "display_name": "R",
   "language": "R",
   "name": "ir"
  },
  "language_info": {
   "codemirror_mode": "r",
   "file_extension": ".r",
   "mimetype": "text/x-r-source",
   "name": "R",
   "pygments_lexer": "r",
   "version": "3.4.3"
  },
  "varInspector": {
   "cols": {
    "lenName": 16,
    "lenType": 16,
    "lenVar": 40
   },
   "kernels_config": {
    "python": {
     "delete_cmd_postfix": "",
     "delete_cmd_prefix": "del ",
     "library": "var_list.py",
     "varRefreshCmd": "print(var_dic_list())"
    },
    "r": {
     "delete_cmd_postfix": ") ",
     "delete_cmd_prefix": "rm(",
     "library": "var_list.r",
     "varRefreshCmd": "cat(var_dic_list()) "
    }
   },
   "types_to_exclude": [
    "module",
    "function",
    "builtin_function_or_method",
    "instance",
    "_Feature"
   ],
   "window_display": false
  }
 },
 "nbformat": 4,
 "nbformat_minor": 2
}
