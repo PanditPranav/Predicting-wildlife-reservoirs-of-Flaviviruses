{
 "cells": [
  {
   "cell_type": "code",
   "execution_count": 1,
   "metadata": {},
   "outputs": [],
   "source": [
    "import os as os\n",
    "os.chdir('C:\\Users\\Falco\\Desktop\\directory\\Predicting-wildlife-reservoirs-of-Flaviviruses')\n",
    "import geopandas as gpd\n",
    "from matplotlib import pyplot as plt\n",
    "import shapely\n",
    "import pandas as pd\n",
    "import numpy as np\n",
    "import rasterio\n",
    "from rasterio import features"
   ]
  },
  {
   "cell_type": "code",
   "execution_count": 2,
   "metadata": {},
   "outputs": [],
   "source": [
    "spatial = pd.read_pickle('E:\\Flavi\\Spatial_all_final.pickle') ## IUCN and BIRD life international shapefiles"
   ]
  },
  {
   "cell_type": "code",
   "execution_count": 3,
   "metadata": {},
   "outputs": [],
   "source": [
    "spatial = spatial[['binomial','geometry']]"
   ]
  },
  {
   "cell_type": "code",
   "execution_count": 4,
   "metadata": {},
   "outputs": [],
   "source": [
    "#shp_fn = 'cb_2013_us_county_20m.shp'\n",
    "rst_fn = 'D:/lvstdt/lvstd.tif'\n",
    "rst = rasterio.open(rst_fn)\n",
    "meta = rst.meta.copy()\n",
    "meta.update(compress='lzw')"
   ]
  },
  {
   "cell_type": "markdown",
   "metadata": {},
   "source": [
    "## Group 1a"
   ]
  },
  {
   "cell_type": "code",
   "execution_count": 2,
   "metadata": {},
   "outputs": [],
   "source": [
    "Group1a = pd.read_csv('Outputs/Predictions_R_Group1a2.csv')\n",
    "Group1a[\"MatchHost\"] =  Group1a.MatchHost.str.replace('[^\\x00-\\x7F]','')"
   ]
  },
  {
   "cell_type": "code",
   "execution_count": 3,
   "metadata": {},
   "outputs": [
    {
     "data": {
      "text/plain": [
       "0.012899255933996247"
      ]
     },
     "execution_count": 3,
     "metadata": {},
     "output_type": "execute_result"
    }
   ],
   "source": [
    "Group1a.PredictionProbability.quantile(.95)"
   ]
  },
  {
   "cell_type": "code",
   "execution_count": 20,
   "metadata": {},
   "outputs": [
    {
     "data": {
      "text/plain": [
       "0.004149662412142538"
      ]
     },
     "execution_count": 20,
     "metadata": {},
     "output_type": "execute_result"
    }
   ],
   "source": [
    "Group1a.PredictionProbability.quantile(.90)"
   ]
  },
  {
   "cell_type": "code",
   "execution_count": 7,
   "metadata": {
    "scrolled": true
   },
   "outputs": [
    {
     "name": "stderr",
     "output_type": "stream",
     "text": [
      "C:\\Users\\Falco\\Anaconda2\\lib\\site-packages\\ipykernel_launcher.py:4: SettingWithCopyWarning: \n",
      "A value is trying to be set on a copy of a slice from a DataFrame.\n",
      "Try using .loc[row_indexer,col_indexer] = value instead\n",
      "\n",
      "See the caveats in the documentation: http://pandas.pydata.org/pandas-docs/stable/indexing.html#indexing-view-versus-copy\n",
      "  after removing the cwd from sys.path.\n"
     ]
    }
   ],
   "source": [
    "h1a = Group1a[Group1a.PredictionProbability > Group1a.PredictionProbability.quantile(.95)]\n",
    "g1ma =spatial[spatial['binomial'].isin(h1a.MatchHost.unique().tolist())]\n",
    "ones = np.ones(len(g1ma))\n",
    "g1ma['Value'] = ones\n",
    "g1ma = g1ma.to_crs(epsg = 4326)\n",
    "g1ma['geometry'] = g1ma.geometry.buffer(0)\n",
    "g1ma.to_file(driver='ESRI Shapefile',filename=r'Revision_shapefiles/Group1a2.shp')"
   ]
  },
  {
   "cell_type": "code",
   "execution_count": 8,
   "metadata": {},
   "outputs": [],
   "source": [
    "g1ma = pd.merge(g1ma, Group1a, left_on='binomial', right_on='MatchHost', how='left')"
   ]
  },
  {
   "cell_type": "code",
   "execution_count": 9,
   "metadata": {},
   "outputs": [],
   "source": [
    "g1ma.reset_index(0, inplace= True)"
   ]
  },
  {
   "cell_type": "code",
   "execution_count": 10,
   "metadata": {
    "scrolled": true
   },
   "outputs": [
    {
     "name": "stdout",
     "output_type": "stream",
     "text": [
      "0\n"
     ]
    },
    {
     "name": "stderr",
     "output_type": "stream",
     "text": [
      "C:\\Users\\Falco\\Anaconda2\\lib\\site-packages\\rasterio\\__init__.py:160: FutureWarning: GDAL-style transforms are deprecated and will not be supported in Rasterio 1.0.\n",
      "  transform = guard_transform(transform)\n"
     ]
    },
    {
     "name": "stdout",
     "output_type": "stream",
     "text": [
      "40\n",
      "80\n"
     ]
    }
   ],
   "source": [
    "for i in range (len(g1ma)):\n",
    "    if i % 40 == 0:\n",
    "        print i\n",
    "    #print Generic.binomial[i]\n",
    "    name = str(g1ma.binomial_x[i])\n",
    "    TempDf = g1ma.iloc[i].to_frame()\n",
    "    TempDf = TempDf.transpose().reset_index()\n",
    "\n",
    "    out_fn = 'data\\SpeciesRasters/Group1aRasters2/'+ name +'.tif'\n",
    "    with rasterio.open(out_fn, 'w', **meta) as out:\n",
    "        out_arr = out.read(1)\n",
    "\n",
    "        # this is where we create a generator of geom, value pairs to use in rasterizing\n",
    "        shapes = ((geom,value) for geom, value in zip(TempDf.geometry, TempDf.Value))\n",
    "        burned = features.rasterize(shapes=shapes, fill=1, out=out_arr, transform=out.transform)\n",
    "        out.write_band(1, burned)"
   ]
  },
  {
   "cell_type": "markdown",
   "metadata": {},
   "source": [
    "## Group 2"
   ]
  },
  {
   "cell_type": "code",
   "execution_count": 4,
   "metadata": {},
   "outputs": [],
   "source": [
    "Group2 = pd.read_csv('Outputs/Predictions_R_Group22.csv')\n",
    "Group2[\"MatchHost\"] =  Group2.MatchHost.str.replace('[^\\x00-\\x7F]','')"
   ]
  },
  {
   "cell_type": "code",
   "execution_count": 5,
   "metadata": {},
   "outputs": [
    {
     "data": {
      "text/plain": [
       "0.046211927201670416"
      ]
     },
     "execution_count": 5,
     "metadata": {},
     "output_type": "execute_result"
    }
   ],
   "source": [
    "Group2.PredictionProbability.quantile(.95)"
   ]
  },
  {
   "cell_type": "code",
   "execution_count": 6,
   "metadata": {},
   "outputs": [
    {
     "data": {
      "text/plain": [
       "0.01748294902395392"
      ]
     },
     "execution_count": 6,
     "metadata": {},
     "output_type": "execute_result"
    }
   ],
   "source": [
    "Group2.PredictionProbability.quantile(.90)"
   ]
  },
  {
   "cell_type": "code",
   "execution_count": 7,
   "metadata": {},
   "outputs": [
    {
     "data": {
      "text/plain": [
       "0.3423065584692536"
      ]
     },
     "execution_count": 7,
     "metadata": {},
     "output_type": "execute_result"
    }
   ],
   "source": [
    "Group2.PredictionProbability.quantile(.99)"
   ]
  },
  {
   "cell_type": "code",
   "execution_count": 16,
   "metadata": {},
   "outputs": [
    {
     "data": {
      "text/plain": [
       "(708, 2)"
      ]
     },
     "execution_count": 16,
     "metadata": {},
     "output_type": "execute_result"
    }
   ],
   "source": [
    "\n",
    "h2 = Group2[Group2.PredictionProbability > Group2.PredictionProbability.quantile(.95)]\n",
    "g2 =spatial[spatial['binomial'].isin(h2.MatchHost.unique().tolist())]\n",
    "ones = np.ones(len(g2))\n",
    "g2.shape"
   ]
  },
  {
   "cell_type": "code",
   "execution_count": 17,
   "metadata": {},
   "outputs": [
    {
     "name": "stderr",
     "output_type": "stream",
     "text": [
      "C:\\Users\\Falco\\Anaconda2\\lib\\site-packages\\ipykernel_launcher.py:1: SettingWithCopyWarning: \n",
      "A value is trying to be set on a copy of a slice from a DataFrame.\n",
      "Try using .loc[row_indexer,col_indexer] = value instead\n",
      "\n",
      "See the caveats in the documentation: http://pandas.pydata.org/pandas-docs/stable/indexing.html#indexing-view-versus-copy\n",
      "  \"\"\"Entry point for launching an IPython kernel.\n"
     ]
    }
   ],
   "source": [
    "g2['Value'] = ones\n",
    "g2 = g2.to_crs(epsg = 4326)\n",
    "g2['geometry'] = g2.geometry.buffer(0)\n",
    "g2.to_file(driver='ESRI Shapefile',filename=r'Revision_shapefiles/Group22.shp')"
   ]
  },
  {
   "cell_type": "code",
   "execution_count": 18,
   "metadata": {},
   "outputs": [],
   "source": [
    "g2.reset_index(0, inplace= True)\n",
    "#g2.head()"
   ]
  },
  {
   "cell_type": "code",
   "execution_count": 19,
   "metadata": {
    "scrolled": true
   },
   "outputs": [
    {
     "name": "stdout",
     "output_type": "stream",
     "text": [
      "0\n",
      "50\n",
      "100\n",
      "150\n",
      "200\n",
      "250\n",
      "300\n",
      "350\n",
      "400\n",
      "450\n",
      "500\n",
      "550\n",
      "600\n",
      "650\n",
      "700\n"
     ]
    }
   ],
   "source": [
    "for i in range (len(g2)):\n",
    "    if i % 50 == 0:\n",
    "        print i\n",
    "    #print Generic.binomial[i]\n",
    "    name = str(g2.binomial[i])\n",
    "    \n",
    "    TempDf = g2.iloc[i].to_frame()\n",
    "    TempDf = TempDf.transpose().reset_index()\n",
    "\n",
    "    out_fn = 'data\\SpeciesRasters/Group2Rasters2/'+ name +'.tif'\n",
    "    with rasterio.open(out_fn, 'w', **meta) as out:\n",
    "        out_arr = out.read(1)\n",
    "\n",
    "        # this is where we create a generator of geom, value pairs to use in rasterizing\n",
    "        shapes = ((geom,value) for geom, value in zip(TempDf.geometry, TempDf.Value))\n",
    "        burned = features.rasterize(shapes=shapes, fill=1, out=out_arr, transform=out.transform)\n",
    "        out.write_band(1, burned)"
   ]
  },
  {
   "cell_type": "markdown",
   "metadata": {},
   "source": [
    "# Group 2 PCR only"
   ]
  },
  {
   "cell_type": "code",
   "execution_count": 5,
   "metadata": {},
   "outputs": [
    {
     "data": {
      "text/plain": [
       "(708, 2)"
      ]
     },
     "execution_count": 5,
     "metadata": {},
     "output_type": "execute_result"
    }
   ],
   "source": [
    "Group2 = pd.read_csv('Outputs/Predictions_R_Group22_PCR_only.csv')\n",
    "Group2[\"MatchHost\"] =  Group2.MatchHost.str.replace('[^\\x00-\\x7F]','')\n",
    "h2 = Group2[Group2.PredictionProbability > Group2.PredictionProbability.quantile(.95)]\n",
    "g2 =spatial[spatial['binomial'].isin(h2.MatchHost.unique().tolist())]\n",
    "ones = np.ones(len(g2))\n",
    "g2.shape"
   ]
  },
  {
   "cell_type": "code",
   "execution_count": 6,
   "metadata": {},
   "outputs": [
    {
     "name": "stderr",
     "output_type": "stream",
     "text": [
      "C:\\Users\\Falco\\Anaconda2\\lib\\site-packages\\ipykernel_launcher.py:1: SettingWithCopyWarning: \n",
      "A value is trying to be set on a copy of a slice from a DataFrame.\n",
      "Try using .loc[row_indexer,col_indexer] = value instead\n",
      "\n",
      "See the caveats in the documentation: http://pandas.pydata.org/pandas-docs/stable/indexing.html#indexing-view-versus-copy\n",
      "  \"\"\"Entry point for launching an IPython kernel.\n"
     ]
    }
   ],
   "source": [
    "g2['Value'] = ones\n",
    "g2 = g2.to_crs(epsg = 4326)\n",
    "g2['geometry'] = g2.geometry.buffer(0)\n",
    "g2.to_file(driver='ESRI Shapefile',filename=r'Revision_shapefiles/Group22_PCR.shp')"
   ]
  },
  {
   "cell_type": "code",
   "execution_count": 7,
   "metadata": {},
   "outputs": [],
   "source": [
    "g2.reset_index(0, inplace= True)\n",
    "#g2.head()"
   ]
  },
  {
   "cell_type": "code",
   "execution_count": 8,
   "metadata": {},
   "outputs": [
    {
     "name": "stdout",
     "output_type": "stream",
     "text": [
      "0\n"
     ]
    },
    {
     "name": "stderr",
     "output_type": "stream",
     "text": [
      "C:\\Users\\Falco\\Anaconda2\\lib\\site-packages\\rasterio\\__init__.py:160: FutureWarning: GDAL-style transforms are deprecated and will not be supported in Rasterio 1.0.\n",
      "  transform = guard_transform(transform)\n"
     ]
    },
    {
     "name": "stdout",
     "output_type": "stream",
     "text": [
      "50\n",
      "100\n",
      "150\n",
      "200\n",
      "250\n",
      "300\n",
      "350\n",
      "400\n",
      "450\n",
      "500\n",
      "550\n",
      "600\n",
      "650\n",
      "700\n"
     ]
    }
   ],
   "source": [
    "for i in range (len(g2)):\n",
    "    if i % 50 == 0:\n",
    "        print i\n",
    "    #print Generic.binomial[i]\n",
    "    name = str(g2.binomial[i])\n",
    "    \n",
    "    TempDf = g2.iloc[i].to_frame()\n",
    "    TempDf = TempDf.transpose().reset_index()\n",
    "\n",
    "    out_fn = 'data\\SpeciesRasters/Group2Rasters2_PCR/'+ name +'.tif'\n",
    "    with rasterio.open(out_fn, 'w', **meta) as out:\n",
    "        out_arr = out.read(1)\n",
    "\n",
    "        # this is where we create a generator of geom, value pairs to use in rasterizing\n",
    "        shapes = ((geom,value) for geom, value in zip(TempDf.geometry, TempDf.Value))\n",
    "        burned = features.rasterize(shapes=shapes, fill=1, out=out_arr, transform=out.transform)\n",
    "        out.write_band(1, burned)"
   ]
  },
  {
   "cell_type": "markdown",
   "metadata": {
    "collapsed": true
   },
   "source": [
    "# Group 3"
   ]
  },
  {
   "cell_type": "code",
   "execution_count": 8,
   "metadata": {},
   "outputs": [],
   "source": [
    "Group3 = pd.read_csv('Outputs/Predictions_R_Group3.csv')\n",
    "Group3[\"MatchHost\"] =  Group3.MatchHost.str.replace('[^\\x00-\\x7F]','')"
   ]
  },
  {
   "cell_type": "code",
   "execution_count": 9,
   "metadata": {},
   "outputs": [
    {
     "data": {
      "text/plain": [
       "0.0047199697552986145"
      ]
     },
     "execution_count": 9,
     "metadata": {},
     "output_type": "execute_result"
    }
   ],
   "source": [
    "Group3.PredictionProbability.quantile(.95)"
   ]
  },
  {
   "cell_type": "code",
   "execution_count": 10,
   "metadata": {},
   "outputs": [
    {
     "data": {
      "text/plain": [
       "0.0019789091384486666"
      ]
     },
     "execution_count": 10,
     "metadata": {},
     "output_type": "execute_result"
    }
   ],
   "source": [
    "Group3.PredictionProbability.quantile(.90)"
   ]
  },
  {
   "cell_type": "code",
   "execution_count": 20,
   "metadata": {},
   "outputs": [
    {
     "data": {
      "text/plain": [
       "(569, 2)"
      ]
     },
     "execution_count": 20,
     "metadata": {},
     "output_type": "execute_result"
    }
   ],
   "source": [
    "Group3 = pd.read_csv('Outputs/Predictions_R_Group3.csv')\n",
    "Group3[\"MatchHost\"] =  Group3.MatchHost.str.replace('[^\\x00-\\x7F]','')\n",
    "h3 = Group3[Group3.PredictionProbability > Group3.PredictionProbability.quantile(.95)]\n",
    "g3 =spatial[spatial['binomial'].isin(h3.MatchHost.unique().tolist())]\n",
    "ones = np.ones(len(g3))\n",
    "g3.shape"
   ]
  },
  {
   "cell_type": "code",
   "execution_count": 21,
   "metadata": {},
   "outputs": [
    {
     "name": "stderr",
     "output_type": "stream",
     "text": [
      "C:\\Users\\Falco\\Anaconda2\\lib\\site-packages\\ipykernel_launcher.py:1: SettingWithCopyWarning: \n",
      "A value is trying to be set on a copy of a slice from a DataFrame.\n",
      "Try using .loc[row_indexer,col_indexer] = value instead\n",
      "\n",
      "See the caveats in the documentation: http://pandas.pydata.org/pandas-docs/stable/indexing.html#indexing-view-versus-copy\n",
      "  \"\"\"Entry point for launching an IPython kernel.\n"
     ]
    }
   ],
   "source": [
    "g3['Value'] = ones\n",
    "g3 = g3.to_crs(epsg = 4326)\n",
    "g3['geometry'] = g3.geometry.buffer(0)\n",
    "g3.to_file(driver='ESRI Shapefile',filename=r'Revision_shapefiles/Group3.shp')"
   ]
  },
  {
   "cell_type": "code",
   "execution_count": 22,
   "metadata": {},
   "outputs": [],
   "source": [
    "#g3 = gpd.read_file('Group3.shp')"
   ]
  },
  {
   "cell_type": "code",
   "execution_count": 23,
   "metadata": {},
   "outputs": [],
   "source": [
    "g3.reset_index(0, inplace= True)"
   ]
  },
  {
   "cell_type": "code",
   "execution_count": 24,
   "metadata": {},
   "outputs": [
    {
     "name": "stdout",
     "output_type": "stream",
     "text": [
      "0\n",
      "50\n",
      "100\n",
      "150\n",
      "200\n",
      "250\n",
      "300\n",
      "350\n",
      "400\n",
      "450\n",
      "500\n",
      "550\n"
     ]
    }
   ],
   "source": [
    "for i in range (len(g3)):\n",
    "    if i % 50 == 0:\n",
    "        print i\n",
    "    #print Generic.binomial[i]\n",
    "    name = str(g3.binomial[i])\n",
    "    \n",
    "    TempDf = g3.iloc[i].to_frame()\n",
    "    TempDf = TempDf.transpose().reset_index()\n",
    "\n",
    "    out_fn = 'data\\SpeciesRasters/Group3Rasters/'+ name +'.tif'\n",
    "    with rasterio.open(out_fn, 'w', **meta) as out:\n",
    "        out_arr = out.read(1)\n",
    "\n",
    "        # this is where we create a generator of geom, value pairs to use in rasterizing\n",
    "        shapes = ((geom,value) for geom, value in zip(TempDf.geometry, TempDf.Value))\n",
    "        burned = features.rasterize(shapes=shapes, fill=1, out=out_arr, transform=out.transform)\n",
    "        out.write_band(1, burned)"
   ]
  },
  {
   "cell_type": "markdown",
   "metadata": {},
   "source": [
    "# Group 4"
   ]
  },
  {
   "cell_type": "code",
   "execution_count": 11,
   "metadata": {},
   "outputs": [],
   "source": [
    "Group4 = pd.read_csv('Outputs/Predictions_R_Group4.csv')\n",
    "Group4[\"MatchHost\"] =  Group4.MatchHost.str.replace('[^\\x00-\\x7F]','')"
   ]
  },
  {
   "cell_type": "code",
   "execution_count": 12,
   "metadata": {},
   "outputs": [
    {
     "data": {
      "text/plain": [
       "0.027568383828830076"
      ]
     },
     "execution_count": 12,
     "metadata": {},
     "output_type": "execute_result"
    }
   ],
   "source": [
    "Group4.PredictionProbability.quantile(.95)"
   ]
  },
  {
   "cell_type": "code",
   "execution_count": 13,
   "metadata": {},
   "outputs": [
    {
     "data": {
      "text/plain": [
       "0.012990182356786582"
      ]
     },
     "execution_count": 13,
     "metadata": {},
     "output_type": "execute_result"
    }
   ],
   "source": [
    "Group4.PredictionProbability.quantile(.90)"
   ]
  },
  {
   "cell_type": "code",
   "execution_count": 25,
   "metadata": {},
   "outputs": [
    {
     "data": {
      "text/plain": [
       "(56, 2)"
      ]
     },
     "execution_count": 25,
     "metadata": {},
     "output_type": "execute_result"
    }
   ],
   "source": [
    "Group4 = pd.read_csv('Outputs/Predictions_R_Group4.csv')\n",
    "Group4[\"MatchHost\"] =  Group4.MatchHost.str.replace('[^\\x00-\\x7F]','')\n",
    "h4 = Group4[Group4.PredictionProbability > Group4.PredictionProbability.quantile(.95)]\n",
    "g4 =spatial[spatial['binomial'].isin(h4.MatchHost.unique().tolist())]\n",
    "ones = np.ones(len(g4))\n",
    "g4.shape"
   ]
  },
  {
   "cell_type": "code",
   "execution_count": 26,
   "metadata": {},
   "outputs": [
    {
     "name": "stderr",
     "output_type": "stream",
     "text": [
      "C:\\Users\\Falco\\Anaconda2\\lib\\site-packages\\ipykernel_launcher.py:1: SettingWithCopyWarning: \n",
      "A value is trying to be set on a copy of a slice from a DataFrame.\n",
      "Try using .loc[row_indexer,col_indexer] = value instead\n",
      "\n",
      "See the caveats in the documentation: http://pandas.pydata.org/pandas-docs/stable/indexing.html#indexing-view-versus-copy\n",
      "  \"\"\"Entry point for launching an IPython kernel.\n"
     ]
    }
   ],
   "source": [
    "g4['Value'] = ones\n",
    "g4 = g4.to_crs(epsg = 4326)\n",
    "g4['geometry'] = g4.geometry.buffer(0)\n",
    "g4.to_file(driver='ESRI Shapefile',filename=r'Revision_shapefiles/Group4.shp')"
   ]
  },
  {
   "cell_type": "code",
   "execution_count": 27,
   "metadata": {},
   "outputs": [],
   "source": [
    "#g4 = gpd.read_file('Group4.shp')"
   ]
  },
  {
   "cell_type": "code",
   "execution_count": 28,
   "metadata": {},
   "outputs": [],
   "source": [
    "g4.reset_index(0, inplace= True)"
   ]
  },
  {
   "cell_type": "code",
   "execution_count": 29,
   "metadata": {},
   "outputs": [
    {
     "data": {
      "text/html": [
       "<div>\n",
       "<style scoped>\n",
       "    .dataframe tbody tr th:only-of-type {\n",
       "        vertical-align: middle;\n",
       "    }\n",
       "\n",
       "    .dataframe tbody tr th {\n",
       "        vertical-align: top;\n",
       "    }\n",
       "\n",
       "    .dataframe thead th {\n",
       "        text-align: right;\n",
       "    }\n",
       "</style>\n",
       "<table border=\"1\" class=\"dataframe\">\n",
       "  <thead>\n",
       "    <tr style=\"text-align: right;\">\n",
       "      <th></th>\n",
       "      <th>index</th>\n",
       "      <th>binomial</th>\n",
       "      <th>geometry</th>\n",
       "      <th>Value</th>\n",
       "    </tr>\n",
       "  </thead>\n",
       "  <tbody>\n",
       "    <tr>\n",
       "      <th>0</th>\n",
       "      <td>56</td>\n",
       "      <td>Aethalops aequalis</td>\n",
       "      <td>(POLYGON ((115.8714008336816 2.96083640937286,...</td>\n",
       "      <td>1.0</td>\n",
       "    </tr>\n",
       "    <tr>\n",
       "      <th>1</th>\n",
       "      <td>283</td>\n",
       "      <td>Artibeus jamaicensis</td>\n",
       "      <td>(POLYGON ((-61.07291705337929 14.8428384756152...</td>\n",
       "      <td>1.0</td>\n",
       "    </tr>\n",
       "    <tr>\n",
       "      <th>2</th>\n",
       "      <td>284</td>\n",
       "      <td>Artibeus lituratus</td>\n",
       "      <td>(POLYGON ((-108.7359999994004 25.4050355925186...</td>\n",
       "      <td>1.0</td>\n",
       "    </tr>\n",
       "    <tr>\n",
       "      <th>3</th>\n",
       "      <td>299</td>\n",
       "      <td>Asellia tridens</td>\n",
       "      <td>(POLYGON ((49.24635634786722 30.45191798542675...</td>\n",
       "      <td>1.0</td>\n",
       "    </tr>\n",
       "    <tr>\n",
       "      <th>4</th>\n",
       "      <td>564</td>\n",
       "      <td>Carollia brevicauda</td>\n",
       "      <td>POLYGON ((-57.13760000003992 5.835935592553597...</td>\n",
       "      <td>1.0</td>\n",
       "    </tr>\n",
       "  </tbody>\n",
       "</table>\n",
       "</div>"
      ],
      "text/plain": [
       "   index              binomial  \\\n",
       "0     56    Aethalops aequalis   \n",
       "1    283  Artibeus jamaicensis   \n",
       "2    284    Artibeus lituratus   \n",
       "3    299       Asellia tridens   \n",
       "4    564   Carollia brevicauda   \n",
       "\n",
       "                                            geometry  Value  \n",
       "0  (POLYGON ((115.8714008336816 2.96083640937286,...    1.0  \n",
       "1  (POLYGON ((-61.07291705337929 14.8428384756152...    1.0  \n",
       "2  (POLYGON ((-108.7359999994004 25.4050355925186...    1.0  \n",
       "3  (POLYGON ((49.24635634786722 30.45191798542675...    1.0  \n",
       "4  POLYGON ((-57.13760000003992 5.835935592553597...    1.0  "
      ]
     },
     "execution_count": 29,
     "metadata": {},
     "output_type": "execute_result"
    }
   ],
   "source": [
    "g4.head()"
   ]
  },
  {
   "cell_type": "code",
   "execution_count": 30,
   "metadata": {},
   "outputs": [
    {
     "name": "stdout",
     "output_type": "stream",
     "text": [
      "0\n",
      "50\n"
     ]
    }
   ],
   "source": [
    "for i in range (len(g4)):\n",
    "    if i % 50 == 0:\n",
    "        print i\n",
    "    #print Generic.binomial[i]\n",
    "    name = str(g4.binomial[i])\n",
    "    \n",
    "    TempDf = g4.iloc[i].to_frame()\n",
    "    TempDf = TempDf.transpose().reset_index()\n",
    "\n",
    "    out_fn = 'data\\SpeciesRasters/Group4Rasters/'+ name +'.tif'\n",
    "    with rasterio.open(out_fn, 'w', **meta) as out:\n",
    "        out_arr = out.read(1)\n",
    "\n",
    "        # this is where we create a generator of geom, value pairs to use in rasterizing\n",
    "        shapes = ((geom,value) for geom, value in zip(TempDf.geometry, TempDf.Value))\n",
    "        burned = features.rasterize(shapes=shapes, fill=1, out=out_arr, transform=out.transform)\n",
    "        out.write_band(1, burned)"
   ]
  },
  {
   "cell_type": "markdown",
   "metadata": {},
   "source": [
    "# Group 5"
   ]
  },
  {
   "cell_type": "code",
   "execution_count": 14,
   "metadata": {},
   "outputs": [],
   "source": [
    "Group5 = pd.read_csv('Outputs/Predictions_R_Group5.csv')\n",
    "Group5[\"MatchHost\"] =  Group5.MatchHost.str.replace('[^\\x00-\\x7F]','')"
   ]
  },
  {
   "cell_type": "code",
   "execution_count": 15,
   "metadata": {},
   "outputs": [
    {
     "data": {
      "text/plain": [
       "0.009401517882255602"
      ]
     },
     "execution_count": 15,
     "metadata": {},
     "output_type": "execute_result"
    }
   ],
   "source": [
    "Group5.PredictionProbability.quantile(.95)"
   ]
  },
  {
   "cell_type": "code",
   "execution_count": 16,
   "metadata": {},
   "outputs": [
    {
     "data": {
      "text/plain": [
       "0.0035451069961270013"
      ]
     },
     "execution_count": 16,
     "metadata": {},
     "output_type": "execute_result"
    }
   ],
   "source": [
    "Group5.PredictionProbability.quantile(.90)"
   ]
  },
  {
   "cell_type": "code",
   "execution_count": 11,
   "metadata": {},
   "outputs": [
    {
     "name": "stderr",
     "output_type": "stream",
     "text": [
      "C:\\Users\\Falco\\Anaconda2\\lib\\site-packages\\ipykernel_launcher.py:7: SettingWithCopyWarning: \n",
      "A value is trying to be set on a copy of a slice from a DataFrame.\n",
      "Try using .loc[row_indexer,col_indexer] = value instead\n",
      "\n",
      "See the caveats in the documentation: http://pandas.pydata.org/pandas-docs/stable/indexing.html#indexing-view-versus-copy\n",
      "  import sys\n"
     ]
    }
   ],
   "source": [
    "Group5 = pd.read_csv('Outputs/Predictions_R_Group5.csv')\n",
    "Group5[\"MatchHost\"] =  Group5.MatchHost.str.replace('[^\\x00-\\x7F]','')\n",
    "h5 = Group5[Group5.PredictionProbability > Group5.PredictionProbability.quantile(.95)]\n",
    "g5 =spatial[spatial['binomial'].isin(h5.MatchHost.unique().tolist())]\n",
    "ones = np.ones(len(g5))\n",
    "\n",
    "g5['Value'] = ones\n",
    "g5 = g5.to_crs(epsg = 4326)\n",
    "g5['geometry'] = g5.geometry.buffer(0)\n",
    "g5.to_file(driver='ESRI Shapefile',filename=r'Revision_shapefiles/Group5.shp')"
   ]
  },
  {
   "cell_type": "code",
   "execution_count": 12,
   "metadata": {},
   "outputs": [],
   "source": [
    "#g5 = gpd.read_file('Group5.shp')"
   ]
  },
  {
   "cell_type": "code",
   "execution_count": 13,
   "metadata": {},
   "outputs": [],
   "source": [
    "g5.reset_index(0, inplace= True)"
   ]
  },
  {
   "cell_type": "code",
   "execution_count": 14,
   "metadata": {},
   "outputs": [
    {
     "name": "stdout",
     "output_type": "stream",
     "text": [
      "0\n",
      "50\n",
      "100\n",
      "150\n"
     ]
    }
   ],
   "source": [
    "for i in range (len(g5)):\n",
    "    if i % 50 == 0:\n",
    "        print i\n",
    "    #print Generic.binomial[i]\n",
    "    name = str(g5.binomial[i])\n",
    "    \n",
    "    TempDf = g5.iloc[i].to_frame()\n",
    "    TempDf = TempDf.transpose().reset_index()\n",
    "\n",
    "    out_fn = 'data\\SpeciesRasters/Group5Rasters/'+ name +'.tif'\n",
    "    with rasterio.open(out_fn, 'w', **meta) as out:\n",
    "        out_arr = out.read(1)\n",
    "\n",
    "        # this is where we create a generator of geom, value pairs to use in rasterizing\n",
    "        shapes = ((geom,value) for geom, value in zip(TempDf.geometry, TempDf.Value))\n",
    "        burned = features.rasterize(shapes=shapes, fill=1, out=out_arr, transform=out.transform)\n",
    "        out.write_band(1, burned)"
   ]
  },
  {
   "cell_type": "markdown",
   "metadata": {},
   "source": [
    "# Group 6"
   ]
  },
  {
   "cell_type": "code",
   "execution_count": 17,
   "metadata": {},
   "outputs": [],
   "source": [
    "Group6 = pd.read_csv('Outputs/Predictions_R_Group6.csv')\n",
    "Group6[\"MatchHost\"] =  Group6.MatchHost.str.replace('[^\\x00-\\x7F]','')"
   ]
  },
  {
   "cell_type": "code",
   "execution_count": 18,
   "metadata": {},
   "outputs": [
    {
     "data": {
      "text/plain": [
       "0.0031019414742902754"
      ]
     },
     "execution_count": 18,
     "metadata": {},
     "output_type": "execute_result"
    }
   ],
   "source": [
    "Group6.PredictionProbability.quantile(.95)"
   ]
  },
  {
   "cell_type": "code",
   "execution_count": 19,
   "metadata": {},
   "outputs": [
    {
     "data": {
      "text/plain": [
       "0.00200298635320534"
      ]
     },
     "execution_count": 19,
     "metadata": {},
     "output_type": "execute_result"
    }
   ],
   "source": [
    "Group6.PredictionProbability.quantile(.90)"
   ]
  },
  {
   "cell_type": "code",
   "execution_count": 35,
   "metadata": {},
   "outputs": [
    {
     "name": "stderr",
     "output_type": "stream",
     "text": [
      "C:\\Users\\Falco\\Anaconda2\\lib\\site-packages\\ipykernel_launcher.py:7: SettingWithCopyWarning: \n",
      "A value is trying to be set on a copy of a slice from a DataFrame.\n",
      "Try using .loc[row_indexer,col_indexer] = value instead\n",
      "\n",
      "See the caveats in the documentation: http://pandas.pydata.org/pandas-docs/stable/indexing.html#indexing-view-versus-copy\n",
      "  import sys\n"
     ]
    }
   ],
   "source": [
    "Group6 = pd.read_csv('Outputs/Predictions_R_Group6.csv')\n",
    "Group6[\"MatchHost\"] =  Group6.MatchHost.str.replace('[^\\x00-\\x7F]','')\n",
    "h6 = Group6[Group6.PredictionProbability > Group6.PredictionProbability.quantile(.95)]\n",
    "g6 =spatial[spatial['binomial'].isin(h6.MatchHost.unique().tolist())]\n",
    "ones = np.ones(len(g6))\n",
    "\n",
    "g6['Value'] = ones\n",
    "g6 = g6.to_crs(epsg = 4326)\n",
    "g6['geometry'] = g6.geometry.buffer(0)\n",
    "g6.to_file(driver='ESRI Shapefile',filename=r'Revision_shapefiles/Group6.shp')"
   ]
  },
  {
   "cell_type": "code",
   "execution_count": 36,
   "metadata": {},
   "outputs": [],
   "source": [
    "#g6 = gpd.read_file('Group6.shp')"
   ]
  },
  {
   "cell_type": "code",
   "execution_count": 37,
   "metadata": {},
   "outputs": [],
   "source": [
    "g6.reset_index(0, inplace= True)"
   ]
  },
  {
   "cell_type": "code",
   "execution_count": 38,
   "metadata": {},
   "outputs": [
    {
     "name": "stdout",
     "output_type": "stream",
     "text": [
      "0\n",
      "50\n",
      "100\n",
      "150\n",
      "200\n",
      "250\n",
      "300\n",
      "350\n",
      "400\n"
     ]
    }
   ],
   "source": [
    "for i in range (len(g6)):\n",
    "    if i % 50 == 0:\n",
    "        print i\n",
    "    #print Generic.binomial[i]\n",
    "    name = str(g6.binomial[i])\n",
    "    \n",
    "    TempDf = g6.iloc[i].to_frame()\n",
    "    TempDf = TempDf.transpose().reset_index()\n",
    "\n",
    "    out_fn = 'data\\SpeciesRasters/Group6Rasters/'+ name +'.tif'\n",
    "    with rasterio.open(out_fn, 'w', **meta) as out:\n",
    "        out_arr = out.read(1)\n",
    "\n",
    "        # this is where we create a generator of geom, value pairs to use in rasterizing\n",
    "        shapes = ((geom,value) for geom, value in zip(TempDf.geometry, TempDf.Value))\n",
    "        burned = features.rasterize(shapes=shapes, fill=1, out=out_arr, transform=out.transform)\n",
    "        out.write_band(1, burned)"
   ]
  }
 ],
 "metadata": {
  "kernelspec": {
   "display_name": "Python 2",
   "language": "python",
   "name": "python2"
  },
  "language_info": {
   "codemirror_mode": {
    "name": "ipython",
    "version": 2
   },
   "file_extension": ".py",
   "mimetype": "text/x-python",
   "name": "python",
   "nbconvert_exporter": "python",
   "pygments_lexer": "ipython2",
   "version": "2.7.14"
  },
  "varInspector": {
   "cols": {
    "lenName": 16,
    "lenType": 16,
    "lenVar": 40
   },
   "kernels_config": {
    "python": {
     "delete_cmd_postfix": "",
     "delete_cmd_prefix": "del ",
     "library": "var_list.py",
     "varRefreshCmd": "print(var_dic_list())"
    },
    "r": {
     "delete_cmd_postfix": ") ",
     "delete_cmd_prefix": "rm(",
     "library": "var_list.r",
     "varRefreshCmd": "cat(var_dic_list()) "
    }
   },
   "types_to_exclude": [
    "module",
    "function",
    "builtin_function_or_method",
    "instance",
    "_Feature"
   ],
   "window_display": false
  }
 },
 "nbformat": 4,
 "nbformat_minor": 2
}
