{
 "cells": [
  {
   "cell_type": "code",
   "execution_count": null,
   "metadata": {},
   "outputs": [],
   "source": [
    "import os as os\n",
    "os.chdir('C:\\Users\\Falco\\Desktop\\directory\\Predicting-wildlife-reservoirs-of-Flaviviruses')\n",
    "import geopandas as gpd\n",
    "from matplotlib import pyplot as plt\n",
    "import pandas as pd\n",
    "import numpy as np\n",
    "% run Settings.py"
   ]
  },
  {
   "cell_type": "code",
   "execution_count": null,
   "metadata": {},
   "outputs": [],
   "source": [
    "g = pd.read_csv('Outputs/PartialDependence/Ranks_group4.csv')\n",
    "#g2 = pd.read_csv('Outputs/PartialDependence/Ranks_group2.csv')"
   ]
  },
  {
   "cell_type": "code",
   "execution_count": null,
   "metadata": {},
   "outputs": [],
   "source": [
    "g = g.head(10)"
   ]
  },
  {
   "cell_type": "code",
   "execution_count": null,
   "metadata": {},
   "outputs": [],
   "source": [
    "#g2 = g2.head(8)"
   ]
  },
  {
   "cell_type": "code",
   "execution_count": null,
   "metadata": {},
   "outputs": [],
   "source": [
    "g.head(10)"
   ]
  },
  {
   "cell_type": "code",
   "execution_count": null,
   "metadata": {},
   "outputs": [],
   "source": [
    "import glob"
   ]
  },
  {
   "cell_type": "code",
   "execution_count": null,
   "metadata": {},
   "outputs": [],
   "source": [
    "path = 'Outputs/PartialDependence/'\n",
    "csvFiles = glob.glob(path + \"*.csv\")\n",
    "frames_dict = {}\n",
    "\n",
    "for files in csvFiles:\n",
    "    name  = str(files).replace('.csv','')\n",
    "    name  = str(name).replace(\"Outputs/PartialDependence\\\\\", '')\n",
    "    frames_dict[name] = pd.read_csv(files)\n",
    "    #df.name = str(name).replace(\"Outputs/PartialDependence\\\\\", '')\n",
    "#list(frames_dict.keys())"
   ]
  },
  {
   "cell_type": "code",
   "execution_count": null,
   "metadata": {},
   "outputs": [],
   "source": [
    "a = frames_dict['Ranks_group4'].head(15)\n",
    "a.set_index('Variable', inplace= True)\n",
    "#datag1a = pd.read_csv('Outputs/dataGroup1a.csv')\n",
    "datag = pd.read_csv('Outputs/PartialDependence/Group4Data_forPartial.csv')"
   ]
  },
  {
   "cell_type": "code",
   "execution_count": null,
   "metadata": {},
   "outputs": [],
   "source": [
    "a"
   ]
  },
  {
   "cell_type": "code",
   "execution_count": null,
   "metadata": {},
   "outputs": [],
   "source": [
    "x11 = frames_dict['Shape_Area_logGroup4']['Shape_Area_log']\n",
    "y11 = frames_dict['Shape_Area_logGroup4']['y']\n",
    "\n",
    "x22 = frames_dict['PubmedHits_lnGroup4']['PubmedHits_ln']\n",
    "y22 = frames_dict['PubmedHits_lnGroup4']['y']\n",
    "\n",
    "x33 = frames_dict['BodyMass_lnGroup4']['BodyMass_ln']\n",
    "y33 = frames_dict['BodyMass_lnGroup4']['y']\n",
    "\n",
    "x44 = frames_dict['minlongGroup4']['minlong']\n",
    "y44 = frames_dict['minlongGroup4']['y']\n",
    "\n",
    "x55 = frames_dict['HuPop_mean_logGroup4']['HuPop_mean_log']\n",
    "y55 = frames_dict['HuPop_mean_logGroup4']['y']\n",
    "\n",
    "x66 = frames_dict['centroidX_logGroup4']['centroidX_log']\n",
    "y66 = frames_dict['centroidX_logGroup4']['y']\n",
    "\n",
    "x88 = frames_dict['Bio3_meanGroup4']['Bio3_mean']\n",
    "y88 = frames_dict['Bio3_meanGroup4']['y']\n",
    "\n",
    "x99 = frames_dict['minlatGroup4']['minlat']\n",
    "y99 = frames_dict['minlatGroup4']['y']\n",
    "\n",
    "x100 = frames_dict['maxlong_logGroup4']['maxlong_log']\n",
    "y100 = frames_dict['maxlong_logGroup4']['y']"
   ]
  },
  {
   "cell_type": "code",
   "execution_count": null,
   "metadata": {},
   "outputs": [],
   "source": [
    "frames_dict['Population.trendGroup4'][\"Population.trend\"].unique()"
   ]
  },
  {
   "cell_type": "code",
   "execution_count": null,
   "metadata": {},
   "outputs": [],
   "source": [
    "datag['Population.trend'].unique()"
   ]
  },
  {
   "cell_type": "code",
   "execution_count": null,
   "metadata": {},
   "outputs": [],
   "source": [
    "a.head(10)"
   ]
  },
  {
   "cell_type": "code",
   "execution_count": null,
   "metadata": {},
   "outputs": [],
   "source": [
    "g1names= ['log distribution area\\n($km^2$)',\n",
    "          'log PubMed hits',\n",
    "          'log body mass\\n(g)',\n",
    "          'westernmost bound$^\\circ$',\n",
    "          'log human population density\\n($km^{-2}$)',\n",
    "          'log centroid longitude$^\\circ$',\n",
    "          'population trend',\n",
    "          'mean isothermality',\n",
    "          'southernmost bound$^\\circ$', \n",
    "          'log easternmost bound$^\\circ$',\n",
    "          ]\n",
    "\n",
    "plt.rcParams['font.size'] = 10\n",
    "plt.rcParams['font.family'] = 'Times New Roman'\n",
    "plt.rcParams['axes.labelsize'] = 12\n",
    "plt.rcParams['legend.fontsize'] = 8\n",
    "plt.rcParams['xtick.labelsize'] = 10\n",
    "plt.rcParams['ytick.labelsize'] = 8\n",
    "plt.rcParams['figure.figsize'] = (16, 9)\n",
    "\n",
    "sns.set_style('white')\n",
    "#fig = plt.figure(figsize=(12,5), dpi=300)\n",
    "f, ((ax1, ax2, ax3, ax4, ax5),(ax6, ax7, ax8, ax9, ax10)) = plt.subplots(2, 5)\n",
    "alpha = 0.2\n",
    "\n",
    "ax1.plot(x11, y11)\n",
    "ax2.plot(x22, y22)\n",
    "ax3.plot(x33, y33)\n",
    "ax4.plot(x44, y44)\n",
    "ax5.plot(x55, y55)\n",
    "ax6.plot(x66, y66)\n",
    "sns.swarmplot(x=\"Population.trend\", y=\"y\", data=frames_dict['Population.trendGroup4'],\n",
    "              ax = ax7, size  = 10, color='b',\n",
    "             order = ['stable','decreasing', 'increasing', 'unknown'])\n",
    "\n",
    "ax8.plot(x88, y88)\n",
    "ax9.plot(x99, y99)\n",
    "ax10.plot(x100, y100)\n",
    "\n",
    "\n",
    "\n",
    "ax1.set_xlabel(g1names[0]); ax2.set_xlabel(g1names[1]); ax3.set_xlabel(g1names[2]);ax4.set_xlabel(g1names[3]);\n",
    "ax5.set_xlabel(g1names[4]); ax6.set_xlabel(g1names[5]); ax7.set_xlabel(g1names[6]);ax8.set_xlabel(g1names[7]);\n",
    "ax9.set_xlabel(g1names[8]);ax10.set_xlabel(g1names[9])\n",
    "\n",
    "ax1.set_ylabel('partial dependence of variable on prediction')\n",
    "ax6.set_ylabel('partial dependence of variable on prediction')\n",
    "ax1.set_title('Rank 1', fontsize = 11)\n",
    "ax2.set_title('Rank 2', fontsize = 11)\n",
    "ax3.set_title('Rank 3', fontsize = 11)\n",
    "ax4.set_title('Rank 4', fontsize = 11)\n",
    "ax5.set_title('Rank 5', fontsize = 11)\n",
    "ax6.set_title('Rank 6', fontsize = 11)\n",
    "ax7.set_title('Rank 7', fontsize = 11)\n",
    "ax8.set_title('Rank 8', fontsize = 11)\n",
    "ax9.set_title('Rank 9', fontsize = 11)\n",
    "ax10.set_title('Rank 10', fontsize = 11)\n",
    "\n",
    "\n",
    "\n",
    "ax11 = ax1.twinx()\n",
    "ax11.hist(datag.Shape_Area_log.dropna(), alpha=alpha, color='green')\n",
    "\n",
    "ax22 = ax2.twinx()\n",
    "ax22.hist(datag.PubmedHits_ln.dropna(), alpha=alpha, color='green')\n",
    "\n",
    "ax33 = ax3.twinx()\n",
    "ax33.hist(datag.BodyMass_ln.dropna(), alpha=alpha, color='green')\n",
    "\n",
    "ax44 = ax4.twinx()\n",
    "ax44.hist(datag.minlong.dropna(), alpha = alpha, color = 'green')\n",
    "\n",
    "ax55 = ax5.twinx()\n",
    "ax55.hist(datag.HuPop_mean_log.dropna(), alpha = alpha, color = 'green')\n",
    "\n",
    "ax66 = ax6.twinx()\n",
    "ax66.hist(datag.centroidX_log.dropna(),alpha=alpha, color='green', )\n",
    "\n",
    "ax66.set_ylabel('Partial dependence')\n",
    "\n",
    "ax77 = ax7.twinx()\n",
    "sns.countplot(datag['Population.trend'].dropna(),ax = ax77,alpha=alpha, color='green', \n",
    "             order = ['stable','decreasing', 'increasing', 'unknown'])\n",
    "\n",
    "\n",
    "ax88 = ax8.twinx()\n",
    "ax88.hist(datag.Bio3_mean.dropna(), alpha = alpha, color = 'green')\n",
    "\n",
    "ax99 = ax9.twinx()\n",
    "ax99.hist(datag.minlat.dropna(), alpha = alpha, color = 'green')\n",
    "\n",
    "ax100 = ax10.twinx()\n",
    "ax100.hist(datag.maxlong_log.dropna(), alpha = alpha, color = 'green')\n",
    "ax100.set_ylabel('number of species')\n",
    "\n",
    "ax7.tick_params(axis='x', which='minor', labelsize=6,)\n",
    "for tick in ax7.get_xticklabels():\n",
    "    tick.set_rotation(90)\n",
    "    \n",
    "#ax5.set_xticklabels(lug1.Number.tolist(),)\n",
    "\n",
    "#plt.suptitle('Trait profile for ZIKV and YFV', fontsize = 16)\n",
    "plt.tight_layout()\n",
    "#plt.subplots_adjust(top=0.85)\n",
    "plt.show()\n",
    "#f.savefig('Outputs/Group4_Partial_dependence.jpg')\n",
    "f.savefig('C:\\Users\\Falco\\Desktop\\directory\\Flavivirus Paper\\Final Submission\\Revision\\pd_g4.png', dpi = 600)"
   ]
  },
  {
   "cell_type": "code",
   "execution_count": null,
   "metadata": {},
   "outputs": [],
   "source": []
  }
 ],
 "metadata": {
  "kernelspec": {
   "display_name": "Python 2",
   "language": "python",
   "name": "python2"
  },
  "language_info": {
   "codemirror_mode": {
    "name": "ipython",
    "version": 2
   },
   "file_extension": ".py",
   "mimetype": "text/x-python",
   "name": "python",
   "nbconvert_exporter": "python",
   "pygments_lexer": "ipython2",
   "version": "2.7.14"
  },
  "varInspector": {
   "cols": {
    "lenName": 16,
    "lenType": 16,
    "lenVar": 40
   },
   "kernels_config": {
    "python": {
     "delete_cmd_postfix": "",
     "delete_cmd_prefix": "del ",
     "library": "var_list.py",
     "varRefreshCmd": "print(var_dic_list())"
    },
    "r": {
     "delete_cmd_postfix": ") ",
     "delete_cmd_prefix": "rm(",
     "library": "var_list.r",
     "varRefreshCmd": "cat(var_dic_list()) "
    }
   },
   "types_to_exclude": [
    "module",
    "function",
    "builtin_function_or_method",
    "instance",
    "_Feature"
   ],
   "window_display": false
  }
 },
 "nbformat": 4,
 "nbformat_minor": 2
}
