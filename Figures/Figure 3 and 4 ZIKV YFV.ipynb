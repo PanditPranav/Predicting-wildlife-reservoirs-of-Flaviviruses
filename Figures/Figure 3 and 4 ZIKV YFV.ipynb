{
 "cells": [
  {
   "cell_type": "code",
   "execution_count": null,
   "metadata": {
    "scrolled": false
   },
   "outputs": [],
   "source": [
    "library(raster)"
   ]
  },
  {
   "cell_type": "code",
   "execution_count": null,
   "metadata": {},
   "outputs": [],
   "source": [
    "setwd('C:/Users/Falco/Desktop/directory/Predicting-wildlife-reservoirs-of-Flaviviruses/data/SpeciesRasters/Group1aRasters2')\n",
    "myfilesAnn <- list.files(pattern = \"*.tif\")"
   ]
  },
  {
   "cell_type": "code",
   "execution_count": null,
   "metadata": {},
   "outputs": [],
   "source": [
    "length(myfilesAnn)"
   ]
  },
  {
   "cell_type": "code",
   "execution_count": null,
   "metadata": {},
   "outputs": [],
   "source": [
    "species <- c() # creates a list\n",
    "Raster = raster(myfilesAnn[1], package='raster')\n",
    "i = 1\n",
    "while(i <length(myfilesAnn)) {\n",
    "    tempRaster = raster(myfilesAnn[i+1], package='raster')\n",
    "    Raster = mosaic(Raster,tempRaster, fun=sum, tolerance = 0.1)\n",
    "    \n",
    "    i = i+1\n",
    "}"
   ]
  },
  {
   "cell_type": "code",
   "execution_count": null,
   "metadata": {},
   "outputs": [],
   "source": [
    "plot(Raster)"
   ]
  },
  {
   "cell_type": "code",
   "execution_count": null,
   "metadata": {},
   "outputs": [],
   "source": [
    "writeRaster(Raster, \n",
    "            \"C:/Users/Falco/Desktop/Zoonotic Disease dataset/Analysis/Flavi/Outputs2/Tiffs/Group1aHeatmap2.tif\",\n",
    "            format = \"GTiff\",overwrite=TRUE)"
   ]
  },
  {
   "cell_type": "markdown",
   "metadata": {},
   "source": [
    "## Exact Probability"
   ]
  },
  {
   "cell_type": "code",
   "execution_count": null,
   "metadata": {},
   "outputs": [],
   "source": [
    "library(dplyr)"
   ]
  },
  {
   "cell_type": "code",
   "execution_count": null,
   "metadata": {},
   "outputs": [],
   "source": [
    "G1 = read.csv('Outputs/Predictions_R_Group1a2.csv', \n",
    "             header = TRUE, )\n",
    "head(G1)"
   ]
  },
  {
   "cell_type": "markdown",
   "metadata": {},
   "source": [
    "## Probability substituting values "
   ]
  },
  {
   "cell_type": "code",
   "execution_count": null,
   "metadata": {
    "scrolled": false
   },
   "outputs": [],
   "source": [
    "setwd('C:/Users/Falco/Desktop/directory/Predicting-wildlife-reservoirs-of-Flaviviruses/data/SpeciesRasters/Group1aRasters2')\n",
    "myfilesAnn <- list.files(pattern = \"*.tif\")\n",
    "species <- c() # creates a list\n",
    "\n",
    "Raster = raster(myfilesAnn[1], package='raster')\n",
    "prob = G1[G1[, \"MatchHost\"] == gsub(\"_\",\" \",names(Raster)),]['PredictionProbability']\n",
    "max <- cellStats(Raster, stat = 'max')\n",
    "Raster <- reclassify(Raster, cbind(max, prob))\n",
    "\n",
    "i = 2\n",
    "while(i <length(myfilesAnn)) {\n",
    "    tempRaster = raster(myfilesAnn[i], package='raster')\n",
    "    prob = G1[G1[, \"MatchHost\"] == gsub(\"_\",\" \",names(tempRaster)),]['PredictionProbability']\n",
    "    max <- cellStats(tempRaster, stat = 'max')\n",
    "    tempRaster <- reclassify(tempRaster, cbind(max, prob))\n",
    "    \n",
    "    Raster = mosaic(Raster,tempRaster, fun=sum, tolerance = 0.1)\n",
    "    \n",
    "    i = i+1\n",
    "    #print (i)\n",
    "}\n",
    "plot(Raster)"
   ]
  },
  {
   "cell_type": "code",
   "execution_count": null,
   "metadata": {},
   "outputs": [],
   "source": [
    "writeRaster(Raster, \n",
    "            \"C:/Users/Falco/Desktop/Zoonotic Disease dataset/Analysis/Flavi/Outputs2/Tiffs/Group1aHeatmapProb_exact_Correct2.tif\",\n",
    "            format = \"GTiff\",overwrite=TRUE)"
   ]
  }
 ],
 "metadata": {
  "kernelspec": {
   "display_name": "R",
   "language": "R",
   "name": "ir"
  },
  "language_info": {
   "codemirror_mode": "r",
   "file_extension": ".r",
   "mimetype": "text/x-r-source",
   "name": "R",
   "pygments_lexer": "r",
   "version": "3.4.3"
  },
  "varInspector": {
   "cols": {
    "lenName": 16,
    "lenType": 16,
    "lenVar": 40
   },
   "kernels_config": {
    "python": {
     "delete_cmd_postfix": "",
     "delete_cmd_prefix": "del ",
     "library": "var_list.py",
     "varRefreshCmd": "print(var_dic_list())"
    },
    "r": {
     "delete_cmd_postfix": ") ",
     "delete_cmd_prefix": "rm(",
     "library": "var_list.r",
     "varRefreshCmd": "cat(var_dic_list()) "
    }
   },
   "types_to_exclude": [
    "module",
    "function",
    "builtin_function_or_method",
    "instance",
    "_Feature"
   ],
   "window_display": false
  }
 },
 "nbformat": 4,
 "nbformat_minor": 2
}
