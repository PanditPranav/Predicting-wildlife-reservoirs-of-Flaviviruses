{
 "cells": [
  {
   "cell_type": "code",
   "execution_count": null,
   "metadata": {},
   "outputs": [],
   "source": [
    "import os as os\n",
    "os.chdir('C:\\Users\\Falco\\Desktop\\directory\\Predicting-wildlife-reservoirs-of-Flaviviruses')\n",
    "import geopandas as gpd\n",
    "from matplotlib import pyplot as plt\n",
    "import pandas as pd\n",
    "import numpy as np\n",
    "% run Settings.py"
   ]
  },
  {
   "cell_type": "code",
   "execution_count": null,
   "metadata": {},
   "outputs": [],
   "source": [
    "g = pd.read_csv('Outputs/PartialDependence/Ranks_generic_noPub.csv')\n",
    "#g2 = pd.read_csv('Outputs/PartialDependence/Ranks_group2.csv')"
   ]
  },
  {
   "cell_type": "code",
   "execution_count": null,
   "metadata": {},
   "outputs": [],
   "source": [
    "g = g.head(10)"
   ]
  },
  {
   "cell_type": "code",
   "execution_count": null,
   "metadata": {},
   "outputs": [],
   "source": [
    "#g2 = g2.head(8)"
   ]
  },
  {
   "cell_type": "code",
   "execution_count": null,
   "metadata": {},
   "outputs": [],
   "source": [
    "g.head(10)"
   ]
  },
  {
   "cell_type": "markdown",
   "metadata": {},
   "source": [
    "plt.rcParams['figure.figsize'] = (12, 5)\n",
    "\n",
    "f, (ax1, ax2) = plt.subplots(1, 2)\n",
    "\n",
    "sns.barplot(x = 'influence', y = 'Variable', data= g1a, ax= ax1 )\n",
    "sns.barplot(x = 'influence', y = 'Variable', data= g2, ax= ax2 )\n",
    "ax2.set_yticklabels(g2names)\n",
    "ax1.set_yticklabels(g1names)\n",
    "ax1.set_xlabel('Relative influence')\n",
    "ax2.set_xlabel('Relative influence')\n",
    "ax1.set_title('YFV, ZIKV', )\n",
    "ax2.set_title('WNV, SLEV, USUV', )\n",
    "plt.suptitle('Feature importance', fontsize = 18)\n",
    "plt.tight_layout()\n",
    "plt.subplots_adjust(top=0.80)\n",
    "plt.show()\n",
    "#f.savefig('Outputs/Feature importance.png')"
   ]
  },
  {
   "cell_type": "code",
   "execution_count": null,
   "metadata": {},
   "outputs": [],
   "source": [
    "import glob"
   ]
  },
  {
   "cell_type": "code",
   "execution_count": null,
   "metadata": {},
   "outputs": [],
   "source": [
    "path = 'Outputs/PartialDependence/'\n",
    "csvFiles = glob.glob(path + \"*.csv\")\n",
    "frames_dict = {}\n",
    "\n",
    "for files in csvFiles:\n",
    "    name  = str(files).replace('.csv','')\n",
    "    name  = str(name).replace(\"Outputs/PartialDependence\\\\\", '')\n",
    "    frames_dict[name] = pd.read_csv(files)\n",
    "    #df.name = str(name).replace(\"Outputs/PartialDependence\\\\\", '')\n",
    "#list(frames_dict.keys())"
   ]
  },
  {
   "cell_type": "code",
   "execution_count": null,
   "metadata": {},
   "outputs": [],
   "source": [
    "a = frames_dict['Ranks_generic_noPub'].head(15)\n",
    "a.set_index('Variable', inplace= True)\n",
    "#datag1a = pd.read_csv('Outputs/dataGroup1a.csv')\n",
    "datag = pd.read_csv('Output/PartialDependence/GenericData_forPartial.csv')"
   ]
  },
  {
   "cell_type": "code",
   "execution_count": null,
   "metadata": {},
   "outputs": [],
   "source": [
    "a"
   ]
  },
  {
   "cell_type": "code",
   "execution_count": null,
   "metadata": {},
   "outputs": [],
   "source": [
    "x11 = frames_dict['Shape_Area_log_GenericFlavi_noPub']['Shape_Area_log']\n",
    "y11 = frames_dict['Shape_Area_log_GenericFlavi_noPub']['y']\n",
    "\n",
    "x22 = frames_dict['maxlat_GenericFlavi_noPub']['maxlat']\n",
    "y22 = frames_dict['maxlat_GenericFlavi_noPub']['y']\n",
    "\n",
    "x33 = frames_dict['centroidY_GenericFlavi_noPub']['centroidY']\n",
    "y33 = frames_dict['centroidY_GenericFlavi_noPub']['y']\n",
    "\n",
    "x44 = frames_dict['minlong_GenericFlavi_noPub']['minlong']\n",
    "y44 = frames_dict['minlong_GenericFlavi_noPub']['y']\n",
    "\n",
    "x66 = frames_dict['BodyMass_ln_GenericFlavi_noPub']['BodyMass_ln']\n",
    "y66 = frames_dict['BodyMass_ln_GenericFlavi_noPub']['y']\n",
    "\n",
    "x77 = frames_dict['Metabolic_Rate_ln_GenericFlavi_noPub']['Metabolic_Rate_ln']\n",
    "y77 = frames_dict['Metabolic_Rate_ln_GenericFlavi_noPub']['y']\n",
    "\n",
    "x99 = frames_dict['minlat_GenericFlavi_noPub']['minlat']\n",
    "y99 = frames_dict['minlat_GenericFlavi_noPub']['y']\n",
    "\n",
    "x100 = frames_dict['centroidX_log_GenericFlavi_noPub']['centroidX_log']\n",
    "y100 = frames_dict['centroidX_log_GenericFlavi_noPub']['y']"
   ]
  },
  {
   "cell_type": "code",
   "execution_count": null,
   "metadata": {},
   "outputs": [],
   "source": [
    "frames_dict['MaxDiet_GenericFlavi_noPub'][\"MaxDiet\"].unique()"
   ]
  },
  {
   "cell_type": "code",
   "execution_count": null,
   "metadata": {},
   "outputs": [],
   "source": [
    "frames_dict['SLP_DS_GenericFlavi_noPub'][\"SLP_DS\"] = frames_dict['SLP_DSGroup1a'][\"SLP_DS\"].str.replace(' to ', '-')\n",
    "frames_dict['SLP_DS_GenericFlavi_noPub'][\"SLP_DS\"] = frames_dict['SLP_DSGroup1a'][\"SLP_DS\"].str.replace(' >', '>')\n",
    "frames_dict['SLP_DS_GenericFlavi_noPub'][\"SLP_DS\"] = frames_dict['SLP_DSGroup1a'][\"SLP_DS\"].str.replace('no data', 'NA')\n",
    "frames_dict['SLP_DS_GenericFlavi_noPub'][\"SLP_DS\"] = frames_dict['SLP_DSGroup1a'][\"SLP_DS\"].str.replace('Water', 'W')\n",
    "frames_dict['SLP_DS_GenericFlavi_noPub'][\"SLP_DS\"].unique()"
   ]
  },
  {
   "cell_type": "code",
   "execution_count": null,
   "metadata": {},
   "outputs": [],
   "source": [
    "datag.MaxDiet.unique()"
   ]
  },
  {
   "cell_type": "code",
   "execution_count": null,
   "metadata": {
    "scrolled": true
   },
   "outputs": [],
   "source": [
    "a.head(10)"
   ]
  },
  {
   "cell_type": "code",
   "execution_count": null,
   "metadata": {},
   "outputs": [],
   "source": [
    "datag['Population.trend'].unique()"
   ]
  },
  {
   "cell_type": "code",
   "execution_count": null,
   "metadata": {},
   "outputs": [],
   "source": [
    "#g1names= ['Pubmed hits (log)\\nnumber of citations','Distribution area , 'Northern bound$^\\circ$',\n",
    "#          'Eastern bound$^\\circ$', 'Centroid latitude$^\\circ$', 'Diet preference',\n",
    "#          'Body mass (log)\\ng','Metabolic rate (log) ', 'Population Trend', 'Isothermality']\n",
    "\n",
    "#g1names= ['log distribution area \\n($km^2$)','northernmost bound$^\\circ$','log PubMed hits',\n",
    "#          'centroid latitude$^\\circ$', 'diet preference','westernmost bound$^\\circ$',\n",
    "#          'log body mass\\n(g)','log metabolic rate\\n($Wg^-1$)', 'log centroid longitude$^\\circ$',\n",
    "#         'isothermality']\n",
    "\n",
    "g1names= ['log distribution area \\n($km^2$)',\n",
    "          'northernmost bound$^\\circ$',\n",
    "          'centroid latitude$^\\circ$',\n",
    "          'westernmost bound$^\\circ$',\n",
    "          'diet preference',\n",
    "          'log body mass\\n(g)',\n",
    "          'log metabolic rate\\n($Wg^-1$)',\n",
    "          'population trend',\n",
    "          'southernmost bound$^\\circ$',\n",
    "          'log centroid longitude$^\\circ$',]\n",
    "\n",
    "plt.rcParams['font.size'] = 10\n",
    "plt.rcParams['font.family'] = 'Times New Roman'\n",
    "plt.rcParams['axes.labelsize'] = 12\n",
    "plt.rcParams['legend.fontsize'] = 8\n",
    "plt.rcParams['xtick.labelsize'] = 10\n",
    "plt.rcParams['ytick.labelsize'] = 8\n",
    "plt.rcParams['figure.figsize'] = (16, 9)\n",
    "\n",
    "sns.set_style('white')\n",
    "#fig = plt.figure(figsize=(12,5), dpi=300)\n",
    "f, ((ax1, ax2, ax3, ax4, ax5),(ax6, ax7, ax8, ax9, ax10)) = plt.subplots(2, 5)\n",
    "alpha = 0.2\n",
    "\n",
    "\n",
    "ax1.plot(x11, y11)\n",
    "ax2.plot(x22, y22)\n",
    "ax3.plot(x33, y33)\n",
    "ax4.plot(x44, y44)\n",
    "\n",
    "sns.swarmplot(x=\"MaxDiet\", y=\"y\", data=frames_dict['MaxDiet_GenericFlavi_noPub'],\n",
    "              ax = ax5, size  = 10, color='b',\n",
    "             order = ['nan', 'Fish', 'fruit', 'Inv', 'Nect', 'PlatO', 'Scav', 'Seed',\n",
    "                      'Vect', 'vend', 'Vunk'])\n",
    "ax6.plot(x66, y66)\n",
    "ax7.plot(x77, y77)\n",
    "sns.swarmplot(x=\"Population.trend\", y=\"y\", data=frames_dict['Population.trendGroup4'],\n",
    "              ax = ax8, size  = 10, color='b',\n",
    "             order = ['stable','decreasing', 'increasing', 'unknown'])\n",
    "\n",
    "#ax8.plot(x88, y88)\n",
    "ax9.plot(x99, y99)\n",
    "#ax8.plot(x88, y88, color = 'b')\n",
    "ax10.plot(x100, y100)\n",
    "\n",
    "\n",
    "ax1.set_xlabel(g1names[0]); ax2.set_xlabel(g1names[1]); ax3.set_xlabel(g1names[2]);ax4.set_xlabel(g1names[3]);\n",
    "ax5.set_xlabel(g1names[4]); ax6.set_xlabel(g1names[5]); ax7.set_xlabel(g1names[6]);ax8.set_xlabel(g1names[7]);\n",
    "ax9.set_xlabel(g1names[8]); ax10.set_xlabel(g1names[9])\n",
    "\n",
    "ax1.set_ylabel('partial dependence of variable on prediction')\n",
    "ax6.set_ylabel('partial dependence of variable on prediction')\n",
    "ax1.set_title('Rank 1', fontsize = 11)\n",
    "ax2.set_title('Rank 2', fontsize = 11)\n",
    "ax3.set_title('Rank 3', fontsize = 11)\n",
    "ax4.set_title('Rank 4', fontsize = 11)\n",
    "ax5.set_title('Rank 5', fontsize = 11)\n",
    "ax6.set_title('Rank 6', fontsize = 11)\n",
    "ax7.set_title('Rank 7', fontsize = 11)\n",
    "ax8.set_title('Rank 8', fontsize = 11)\n",
    "ax9.set_title('Rank 9', fontsize = 11)\n",
    "ax10.set_title('Rank 10', fontsize = 11)\n",
    "\n",
    "\n",
    "\n",
    "ax11 = ax1.twinx()\n",
    "ax11.hist(datag.Shape_Area_log.dropna(), alpha=alpha, color='green')\n",
    "\n",
    "ax22 = ax2.twinx()\n",
    "ax22.hist(datag.maxlat.dropna(), alpha=alpha, color='green')\n",
    "\n",
    "ax33 = ax3.twinx()\n",
    "ax33.hist(datag.centroidY.dropna(), alpha = alpha, color = 'green')\n",
    "\n",
    "ax44 = ax4.twinx()\n",
    "ax44.hist(datag.minlong.dropna(), alpha = alpha, color = 'green')\n",
    "\n",
    "ax55 = ax5.twinx()\n",
    "sns.countplot(datag.MaxDiet.dropna(),ax = ax55,alpha=alpha, color='green', \n",
    "             order = ['nan', 'Fish', 'fruit', 'Inv', 'Nect', 'PlatO', 'Scav', 'Seed',\n",
    "                      'Vect', 'vend', 'Vunk'])\n",
    "\n",
    "ax66 = ax6.twinx()\n",
    "ax66.hist(datag.BodyMass_ln.dropna(), alpha = alpha, color = 'green')\n",
    "\n",
    "ax66.set_ylabel('Partial dependence')\n",
    "\n",
    "ax77 = ax7.twinx()\n",
    "ax77.hist(datag.Metabolic_Rate_ln.dropna(), alpha = alpha, color = 'green')\n",
    "\n",
    "ax88 = ax8.twinx()\n",
    "sns.countplot(datag['Population.trend'].dropna(),ax = ax88,alpha=alpha, color='green', \n",
    "             order = ['stable','decreasing', 'increasing', 'unknown'])\n",
    "#ax77.hist(datag.BodyMass_ln.dropna(), alpha = alpha, color = 'green')\n",
    "\n",
    "\n",
    "ax99 = ax9.twinx()\n",
    "ax99.hist(datag.minlat.dropna(), alpha = alpha, color = 'green')\n",
    "\n",
    "ax100 = ax10.twinx()\n",
    "ax100.hist(datag.centroidX_log.dropna(), alpha = alpha, color = 'green')\n",
    "ax100.set_ylabel('number of species')\n",
    "ax55.set_ylabel('number of species')\n",
    "\n",
    "ax5.tick_params(axis='x', which='minor', labelsize=6,)\n",
    "for tick in ax5.get_xticklabels():\n",
    "    tick.set_rotation(90)\n",
    "    \n",
    "ax8.tick_params(axis='x', which='minor', labelsize=6,)\n",
    "for tick in ax8.get_xticklabels():\n",
    "    tick.set_rotation(90)\n",
    "    \n",
    "#ax5.set_xticklabels(lug1.Number.tolist(),)\n",
    "\n",
    "#plt.suptitle('Trait profile for ZIKV and YFV', fontsize = 16)\n",
    "plt.tight_layout()\n",
    "#plt.subplots_adjust(top=0.85)\n",
    "plt.show()\n",
    "#f.savefig('Outputs2/Generic_Partial_dependence.png')\n",
    "f.savefig('C:\\Users\\Falco\\Desktop\\directory\\Flavivirus Paper\\Final Submission\\Revision\\pd_generic_nopub.png', dpi = 600)"
   ]
  },
  {
   "cell_type": "code",
   "execution_count": null,
   "metadata": {},
   "outputs": [],
   "source": []
  }
 ],
 "metadata": {
  "kernelspec": {
   "display_name": "Python 2",
   "language": "python",
   "name": "python2"
  },
  "language_info": {
   "codemirror_mode": {
    "name": "ipython",
    "version": 2
   },
   "file_extension": ".py",
   "mimetype": "text/x-python",
   "name": "python",
   "nbconvert_exporter": "python",
   "pygments_lexer": "ipython2",
   "version": "2.7.14"
  },
  "varInspector": {
   "cols": {
    "lenName": 16,
    "lenType": 16,
    "lenVar": 40
   },
   "kernels_config": {
    "python": {
     "delete_cmd_postfix": "",
     "delete_cmd_prefix": "del ",
     "library": "var_list.py",
     "varRefreshCmd": "print(var_dic_list())"
    },
    "r": {
     "delete_cmd_postfix": ") ",
     "delete_cmd_prefix": "rm(",
     "library": "var_list.r",
     "varRefreshCmd": "cat(var_dic_list()) "
    }
   },
   "types_to_exclude": [
    "module",
    "function",
    "builtin_function_or_method",
    "instance",
    "_Feature"
   ],
   "window_display": false
  }
 },
 "nbformat": 4,
 "nbformat_minor": 2
}
