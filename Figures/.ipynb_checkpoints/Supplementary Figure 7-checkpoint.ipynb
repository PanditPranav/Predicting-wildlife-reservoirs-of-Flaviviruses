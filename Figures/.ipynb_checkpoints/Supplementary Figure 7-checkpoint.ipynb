{
 "cells": [
  {
   "cell_type": "code",
   "execution_count": 1,
   "metadata": {},
   "outputs": [],
   "source": [
    "import os as os\n",
    "os.chdir('C:\\Users\\Falco\\Desktop\\directory\\Predicting-wildlife-reservoirs-of-Flaviviruses')\n",
    "import geopandas as gpd\n",
    "from matplotlib import pyplot as plt\n",
    "import pandas as pd\n",
    "import numpy as np\n",
    "% run Settings.py"
   ]
  },
  {
   "cell_type": "code",
   "execution_count": 2,
   "metadata": {},
   "outputs": [],
   "source": [
    "g = pd.read_csv('Outputs/PartialDependence/Ranks_group5.csv')\n",
    "#g2 = pd.read_csv('Outputs/PartialDependence/Ranks_group2.csv')"
   ]
  },
  {
   "cell_type": "code",
   "execution_count": 3,
   "metadata": {},
   "outputs": [],
   "source": [
    "g = g.head(10)"
   ]
  },
  {
   "cell_type": "code",
   "execution_count": 4,
   "metadata": {},
   "outputs": [],
   "source": [
    "#g2 = g2.head(8)"
   ]
  },
  {
   "cell_type": "code",
   "execution_count": 5,
   "metadata": {},
   "outputs": [
    {
     "data": {
      "text/html": [
       "<div>\n",
       "<style scoped>\n",
       "    .dataframe tbody tr th:only-of-type {\n",
       "        vertical-align: middle;\n",
       "    }\n",
       "\n",
       "    .dataframe tbody tr th {\n",
       "        vertical-align: top;\n",
       "    }\n",
       "\n",
       "    .dataframe thead th {\n",
       "        text-align: right;\n",
       "    }\n",
       "</style>\n",
       "<table border=\"1\" class=\"dataframe\">\n",
       "  <thead>\n",
       "    <tr style=\"text-align: right;\">\n",
       "      <th></th>\n",
       "      <th>Unnamed: 0</th>\n",
       "      <th>Variable</th>\n",
       "      <th>influence</th>\n",
       "    </tr>\n",
       "  </thead>\n",
       "  <tbody>\n",
       "    <tr>\n",
       "      <th>0</th>\n",
       "      <td>1</td>\n",
       "      <td>Shape_Area_log</td>\n",
       "      <td>1.000000</td>\n",
       "    </tr>\n",
       "    <tr>\n",
       "      <th>1</th>\n",
       "      <td>2</td>\n",
       "      <td>PubmedHits_ln</td>\n",
       "      <td>0.695671</td>\n",
       "    </tr>\n",
       "    <tr>\n",
       "      <th>2</th>\n",
       "      <td>3</td>\n",
       "      <td>MaxDiet</td>\n",
       "      <td>0.362190</td>\n",
       "    </tr>\n",
       "    <tr>\n",
       "      <th>3</th>\n",
       "      <td>4</td>\n",
       "      <td>BodyMass_ln</td>\n",
       "      <td>0.199491</td>\n",
       "    </tr>\n",
       "    <tr>\n",
       "      <th>4</th>\n",
       "      <td>5</td>\n",
       "      <td>maxlat</td>\n",
       "      <td>0.192804</td>\n",
       "    </tr>\n",
       "    <tr>\n",
       "      <th>5</th>\n",
       "      <td>6</td>\n",
       "      <td>mdiversity_mean</td>\n",
       "      <td>0.177202</td>\n",
       "    </tr>\n",
       "    <tr>\n",
       "      <th>6</th>\n",
       "      <td>7</td>\n",
       "      <td>Bio1_mean</td>\n",
       "      <td>0.132423</td>\n",
       "    </tr>\n",
       "    <tr>\n",
       "      <th>7</th>\n",
       "      <td>8</td>\n",
       "      <td>Mosquitoes_mean</td>\n",
       "      <td>0.131183</td>\n",
       "    </tr>\n",
       "    <tr>\n",
       "      <th>8</th>\n",
       "      <td>9</td>\n",
       "      <td>Bio12_mean</td>\n",
       "      <td>0.114978</td>\n",
       "    </tr>\n",
       "    <tr>\n",
       "      <th>9</th>\n",
       "      <td>10</td>\n",
       "      <td>bdiversity_mean</td>\n",
       "      <td>0.102423</td>\n",
       "    </tr>\n",
       "  </tbody>\n",
       "</table>\n",
       "</div>"
      ],
      "text/plain": [
       "   Unnamed: 0         Variable  influence\n",
       "0           1   Shape_Area_log   1.000000\n",
       "1           2    PubmedHits_ln   0.695671\n",
       "2           3          MaxDiet   0.362190\n",
       "3           4      BodyMass_ln   0.199491\n",
       "4           5           maxlat   0.192804\n",
       "5           6  mdiversity_mean   0.177202\n",
       "6           7        Bio1_mean   0.132423\n",
       "7           8  Mosquitoes_mean   0.131183\n",
       "8           9       Bio12_mean   0.114978\n",
       "9          10  bdiversity_mean   0.102423"
      ]
     },
     "execution_count": 5,
     "metadata": {},
     "output_type": "execute_result"
    }
   ],
   "source": [
    "g.head(10)"
   ]
  },
  {
   "cell_type": "code",
   "execution_count": 6,
   "metadata": {},
   "outputs": [],
   "source": [
    "import glob"
   ]
  },
  {
   "cell_type": "code",
   "execution_count": 7,
   "metadata": {},
   "outputs": [],
   "source": [
    "path = 'Outputs2/PartialDependence3/'\n",
    "csvFiles = glob.glob(path + \"*.csv\")\n",
    "frames_dict = {}\n",
    "\n",
    "for files in csvFiles:\n",
    "    name  = str(files).replace('.csv','')\n",
    "    name  = str(name).replace(\"Outputs2/PartialDependence3\\\\\", '')\n",
    "    frames_dict[name] = pd.read_csv(files)\n",
    "    #df.name = str(name).replace(\"Outputs/PartialDependence\\\\\", '')\n",
    "#list(frames_dict.keys())"
   ]
  },
  {
   "cell_type": "code",
   "execution_count": 9,
   "metadata": {},
   "outputs": [],
   "source": [
    "a = frames_dict['Ranks_group5'].head(15)\n",
    "a.set_index('Variable', inplace= True)\n",
    "#datag1a = pd.read_csv('Outputs/dataGroup1a.csv')\n",
    "datag = pd.read_csv('Outputs/PartialDependence2/Group5Data_forPartial.csv')"
   ]
  },
  {
   "cell_type": "code",
   "execution_count": 10,
   "metadata": {},
   "outputs": [
    {
     "data": {
      "text/html": [
       "<div>\n",
       "<style scoped>\n",
       "    .dataframe tbody tr th:only-of-type {\n",
       "        vertical-align: middle;\n",
       "    }\n",
       "\n",
       "    .dataframe tbody tr th {\n",
       "        vertical-align: top;\n",
       "    }\n",
       "\n",
       "    .dataframe thead th {\n",
       "        text-align: right;\n",
       "    }\n",
       "</style>\n",
       "<table border=\"1\" class=\"dataframe\">\n",
       "  <thead>\n",
       "    <tr style=\"text-align: right;\">\n",
       "      <th></th>\n",
       "      <th>Unnamed: 0</th>\n",
       "      <th>influence</th>\n",
       "    </tr>\n",
       "    <tr>\n",
       "      <th>Variable</th>\n",
       "      <th></th>\n",
       "      <th></th>\n",
       "    </tr>\n",
       "  </thead>\n",
       "  <tbody>\n",
       "    <tr>\n",
       "      <th>Shape_Area_log</th>\n",
       "      <td>1</td>\n",
       "      <td>1.000000</td>\n",
       "    </tr>\n",
       "    <tr>\n",
       "      <th>PubmedHits_ln</th>\n",
       "      <td>2</td>\n",
       "      <td>0.695671</td>\n",
       "    </tr>\n",
       "    <tr>\n",
       "      <th>MaxDiet</th>\n",
       "      <td>3</td>\n",
       "      <td>0.362190</td>\n",
       "    </tr>\n",
       "    <tr>\n",
       "      <th>BodyMass_ln</th>\n",
       "      <td>4</td>\n",
       "      <td>0.199491</td>\n",
       "    </tr>\n",
       "    <tr>\n",
       "      <th>maxlat</th>\n",
       "      <td>5</td>\n",
       "      <td>0.192804</td>\n",
       "    </tr>\n",
       "    <tr>\n",
       "      <th>mdiversity_mean</th>\n",
       "      <td>6</td>\n",
       "      <td>0.177202</td>\n",
       "    </tr>\n",
       "    <tr>\n",
       "      <th>Bio1_mean</th>\n",
       "      <td>7</td>\n",
       "      <td>0.132423</td>\n",
       "    </tr>\n",
       "    <tr>\n",
       "      <th>Mosquitoes_mean</th>\n",
       "      <td>8</td>\n",
       "      <td>0.131183</td>\n",
       "    </tr>\n",
       "    <tr>\n",
       "      <th>Bio12_mean</th>\n",
       "      <td>9</td>\n",
       "      <td>0.114978</td>\n",
       "    </tr>\n",
       "    <tr>\n",
       "      <th>bdiversity_mean</th>\n",
       "      <td>10</td>\n",
       "      <td>0.102423</td>\n",
       "    </tr>\n",
       "    <tr>\n",
       "      <th>Metabolic_Rate_ln</th>\n",
       "      <td>11</td>\n",
       "      <td>0.100905</td>\n",
       "    </tr>\n",
       "    <tr>\n",
       "      <th>Bio3_mean</th>\n",
       "      <td>12</td>\n",
       "      <td>0.096327</td>\n",
       "    </tr>\n",
       "    <tr>\n",
       "      <th>maxlong_log</th>\n",
       "      <td>13</td>\n",
       "      <td>0.079693</td>\n",
       "    </tr>\n",
       "    <tr>\n",
       "      <th>minlat</th>\n",
       "      <td>14</td>\n",
       "      <td>0.065484</td>\n",
       "    </tr>\n",
       "    <tr>\n",
       "      <th>ForStrategy</th>\n",
       "      <td>15</td>\n",
       "      <td>0.065107</td>\n",
       "    </tr>\n",
       "  </tbody>\n",
       "</table>\n",
       "</div>"
      ],
      "text/plain": [
       "                   Unnamed: 0  influence\n",
       "Variable                                \n",
       "Shape_Area_log              1   1.000000\n",
       "PubmedHits_ln               2   0.695671\n",
       "MaxDiet                     3   0.362190\n",
       "BodyMass_ln                 4   0.199491\n",
       "maxlat                      5   0.192804\n",
       "mdiversity_mean             6   0.177202\n",
       "Bio1_mean                   7   0.132423\n",
       "Mosquitoes_mean             8   0.131183\n",
       "Bio12_mean                  9   0.114978\n",
       "bdiversity_mean            10   0.102423\n",
       "Metabolic_Rate_ln          11   0.100905\n",
       "Bio3_mean                  12   0.096327\n",
       "maxlong_log                13   0.079693\n",
       "minlat                     14   0.065484\n",
       "ForStrategy                15   0.065107"
      ]
     },
     "execution_count": 10,
     "metadata": {},
     "output_type": "execute_result"
    }
   ],
   "source": [
    "a"
   ]
  },
  {
   "cell_type": "code",
   "execution_count": 11,
   "metadata": {},
   "outputs": [],
   "source": [
    "x11 = frames_dict['Shape_Area_logGroup5']['Shape_Area_log']\n",
    "y11 = frames_dict['Shape_Area_logGroup5']['y']\n",
    "\n",
    "x22 = frames_dict['PubmedHits_lnGroup5']['PubmedHits_ln']\n",
    "y22 = frames_dict['PubmedHits_lnGroup5']['y']\n",
    "\n",
    "\n",
    "\n",
    "x44 = frames_dict['BodyMass_lnGroup5']['BodyMass_ln']\n",
    "y44 = frames_dict['BodyMass_lnGroup5']['y']\n",
    "\n",
    "x55 = frames_dict['maxlatGroup5']['maxlat']\n",
    "y55 = frames_dict['maxlatGroup5']['y']\n",
    "\n",
    "x66 = frames_dict['mdiversity_meanGroup5']['mdiversity_mean']\n",
    "y66 = frames_dict['mdiversity_meanGroup5']['y']\n",
    "\n",
    "x77 = frames_dict['Bio1_meanGroup5']['Bio1_mean']\n",
    "y77 = frames_dict['Bio1_meanGroup5']['y']\n",
    "\n",
    "x88 = frames_dict['Mosquitoes_meanGroup5']['Mosquitoes_mean']/1000\n",
    "y88 = frames_dict['Mosquitoes_meanGroup5']['y']\n",
    "\n",
    "x99 = frames_dict['Bio12_meanGroup5']['Bio12_mean']\n",
    "y99 = frames_dict['Bio12_meanGroup5']['y']\n",
    "\n",
    "x100 = frames_dict['bdiversity_meanGroup5']['bdiversity_mean']\n",
    "y100 = frames_dict['bdiversity_meanGroup5']['y']\n",
    "\n",
    "#x100 = frames_dict['minlatGroup5']['minlat']\n",
    "#y100 = frames_dict['minlatGroup5']['y']\n"
   ]
  },
  {
   "cell_type": "code",
   "execution_count": 12,
   "metadata": {},
   "outputs": [
    {
     "data": {
      "text/plain": [
       "array([nan, 'Fish', 'fruit', 'Inv', 'Nect', 'PlatO', 'Seed', 'Vect',\n",
       "       'vend', 'Vunk'], dtype=object)"
      ]
     },
     "execution_count": 12,
     "metadata": {},
     "output_type": "execute_result"
    }
   ],
   "source": [
    "frames_dict['MaxDietGroup5'][\"MaxDiet\"].unique()"
   ]
  },
  {
   "cell_type": "code",
   "execution_count": 13,
   "metadata": {},
   "outputs": [
    {
     "data": {
      "text/plain": [
       "array(['PlatO', 'Inv', 'fruit', nan, 'Seed', 'vend', 'Nect', 'Vect',\n",
       "       'Vunk', 'Fish'], dtype=object)"
      ]
     },
     "execution_count": 13,
     "metadata": {},
     "output_type": "execute_result"
    }
   ],
   "source": [
    "datag.MaxDiet.unique()"
   ]
  },
  {
   "cell_type": "code",
   "execution_count": 14,
   "metadata": {},
   "outputs": [
    {
     "data": {
      "text/plain": [
       "array([nan, 'Aerial', 'Arborial', 'Ground'], dtype=object)"
      ]
     },
     "execution_count": 14,
     "metadata": {},
     "output_type": "execute_result"
    }
   ],
   "source": [
    "frames_dict['ForStrategyGroup5'][\"ForStrategy\"].unique()"
   ]
  },
  {
   "cell_type": "code",
   "execution_count": 15,
   "metadata": {},
   "outputs": [
    {
     "data": {
      "text/plain": [
       "array(['Ground', 'Arborial', nan, 'Aerial'], dtype=object)"
      ]
     },
     "execution_count": 15,
     "metadata": {},
     "output_type": "execute_result"
    }
   ],
   "source": [
    "datag.ForStrategy.unique()"
   ]
  },
  {
   "cell_type": "code",
   "execution_count": 16,
   "metadata": {},
   "outputs": [
    {
     "data": {
      "text/html": [
       "<div>\n",
       "<style scoped>\n",
       "    .dataframe tbody tr th:only-of-type {\n",
       "        vertical-align: middle;\n",
       "    }\n",
       "\n",
       "    .dataframe tbody tr th {\n",
       "        vertical-align: top;\n",
       "    }\n",
       "\n",
       "    .dataframe thead th {\n",
       "        text-align: right;\n",
       "    }\n",
       "</style>\n",
       "<table border=\"1\" class=\"dataframe\">\n",
       "  <thead>\n",
       "    <tr style=\"text-align: right;\">\n",
       "      <th></th>\n",
       "      <th>Unnamed: 0</th>\n",
       "      <th>influence</th>\n",
       "    </tr>\n",
       "    <tr>\n",
       "      <th>Variable</th>\n",
       "      <th></th>\n",
       "      <th></th>\n",
       "    </tr>\n",
       "  </thead>\n",
       "  <tbody>\n",
       "    <tr>\n",
       "      <th>Shape_Area_log</th>\n",
       "      <td>1</td>\n",
       "      <td>1.000000</td>\n",
       "    </tr>\n",
       "    <tr>\n",
       "      <th>PubmedHits_ln</th>\n",
       "      <td>2</td>\n",
       "      <td>0.695671</td>\n",
       "    </tr>\n",
       "    <tr>\n",
       "      <th>MaxDiet</th>\n",
       "      <td>3</td>\n",
       "      <td>0.362190</td>\n",
       "    </tr>\n",
       "    <tr>\n",
       "      <th>BodyMass_ln</th>\n",
       "      <td>4</td>\n",
       "      <td>0.199491</td>\n",
       "    </tr>\n",
       "    <tr>\n",
       "      <th>maxlat</th>\n",
       "      <td>5</td>\n",
       "      <td>0.192804</td>\n",
       "    </tr>\n",
       "    <tr>\n",
       "      <th>mdiversity_mean</th>\n",
       "      <td>6</td>\n",
       "      <td>0.177202</td>\n",
       "    </tr>\n",
       "    <tr>\n",
       "      <th>Bio1_mean</th>\n",
       "      <td>7</td>\n",
       "      <td>0.132423</td>\n",
       "    </tr>\n",
       "    <tr>\n",
       "      <th>Mosquitoes_mean</th>\n",
       "      <td>8</td>\n",
       "      <td>0.131183</td>\n",
       "    </tr>\n",
       "    <tr>\n",
       "      <th>Bio12_mean</th>\n",
       "      <td>9</td>\n",
       "      <td>0.114978</td>\n",
       "    </tr>\n",
       "    <tr>\n",
       "      <th>bdiversity_mean</th>\n",
       "      <td>10</td>\n",
       "      <td>0.102423</td>\n",
       "    </tr>\n",
       "  </tbody>\n",
       "</table>\n",
       "</div>"
      ],
      "text/plain": [
       "                 Unnamed: 0  influence\n",
       "Variable                              \n",
       "Shape_Area_log            1   1.000000\n",
       "PubmedHits_ln             2   0.695671\n",
       "MaxDiet                   3   0.362190\n",
       "BodyMass_ln               4   0.199491\n",
       "maxlat                    5   0.192804\n",
       "mdiversity_mean           6   0.177202\n",
       "Bio1_mean                 7   0.132423\n",
       "Mosquitoes_mean           8   0.131183\n",
       "Bio12_mean                9   0.114978\n",
       "bdiversity_mean          10   0.102423"
      ]
     },
     "execution_count": 16,
     "metadata": {},
     "output_type": "execute_result"
    }
   ],
   "source": [
    "a.head(10)"
   ]
  },
  {
   "cell_type": "code",
   "execution_count": 21,
   "metadata": {},
   "outputs": [
    {
     "data": {
      "image/png": "[encoded data removed]",
      "text/plain": [
       "<matplotlib.figure.Figure at 0x17a42ba8>"
      ]
     },
     "metadata": {},
     "output_type": "display_data"
    }
   ],
   "source": [
    "g1names= ['log distribution area\\n$km^2$',\n",
    "          'log PubMed hits',\n",
    "          'diet preference',\n",
    "          'log body mass\\n(g)',\n",
    "          'northernmost bound$^\\circ$',\n",
    "          'mean mammmal diversity\\n($10^{-1} km^{-2}$)',\n",
    "          'annual mean temperature($C^\\circ$)',\n",
    "          'mean mosquito distrbution\\n(cumulative probability)',\n",
    "          'mean annumal precipitation($mm$)',\n",
    "          'mean bird diversity\\n($10^{-1} km^{-2}$)',]\n",
    "\n",
    "plt.rcParams['font.size'] = 10\n",
    "plt.rcParams['font.family'] = 'Times New Roman'\n",
    "plt.rcParams['axes.labelsize'] = 12\n",
    "plt.rcParams['legend.fontsize'] = 8\n",
    "plt.rcParams['xtick.labelsize'] = 10\n",
    "plt.rcParams['ytick.labelsize'] = 8\n",
    "plt.rcParams['figure.figsize'] = (16, 9)\n",
    "\n",
    "sns.set_style('white')\n",
    "#fig = plt.figure(figsize=(12,5), dpi=300)\n",
    "f, ((ax1, ax2, ax3, ax4, ax5),(ax6, ax7, ax8, ax9, ax10)) = plt.subplots(2, 5)\n",
    "alpha = 0.2\n",
    "\n",
    "ax1.plot(x11, y11)\n",
    "ax2.plot(x22, y22)\n",
    "sns.swarmplot(x=\"MaxDiet\", y=\"y\", data=frames_dict['MaxDietGroup5'],\n",
    "              ax = ax3, size  = 10, color='b',\n",
    "             order = [ 'Fish', 'fruit', 'Inv', 'Nect', 'PlatO', 'Seed', 'Vect',\n",
    "                      'vend', 'Vunk'])\n",
    "ax4.plot(x44, y44)\n",
    "ax5.plot(x55, y55)\n",
    "ax6.plot(x66, y66)\n",
    "ax7.plot(x77, y77)\n",
    "ax8.plot(x88, y88)\n",
    "ax9.plot(x99, y99)\n",
    "ax10.plot(x100, y100)\n",
    "\n",
    "\n",
    "ax1.set_xlabel(g1names[0]); ax2.set_xlabel(g1names[1]); ax3.set_xlabel(g1names[2]);ax4.set_xlabel(g1names[3]);\n",
    "ax5.set_xlabel(g1names[4]); ax6.set_xlabel(g1names[5]); ax7.set_xlabel(g1names[6]);ax8.set_xlabel(g1names[7]);\n",
    "ax9.set_xlabel(g1names[8]);ax10.set_xlabel(g1names[9])\n",
    "\n",
    "ax1.set_ylabel('partial dependence of variable on prediction')\n",
    "ax6.set_ylabel('partial dependence of variable on prediction')\n",
    "ax1.set_title('Rank 1', fontsize = 11)\n",
    "ax2.set_title('Rank 2', fontsize = 11)\n",
    "ax3.set_title('Rank 3', fontsize = 11)\n",
    "ax4.set_title('Rank 4', fontsize = 11)\n",
    "ax5.set_title('Rank 5', fontsize = 11)\n",
    "ax6.set_title('Rank 6', fontsize = 11)\n",
    "ax7.set_title('Rank 7', fontsize = 11)\n",
    "ax8.set_title('Rank 8', fontsize = 11)\n",
    "ax9.set_title('Rank 9', fontsize = 11)\n",
    "ax10.set_title('Rank 10', fontsize = 11)\n",
    "\n",
    "\n",
    "\n",
    "ax11 = ax1.twinx()\n",
    "ax11.hist(datag.Shape_Area_log.dropna(), alpha=alpha, color='green')\n",
    "\n",
    "ax22 = ax2.twinx()\n",
    "ax22.hist(datag.PubmedHits_ln.dropna(), alpha=alpha, color='green')\n",
    "\n",
    "ax33 = ax3.twinx()\n",
    "sns.countplot(datag.MaxDiet.dropna(),ax = ax33,alpha=alpha, color='green', \n",
    "             order = ['Fish', 'fruit', 'Inv', 'Nect', 'PlatO', 'Seed', 'Vect',\n",
    "                      'vend', 'Vunk'])\n",
    "\n",
    "ax44 = ax4.twinx()\n",
    "ax44.hist(datag.BodyMass_ln.dropna(), alpha = alpha, color = 'green')\n",
    "\n",
    "ax55 = ax5.twinx()\n",
    "ax55.hist(datag.maxlat.dropna(), alpha = alpha, color = 'green')\n",
    "\n",
    "ax66 = ax6.twinx()\n",
    "ax66.hist(datag.mdiversity_mean.dropna(),alpha=alpha, color='green', )\n",
    "\n",
    "ax66.set_ylabel('Partial dependence')\n",
    "\n",
    "ax77 = ax7.twinx()\n",
    "ax77.hist(datag.Bio1_mean.dropna(),alpha=alpha, color='green', )\n",
    "\n",
    "ax88 = ax8.twinx()\n",
    "ax88.hist(datag.Mosquitoes_mean.dropna()/1000,alpha=alpha, color='green', )\n",
    "\n",
    "ax99 = ax9.twinx()\n",
    "ax99.hist(datag.Bio12_mean.dropna(), alpha = alpha, color = 'green')\n",
    "\n",
    "ax100 = ax10.twinx()\n",
    "ax100.hist(datag.bdiversity_mean.dropna(), alpha = alpha, color = 'green')\n",
    "ax100.set_ylabel('number of species')\n",
    "\n",
    "ax3.tick_params(axis='x', which='minor', labelsize=6,)\n",
    "for tick in ax3.get_xticklabels():\n",
    "    tick.set_rotation(90)\n",
    "    \n",
    "#ax5.set_xticklabels(lug1.Number.tolist(),)\n",
    "\n",
    "#plt.suptitle('Trait profile for ZIKV and YFV', fontsize = 16)\n",
    "plt.tight_layout()\n",
    "#plt.subplots_adjust(top=0.85)\n",
    "plt.show()\n",
    "#f.savefig('Outputs2/Group5_Partial_dependence.png')\n",
    "f.savefig('C:\\Users\\Falco\\Desktop\\directory\\Flavivirus Paper\\Final Submission\\Revision\\pd_g5.png', dpi = 600)"
   ]
  },
  {
   "cell_type": "code",
   "execution_count": null,
   "metadata": {},
   "outputs": [],
   "source": []
  }
 ],
 "metadata": {
  "kernelspec": {
   "display_name": "Python 2",
   "language": "python",
   "name": "python2"
  },
  "language_info": {
   "codemirror_mode": {
    "name": "ipython",
    "version": 2
   },
   "file_extension": ".py",
   "mimetype": "text/x-python",
   "name": "python",
   "nbconvert_exporter": "python",
   "pygments_lexer": "ipython2",
   "version": "2.7.14"
  },
  "varInspector": {
   "cols": {
    "lenName": 16,
    "lenType": 16,
    "lenVar": 40
   },
   "kernels_config": {
    "python": {
     "delete_cmd_postfix": "",
     "delete_cmd_prefix": "del ",
     "library": "var_list.py",
     "varRefreshCmd": "print(var_dic_list())"
    },
    "r": {
     "delete_cmd_postfix": ") ",
     "delete_cmd_prefix": "rm(",
     "library": "var_list.r",
     "varRefreshCmd": "cat(var_dic_list()) "
    }
   },
   "types_to_exclude": [
    "module",
    "function",
    "builtin_function_or_method",
    "instance",
    "_Feature"
   ],
   "window_display": false
  }
 },
 "nbformat": 4,
 "nbformat_minor": 2
}
