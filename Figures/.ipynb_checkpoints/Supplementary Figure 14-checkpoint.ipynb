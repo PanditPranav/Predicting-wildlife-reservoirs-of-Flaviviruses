{
 "cells": [
  {
   "cell_type": "code",
   "execution_count": null,
   "metadata": {
    "scrolled": false
   },
   "outputs": [],
   "source": [
    "library(raster)\n",
    "library(dplyr)"
   ]
  },
  {
   "cell_type": "code",
   "execution_count": null,
   "metadata": {},
   "outputs": [],
   "source": [
    "setwd('C:/Users/Falco/Desktop/directory/Predicting-wildlife-reservoirs-of-Flaviviruses/data/SpeciesRastersSpeciesRasters_all')\n",
    "myfilesAnn <- list.files(pattern = \"*.tif\")"
   ]
  },
  {
   "cell_type": "code",
   "execution_count": null,
   "metadata": {},
   "outputs": [],
   "source": [
    "length(myfilesAnn)"
   ]
  },
  {
   "cell_type": "code",
   "execution_count": null,
   "metadata": {},
   "outputs": [],
   "source": [
    "G1 = read.csv('C:/Users/Falco/Desktop/Zoonotic Disease dataset/Analysis/Flavi/Outputs/Generic_model_data.csv', header = TRUE)\n",
    "head(G1)"
   ]
  },
  {
   "cell_type": "code",
   "execution_count": null,
   "metadata": {},
   "outputs": [],
   "source": [
    "G1['PubMed_log'] <- log(G1$PubmedHits+1)"
   ]
  },
  {
   "cell_type": "code",
   "execution_count": null,
   "metadata": {},
   "outputs": [],
   "source": [
    "head(G1['PubMed_log'])"
   ]
  },
  {
   "cell_type": "code",
   "execution_count": null,
   "metadata": {},
   "outputs": [],
   "source": [
    "library(ggplot2)\n",
    "ggplot(data=G1, aes(x=PubMed_log)) +\n",
    "  geom_histogram(fill=\"#880011\") +  \n",
    "  ggtitle(\"PubMed_log\") +\n",
    "  labs(x=\"PubMedHits (log)\", y=\"Count\\nof Species\") "
   ]
  },
  {
   "cell_type": "code",
   "execution_count": null,
   "metadata": {},
   "outputs": [],
   "source": [
    "Raster1 = raster(myfilesAnn[1], package='raster')\n",
    "prob = G1[G1[, \"MatchHost\"] == gsub(\"_\",\" \",names(Raster1)),]['PubMed_log']\n",
    "max <- cellStats(Raster1, stat = 'max')\n",
    "Raster1 <- reclassify(Raster1, cbind(max, prob))\n",
    "\n",
    "i = 2\n",
    "while(i <2000) {\n",
    "    tempRaster = raster(myfilesAnn[i], package='raster')\n",
    "    prob = G1[G1[, \"MatchHost\"] == gsub(\"_\",\" \",names(tempRaster)),]['PubMed_log']\n",
    "    max <- cellStats(tempRaster, stat = 'max')\n",
    "    tempRaster <- reclassify(tempRaster, cbind(max, prob))\n",
    "    \n",
    "    Raster1 = mosaic(Raster1,tempRaster, fun=sum, tolerance = 0.1)\n",
    "    \n",
    "    i = i+1\n",
    "    #print (i)\n",
    "}\n",
    "plot(Raster1)\n",
    "writeRaster(Raster1, \n",
    "            \"C:/Users/Falco/Desktop/Zoonotic Disease dataset/Analysis/Flavi/Outputs2/Tiffs/PubMedHits/PubMedHits1.tif\",\n",
    "            format = \"GTiff\",overwrite=TRUE)"
   ]
  },
  {
   "cell_type": "code",
   "execution_count": null,
   "metadata": {},
   "outputs": [],
   "source": [
    "Raster1 = raster(myfilesAnn[2001], package='raster')\n",
    "prob = G1[G1[, \"MatchHost\"] == gsub(\"_\",\" \",names(Raster1)),]['PubMed_log']\n",
    "max <- cellStats(Raster1, stat = 'max')\n",
    "Raster1 <- reclassify(Raster1, cbind(max, prob))\n",
    "\n",
    "i = 2002\n",
    "while(i <4000) {\n",
    "    tempRaster = raster(myfilesAnn[i], package='raster')\n",
    "    prob = G1[G1[, \"MatchHost\"] == gsub(\"_\",\" \",names(tempRaster)),]['PubMed_log']\n",
    "    max <- cellStats(tempRaster, stat = 'max')\n",
    "    tempRaster <- reclassify(tempRaster, cbind(max, prob))\n",
    "    \n",
    "    Raster1 = mosaic(Raster1,tempRaster, fun=sum, tolerance = 0.1)\n",
    "    \n",
    "    i = i+1\n",
    "    #print (i)\n",
    "}\n",
    "plot(Raster1)\n",
    "writeRaster(Raster1, \n",
    "            \"C:/Users/Falco/Desktop/Zoonotic Disease dataset/Analysis/Flavi/Outputs2/Tiffs/PubMedHits/PubMedHits2.tif\",\n",
    "            format = \"GTiff\",overwrite=TRUE)"
   ]
  },
  {
   "cell_type": "code",
   "execution_count": null,
   "metadata": {},
   "outputs": [],
   "source": [
    "Raster1 = raster(myfilesAnn[4001], package='raster')\n",
    "prob = G1[G1[, \"MatchHost\"] == gsub(\"_\",\" \",names(Raster1)),]['PubMed_log']\n",
    "max <- cellStats(Raster1, stat = 'max')\n",
    "Raster1 <- reclassify(Raster1, cbind(max, prob))\n",
    "\n",
    "i = 4002\n",
    "while(i <6000) {\n",
    "    tempRaster = raster(myfilesAnn[i], package='raster')\n",
    "    prob = G1[G1[, \"MatchHost\"] == gsub(\"_\",\" \",names(tempRaster)),]['PubMed_log']\n",
    "    max <- cellStats(tempRaster, stat = 'max')\n",
    "    tempRaster <- reclassify(tempRaster, cbind(max, prob))\n",
    "    \n",
    "    Raster1 = mosaic(Raster1,tempRaster, fun=sum, tolerance = 0.1)\n",
    "    \n",
    "    i = i+1\n",
    "    #print (i)\n",
    "}\n",
    "plot(Raster1)\n",
    "writeRaster(Raster1, \n",
    "            \"C:/Users/Falco/Desktop/Zoonotic Disease dataset/Analysis/Flavi/Outputs2/Tiffs/PubMedHits/PubMedHits3.tif\",\n",
    "            format = \"GTiff\",overwrite=TRUE)"
   ]
  },
  {
   "cell_type": "code",
   "execution_count": null,
   "metadata": {},
   "outputs": [],
   "source": [
    "Raster1 = raster(myfilesAnn[6001], package='raster')\n",
    "prob = G1[G1[, \"MatchHost\"] == gsub(\"_\",\" \",names(Raster1)),]['PubMed_log']\n",
    "max <- cellStats(Raster1, stat = 'max')\n",
    "Raster1 <- reclassify(Raster1, cbind(max, prob))\n",
    "\n",
    "i = 6002\n",
    "while(i <8000) {\n",
    "    tempRaster = raster(myfilesAnn[i], package='raster')\n",
    "    prob = G1[G1[, \"MatchHost\"] == gsub(\"_\",\" \",names(tempRaster)),]['PubMed_log']\n",
    "    max <- cellStats(tempRaster, stat = 'max')\n",
    "    tempRaster <- reclassify(tempRaster, cbind(max, prob))\n",
    "    \n",
    "    Raster1 = mosaic(Raster1,tempRaster, fun=sum, tolerance = 0.1)\n",
    "    \n",
    "    i = i+1\n",
    "    #print (i)\n",
    "}\n",
    "plot(Raster1)\n",
    "writeRaster(Raster1, \n",
    "            \"C:/Users/Falco/Desktop/Zoonotic Disease dataset/Analysis/Flavi/Outputs2/Tiffs/PubMedHits/PubMedHits4.tif\",\n",
    "            format = \"GTiff\",overwrite=TRUE)"
   ]
  },
  {
   "cell_type": "code",
   "execution_count": null,
   "metadata": {},
   "outputs": [],
   "source": [
    "Raster1 = raster(myfilesAnn[8001], package='raster')\n",
    "prob = G1[G1[, \"MatchHost\"] == gsub(\"_\",\" \",names(Raster1)),]['PubMed_log']\n",
    "max <- cellStats(Raster1, stat = 'max')\n",
    "Raster1 <- reclassify(Raster1, cbind(max, prob))\n",
    "\n",
    "i = 8002\n",
    "while(i <10000) {\n",
    "    tempRaster = raster(myfilesAnn[i], package='raster')\n",
    "    prob = G1[G1[, \"MatchHost\"] == gsub(\"_\",\" \",names(tempRaster)),]['PubMed_log']\n",
    "    max <- cellStats(tempRaster, stat = 'max')\n",
    "    tempRaster <- reclassify(tempRaster, cbind(max, prob))\n",
    "    \n",
    "    Raster1 = mosaic(Raster1,tempRaster, fun=sum, tolerance = 0.1)\n",
    "    \n",
    "    i = i+1\n",
    "    #print (i)\n",
    "}\n",
    "plot(Raster1)\n",
    "writeRaster(Raster1, \n",
    "            \"C:/Users/Falco/Desktop/Zoonotic Disease dataset/Analysis/Flavi/Outputs2/Tiffs/PubMedHits/PubMedHits5.tif\",\n",
    "            format = \"GTiff\",overwrite=TRUE)"
   ]
  },
  {
   "cell_type": "code",
   "execution_count": null,
   "metadata": {},
   "outputs": [],
   "source": [
    "Raster1 = raster(myfilesAnn[10001], package='raster')\n",
    "prob = G1[G1[, \"MatchHost\"] == gsub(\"_\",\" \",names(Raster1)),]['PubMed_log']\n",
    "max <- cellStats(Raster1, stat = 'max')\n",
    "Raster1 <- reclassify(Raster1, cbind(max, prob))\n",
    "\n",
    "i = 10002\n",
    "while(i <12000) {\n",
    "    tempRaster = raster(myfilesAnn[i], package='raster')\n",
    "    prob = G1[G1[, \"MatchHost\"] == gsub(\"_\",\" \",names(tempRaster)),]['PubMed_log']\n",
    "    max <- cellStats(tempRaster, stat = 'max')\n",
    "    tempRaster <- reclassify(tempRaster, cbind(max, prob))\n",
    "    \n",
    "    Raster1 = mosaic(Raster1,tempRaster, fun=sum, tolerance = 0.1)\n",
    "    \n",
    "    i = i+1\n",
    "    #print (i)\n",
    "}\n",
    "plot(Raster1)\n",
    "writeRaster(Raster1, \n",
    "            \"C:/Users/Falco/Desktop/Zoonotic Disease dataset/Analysis/Flavi/Outputs2/Tiffs/PubMedHits/PubMedHits6.tif\",\n",
    "            format = \"GTiff\",overwrite=TRUE)"
   ]
  },
  {
   "cell_type": "code",
   "execution_count": null,
   "metadata": {},
   "outputs": [],
   "source": [
    "Raster1 = raster(myfilesAnn[12001], package='raster')\n",
    "prob = G1[G1[, \"MatchHost\"] == gsub(\"_\",\" \",names(Raster1)),]['PubMed_log']\n",
    "max <- cellStats(Raster1, stat = 'max')\n",
    "Raster1 <- reclassify(Raster1, cbind(max, prob))\n",
    "\n",
    "i = 12002\n",
    "while(i <14000) {\n",
    "    tempRaster = raster(myfilesAnn[i], package='raster')\n",
    "    prob = G1[G1[, \"MatchHost\"] == gsub(\"_\",\" \",names(tempRaster)),]['PubMed_log']\n",
    "    max <- cellStats(tempRaster, stat = 'max')\n",
    "    tempRaster <- reclassify(tempRaster, cbind(max, prob))\n",
    "    \n",
    "    Raster1 = mosaic(Raster1,tempRaster, fun=sum, tolerance = 0.1)\n",
    "    \n",
    "    i = i+1\n",
    "    #print (i)\n",
    "}\n",
    "plot(Raster1)\n",
    "writeRaster(Raster1, \n",
    "            \"C:/Users/Falco/Desktop/Zoonotic Disease dataset/Analysis/Flavi/Outputs2/Tiffs/PubMedHits/PubMedHits7.tif\",\n",
    "            format = \"GTiff\",overwrite=TRUE)"
   ]
  },
  {
   "cell_type": "code",
   "execution_count": null,
   "metadata": {},
   "outputs": [],
   "source": [
    "Raster1 = raster(myfilesAnn[14001], package='raster')\n",
    "prob = G1[G1[, \"MatchHost\"] == gsub(\"_\",\" \",names(Raster1)),]['PubMed_log']\n",
    "max <- cellStats(Raster1, stat = 'max')\n",
    "Raster1 <- reclassify(Raster1, cbind(max, prob))\n",
    "\n",
    "i = 14002\n",
    "while(i <15677) {\n",
    "    tempRaster = raster(myfilesAnn[i], package='raster')\n",
    "    prob = G1[G1[, \"MatchHost\"] == gsub(\"_\",\" \",names(tempRaster)),]['PubMed_log']\n",
    "    max <- cellStats(tempRaster, stat = 'max')\n",
    "    tempRaster <- reclassify(tempRaster, cbind(max, prob))\n",
    "    \n",
    "    Raster1 = mosaic(Raster1,tempRaster, fun=sum, tolerance = 0.1)\n",
    "    \n",
    "    i = i+1\n",
    "    #print (i)\n",
    "}\n",
    "plot(Raster1)\n",
    "writeRaster(Raster1, \n",
    "            \"C:/Users/Falco/Desktop/Zoonotic Disease dataset/Analysis/Flavi/Outputs2/Tiffs/PubMedHits/PubMedHits8.tif\",\n",
    "            format = \"GTiff\",overwrite=TRUE)"
   ]
  },
  {
   "cell_type": "code",
   "execution_count": null,
   "metadata": {},
   "outputs": [],
   "source": [
    "setwd('C:/Users/Falco/Desktop/Zoonotic Disease dataset/Analysis/Flavi/Outputs2/Tiffs/PubMedHits')\n",
    "myfilesAnn <- list.files(pattern = \"*.tif\")"
   ]
  },
  {
   "cell_type": "code",
   "execution_count": null,
   "metadata": {},
   "outputs": [],
   "source": [
    "length(myfilesAnn)"
   ]
  },
  {
   "cell_type": "code",
   "execution_count": null,
   "metadata": {},
   "outputs": [],
   "source": [
    "species <- c() # creates a list\n",
    "Raster = raster(myfilesAnn[1], package='raster')\n",
    "i = 1\n",
    "while(i <length(myfilesAnn)) {\n",
    "    tempRaster = raster(myfilesAnn[i+1], package='raster')\n",
    "    Raster = mosaic(Raster,tempRaster, fun=sum, tolerance = 0.1)\n",
    "    \n",
    "    i = i+1\n",
    "}"
   ]
  },
  {
   "cell_type": "code",
   "execution_count": null,
   "metadata": {},
   "outputs": [],
   "source": [
    "plot(Raster)"
   ]
  },
  {
   "cell_type": "code",
   "execution_count": null,
   "metadata": {},
   "outputs": [],
   "source": [
    "writeRaster(Raster, \n",
    "            \"C:/Users/Falco/Desktop/Zoonotic Disease dataset/Analysis/Flavi/Outputs2/Tiffs/PuBMedHits_Final.tif\",\n",
    "            format = \"GTiff\",overwrite=TRUE)"
   ]
  }
 ],
 "metadata": {
  "kernelspec": {
   "display_name": "R",
   "language": "R",
   "name": "ir"
  },
  "language_info": {
   "codemirror_mode": "r",
   "file_extension": ".r",
   "mimetype": "text/x-r-source",
   "name": "R",
   "pygments_lexer": "r",
   "version": "3.4.3"
  },
  "varInspector": {
   "cols": {
    "lenName": 16,
    "lenType": 16,
    "lenVar": 40
   },
   "kernels_config": {
    "python": {
     "delete_cmd_postfix": "",
     "delete_cmd_prefix": "del ",
     "library": "var_list.py",
     "varRefreshCmd": "print(var_dic_list())"
    },
    "r": {
     "delete_cmd_postfix": ") ",
     "delete_cmd_prefix": "rm(",
     "library": "var_list.r",
     "varRefreshCmd": "cat(var_dic_list()) "
    }
   },
   "types_to_exclude": [
    "module",
    "function",
    "builtin_function_or_method",
    "instance",
    "_Feature"
   ],
   "window_display": false
  }
 },
 "nbformat": 4,
 "nbformat_minor": 2
}
